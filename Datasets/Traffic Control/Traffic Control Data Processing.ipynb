{
 "cells": [
  {
   "cell_type": "code",
   "execution_count": 1,
   "metadata": {},
   "outputs": [
    {
     "name": "stderr",
     "output_type": "stream",
     "text": [
      "/Users/rakeenahmed/opt/anaconda3/lib/python3.9/site-packages/scipy/__init__.py:146: UserWarning: A NumPy version >=1.16.5 and <1.23.0 is required for this version of SciPy (detected version 1.23.5\n",
      "  warnings.warn(f\"A NumPy version >={np_minversion} and <{np_maxversion}\"\n"
     ]
    }
   ],
   "source": [
    "import numpy as np\n",
    "import pandas as pd\n",
    "import geopandas as gpd\n",
    "import keplergl\n",
    "#from keplergl import KeplerGL\n",
    "import matplotlib as plt\n",
    "import plotly.express as px\n",
    "import h3\n",
    "import shapely\n",
    "from geopandas import GeoDataFrame,GeoSeries\n",
    "import folium\n",
    "import matplotlib\n",
    "%matplotlib inline"
   ]
  },
  {
   "cell_type": "markdown",
   "metadata": {},
   "source": [
    "# Pedestrian Crossover"
   ]
  },
  {
   "cell_type": "code",
   "execution_count": 2,
   "metadata": {},
   "outputs": [],
   "source": [
    "#read in data\n",
    "pedestrian_crossover = gpd.read_file('Pedestrian Crossover.geojson')"
   ]
  },
  {
   "cell_type": "code",
   "execution_count": 3,
   "metadata": {},
   "outputs": [],
   "source": [
    "#convert column names to lowercase\n",
    "pedestrian_crossover.columns = [s.strip().lower() for s in pedestrian_crossover.columns]"
   ]
  },
  {
   "cell_type": "code",
   "execution_count": 4,
   "metadata": {},
   "outputs": [],
   "source": [
    "#drop unneccesary columns\n",
    "pedestrian_crossover = pedestrian_crossover.drop(columns=['px','midblock_route','side2_street','private_access','additional_info','objectid','geo_id','node_id','mi_prinx'])"
   ]
  },
  {
   "cell_type": "code",
   "execution_count": 5,
   "metadata": {},
   "outputs": [],
   "source": [
    "#rename id column\n",
    "pedestrian_crossover.rename(columns={'_id':'id'},inplace=True)"
   ]
  },
  {
   "cell_type": "code",
   "execution_count": 6,
   "metadata": {},
   "outputs": [
    {
     "data": {
      "text/plain": [
       "Index(['id', 'main_street', 'side1_street', 'geometry'], dtype='object')"
      ]
     },
     "execution_count": 6,
     "metadata": {},
     "output_type": "execute_result"
    }
   ],
   "source": [
    "#check remaning columns\n",
    "pedestrian_crossover.columns"
   ]
  },
  {
   "cell_type": "code",
   "execution_count": 7,
   "metadata": {},
   "outputs": [
    {
     "data": {
      "text/html": [
       "<div>\n",
       "<style scoped>\n",
       "    .dataframe tbody tr th:only-of-type {\n",
       "        vertical-align: middle;\n",
       "    }\n",
       "\n",
       "    .dataframe tbody tr th {\n",
       "        vertical-align: top;\n",
       "    }\n",
       "\n",
       "    .dataframe thead th {\n",
       "        text-align: right;\n",
       "    }\n",
       "</style>\n",
       "<table border=\"1\" class=\"dataframe\">\n",
       "  <thead>\n",
       "    <tr style=\"text-align: right;\">\n",
       "      <th></th>\n",
       "      <th>id</th>\n",
       "      <th>main_street</th>\n",
       "      <th>side1_street</th>\n",
       "      <th>geometry</th>\n",
       "    </tr>\n",
       "  </thead>\n",
       "  <tbody>\n",
       "    <tr>\n",
       "      <th>0</th>\n",
       "      <td>1</td>\n",
       "      <td>BATHURST ST</td>\n",
       "      <td>COLLEGE ST</td>\n",
       "      <td>MULTIPOINT (-79.40820 43.65771)</td>\n",
       "    </tr>\n",
       "    <tr>\n",
       "      <th>1</th>\n",
       "      <td>2</td>\n",
       "      <td>BATHURST ST</td>\n",
       "      <td>SCADDING CRT</td>\n",
       "      <td>MULTIPOINT (-79.40560 43.65127)</td>\n",
       "    </tr>\n",
       "    <tr>\n",
       "      <th>2</th>\n",
       "      <td>3</td>\n",
       "      <td>ANGLESEY BLVD</td>\n",
       "      <td>HARTFIELD RD</td>\n",
       "      <td>MULTIPOINT (-79.52851 43.66460)</td>\n",
       "    </tr>\n",
       "    <tr>\n",
       "      <th>3</th>\n",
       "      <td>4</td>\n",
       "      <td>BAYVIEW AVE</td>\n",
       "      <td>PARKHURST BLVD</td>\n",
       "      <td>MULTIPOINT (-79.37634 43.70870)</td>\n",
       "    </tr>\n",
       "    <tr>\n",
       "      <th>4</th>\n",
       "      <td>5</td>\n",
       "      <td>ANNETTE ST</td>\n",
       "      <td>DURIE ST</td>\n",
       "      <td>MULTIPOINT (-79.48257 43.65949)</td>\n",
       "    </tr>\n",
       "  </tbody>\n",
       "</table>\n",
       "</div>"
      ],
      "text/plain": [
       "   id    main_street    side1_street                         geometry\n",
       "0   1    BATHURST ST      COLLEGE ST  MULTIPOINT (-79.40820 43.65771)\n",
       "1   2    BATHURST ST    SCADDING CRT  MULTIPOINT (-79.40560 43.65127)\n",
       "2   3  ANGLESEY BLVD    HARTFIELD RD  MULTIPOINT (-79.52851 43.66460)\n",
       "3   4    BAYVIEW AVE  PARKHURST BLVD  MULTIPOINT (-79.37634 43.70870)\n",
       "4   5     ANNETTE ST        DURIE ST  MULTIPOINT (-79.48257 43.65949)"
      ]
     },
     "execution_count": 7,
     "metadata": {},
     "output_type": "execute_result"
    }
   ],
   "source": [
    "#check remainig dataframe\n",
    "pedestrian_crossover.head()"
   ]
  },
  {
   "cell_type": "code",
   "execution_count": 7,
   "metadata": {},
   "outputs": [],
   "source": [
    "#set id as index\n",
    "pedestrian_crossover.set_index('id',inplace=True)"
   ]
  },
  {
   "cell_type": "code",
   "execution_count": 8,
   "metadata": {},
   "outputs": [
    {
     "name": "stderr",
     "output_type": "stream",
     "text": [
      "C:\\Users\\arara\\AppData\\Local\\Temp\\ipykernel_44436\\3836950908.py:2: FutureWarning: Currently, index_parts defaults to True, but in the future, it will default to False to be consistent with Pandas. Use `index_parts=True` to keep the current behavior and True/False to silence the warning.\n",
      "  pedestrian_crossover_exploded = pedestrian_crossover.explode()\n"
     ]
    }
   ],
   "source": [
    "#using the geopandas explode() function to convert the multiline geometry to single line point geometry\n",
    "#pedestrian_crossover_exploded = pedestrian_crossover.explode()"
   ]
  },
  {
   "cell_type": "code",
   "execution_count": 9,
   "metadata": {},
   "outputs": [],
   "source": [
    "#extract latitude and longitudes from single line geometry\n",
    "pedestrian_crossover_exploded['latitude'] = pedestrian_crossover_exploded.apply(lambda x: x.geometry.y, axis=1)\n",
    "pedestrian_crossover_exploded['longitude'] = pedestrian_crossover_exploded.apply(lambda x: x.geometry.x, axis=1)"
   ]
  },
  {
   "cell_type": "code",
   "execution_count": 10,
   "metadata": {},
   "outputs": [
    {
     "data": {
      "text/html": [
       "<div>\n",
       "<style scoped>\n",
       "    .dataframe tbody tr th:only-of-type {\n",
       "        vertical-align: middle;\n",
       "    }\n",
       "\n",
       "    .dataframe tbody tr th {\n",
       "        vertical-align: top;\n",
       "    }\n",
       "\n",
       "    .dataframe thead th {\n",
       "        text-align: right;\n",
       "    }\n",
       "</style>\n",
       "<table border=\"1\" class=\"dataframe\">\n",
       "  <thead>\n",
       "    <tr style=\"text-align: right;\">\n",
       "      <th></th>\n",
       "      <th></th>\n",
       "      <th>id</th>\n",
       "      <th>main_street</th>\n",
       "      <th>side1_street</th>\n",
       "      <th>geometry</th>\n",
       "      <th>latitude</th>\n",
       "      <th>longitude</th>\n",
       "    </tr>\n",
       "  </thead>\n",
       "  <tbody>\n",
       "    <tr>\n",
       "      <th>0</th>\n",
       "      <th>0</th>\n",
       "      <td>1</td>\n",
       "      <td>BATHURST ST</td>\n",
       "      <td>COLLEGE ST</td>\n",
       "      <td>POINT (-79.40820 43.65771)</td>\n",
       "      <td>43.657710</td>\n",
       "      <td>-79.408200</td>\n",
       "    </tr>\n",
       "    <tr>\n",
       "      <th>1</th>\n",
       "      <th>0</th>\n",
       "      <td>2</td>\n",
       "      <td>BATHURST ST</td>\n",
       "      <td>SCADDING CRT</td>\n",
       "      <td>POINT (-79.40560 43.65127)</td>\n",
       "      <td>43.651267</td>\n",
       "      <td>-79.405604</td>\n",
       "    </tr>\n",
       "    <tr>\n",
       "      <th>2</th>\n",
       "      <th>0</th>\n",
       "      <td>3</td>\n",
       "      <td>ANGLESEY BLVD</td>\n",
       "      <td>HARTFIELD RD</td>\n",
       "      <td>POINT (-79.52851 43.66460)</td>\n",
       "      <td>43.664597</td>\n",
       "      <td>-79.528512</td>\n",
       "    </tr>\n",
       "    <tr>\n",
       "      <th>3</th>\n",
       "      <th>0</th>\n",
       "      <td>4</td>\n",
       "      <td>BAYVIEW AVE</td>\n",
       "      <td>PARKHURST BLVD</td>\n",
       "      <td>POINT (-79.37634 43.70870)</td>\n",
       "      <td>43.708704</td>\n",
       "      <td>-79.376338</td>\n",
       "    </tr>\n",
       "    <tr>\n",
       "      <th>4</th>\n",
       "      <th>0</th>\n",
       "      <td>5</td>\n",
       "      <td>ANNETTE ST</td>\n",
       "      <td>DURIE ST</td>\n",
       "      <td>POINT (-79.48257 43.65949)</td>\n",
       "      <td>43.659494</td>\n",
       "      <td>-79.482574</td>\n",
       "    </tr>\n",
       "  </tbody>\n",
       "</table>\n",
       "</div>"
      ],
      "text/plain": [
       "     id    main_street    side1_street                    geometry   latitude  \\\n",
       "0 0   1    BATHURST ST      COLLEGE ST  POINT (-79.40820 43.65771)  43.657710   \n",
       "1 0   2    BATHURST ST    SCADDING CRT  POINT (-79.40560 43.65127)  43.651267   \n",
       "2 0   3  ANGLESEY BLVD    HARTFIELD RD  POINT (-79.52851 43.66460)  43.664597   \n",
       "3 0   4    BAYVIEW AVE  PARKHURST BLVD  POINT (-79.37634 43.70870)  43.708704   \n",
       "4 0   5     ANNETTE ST        DURIE ST  POINT (-79.48257 43.65949)  43.659494   \n",
       "\n",
       "     longitude  \n",
       "0 0 -79.408200  \n",
       "1 0 -79.405604  \n",
       "2 0 -79.528512  \n",
       "3 0 -79.376338  \n",
       "4 0 -79.482574  "
      ]
     },
     "execution_count": 10,
     "metadata": {},
     "output_type": "execute_result"
    }
   ],
   "source": [
    "#checking new columns in dataframe\n",
    "#pedestrian_crossover_exploded.head()"
   ]
  },
  {
   "cell_type": "code",
   "execution_count": 11,
   "metadata": {},
   "outputs": [],
   "source": [
    "#combining latitude and longitudes to form coordinates column\n",
    "#pedestrian_crossover_exploded['coordinates'] = pedestrian_crossover_exploded.apply(lambda x: (x.latitude, x.longitude), axis=1)"
   ]
  },
  {
   "cell_type": "code",
   "execution_count": 12,
   "metadata": {},
   "outputs": [
    {
     "data": {
      "text/html": [
       "<div>\n",
       "<style scoped>\n",
       "    .dataframe tbody tr th:only-of-type {\n",
       "        vertical-align: middle;\n",
       "    }\n",
       "\n",
       "    .dataframe tbody tr th {\n",
       "        vertical-align: top;\n",
       "    }\n",
       "\n",
       "    .dataframe thead th {\n",
       "        text-align: right;\n",
       "    }\n",
       "</style>\n",
       "<table border=\"1\" class=\"dataframe\">\n",
       "  <thead>\n",
       "    <tr style=\"text-align: right;\">\n",
       "      <th></th>\n",
       "      <th></th>\n",
       "      <th>id</th>\n",
       "      <th>main_street</th>\n",
       "      <th>side1_street</th>\n",
       "      <th>geometry</th>\n",
       "      <th>latitude</th>\n",
       "      <th>longitude</th>\n",
       "      <th>coordinates</th>\n",
       "    </tr>\n",
       "  </thead>\n",
       "  <tbody>\n",
       "    <tr>\n",
       "      <th>0</th>\n",
       "      <th>0</th>\n",
       "      <td>1</td>\n",
       "      <td>BATHURST ST</td>\n",
       "      <td>COLLEGE ST</td>\n",
       "      <td>POINT (-79.40820 43.65771)</td>\n",
       "      <td>43.657710</td>\n",
       "      <td>-79.408200</td>\n",
       "      <td>(43.6577100019432, -79.40819999547631)</td>\n",
       "    </tr>\n",
       "    <tr>\n",
       "      <th>1</th>\n",
       "      <th>0</th>\n",
       "      <td>2</td>\n",
       "      <td>BATHURST ST</td>\n",
       "      <td>SCADDING CRT</td>\n",
       "      <td>POINT (-79.40560 43.65127)</td>\n",
       "      <td>43.651267</td>\n",
       "      <td>-79.405604</td>\n",
       "      <td>(43.6512669957427, -79.4056040041994)</td>\n",
       "    </tr>\n",
       "    <tr>\n",
       "      <th>2</th>\n",
       "      <th>0</th>\n",
       "      <td>3</td>\n",
       "      <td>ANGLESEY BLVD</td>\n",
       "      <td>HARTFIELD RD</td>\n",
       "      <td>POINT (-79.52851 43.66460)</td>\n",
       "      <td>43.664597</td>\n",
       "      <td>-79.528512</td>\n",
       "      <td>(43.66459700173547, -79.52851199795252)</td>\n",
       "    </tr>\n",
       "    <tr>\n",
       "      <th>3</th>\n",
       "      <th>0</th>\n",
       "      <td>4</td>\n",
       "      <td>BAYVIEW AVE</td>\n",
       "      <td>PARKHURST BLVD</td>\n",
       "      <td>POINT (-79.37634 43.70870)</td>\n",
       "      <td>43.708704</td>\n",
       "      <td>-79.376338</td>\n",
       "      <td>(43.708703999703154, -79.3763379938911)</td>\n",
       "    </tr>\n",
       "    <tr>\n",
       "      <th>4</th>\n",
       "      <th>0</th>\n",
       "      <td>5</td>\n",
       "      <td>ANNETTE ST</td>\n",
       "      <td>DURIE ST</td>\n",
       "      <td>POINT (-79.48257 43.65949)</td>\n",
       "      <td>43.659494</td>\n",
       "      <td>-79.482574</td>\n",
       "      <td>(43.65949400063825, -79.48257400128824)</td>\n",
       "    </tr>\n",
       "  </tbody>\n",
       "</table>\n",
       "</div>"
      ],
      "text/plain": [
       "     id    main_street    side1_street                    geometry   latitude  \\\n",
       "0 0   1    BATHURST ST      COLLEGE ST  POINT (-79.40820 43.65771)  43.657710   \n",
       "1 0   2    BATHURST ST    SCADDING CRT  POINT (-79.40560 43.65127)  43.651267   \n",
       "2 0   3  ANGLESEY BLVD    HARTFIELD RD  POINT (-79.52851 43.66460)  43.664597   \n",
       "3 0   4    BAYVIEW AVE  PARKHURST BLVD  POINT (-79.37634 43.70870)  43.708704   \n",
       "4 0   5     ANNETTE ST        DURIE ST  POINT (-79.48257 43.65949)  43.659494   \n",
       "\n",
       "     longitude                              coordinates  \n",
       "0 0 -79.408200   (43.6577100019432, -79.40819999547631)  \n",
       "1 0 -79.405604    (43.6512669957427, -79.4056040041994)  \n",
       "2 0 -79.528512  (43.66459700173547, -79.52851199795252)  \n",
       "3 0 -79.376338  (43.708703999703154, -79.3763379938911)  \n",
       "4 0 -79.482574  (43.65949400063825, -79.48257400128824)  "
      ]
     },
     "execution_count": 12,
     "metadata": {},
     "output_type": "execute_result"
    }
   ],
   "source": [
    "#check dataframe\n",
    "#pedestrian_crossover_exploded.head()"
   ]
  },
  {
   "cell_type": "code",
   "execution_count": 13,
   "metadata": {},
   "outputs": [],
   "source": [
    "#create hex cells for pedestrian crossings\n",
    "\n",
    "#create coordinate column\n",
    "#pedestrian_crossover_exploded['coordinates'] = pedestrian_crossover_exploded['latitude'].astype('str') + ',' + pedestrian_crossover_exploded['longitude'].astype('str')\n",
    "\n",
    "#then we define the function to get h3 hex cells from coordinates data\n",
    "#def get_hex_cell(coordinates):\n",
    "    #a = float(coordinates.split(',')[0])\n",
    "    #b = float(coordinates.split(',')[1])\n",
    "    a = coordinates[0]\n",
    "    b = coordinates[1]\n",
    "    return h3.latlng_to_cell(a,b,res=10)\n",
    "\n",
    "#finally, create a new column for hex cells by applying the function on coordinates column\n",
    "#pedestrian_crossover_exploded['hex_cell'] = pedestrian_crossover_exploded['coordinates'].apply(get_hex_cell)"
   ]
  },
  {
   "cell_type": "code",
   "execution_count": 14,
   "metadata": {},
   "outputs": [
    {
     "data": {
      "text/html": [
       "<div>\n",
       "<style scoped>\n",
       "    .dataframe tbody tr th:only-of-type {\n",
       "        vertical-align: middle;\n",
       "    }\n",
       "\n",
       "    .dataframe tbody tr th {\n",
       "        vertical-align: top;\n",
       "    }\n",
       "\n",
       "    .dataframe thead th {\n",
       "        text-align: right;\n",
       "    }\n",
       "</style>\n",
       "<table border=\"1\" class=\"dataframe\">\n",
       "  <thead>\n",
       "    <tr style=\"text-align: right;\">\n",
       "      <th></th>\n",
       "      <th></th>\n",
       "      <th>id</th>\n",
       "      <th>main_street</th>\n",
       "      <th>side1_street</th>\n",
       "      <th>geometry</th>\n",
       "      <th>latitude</th>\n",
       "      <th>longitude</th>\n",
       "      <th>coordinates</th>\n",
       "      <th>hex_cell</th>\n",
       "    </tr>\n",
       "  </thead>\n",
       "  <tbody>\n",
       "    <tr>\n",
       "      <th>0</th>\n",
       "      <th>0</th>\n",
       "      <td>1</td>\n",
       "      <td>BATHURST ST</td>\n",
       "      <td>COLLEGE ST</td>\n",
       "      <td>POINT (-79.40820 43.65771)</td>\n",
       "      <td>43.657710</td>\n",
       "      <td>-79.408200</td>\n",
       "      <td>(43.6577100019432, -79.40819999547631)</td>\n",
       "      <td>8a2b9bc7375ffff</td>\n",
       "    </tr>\n",
       "    <tr>\n",
       "      <th>1</th>\n",
       "      <th>0</th>\n",
       "      <td>2</td>\n",
       "      <td>BATHURST ST</td>\n",
       "      <td>SCADDING CRT</td>\n",
       "      <td>POINT (-79.40560 43.65127)</td>\n",
       "      <td>43.651267</td>\n",
       "      <td>-79.405604</td>\n",
       "      <td>(43.6512669957427, -79.4056040041994)</td>\n",
       "      <td>8a2b9bc55957fff</td>\n",
       "    </tr>\n",
       "    <tr>\n",
       "      <th>2</th>\n",
       "      <th>0</th>\n",
       "      <td>3</td>\n",
       "      <td>ANGLESEY BLVD</td>\n",
       "      <td>HARTFIELD RD</td>\n",
       "      <td>POINT (-79.52851 43.66460)</td>\n",
       "      <td>43.664597</td>\n",
       "      <td>-79.528512</td>\n",
       "      <td>(43.66459700173547, -79.52851199795252)</td>\n",
       "      <td>8a2b9bce0d67fff</td>\n",
       "    </tr>\n",
       "    <tr>\n",
       "      <th>3</th>\n",
       "      <th>0</th>\n",
       "      <td>4</td>\n",
       "      <td>BAYVIEW AVE</td>\n",
       "      <td>PARKHURST BLVD</td>\n",
       "      <td>POINT (-79.37634 43.70870)</td>\n",
       "      <td>43.708704</td>\n",
       "      <td>-79.376338</td>\n",
       "      <td>(43.708703999703154, -79.3763379938911)</td>\n",
       "      <td>8a2b9bc74137fff</td>\n",
       "    </tr>\n",
       "    <tr>\n",
       "      <th>4</th>\n",
       "      <th>0</th>\n",
       "      <td>5</td>\n",
       "      <td>ANNETTE ST</td>\n",
       "      <td>DURIE ST</td>\n",
       "      <td>POINT (-79.48257 43.65949)</td>\n",
       "      <td>43.659494</td>\n",
       "      <td>-79.482574</td>\n",
       "      <td>(43.65949400063825, -79.48257400128824)</td>\n",
       "      <td>8a2b9bc5648ffff</td>\n",
       "    </tr>\n",
       "  </tbody>\n",
       "</table>\n",
       "</div>"
      ],
      "text/plain": [
       "     id    main_street    side1_street                    geometry   latitude  \\\n",
       "0 0   1    BATHURST ST      COLLEGE ST  POINT (-79.40820 43.65771)  43.657710   \n",
       "1 0   2    BATHURST ST    SCADDING CRT  POINT (-79.40560 43.65127)  43.651267   \n",
       "2 0   3  ANGLESEY BLVD    HARTFIELD RD  POINT (-79.52851 43.66460)  43.664597   \n",
       "3 0   4    BAYVIEW AVE  PARKHURST BLVD  POINT (-79.37634 43.70870)  43.708704   \n",
       "4 0   5     ANNETTE ST        DURIE ST  POINT (-79.48257 43.65949)  43.659494   \n",
       "\n",
       "     longitude                              coordinates         hex_cell  \n",
       "0 0 -79.408200   (43.6577100019432, -79.40819999547631)  8a2b9bc7375ffff  \n",
       "1 0 -79.405604    (43.6512669957427, -79.4056040041994)  8a2b9bc55957fff  \n",
       "2 0 -79.528512  (43.66459700173547, -79.52851199795252)  8a2b9bce0d67fff  \n",
       "3 0 -79.376338  (43.708703999703154, -79.3763379938911)  8a2b9bc74137fff  \n",
       "4 0 -79.482574  (43.65949400063825, -79.48257400128824)  8a2b9bc5648ffff  "
      ]
     },
     "execution_count": 14,
     "metadata": {},
     "output_type": "execute_result"
    }
   ],
   "source": [
    "#check new hex cell column\n",
    "#pedestrian_crossover_exploded.head()"
   ]
  },
  {
   "cell_type": "code",
   "execution_count": 8,
   "metadata": {},
   "outputs": [],
   "source": [
    "#add flag for if pedestrian crossover is present\n",
    "pedestrian_crossover['pedestrian_crossover'] = 'Yes'"
   ]
  },
  {
   "cell_type": "code",
   "execution_count": 9,
   "metadata": {},
   "outputs": [],
   "source": [
    "#add prefix before column names\n",
    "pedestrian_crossover.columns = ['pedestrian_crossover_' + s if s != 'geometry' else s for s in pedestrian_crossover.columns]"
   ]
  },
  {
   "cell_type": "code",
   "execution_count": 10,
   "metadata": {},
   "outputs": [],
   "source": [
    "#saving file as geojson\n",
    "pedestrian_crossover.to_file('pedestrian_crossover_procesesd.geojson')"
   ]
  },
  {
   "cell_type": "markdown",
   "metadata": {},
   "source": [
    "# Traffic Signals"
   ]
  },
  {
   "cell_type": "code",
   "execution_count": 11,
   "metadata": {},
   "outputs": [],
   "source": [
    "#reading in data\n",
    "traffic_signals = gpd.read_file('Traffic Signal.geojson')"
   ]
  },
  {
   "cell_type": "code",
   "execution_count": 12,
   "metadata": {},
   "outputs": [],
   "source": [
    "#convert column headers to lowercase\n",
    "traffic_signals.columns = [s.strip().lower() for s in traffic_signals.columns]"
   ]
  },
  {
   "cell_type": "code",
   "execution_count": 13,
   "metadata": {},
   "outputs": [
    {
     "data": {
      "text/html": [
       "<div>\n",
       "<style scoped>\n",
       "    .dataframe tbody tr th:only-of-type {\n",
       "        vertical-align: middle;\n",
       "    }\n",
       "\n",
       "    .dataframe tbody tr th {\n",
       "        vertical-align: top;\n",
       "    }\n",
       "\n",
       "    .dataframe thead th {\n",
       "        text-align: right;\n",
       "    }\n",
       "</style>\n",
       "<table border=\"1\" class=\"dataframe\">\n",
       "  <thead>\n",
       "    <tr style=\"text-align: right;\">\n",
       "      <th></th>\n",
       "      <th>_id</th>\n",
       "      <th>px</th>\n",
       "      <th>main_street</th>\n",
       "      <th>midblock_route</th>\n",
       "      <th>side1_street</th>\n",
       "      <th>side2_street</th>\n",
       "      <th>private_access</th>\n",
       "      <th>additional_info</th>\n",
       "      <th>activationdate</th>\n",
       "      <th>signalsystem</th>\n",
       "      <th>...</th>\n",
       "      <th>mi_prinx</th>\n",
       "      <th>bicycle_signal</th>\n",
       "      <th>ups</th>\n",
       "      <th>led_blankout_sign</th>\n",
       "      <th>lpi_north_implementation_date</th>\n",
       "      <th>lpi_south_implementation_date</th>\n",
       "      <th>lpi_east_implementation_date</th>\n",
       "      <th>lpi_west_implementation_date</th>\n",
       "      <th>lpi_comment</th>\n",
       "      <th>geometry</th>\n",
       "    </tr>\n",
       "  </thead>\n",
       "  <tbody>\n",
       "    <tr>\n",
       "      <th>0</th>\n",
       "      <td>1</td>\n",
       "      <td>0002</td>\n",
       "      <td>JARVIS ST</td>\n",
       "      <td>None</td>\n",
       "      <td>FRONT ST E</td>\n",
       "      <td>LOWER JARVIS ST</td>\n",
       "      <td>None</td>\n",
       "      <td>None</td>\n",
       "      <td>1948-11-15 05:00:00</td>\n",
       "      <td>TransSuite</td>\n",
       "      <td>...</td>\n",
       "      <td>1</td>\n",
       "      <td>0.0</td>\n",
       "      <td>0.0</td>\n",
       "      <td>0.0</td>\n",
       "      <td>2023-04-06T04:00:00</td>\n",
       "      <td>2023-04-06T04:00:00</td>\n",
       "      <td>2023-04-06T04:00:00</td>\n",
       "      <td>2023-04-06T04:00:00</td>\n",
       "      <td>None</td>\n",
       "      <td>MULTIPOINT (-79.37146 43.64945)</td>\n",
       "    </tr>\n",
       "    <tr>\n",
       "      <th>1</th>\n",
       "      <td>2</td>\n",
       "      <td>0003</td>\n",
       "      <td>KING ST E</td>\n",
       "      <td>None</td>\n",
       "      <td>JARVIS ST</td>\n",
       "      <td>None</td>\n",
       "      <td>None</td>\n",
       "      <td>None</td>\n",
       "      <td>1950-08-23 04:00:00</td>\n",
       "      <td>TransSuite</td>\n",
       "      <td>...</td>\n",
       "      <td>2</td>\n",
       "      <td>0.0</td>\n",
       "      <td>0.0</td>\n",
       "      <td>1.0</td>\n",
       "      <td></td>\n",
       "      <td></td>\n",
       "      <td>2021-06-23T04:00:00</td>\n",
       "      <td>2021-06-23T04:00:00</td>\n",
       "      <td>None</td>\n",
       "      <td>MULTIPOINT (-79.37191 43.65046)</td>\n",
       "    </tr>\n",
       "    <tr>\n",
       "      <th>2</th>\n",
       "      <td>3</td>\n",
       "      <td>0004</td>\n",
       "      <td>JARVIS ST</td>\n",
       "      <td>None</td>\n",
       "      <td>ADELAIDE ST E</td>\n",
       "      <td>None</td>\n",
       "      <td>None</td>\n",
       "      <td>None</td>\n",
       "      <td>1958-09-12 04:00:00</td>\n",
       "      <td>TransSuite</td>\n",
       "      <td>...</td>\n",
       "      <td>3</td>\n",
       "      <td>0.0</td>\n",
       "      <td>0.0</td>\n",
       "      <td>0.0</td>\n",
       "      <td></td>\n",
       "      <td></td>\n",
       "      <td></td>\n",
       "      <td></td>\n",
       "      <td>None</td>\n",
       "      <td>MULTIPOINT (-79.37237 43.65153)</td>\n",
       "    </tr>\n",
       "    <tr>\n",
       "      <th>3</th>\n",
       "      <td>4</td>\n",
       "      <td>0005</td>\n",
       "      <td>JARVIS ST</td>\n",
       "      <td>None</td>\n",
       "      <td>RICHMOND ST E</td>\n",
       "      <td>None</td>\n",
       "      <td>None</td>\n",
       "      <td>None</td>\n",
       "      <td>1962-04-21 04:00:00</td>\n",
       "      <td>TransSuite</td>\n",
       "      <td>...</td>\n",
       "      <td>4</td>\n",
       "      <td>0.0</td>\n",
       "      <td>1.0</td>\n",
       "      <td>0.0</td>\n",
       "      <td>2020-10-08T04:00:00</td>\n",
       "      <td>2020-10-08T04:00:00</td>\n",
       "      <td></td>\n",
       "      <td></td>\n",
       "      <td>None</td>\n",
       "      <td>MULTIPOINT (-79.37283 43.65270)</td>\n",
       "    </tr>\n",
       "    <tr>\n",
       "      <th>4</th>\n",
       "      <td>5</td>\n",
       "      <td>0006</td>\n",
       "      <td>JARVIS ST</td>\n",
       "      <td>None</td>\n",
       "      <td>QUEEN ST E</td>\n",
       "      <td>None</td>\n",
       "      <td>None</td>\n",
       "      <td>None</td>\n",
       "      <td>1928-08-24 04:00:00</td>\n",
       "      <td>TransSuite</td>\n",
       "      <td>...</td>\n",
       "      <td>5</td>\n",
       "      <td>0.0</td>\n",
       "      <td>0.0</td>\n",
       "      <td>0.0</td>\n",
       "      <td>2021-03-03T05:00:00</td>\n",
       "      <td>2021-03-03T05:00:00</td>\n",
       "      <td>2021-03-03T05:00:00</td>\n",
       "      <td>2021-03-03T05:00:00</td>\n",
       "      <td>None</td>\n",
       "      <td>MULTIPOINT (-79.37325 43.65373)</td>\n",
       "    </tr>\n",
       "  </tbody>\n",
       "</table>\n",
       "<p>5 rows × 32 columns</p>\n",
       "</div>"
      ],
      "text/plain": [
       "   _id    px main_street midblock_route   side1_street     side2_street  \\\n",
       "0    1  0002   JARVIS ST           None     FRONT ST E  LOWER JARVIS ST   \n",
       "1    2  0003   KING ST E           None      JARVIS ST             None   \n",
       "2    3  0004   JARVIS ST           None  ADELAIDE ST E             None   \n",
       "3    4  0005   JARVIS ST           None  RICHMOND ST E             None   \n",
       "4    5  0006   JARVIS ST           None     QUEEN ST E             None   \n",
       "\n",
       "  private_access additional_info      activationdate signalsystem  ...  \\\n",
       "0           None            None 1948-11-15 05:00:00   TransSuite  ...   \n",
       "1           None            None 1950-08-23 04:00:00   TransSuite  ...   \n",
       "2           None            None 1958-09-12 04:00:00   TransSuite  ...   \n",
       "3           None            None 1962-04-21 04:00:00   TransSuite  ...   \n",
       "4           None            None 1928-08-24 04:00:00   TransSuite  ...   \n",
       "\n",
       "  mi_prinx bicycle_signal  ups led_blankout_sign  \\\n",
       "0        1            0.0  0.0               0.0   \n",
       "1        2            0.0  0.0               1.0   \n",
       "2        3            0.0  0.0               0.0   \n",
       "3        4            0.0  1.0               0.0   \n",
       "4        5            0.0  0.0               0.0   \n",
       "\n",
       "  lpi_north_implementation_date lpi_south_implementation_date  \\\n",
       "0           2023-04-06T04:00:00           2023-04-06T04:00:00   \n",
       "1                                                               \n",
       "2                                                               \n",
       "3           2020-10-08T04:00:00           2020-10-08T04:00:00   \n",
       "4           2021-03-03T05:00:00           2021-03-03T05:00:00   \n",
       "\n",
       "   lpi_east_implementation_date  lpi_west_implementation_date  lpi_comment  \\\n",
       "0           2023-04-06T04:00:00           2023-04-06T04:00:00         None   \n",
       "1           2021-06-23T04:00:00           2021-06-23T04:00:00         None   \n",
       "2                                                                     None   \n",
       "3                                                                     None   \n",
       "4           2021-03-03T05:00:00           2021-03-03T05:00:00         None   \n",
       "\n",
       "                          geometry  \n",
       "0  MULTIPOINT (-79.37146 43.64945)  \n",
       "1  MULTIPOINT (-79.37191 43.65046)  \n",
       "2  MULTIPOINT (-79.37237 43.65153)  \n",
       "3  MULTIPOINT (-79.37283 43.65270)  \n",
       "4  MULTIPOINT (-79.37325 43.65373)  \n",
       "\n",
       "[5 rows x 32 columns]"
      ]
     },
     "execution_count": 13,
     "metadata": {},
     "output_type": "execute_result"
    }
   ],
   "source": [
    "traffic_signals.head()"
   ]
  },
  {
   "cell_type": "code",
   "execution_count": 14,
   "metadata": {},
   "outputs": [],
   "source": [
    "#rename id column\n",
    "traffic_signals.rename(columns={'_id':'id'},inplace=True)"
   ]
  },
  {
   "cell_type": "code",
   "execution_count": 15,
   "metadata": {},
   "outputs": [
    {
     "data": {
      "text/plain": [
       "Index(['id', 'px', 'main_street', 'midblock_route', 'side1_street',\n",
       "       'side2_street', 'private_access', 'additional_info', 'activationdate',\n",
       "       'signalsystem', 'non_system', 'control_mode', 'pedwalkspeed',\n",
       "       'aps_operation', 'numberofapproaches', 'objectid', 'geo_id', 'node_id',\n",
       "       'audiblepedsignal', 'transit_preempt', 'fire_preempt', 'rail_preempt',\n",
       "       'mi_prinx', 'bicycle_signal', 'ups', 'led_blankout_sign',\n",
       "       'lpi_north_implementation_date', 'lpi_south_implementation_date',\n",
       "       'lpi_east_implementation_date', 'lpi_west_implementation_date',\n",
       "       'lpi_comment', 'geometry'],\n",
       "      dtype='object')"
      ]
     },
     "execution_count": 15,
     "metadata": {},
     "output_type": "execute_result"
    }
   ],
   "source": [
    "traffic_signals.columns"
   ]
  },
  {
   "cell_type": "code",
   "execution_count": 16,
   "metadata": {},
   "outputs": [],
   "source": [
    "#drop unneccesary columns\n",
    "traffic_signals = traffic_signals.drop(columns=['px','midblock_route','side2_street','private_access','additional_info','activationdate','non_system','control_mode','pedwalkspeed','aps_operation'])"
   ]
  },
  {
   "cell_type": "code",
   "execution_count": 17,
   "metadata": {},
   "outputs": [],
   "source": [
    "#drop more columns\n",
    "traffic_signals.drop(traffic_signals.columns[4:-1],inplace=True,axis=1)"
   ]
  },
  {
   "cell_type": "code",
   "execution_count": 18,
   "metadata": {},
   "outputs": [
    {
     "data": {
      "text/plain": [
       "Index(['id', 'main_street', 'side1_street', 'signalsystem', 'geometry'], dtype='object')"
      ]
     },
     "execution_count": 18,
     "metadata": {},
     "output_type": "execute_result"
    }
   ],
   "source": [
    "#check remaining columns\n",
    "traffic_signals.columns"
   ]
  },
  {
   "cell_type": "code",
   "execution_count": 19,
   "metadata": {},
   "outputs": [
    {
     "data": {
      "text/html": [
       "<div>\n",
       "<style scoped>\n",
       "    .dataframe tbody tr th:only-of-type {\n",
       "        vertical-align: middle;\n",
       "    }\n",
       "\n",
       "    .dataframe tbody tr th {\n",
       "        vertical-align: top;\n",
       "    }\n",
       "\n",
       "    .dataframe thead th {\n",
       "        text-align: right;\n",
       "    }\n",
       "</style>\n",
       "<table border=\"1\" class=\"dataframe\">\n",
       "  <thead>\n",
       "    <tr style=\"text-align: right;\">\n",
       "      <th></th>\n",
       "      <th>id</th>\n",
       "      <th>main_street</th>\n",
       "      <th>side1_street</th>\n",
       "      <th>signalsystem</th>\n",
       "      <th>geometry</th>\n",
       "    </tr>\n",
       "  </thead>\n",
       "  <tbody>\n",
       "    <tr>\n",
       "      <th>0</th>\n",
       "      <td>1</td>\n",
       "      <td>JARVIS ST</td>\n",
       "      <td>FRONT ST E</td>\n",
       "      <td>TransSuite</td>\n",
       "      <td>MULTIPOINT (-79.37146 43.64945)</td>\n",
       "    </tr>\n",
       "    <tr>\n",
       "      <th>1</th>\n",
       "      <td>2</td>\n",
       "      <td>KING ST E</td>\n",
       "      <td>JARVIS ST</td>\n",
       "      <td>TransSuite</td>\n",
       "      <td>MULTIPOINT (-79.37191 43.65046)</td>\n",
       "    </tr>\n",
       "    <tr>\n",
       "      <th>2</th>\n",
       "      <td>3</td>\n",
       "      <td>JARVIS ST</td>\n",
       "      <td>ADELAIDE ST E</td>\n",
       "      <td>TransSuite</td>\n",
       "      <td>MULTIPOINT (-79.37237 43.65153)</td>\n",
       "    </tr>\n",
       "    <tr>\n",
       "      <th>3</th>\n",
       "      <td>4</td>\n",
       "      <td>JARVIS ST</td>\n",
       "      <td>RICHMOND ST E</td>\n",
       "      <td>TransSuite</td>\n",
       "      <td>MULTIPOINT (-79.37283 43.65270)</td>\n",
       "    </tr>\n",
       "    <tr>\n",
       "      <th>4</th>\n",
       "      <td>5</td>\n",
       "      <td>JARVIS ST</td>\n",
       "      <td>QUEEN ST E</td>\n",
       "      <td>TransSuite</td>\n",
       "      <td>MULTIPOINT (-79.37325 43.65373)</td>\n",
       "    </tr>\n",
       "  </tbody>\n",
       "</table>\n",
       "</div>"
      ],
      "text/plain": [
       "   id main_street   side1_street signalsystem                         geometry\n",
       "0   1   JARVIS ST     FRONT ST E   TransSuite  MULTIPOINT (-79.37146 43.64945)\n",
       "1   2   KING ST E      JARVIS ST   TransSuite  MULTIPOINT (-79.37191 43.65046)\n",
       "2   3   JARVIS ST  ADELAIDE ST E   TransSuite  MULTIPOINT (-79.37237 43.65153)\n",
       "3   4   JARVIS ST  RICHMOND ST E   TransSuite  MULTIPOINT (-79.37283 43.65270)\n",
       "4   5   JARVIS ST     QUEEN ST E   TransSuite  MULTIPOINT (-79.37325 43.65373)"
      ]
     },
     "execution_count": 19,
     "metadata": {},
     "output_type": "execute_result"
    }
   ],
   "source": [
    "traffic_signals.head()"
   ]
  },
  {
   "cell_type": "code",
   "execution_count": 20,
   "metadata": {},
   "outputs": [],
   "source": [
    "#set id as index\n",
    "traffic_signals.set_index('id',inplace=True)"
   ]
  },
  {
   "cell_type": "code",
   "execution_count": 64,
   "metadata": {},
   "outputs": [
    {
     "name": "stderr",
     "output_type": "stream",
     "text": [
      "C:\\Users\\arara\\AppData\\Local\\Temp\\ipykernel_44436\\3037800592.py:2: FutureWarning:\n",
      "\n",
      "Currently, index_parts defaults to True, but in the future, it will default to False to be consistent with Pandas. Use `index_parts=True` to keep the current behavior and True/False to silence the warning.\n",
      "\n"
     ]
    }
   ],
   "source": [
    "#using the geopandas explode() function to convert the multiline geometry to single line point geometry\n",
    "#traffic_signals_exploded = traffic_signals.explode()"
   ]
  },
  {
   "cell_type": "code",
   "execution_count": 65,
   "metadata": {},
   "outputs": [],
   "source": [
    "#extract latitude and longitudes from single line geometry\n",
    "#traffic_signals_exploded['latitude'] = traffic_signals_exploded.apply(lambda x: x.geometry.y, axis=1)\n",
    "#traffic_signals_exploded['longitude'] = traffic_signals_exploded.apply(lambda x: x.geometry.x, axis=1)"
   ]
  },
  {
   "cell_type": "code",
   "execution_count": 66,
   "metadata": {},
   "outputs": [],
   "source": [
    "#combining latitude and longitudes to form coordinates column\n",
    "#traffic_signals_exploded['coordinates'] = traffic_signals_exploded.apply(lambda x: (x.latitude, x.longitude), axis=1)"
   ]
  },
  {
   "cell_type": "code",
   "execution_count": 67,
   "metadata": {},
   "outputs": [],
   "source": [
    "#create hex cells for traffic\n",
    "\n",
    "#create coordinate column\n",
    "#pedestrian_crossover_exploded['coordinates'] = pedestrian_crossover_exploded['latitude'].astype('str') + ',' + pedestrian_crossover_exploded['longitude'].astype('str')\n",
    "\n",
    "#then we define the function to get h3 hex cells from coordinates data\n",
    "#def get_hex_cell(coordinates):\n",
    "    #a = float(coordinates.split(',')[0])\n",
    "    #b = float(coordinates.split(',')[1])\n",
    "    a = coordinates[0]\n",
    "    b = coordinates[1]\n",
    "    return h3.latlng_to_cell(a,b,res=10)\n",
    "\n",
    "#finally, create a new column for hex cells by applying the function on coordinates column\n",
    "#traffic_signals_exploded['hex_cell'] = traffic_signals_exploded['coordinates'].apply(get_hex_cell)"
   ]
  },
  {
   "cell_type": "code",
   "execution_count": null,
   "metadata": {},
   "outputs": [],
   "source": [
    "#traffic_signals_exploded.set_index('id',inplace=True)"
   ]
  },
  {
   "cell_type": "code",
   "execution_count": 22,
   "metadata": {},
   "outputs": [],
   "source": [
    "#adding flag for traffic signal = 'Yes'\n",
    "traffic_signals['traffic_signal'] = 'Yes'"
   ]
  },
  {
   "cell_type": "code",
   "execution_count": 23,
   "metadata": {},
   "outputs": [],
   "source": [
    "#adding prefix before column names\n",
    "traffic_signals.columns = ['traffic_signal_' + s if s != 'geometry' else s for s in traffic_signals.columns]"
   ]
  },
  {
   "cell_type": "code",
   "execution_count": 24,
   "metadata": {},
   "outputs": [
    {
     "data": {
      "text/html": [
       "<div>\n",
       "<style scoped>\n",
       "    .dataframe tbody tr th:only-of-type {\n",
       "        vertical-align: middle;\n",
       "    }\n",
       "\n",
       "    .dataframe tbody tr th {\n",
       "        vertical-align: top;\n",
       "    }\n",
       "\n",
       "    .dataframe thead th {\n",
       "        text-align: right;\n",
       "    }\n",
       "</style>\n",
       "<table border=\"1\" class=\"dataframe\">\n",
       "  <thead>\n",
       "    <tr style=\"text-align: right;\">\n",
       "      <th></th>\n",
       "      <th>traffic_signal_main_street</th>\n",
       "      <th>traffic_signal_side1_street</th>\n",
       "      <th>traffic_signal_signalsystem</th>\n",
       "      <th>geometry</th>\n",
       "      <th>traffic_signal_traffic_signal</th>\n",
       "    </tr>\n",
       "    <tr>\n",
       "      <th>id</th>\n",
       "      <th></th>\n",
       "      <th></th>\n",
       "      <th></th>\n",
       "      <th></th>\n",
       "      <th></th>\n",
       "    </tr>\n",
       "  </thead>\n",
       "  <tbody>\n",
       "    <tr>\n",
       "      <th>1</th>\n",
       "      <td>JARVIS ST</td>\n",
       "      <td>FRONT ST E</td>\n",
       "      <td>TransSuite</td>\n",
       "      <td>MULTIPOINT (-79.37146 43.64945)</td>\n",
       "      <td>Yes</td>\n",
       "    </tr>\n",
       "    <tr>\n",
       "      <th>2</th>\n",
       "      <td>KING ST E</td>\n",
       "      <td>JARVIS ST</td>\n",
       "      <td>TransSuite</td>\n",
       "      <td>MULTIPOINT (-79.37191 43.65046)</td>\n",
       "      <td>Yes</td>\n",
       "    </tr>\n",
       "    <tr>\n",
       "      <th>3</th>\n",
       "      <td>JARVIS ST</td>\n",
       "      <td>ADELAIDE ST E</td>\n",
       "      <td>TransSuite</td>\n",
       "      <td>MULTIPOINT (-79.37237 43.65153)</td>\n",
       "      <td>Yes</td>\n",
       "    </tr>\n",
       "    <tr>\n",
       "      <th>4</th>\n",
       "      <td>JARVIS ST</td>\n",
       "      <td>RICHMOND ST E</td>\n",
       "      <td>TransSuite</td>\n",
       "      <td>MULTIPOINT (-79.37283 43.65270)</td>\n",
       "      <td>Yes</td>\n",
       "    </tr>\n",
       "    <tr>\n",
       "      <th>5</th>\n",
       "      <td>JARVIS ST</td>\n",
       "      <td>QUEEN ST E</td>\n",
       "      <td>TransSuite</td>\n",
       "      <td>MULTIPOINT (-79.37325 43.65373)</td>\n",
       "      <td>Yes</td>\n",
       "    </tr>\n",
       "  </tbody>\n",
       "</table>\n",
       "</div>"
      ],
      "text/plain": [
       "   traffic_signal_main_street traffic_signal_side1_street  \\\n",
       "id                                                          \n",
       "1                   JARVIS ST                  FRONT ST E   \n",
       "2                   KING ST E                   JARVIS ST   \n",
       "3                   JARVIS ST               ADELAIDE ST E   \n",
       "4                   JARVIS ST               RICHMOND ST E   \n",
       "5                   JARVIS ST                  QUEEN ST E   \n",
       "\n",
       "   traffic_signal_signalsystem                         geometry  \\\n",
       "id                                                                \n",
       "1                   TransSuite  MULTIPOINT (-79.37146 43.64945)   \n",
       "2                   TransSuite  MULTIPOINT (-79.37191 43.65046)   \n",
       "3                   TransSuite  MULTIPOINT (-79.37237 43.65153)   \n",
       "4                   TransSuite  MULTIPOINT (-79.37283 43.65270)   \n",
       "5                   TransSuite  MULTIPOINT (-79.37325 43.65373)   \n",
       "\n",
       "   traffic_signal_traffic_signal  \n",
       "id                                \n",
       "1                            Yes  \n",
       "2                            Yes  \n",
       "3                            Yes  \n",
       "4                            Yes  \n",
       "5                            Yes  "
      ]
     },
     "execution_count": 24,
     "metadata": {},
     "output_type": "execute_result"
    }
   ],
   "source": [
    "traffic_signals.head()"
   ]
  },
  {
   "cell_type": "code",
   "execution_count": 27,
   "metadata": {},
   "outputs": [],
   "source": [
    "traffic_signals.to_file('traffic_signals_processed.geojson')"
   ]
  },
  {
   "cell_type": "code",
   "execution_count": null,
   "metadata": {},
   "outputs": [],
   "source": []
  }
 ],
 "metadata": {
  "kernelspec": {
   "display_name": "base",
   "language": "python",
   "name": "python3"
  },
  "language_info": {
   "codemirror_mode": {
    "name": "ipython",
    "version": 3
   },
   "file_extension": ".py",
   "mimetype": "text/x-python",
   "name": "python",
   "nbconvert_exporter": "python",
   "pygments_lexer": "ipython3",
   "version": "3.9.12"
  },
  "orig_nbformat": 4
 },
 "nbformat": 4,
 "nbformat_minor": 2
}
