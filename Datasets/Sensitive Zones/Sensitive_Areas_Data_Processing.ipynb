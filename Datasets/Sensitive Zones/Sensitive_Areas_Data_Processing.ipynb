{
 "cells": [
  {
   "cell_type": "code",
   "execution_count": 1,
   "metadata": {},
   "outputs": [],
   "source": [
    "import pandas as pd\n",
    "import numpy as np\n",
    "import geopandas as gpd"
   ]
  },
  {
   "cell_type": "code",
   "execution_count": 2,
   "metadata": {},
   "outputs": [],
   "source": [
    "sensitive_areas = gpd.read_file('Sensitive Areas Processed.csv')"
   ]
  },
  {
   "cell_type": "code",
   "execution_count": 4,
   "metadata": {},
   "outputs": [
    {
     "data": {
      "text/html": [
       "<div>\n",
       "<style scoped>\n",
       "    .dataframe tbody tr th:only-of-type {\n",
       "        vertical-align: middle;\n",
       "    }\n",
       "\n",
       "    .dataframe tbody tr th {\n",
       "        vertical-align: top;\n",
       "    }\n",
       "\n",
       "    .dataframe thead th {\n",
       "        text-align: right;\n",
       "    }\n",
       "</style>\n",
       "<table border=\"1\" class=\"dataframe\">\n",
       "  <thead>\n",
       "    <tr style=\"text-align: right;\">\n",
       "      <th></th>\n",
       "      <th>Name</th>\n",
       "      <th>Type</th>\n",
       "      <th>Latitude</th>\n",
       "      <th>Longitude</th>\n",
       "      <th>geometry</th>\n",
       "    </tr>\n",
       "  </thead>\n",
       "  <tbody>\n",
       "    <tr>\n",
       "      <th>0</th>\n",
       "      <td>CENTENNIAL COLLEGE, ASHTONBEE CAMPUS</td>\n",
       "      <td>Education</td>\n",
       "      <td>43.73070998</td>\n",
       "      <td>-79.28978994</td>\n",
       "      <td>None</td>\n",
       "    </tr>\n",
       "    <tr>\n",
       "      <th>1</th>\n",
       "      <td>CENTENNIAL COLLEGE, CARLAW CAMPUS</td>\n",
       "      <td>Education</td>\n",
       "      <td>43.68465985</td>\n",
       "      <td>-79.34886383</td>\n",
       "      <td>None</td>\n",
       "    </tr>\n",
       "    <tr>\n",
       "      <th>2</th>\n",
       "      <td>CENTENNIAL COLLEGE, MIDLAND CAMPUS</td>\n",
       "      <td>Education</td>\n",
       "      <td>43.7523045</td>\n",
       "      <td>-79.26565895</td>\n",
       "      <td>None</td>\n",
       "    </tr>\n",
       "    <tr>\n",
       "      <th>3</th>\n",
       "      <td>CENTENNIAL COLLEGE, MORNINGSIDE CAMPUS</td>\n",
       "      <td>Education</td>\n",
       "      <td>43.78660651</td>\n",
       "      <td>-79.19292513</td>\n",
       "      <td>None</td>\n",
       "    </tr>\n",
       "    <tr>\n",
       "      <th>4</th>\n",
       "      <td>CENTENNIAL COLLEGE, PROGRESS CAMPUS</td>\n",
       "      <td>Education</td>\n",
       "      <td>43.78527327</td>\n",
       "      <td>-79.22702962</td>\n",
       "      <td>None</td>\n",
       "    </tr>\n",
       "  </tbody>\n",
       "</table>\n",
       "</div>"
      ],
      "text/plain": [
       "                                     Name       Type     Latitude  \\\n",
       "0    CENTENNIAL COLLEGE, ASHTONBEE CAMPUS  Education  43.73070998   \n",
       "1       CENTENNIAL COLLEGE, CARLAW CAMPUS  Education  43.68465985   \n",
       "2      CENTENNIAL COLLEGE, MIDLAND CAMPUS  Education   43.7523045   \n",
       "3  CENTENNIAL COLLEGE, MORNINGSIDE CAMPUS  Education  43.78660651   \n",
       "4     CENTENNIAL COLLEGE, PROGRESS CAMPUS  Education  43.78527327   \n",
       "\n",
       "      Longitude geometry  \n",
       "0  -79.28978994     None  \n",
       "1  -79.34886383     None  \n",
       "2  -79.26565895     None  \n",
       "3  -79.19292513     None  \n",
       "4  -79.22702962     None  "
      ]
     },
     "execution_count": 4,
     "metadata": {},
     "output_type": "execute_result"
    }
   ],
   "source": [
    "sensitive_areas.head()"
   ]
  },
  {
   "cell_type": "code",
   "execution_count": 5,
   "metadata": {},
   "outputs": [],
   "source": [
    "#convert dataframe headers to lowercase\n",
    "sensitive_areas.columns = [s.lower() for s in sensitive_areas.columns]"
   ]
  },
  {
   "cell_type": "code",
   "execution_count": 10,
   "metadata": {},
   "outputs": [],
   "source": [
    "#adding geometries from latitude and longitude\n",
    "sensitive_areas['geometry'] = gpd.points_from_xy(x=sensitive_areas.latitude,y=sensitive_areas.longitude,crs='EPSG:4326')"
   ]
  },
  {
   "cell_type": "code",
   "execution_count": 11,
   "metadata": {},
   "outputs": [
    {
     "ename": "IndentationError",
     "evalue": "unexpected indent (1129086859.py, line 8)",
     "output_type": "error",
     "traceback": [
      "\u001b[0;36m  Input \u001b[0;32mIn [11]\u001b[0;36m\u001b[0m\n\u001b[0;31m    a = float(coordinates.split(',')[0])\u001b[0m\n\u001b[0m    ^\u001b[0m\n\u001b[0;31mIndentationError\u001b[0m\u001b[0;31m:\u001b[0m unexpected indent\n"
     ]
    }
   ],
   "source": [
    "#create hex cells for sensitive areas\n",
    "\n",
    "#create coordinate column\n",
    "#sensitive_areas['coordinates'] = sensitive_areas['latitude'].astype('str') + ',' + sensitive_areas['longitude'].astype('str')\n",
    "\n",
    "#then we define the function to get h3 hex cells from coordinates data\n",
    "#def get_hex_cell(coordinates):\n",
    "    a = float(coordinates.split(',')[0])\n",
    "    b = float(coordinates.split(',')[1])\n",
    "    return h3.latlng_to_cell(a,b,res=10)\n",
    "\n",
    "#finally, create a new column for hex cells by applying the function on coordinates column\n",
    "#sensitive_areas['hex_cell'] = sensitive_areas['coordinates'].apply(get_hex_cell)"
   ]
  },
  {
   "cell_type": "code",
   "execution_count": 12,
   "metadata": {},
   "outputs": [
    {
     "data": {
      "text/html": [
       "<div>\n",
       "<style scoped>\n",
       "    .dataframe tbody tr th:only-of-type {\n",
       "        vertical-align: middle;\n",
       "    }\n",
       "\n",
       "    .dataframe tbody tr th {\n",
       "        vertical-align: top;\n",
       "    }\n",
       "\n",
       "    .dataframe thead th {\n",
       "        text-align: right;\n",
       "    }\n",
       "</style>\n",
       "<table border=\"1\" class=\"dataframe\">\n",
       "  <thead>\n",
       "    <tr style=\"text-align: right;\">\n",
       "      <th></th>\n",
       "      <th>name</th>\n",
       "      <th>type</th>\n",
       "      <th>latitude</th>\n",
       "      <th>longitude</th>\n",
       "      <th>geometry</th>\n",
       "    </tr>\n",
       "  </thead>\n",
       "  <tbody>\n",
       "    <tr>\n",
       "      <th>0</th>\n",
       "      <td>CENTENNIAL COLLEGE, ASHTONBEE CAMPUS</td>\n",
       "      <td>Education</td>\n",
       "      <td>43.73070998</td>\n",
       "      <td>-79.28978994</td>\n",
       "      <td>POINT (43.73071 -79.28979)</td>\n",
       "    </tr>\n",
       "    <tr>\n",
       "      <th>1</th>\n",
       "      <td>CENTENNIAL COLLEGE, CARLAW CAMPUS</td>\n",
       "      <td>Education</td>\n",
       "      <td>43.68465985</td>\n",
       "      <td>-79.34886383</td>\n",
       "      <td>POINT (43.68466 -79.34886)</td>\n",
       "    </tr>\n",
       "    <tr>\n",
       "      <th>2</th>\n",
       "      <td>CENTENNIAL COLLEGE, MIDLAND CAMPUS</td>\n",
       "      <td>Education</td>\n",
       "      <td>43.7523045</td>\n",
       "      <td>-79.26565895</td>\n",
       "      <td>POINT (43.75230 -79.26566)</td>\n",
       "    </tr>\n",
       "    <tr>\n",
       "      <th>3</th>\n",
       "      <td>CENTENNIAL COLLEGE, MORNINGSIDE CAMPUS</td>\n",
       "      <td>Education</td>\n",
       "      <td>43.78660651</td>\n",
       "      <td>-79.19292513</td>\n",
       "      <td>POINT (43.78661 -79.19293)</td>\n",
       "    </tr>\n",
       "    <tr>\n",
       "      <th>4</th>\n",
       "      <td>CENTENNIAL COLLEGE, PROGRESS CAMPUS</td>\n",
       "      <td>Education</td>\n",
       "      <td>43.78527327</td>\n",
       "      <td>-79.22702962</td>\n",
       "      <td>POINT (43.78527 -79.22703)</td>\n",
       "    </tr>\n",
       "  </tbody>\n",
       "</table>\n",
       "</div>"
      ],
      "text/plain": [
       "                                     name       type     latitude  \\\n",
       "0    CENTENNIAL COLLEGE, ASHTONBEE CAMPUS  Education  43.73070998   \n",
       "1       CENTENNIAL COLLEGE, CARLAW CAMPUS  Education  43.68465985   \n",
       "2      CENTENNIAL COLLEGE, MIDLAND CAMPUS  Education   43.7523045   \n",
       "3  CENTENNIAL COLLEGE, MORNINGSIDE CAMPUS  Education  43.78660651   \n",
       "4     CENTENNIAL COLLEGE, PROGRESS CAMPUS  Education  43.78527327   \n",
       "\n",
       "      longitude                    geometry  \n",
       "0  -79.28978994  POINT (43.73071 -79.28979)  \n",
       "1  -79.34886383  POINT (43.68466 -79.34886)  \n",
       "2  -79.26565895  POINT (43.75230 -79.26566)  \n",
       "3  -79.19292513  POINT (43.78661 -79.19293)  \n",
       "4  -79.22702962  POINT (43.78527 -79.22703)  "
      ]
     },
     "execution_count": 12,
     "metadata": {},
     "output_type": "execute_result"
    }
   ],
   "source": [
    "#checking for new column\n",
    "sensitive_areas.head()"
   ]
  },
  {
   "cell_type": "code",
   "execution_count": 15,
   "metadata": {},
   "outputs": [],
   "source": [
    "#adding column to flag sensitive areas = 'Yes'\n",
    "sensitive_areas['sensitive_zone'] = 'Yes'"
   ]
  },
  {
   "cell_type": "code",
   "execution_count": 16,
   "metadata": {},
   "outputs": [],
   "source": [
    "#adding prefix for columns\n",
    "sensitive_areas.columns = ['sensitive_zone_' + s if s != 'geometry' else s for s in sensitive_areas.columns]"
   ]
  },
  {
   "cell_type": "code",
   "execution_count": 17,
   "metadata": {},
   "outputs": [],
   "source": [
    "sensitive_areas.to_file('sensitive_areas_processed_final.geojson', driver='GeoJSON')"
   ]
  },
  {
   "cell_type": "code",
   "execution_count": null,
   "metadata": {},
   "outputs": [],
   "source": []
  }
 ],
 "metadata": {
  "kernelspec": {
   "display_name": "base",
   "language": "python",
   "name": "python3"
  },
  "language_info": {
   "codemirror_mode": {
    "name": "ipython",
    "version": 3
   },
   "file_extension": ".py",
   "mimetype": "text/x-python",
   "name": "python",
   "nbconvert_exporter": "python",
   "pygments_lexer": "ipython3",
   "version": "3.9.12"
  },
  "orig_nbformat": 4
 },
 "nbformat": 4,
 "nbformat_minor": 2
}
