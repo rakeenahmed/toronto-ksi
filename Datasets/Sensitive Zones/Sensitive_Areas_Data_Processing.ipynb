{
 "cells": [
  {
   "cell_type": "code",
   "execution_count": 1,
   "metadata": {},
   "outputs": [],
   "source": [
    "import pandas as pd\n",
    "import numpy as np\n",
    "import h3"
   ]
  },
  {
   "cell_type": "code",
   "execution_count": 3,
   "metadata": {},
   "outputs": [],
   "source": [
    "sensitive_areas = pd.read_csv('Sensitive Areas Processed.csv')"
   ]
  },
  {
   "cell_type": "code",
   "execution_count": 4,
   "metadata": {},
   "outputs": [
    {
     "data": {
      "text/html": [
       "<div>\n",
       "<style scoped>\n",
       "    .dataframe tbody tr th:only-of-type {\n",
       "        vertical-align: middle;\n",
       "    }\n",
       "\n",
       "    .dataframe tbody tr th {\n",
       "        vertical-align: top;\n",
       "    }\n",
       "\n",
       "    .dataframe thead th {\n",
       "        text-align: right;\n",
       "    }\n",
       "</style>\n",
       "<table border=\"1\" class=\"dataframe\">\n",
       "  <thead>\n",
       "    <tr style=\"text-align: right;\">\n",
       "      <th></th>\n",
       "      <th>Name</th>\n",
       "      <th>Type</th>\n",
       "      <th>Latitude</th>\n",
       "      <th>Longitude</th>\n",
       "    </tr>\n",
       "  </thead>\n",
       "  <tbody>\n",
       "    <tr>\n",
       "      <th>0</th>\n",
       "      <td>CENTENNIAL COLLEGE, ASHTONBEE CAMPUS</td>\n",
       "      <td>Education</td>\n",
       "      <td>43.730710</td>\n",
       "      <td>-79.289790</td>\n",
       "    </tr>\n",
       "    <tr>\n",
       "      <th>1</th>\n",
       "      <td>CENTENNIAL COLLEGE, CARLAW CAMPUS</td>\n",
       "      <td>Education</td>\n",
       "      <td>43.684660</td>\n",
       "      <td>-79.348864</td>\n",
       "    </tr>\n",
       "    <tr>\n",
       "      <th>2</th>\n",
       "      <td>CENTENNIAL COLLEGE, MIDLAND CAMPUS</td>\n",
       "      <td>Education</td>\n",
       "      <td>43.752305</td>\n",
       "      <td>-79.265659</td>\n",
       "    </tr>\n",
       "    <tr>\n",
       "      <th>3</th>\n",
       "      <td>CENTENNIAL COLLEGE, MORNINGSIDE CAMPUS</td>\n",
       "      <td>Education</td>\n",
       "      <td>43.786607</td>\n",
       "      <td>-79.192925</td>\n",
       "    </tr>\n",
       "    <tr>\n",
       "      <th>4</th>\n",
       "      <td>CENTENNIAL COLLEGE, PROGRESS CAMPUS</td>\n",
       "      <td>Education</td>\n",
       "      <td>43.785273</td>\n",
       "      <td>-79.227030</td>\n",
       "    </tr>\n",
       "  </tbody>\n",
       "</table>\n",
       "</div>"
      ],
      "text/plain": [
       "                                     Name       Type   Latitude  Longitude\n",
       "0    CENTENNIAL COLLEGE, ASHTONBEE CAMPUS  Education  43.730710 -79.289790\n",
       "1       CENTENNIAL COLLEGE, CARLAW CAMPUS  Education  43.684660 -79.348864\n",
       "2      CENTENNIAL COLLEGE, MIDLAND CAMPUS  Education  43.752305 -79.265659\n",
       "3  CENTENNIAL COLLEGE, MORNINGSIDE CAMPUS  Education  43.786607 -79.192925\n",
       "4     CENTENNIAL COLLEGE, PROGRESS CAMPUS  Education  43.785273 -79.227030"
      ]
     },
     "execution_count": 4,
     "metadata": {},
     "output_type": "execute_result"
    }
   ],
   "source": [
    "sensitive_areas.head()"
   ]
  },
  {
   "cell_type": "code",
   "execution_count": 5,
   "metadata": {},
   "outputs": [],
   "source": [
    "#convert dataframe headers to lowercase\n",
    "sensitive_areas.columns = [s.lower() for s in sensitive_areas.columns]"
   ]
  },
  {
   "cell_type": "code",
   "execution_count": 6,
   "metadata": {},
   "outputs": [],
   "source": [
    "#create hex cells for sensitive areas\n",
    "\n",
    "#create coordinate column\n",
    "sensitive_areas['coordinates'] = sensitive_areas['latitude'].astype('str') + ',' + sensitive_areas['longitude'].astype('str')\n",
    "\n",
    "#then we define the function to get h3 hex cells from coordinates data\n",
    "def get_hex_cell(coordinates):\n",
    "    a = float(coordinates.split(',')[0])\n",
    "    b = float(coordinates.split(',')[1])\n",
    "    return h3.latlng_to_cell(a,b,res=10)\n",
    "\n",
    "#finally, create a new column for hex cells by applying the function on coordinates column\n",
    "sensitive_areas['hex_cell'] = sensitive_areas['coordinates'].apply(get_hex_cell)"
   ]
  },
  {
   "cell_type": "code",
   "execution_count": 7,
   "metadata": {},
   "outputs": [
    {
     "data": {
      "text/html": [
       "<div>\n",
       "<style scoped>\n",
       "    .dataframe tbody tr th:only-of-type {\n",
       "        vertical-align: middle;\n",
       "    }\n",
       "\n",
       "    .dataframe tbody tr th {\n",
       "        vertical-align: top;\n",
       "    }\n",
       "\n",
       "    .dataframe thead th {\n",
       "        text-align: right;\n",
       "    }\n",
       "</style>\n",
       "<table border=\"1\" class=\"dataframe\">\n",
       "  <thead>\n",
       "    <tr style=\"text-align: right;\">\n",
       "      <th></th>\n",
       "      <th>name</th>\n",
       "      <th>type</th>\n",
       "      <th>latitude</th>\n",
       "      <th>longitude</th>\n",
       "      <th>coordinates</th>\n",
       "      <th>hex_cell</th>\n",
       "    </tr>\n",
       "  </thead>\n",
       "  <tbody>\n",
       "    <tr>\n",
       "      <th>0</th>\n",
       "      <td>CENTENNIAL COLLEGE, ASHTONBEE CAMPUS</td>\n",
       "      <td>Education</td>\n",
       "      <td>43.730710</td>\n",
       "      <td>-79.289790</td>\n",
       "      <td>43.73070998,-79.28978994</td>\n",
       "      <td>8a2b9bd5db17fff</td>\n",
       "    </tr>\n",
       "    <tr>\n",
       "      <th>1</th>\n",
       "      <td>CENTENNIAL COLLEGE, CARLAW CAMPUS</td>\n",
       "      <td>Education</td>\n",
       "      <td>43.684660</td>\n",
       "      <td>-79.348864</td>\n",
       "      <td>43.68465985,-79.34886383</td>\n",
       "      <td>8a2b9bc75a17fff</td>\n",
       "    </tr>\n",
       "    <tr>\n",
       "      <th>2</th>\n",
       "      <td>CENTENNIAL COLLEGE, MIDLAND CAMPUS</td>\n",
       "      <td>Education</td>\n",
       "      <td>43.752305</td>\n",
       "      <td>-79.265659</td>\n",
       "      <td>43.7523045,-79.26565895</td>\n",
       "      <td>8a2b9bd41477fff</td>\n",
       "    </tr>\n",
       "    <tr>\n",
       "      <th>3</th>\n",
       "      <td>CENTENNIAL COLLEGE, MORNINGSIDE CAMPUS</td>\n",
       "      <td>Education</td>\n",
       "      <td>43.786607</td>\n",
       "      <td>-79.192925</td>\n",
       "      <td>43.78660651,-79.19292513</td>\n",
       "      <td>8a2b9bd61357fff</td>\n",
       "    </tr>\n",
       "    <tr>\n",
       "      <th>4</th>\n",
       "      <td>CENTENNIAL COLLEGE, PROGRESS CAMPUS</td>\n",
       "      <td>Education</td>\n",
       "      <td>43.785273</td>\n",
       "      <td>-79.227030</td>\n",
       "      <td>43.78527327,-79.22702962</td>\n",
       "      <td>8a2b9bd63237fff</td>\n",
       "    </tr>\n",
       "  </tbody>\n",
       "</table>\n",
       "</div>"
      ],
      "text/plain": [
       "                                     name       type   latitude  longitude  \\\n",
       "0    CENTENNIAL COLLEGE, ASHTONBEE CAMPUS  Education  43.730710 -79.289790   \n",
       "1       CENTENNIAL COLLEGE, CARLAW CAMPUS  Education  43.684660 -79.348864   \n",
       "2      CENTENNIAL COLLEGE, MIDLAND CAMPUS  Education  43.752305 -79.265659   \n",
       "3  CENTENNIAL COLLEGE, MORNINGSIDE CAMPUS  Education  43.786607 -79.192925   \n",
       "4     CENTENNIAL COLLEGE, PROGRESS CAMPUS  Education  43.785273 -79.227030   \n",
       "\n",
       "                coordinates         hex_cell  \n",
       "0  43.73070998,-79.28978994  8a2b9bd5db17fff  \n",
       "1  43.68465985,-79.34886383  8a2b9bc75a17fff  \n",
       "2   43.7523045,-79.26565895  8a2b9bd41477fff  \n",
       "3  43.78660651,-79.19292513  8a2b9bd61357fff  \n",
       "4  43.78527327,-79.22702962  8a2b9bd63237fff  "
      ]
     },
     "execution_count": 7,
     "metadata": {},
     "output_type": "execute_result"
    }
   ],
   "source": [
    "#checking for new column\n",
    "sensitive_areas.head()"
   ]
  },
  {
   "cell_type": "code",
   "execution_count": 8,
   "metadata": {},
   "outputs": [],
   "source": [
    "#save the dataframe as csv\n",
    "sensitive_areas.to_csv('Sensitive Areas Processed Final.csv')"
   ]
  },
  {
   "cell_type": "code",
   "execution_count": null,
   "metadata": {},
   "outputs": [],
   "source": []
  }
 ],
 "metadata": {
  "kernelspec": {
   "display_name": "base",
   "language": "python",
   "name": "python3"
  },
  "language_info": {
   "codemirror_mode": {
    "name": "ipython",
    "version": 3
   },
   "file_extension": ".py",
   "mimetype": "text/x-python",
   "name": "python",
   "nbconvert_exporter": "python",
   "pygments_lexer": "ipython3",
   "version": "3.9.12"
  },
  "orig_nbformat": 4
 },
 "nbformat": 4,
 "nbformat_minor": 2
}
