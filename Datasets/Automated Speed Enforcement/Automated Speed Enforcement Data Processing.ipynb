{
 "cells": [
  {
   "cell_type": "code",
   "execution_count": 1,
   "metadata": {},
   "outputs": [
    {
     "name": "stderr",
     "output_type": "stream",
     "text": [
      "/Users/rakeenahmed/opt/anaconda3/lib/python3.9/site-packages/scipy/__init__.py:146: UserWarning: A NumPy version >=1.16.5 and <1.23.0 is required for this version of SciPy (detected version 1.23.5\n",
      "  warnings.warn(f\"A NumPy version >={np_minversion} and <{np_maxversion}\"\n"
     ]
    }
   ],
   "source": [
    "import numpy as np\n",
    "import pandas as pd\n",
    "import geopandas as gpd\n",
    "import keplergl\n",
    "#from keplergl import KeplerGL\n",
    "import matplotlib as plt\n",
    "import plotly.express as px\n",
    "import h3\n",
    "import shapely\n",
    "from geopandas import GeoDataFrame,GeoSeries\n",
    "import folium\n",
    "import matplotlib\n",
    "%matplotlib inline"
   ]
  },
  {
   "cell_type": "markdown",
   "metadata": {},
   "source": [
    "# Automated Speed Enforcement"
   ]
  },
  {
   "cell_type": "code",
   "execution_count": 80,
   "metadata": {},
   "outputs": [],
   "source": [
    "speed_enforcement = gpd.read_file('Automated Speed Enforcement Locations.geojson')"
   ]
  },
  {
   "cell_type": "code",
   "execution_count": 81,
   "metadata": {},
   "outputs": [
    {
     "data": {
      "text/html": [
       "<div>\n",
       "<style scoped>\n",
       "    .dataframe tbody tr th:only-of-type {\n",
       "        vertical-align: middle;\n",
       "    }\n",
       "\n",
       "    .dataframe tbody tr th {\n",
       "        vertical-align: top;\n",
       "    }\n",
       "\n",
       "    .dataframe thead th {\n",
       "        text-align: right;\n",
       "    }\n",
       "</style>\n",
       "<table border=\"1\" class=\"dataframe\">\n",
       "  <thead>\n",
       "    <tr style=\"text-align: right;\">\n",
       "      <th></th>\n",
       "      <th>_id</th>\n",
       "      <th>Location_Code</th>\n",
       "      <th>Ward</th>\n",
       "      <th>Status</th>\n",
       "      <th>location</th>\n",
       "      <th>FID</th>\n",
       "      <th>geometry</th>\n",
       "    </tr>\n",
       "  </thead>\n",
       "  <tbody>\n",
       "    <tr>\n",
       "      <th>0</th>\n",
       "      <td>1</td>\n",
       "      <td>A298</td>\n",
       "      <td>1 - Etobicoke North</td>\n",
       "      <td>Active</td>\n",
       "      <td>Thistle Down Blvd. East of Albion Rd.</td>\n",
       "      <td>1</td>\n",
       "      <td>MULTIPOINT (-79.56022 43.73667)</td>\n",
       "    </tr>\n",
       "    <tr>\n",
       "      <th>1</th>\n",
       "      <td>2</td>\n",
       "      <td>A318</td>\n",
       "      <td>1 - Etobicoke North</td>\n",
       "      <td>Active</td>\n",
       "      <td>Kipling Ave. North of Coolhurst Dr.</td>\n",
       "      <td>2</td>\n",
       "      <td>MULTIPOINT (-79.56942 43.71741)</td>\n",
       "    </tr>\n",
       "    <tr>\n",
       "      <th>2</th>\n",
       "      <td>3</td>\n",
       "      <td>A319</td>\n",
       "      <td>1 - Etobicoke North</td>\n",
       "      <td>Active</td>\n",
       "      <td>Mount Olive Dr. North of Dorward Dr.</td>\n",
       "      <td>3</td>\n",
       "      <td>MULTIPOINT (-79.59493 43.74885)</td>\n",
       "    </tr>\n",
       "    <tr>\n",
       "      <th>3</th>\n",
       "      <td>4</td>\n",
       "      <td>A252</td>\n",
       "      <td>2 - Etobicoke Centre</td>\n",
       "      <td>Active</td>\n",
       "      <td>Bloor St. W. Near 4034 Bloor St. W.</td>\n",
       "      <td>4</td>\n",
       "      <td>MULTIPOINT (-79.55458 43.63745)</td>\n",
       "    </tr>\n",
       "    <tr>\n",
       "      <th>4</th>\n",
       "      <td>5</td>\n",
       "      <td>A253</td>\n",
       "      <td>2 - Etobicoke Centre</td>\n",
       "      <td>Active</td>\n",
       "      <td>Allanhurst Dr. Near Mulham Place</td>\n",
       "      <td>5</td>\n",
       "      <td>MULTIPOINT (-79.51767 43.68003)</td>\n",
       "    </tr>\n",
       "  </tbody>\n",
       "</table>\n",
       "</div>"
      ],
      "text/plain": [
       "   _id Location_Code                  Ward  Status  \\\n",
       "0    1          A298   1 - Etobicoke North  Active   \n",
       "1    2          A318   1 - Etobicoke North  Active   \n",
       "2    3          A319   1 - Etobicoke North  Active   \n",
       "3    4          A252  2 - Etobicoke Centre  Active   \n",
       "4    5          A253  2 - Etobicoke Centre  Active   \n",
       "\n",
       "                                location  FID                         geometry  \n",
       "0  Thistle Down Blvd. East of Albion Rd.    1  MULTIPOINT (-79.56022 43.73667)  \n",
       "1    Kipling Ave. North of Coolhurst Dr.    2  MULTIPOINT (-79.56942 43.71741)  \n",
       "2   Mount Olive Dr. North of Dorward Dr.    3  MULTIPOINT (-79.59493 43.74885)  \n",
       "3    Bloor St. W. Near 4034 Bloor St. W.    4  MULTIPOINT (-79.55458 43.63745)  \n",
       "4       Allanhurst Dr. Near Mulham Place    5  MULTIPOINT (-79.51767 43.68003)  "
      ]
     },
     "execution_count": 81,
     "metadata": {},
     "output_type": "execute_result"
    }
   ],
   "source": [
    "speed_enforcement.head()"
   ]
  },
  {
   "cell_type": "code",
   "execution_count": 82,
   "metadata": {},
   "outputs": [],
   "source": [
    "#convert column names to lowercase\n",
    "speed_enforcement.columns = [s.strip().lower() for s in speed_enforcement.columns]"
   ]
  },
  {
   "cell_type": "code",
   "execution_count": 83,
   "metadata": {},
   "outputs": [],
   "source": [
    "#set location code as index\n",
    "speed_enforcement = speed_enforcement.set_index('location_code')"
   ]
  },
  {
   "cell_type": "code",
   "execution_count": 84,
   "metadata": {},
   "outputs": [],
   "source": [
    "speed_enforcement = speed_enforcement.drop(columns=['_id','ward','status','location','fid'])"
   ]
  },
  {
   "cell_type": "code",
   "execution_count": 85,
   "metadata": {},
   "outputs": [],
   "source": [
    "#adding a new column binary indicator for speed_enforcement\n",
    "speed_enforcement['automatic_speed_enforcement'] = \"Yes\""
   ]
  },
  {
   "cell_type": "code",
   "execution_count": 86,
   "metadata": {},
   "outputs": [
    {
     "data": {
      "text/html": [
       "<div>\n",
       "<style scoped>\n",
       "    .dataframe tbody tr th:only-of-type {\n",
       "        vertical-align: middle;\n",
       "    }\n",
       "\n",
       "    .dataframe tbody tr th {\n",
       "        vertical-align: top;\n",
       "    }\n",
       "\n",
       "    .dataframe thead th {\n",
       "        text-align: right;\n",
       "    }\n",
       "</style>\n",
       "<table border=\"1\" class=\"dataframe\">\n",
       "  <thead>\n",
       "    <tr style=\"text-align: right;\">\n",
       "      <th></th>\n",
       "      <th>geometry</th>\n",
       "      <th>automatic_speed_enforcement</th>\n",
       "    </tr>\n",
       "    <tr>\n",
       "      <th>location_code</th>\n",
       "      <th></th>\n",
       "      <th></th>\n",
       "    </tr>\n",
       "  </thead>\n",
       "  <tbody>\n",
       "    <tr>\n",
       "      <th>A298</th>\n",
       "      <td>MULTIPOINT (-79.56022 43.73667)</td>\n",
       "      <td>Yes</td>\n",
       "    </tr>\n",
       "    <tr>\n",
       "      <th>A318</th>\n",
       "      <td>MULTIPOINT (-79.56942 43.71741)</td>\n",
       "      <td>Yes</td>\n",
       "    </tr>\n",
       "    <tr>\n",
       "      <th>A319</th>\n",
       "      <td>MULTIPOINT (-79.59493 43.74885)</td>\n",
       "      <td>Yes</td>\n",
       "    </tr>\n",
       "    <tr>\n",
       "      <th>A252</th>\n",
       "      <td>MULTIPOINT (-79.55458 43.63745)</td>\n",
       "      <td>Yes</td>\n",
       "    </tr>\n",
       "    <tr>\n",
       "      <th>A253</th>\n",
       "      <td>MULTIPOINT (-79.51767 43.68003)</td>\n",
       "      <td>Yes</td>\n",
       "    </tr>\n",
       "  </tbody>\n",
       "</table>\n",
       "</div>"
      ],
      "text/plain": [
       "                                      geometry automatic_speed_enforcement\n",
       "location_code                                                             \n",
       "A298           MULTIPOINT (-79.56022 43.73667)                         Yes\n",
       "A318           MULTIPOINT (-79.56942 43.71741)                         Yes\n",
       "A319           MULTIPOINT (-79.59493 43.74885)                         Yes\n",
       "A252           MULTIPOINT (-79.55458 43.63745)                         Yes\n",
       "A253           MULTIPOINT (-79.51767 43.68003)                         Yes"
      ]
     },
     "execution_count": 86,
     "metadata": {},
     "output_type": "execute_result"
    }
   ],
   "source": [
    "speed_enforcement.head()"
   ]
  },
  {
   "cell_type": "code",
   "execution_count": 87,
   "metadata": {},
   "outputs": [],
   "source": [
    "#converting multipoing geometry to single point geometry\n",
    "#speed_enforcement = speed_enforcement.explode()"
   ]
  },
  {
   "cell_type": "code",
   "execution_count": 88,
   "metadata": {},
   "outputs": [],
   "source": [
    "#extract latitude and longitudes from single line geometry\n",
    "#speed_enforcement['latitude'] = speed_enforcement.apply(lambda x: x.geometry.y, axis=1)\n",
    "#speed_enforcement['longitude'] = speed_enforcement.apply(lambda x: x.geometry.x, axis=1)"
   ]
  },
  {
   "cell_type": "code",
   "execution_count": 89,
   "metadata": {},
   "outputs": [
    {
     "ename": "IndentationError",
     "evalue": "unexpected indent (3092004022.py, line 13)",
     "output_type": "error",
     "traceback": [
      "\u001b[0;36m  Input \u001b[0;32mIn [89]\u001b[0;36m\u001b[0m\n\u001b[0;31m    a = coordinates[0]\u001b[0m\n\u001b[0m    ^\u001b[0m\n\u001b[0;31mIndentationError\u001b[0m\u001b[0;31m:\u001b[0m unexpected indent\n"
     ]
    }
   ],
   "source": [
    "#combining latitude and longitudes to form coordinates column\n",
    "#speed_enforcement['coordinates'] = speed_enforcement.apply(lambda x: (x.latitude, x.longitude), axis=1)\n",
    "\n",
    "#create hex cells for bike lanes\n",
    "\n",
    "#create coordinate column\n",
    "#pedestrian_crossover_exploded['coordinates'] = pedestrian_crossover_exploded['latitude'].astype('str') + ',' + pedestrian_crossover_exploded['longitude'].astype('str')\n",
    "\n",
    "#then we define the function to get h3 hex cells from coordinates data\n",
    "#def get_hex_cell(coordinates):\n",
    "    #a = float(coordinates.split(',')[0])\n",
    "    #b = float(coordinates.split(',')[1])\n",
    "    a = coordinates[0]\n",
    "    b = coordinates[1]\n",
    "    return h3.latlng_to_cell(a,b,res=10)\n",
    "\n",
    "#finally, create a new column for hex cells by applying the function on coordinates column\n",
    "#speed_enforcement['hex_cell'] = speed_enforcement['coordinates'].apply(get_hex_cell)"
   ]
  },
  {
   "cell_type": "code",
   "execution_count": 92,
   "metadata": {},
   "outputs": [
    {
     "data": {
      "text/html": [
       "<div>\n",
       "<style scoped>\n",
       "    .dataframe tbody tr th:only-of-type {\n",
       "        vertical-align: middle;\n",
       "    }\n",
       "\n",
       "    .dataframe tbody tr th {\n",
       "        vertical-align: top;\n",
       "    }\n",
       "\n",
       "    .dataframe thead th {\n",
       "        text-align: right;\n",
       "    }\n",
       "</style>\n",
       "<table border=\"1\" class=\"dataframe\">\n",
       "  <thead>\n",
       "    <tr style=\"text-align: right;\">\n",
       "      <th></th>\n",
       "      <th>geometry</th>\n",
       "      <th>speed_enforcement_automatic_speed_enforcement</th>\n",
       "    </tr>\n",
       "    <tr>\n",
       "      <th>location_code</th>\n",
       "      <th></th>\n",
       "      <th></th>\n",
       "    </tr>\n",
       "  </thead>\n",
       "  <tbody>\n",
       "    <tr>\n",
       "      <th>A298</th>\n",
       "      <td>MULTIPOINT (-79.56022 43.73667)</td>\n",
       "      <td>Yes</td>\n",
       "    </tr>\n",
       "    <tr>\n",
       "      <th>A318</th>\n",
       "      <td>MULTIPOINT (-79.56942 43.71741)</td>\n",
       "      <td>Yes</td>\n",
       "    </tr>\n",
       "    <tr>\n",
       "      <th>A319</th>\n",
       "      <td>MULTIPOINT (-79.59493 43.74885)</td>\n",
       "      <td>Yes</td>\n",
       "    </tr>\n",
       "    <tr>\n",
       "      <th>A252</th>\n",
       "      <td>MULTIPOINT (-79.55458 43.63745)</td>\n",
       "      <td>Yes</td>\n",
       "    </tr>\n",
       "    <tr>\n",
       "      <th>A253</th>\n",
       "      <td>MULTIPOINT (-79.51767 43.68003)</td>\n",
       "      <td>Yes</td>\n",
       "    </tr>\n",
       "  </tbody>\n",
       "</table>\n",
       "</div>"
      ],
      "text/plain": [
       "                                      geometry  \\\n",
       "location_code                                    \n",
       "A298           MULTIPOINT (-79.56022 43.73667)   \n",
       "A318           MULTIPOINT (-79.56942 43.71741)   \n",
       "A319           MULTIPOINT (-79.59493 43.74885)   \n",
       "A252           MULTIPOINT (-79.55458 43.63745)   \n",
       "A253           MULTIPOINT (-79.51767 43.68003)   \n",
       "\n",
       "              speed_enforcement_automatic_speed_enforcement  \n",
       "location_code                                                \n",
       "A298                                                    Yes  \n",
       "A318                                                    Yes  \n",
       "A319                                                    Yes  \n",
       "A252                                                    Yes  \n",
       "A253                                                    Yes  "
      ]
     },
     "execution_count": 92,
     "metadata": {},
     "output_type": "execute_result"
    }
   ],
   "source": [
    "speed_enforcement.head()"
   ]
  },
  {
   "cell_type": "code",
   "execution_count": 93,
   "metadata": {},
   "outputs": [],
   "source": [
    "#adding column prefix speed_enforcement to all columns\n",
    "speed_enforcement.columns = ['speed_enforcement_' + s if s !='geometry' else s for s in speed_enforcement.columns] "
   ]
  },
  {
   "cell_type": "code",
   "execution_count": 94,
   "metadata": {},
   "outputs": [],
   "source": [
    "speed_enforcement.to_file('speed_enforcement_processed.geojson')"
   ]
  },
  {
   "cell_type": "markdown",
   "metadata": {},
   "source": [
    "# Traffic Camera List"
   ]
  },
  {
   "cell_type": "code",
   "execution_count": 109,
   "metadata": {},
   "outputs": [],
   "source": [
    "traffic_cameras = gpd.read_file('Traffic Camera List (CSV).csv')"
   ]
  },
  {
   "cell_type": "code",
   "execution_count": 110,
   "metadata": {},
   "outputs": [
    {
     "data": {
      "text/plain": [
       "geopandas.geodataframe.GeoDataFrame"
      ]
     },
     "execution_count": 110,
     "metadata": {},
     "output_type": "execute_result"
    }
   ],
   "source": [
    "type(traffic_cameras)"
   ]
  },
  {
   "cell_type": "code",
   "execution_count": 111,
   "metadata": {},
   "outputs": [],
   "source": [
    "#converting column headers to lowercase\n",
    "traffic_cameras.columns = [s.strip().lower().replace(' ','_') for s in traffic_cameras.columns]"
   ]
  },
  {
   "cell_type": "code",
   "execution_count": 112,
   "metadata": {},
   "outputs": [
    {
     "data": {
      "text/html": [
       "<div>\n",
       "<style scoped>\n",
       "    .dataframe tbody tr th:only-of-type {\n",
       "        vertical-align: middle;\n",
       "    }\n",
       "\n",
       "    .dataframe tbody tr th {\n",
       "        vertical-align: top;\n",
       "    }\n",
       "\n",
       "    .dataframe thead th {\n",
       "        text-align: right;\n",
       "    }\n",
       "</style>\n",
       "<table border=\"1\" class=\"dataframe\">\n",
       "  <thead>\n",
       "    <tr style=\"text-align: right;\">\n",
       "      <th></th>\n",
       "      <th>camera_number</th>\n",
       "      <th>latitude</th>\n",
       "      <th>longitude</th>\n",
       "      <th>main_road</th>\n",
       "      <th>cross_street</th>\n",
       "      <th>group</th>\n",
       "      <th>traffic_image</th>\n",
       "      <th>north_reference_static_image</th>\n",
       "      <th>east_reference_static_image</th>\n",
       "      <th>south_reference_static_image</th>\n",
       "      <th>west_reference_static_image</th>\n",
       "      <th>geometry</th>\n",
       "    </tr>\n",
       "  </thead>\n",
       "  <tbody>\n",
       "    <tr>\n",
       "      <th>0</th>\n",
       "      <td>Camera8000</td>\n",
       "      <td>43.64945</td>\n",
       "      <td>-79.371464</td>\n",
       "      <td>ABELL ST</td>\n",
       "      <td>BABY POINT RD</td>\n",
       "      <td>Arterial</td>\n",
       "      <td>http://opendata.toronto.ca/transportation/tmc...</td>\n",
       "      <td></td>\n",
       "      <td></td>\n",
       "      <td></td>\n",
       "      <td></td>\n",
       "      <td>None</td>\n",
       "    </tr>\n",
       "    <tr>\n",
       "      <th>1</th>\n",
       "      <td>Camera8001</td>\n",
       "      <td>43.643120</td>\n",
       "      <td>-79.381386</td>\n",
       "      <td>YORK ST</td>\n",
       "      <td>BREMNER BLVD / RAPTORS WAY</td>\n",
       "      <td>Arterial</td>\n",
       "      <td>http://opendata.toronto.ca/transportation/tmc...</td>\n",
       "      <td>http://opendata.toronto.ca/transportation/tmc...</td>\n",
       "      <td>http://opendata.toronto.ca/transportation/tmc...</td>\n",
       "      <td>http://opendata.toronto.ca/transportation/tmc...</td>\n",
       "      <td>http://opendata.toronto.ca/transportation/tmc...</td>\n",
       "      <td>None</td>\n",
       "    </tr>\n",
       "    <tr>\n",
       "      <th>2</th>\n",
       "      <td>Camera8002</td>\n",
       "      <td>43.64222</td>\n",
       "      <td>-79.384068</td>\n",
       "      <td>LOWER SIMCOE ST</td>\n",
       "      <td>BREMNER BLVD</td>\n",
       "      <td>Arterial</td>\n",
       "      <td>http://opendata.toronto.ca/transportation/tmc...</td>\n",
       "      <td>http://opendata.toronto.ca/transportation/tmc...</td>\n",
       "      <td>http://opendata.toronto.ca/transportation/tmc...</td>\n",
       "      <td>http://opendata.toronto.ca/transportation/tmc...</td>\n",
       "      <td>http://opendata.toronto.ca/transportation/tmc...</td>\n",
       "      <td>None</td>\n",
       "    </tr>\n",
       "    <tr>\n",
       "      <th>3</th>\n",
       "      <td>Camera8003</td>\n",
       "      <td>43.649461</td>\n",
       "      <td>-79.371267</td>\n",
       "      <td>JARVIS ST</td>\n",
       "      <td>FRONT ST E / LOWER JARVIS ST</td>\n",
       "      <td>Arterial</td>\n",
       "      <td>http://opendata.toronto.ca/transportation/tmc...</td>\n",
       "      <td>http://opendata.toronto.ca/transportation/tmc...</td>\n",
       "      <td>http://opendata.toronto.ca/transportation/tmc...</td>\n",
       "      <td>http://opendata.toronto.ca/transportation/tmc...</td>\n",
       "      <td>http://opendata.toronto.ca/transportation/tmc...</td>\n",
       "      <td>None</td>\n",
       "    </tr>\n",
       "    <tr>\n",
       "      <th>4</th>\n",
       "      <td>Camera8004</td>\n",
       "      <td>43.645153</td>\n",
       "      <td>-79.382574</td>\n",
       "      <td>UNIVERSITY AVE</td>\n",
       "      <td>FRONT ST W / YORK ST</td>\n",
       "      <td>Arterial</td>\n",
       "      <td>http://opendata.toronto.ca/transportation/tmc...</td>\n",
       "      <td>http://opendata.toronto.ca/transportation/tmc...</td>\n",
       "      <td>http://opendata.toronto.ca/transportation/tmc...</td>\n",
       "      <td>http://opendata.toronto.ca/transportation/tmc...</td>\n",
       "      <td>http://opendata.toronto.ca/transportation/tmc...</td>\n",
       "      <td>None</td>\n",
       "    </tr>\n",
       "  </tbody>\n",
       "</table>\n",
       "</div>"
      ],
      "text/plain": [
       "  camera_number   latitude   longitude        main_road  \\\n",
       "0    Camera8000   43.64945  -79.371464         ABELL ST   \n",
       "1    Camera8001  43.643120  -79.381386          YORK ST   \n",
       "2    Camera8002   43.64222  -79.384068  LOWER SIMCOE ST   \n",
       "3    Camera8003  43.649461  -79.371267        JARVIS ST   \n",
       "4    Camera8004  43.645153  -79.382574   UNIVERSITY AVE   \n",
       "\n",
       "                   cross_street     group  \\\n",
       "0                 BABY POINT RD  Arterial   \n",
       "1    BREMNER BLVD / RAPTORS WAY  Arterial   \n",
       "2                  BREMNER BLVD  Arterial   \n",
       "3  FRONT ST E / LOWER JARVIS ST  Arterial   \n",
       "4          FRONT ST W / YORK ST  Arterial   \n",
       "\n",
       "                                       traffic_image  \\\n",
       "0   http://opendata.toronto.ca/transportation/tmc...   \n",
       "1   http://opendata.toronto.ca/transportation/tmc...   \n",
       "2   http://opendata.toronto.ca/transportation/tmc...   \n",
       "3   http://opendata.toronto.ca/transportation/tmc...   \n",
       "4   http://opendata.toronto.ca/transportation/tmc...   \n",
       "\n",
       "                        north_reference_static_image  \\\n",
       "0                                                      \n",
       "1   http://opendata.toronto.ca/transportation/tmc...   \n",
       "2   http://opendata.toronto.ca/transportation/tmc...   \n",
       "3   http://opendata.toronto.ca/transportation/tmc...   \n",
       "4   http://opendata.toronto.ca/transportation/tmc...   \n",
       "\n",
       "                         east_reference_static_image  \\\n",
       "0                                                      \n",
       "1   http://opendata.toronto.ca/transportation/tmc...   \n",
       "2   http://opendata.toronto.ca/transportation/tmc...   \n",
       "3   http://opendata.toronto.ca/transportation/tmc...   \n",
       "4   http://opendata.toronto.ca/transportation/tmc...   \n",
       "\n",
       "                        south_reference_static_image  \\\n",
       "0                                                      \n",
       "1   http://opendata.toronto.ca/transportation/tmc...   \n",
       "2   http://opendata.toronto.ca/transportation/tmc...   \n",
       "3   http://opendata.toronto.ca/transportation/tmc...   \n",
       "4   http://opendata.toronto.ca/transportation/tmc...   \n",
       "\n",
       "                         west_reference_static_image geometry  \n",
       "0                                                        None  \n",
       "1   http://opendata.toronto.ca/transportation/tmc...     None  \n",
       "2   http://opendata.toronto.ca/transportation/tmc...     None  \n",
       "3   http://opendata.toronto.ca/transportation/tmc...     None  \n",
       "4   http://opendata.toronto.ca/transportation/tmc...     None  "
      ]
     },
     "execution_count": 112,
     "metadata": {},
     "output_type": "execute_result"
    }
   ],
   "source": [
    "traffic_cameras.head()"
   ]
  },
  {
   "cell_type": "code",
   "execution_count": 113,
   "metadata": {},
   "outputs": [],
   "source": [
    "#set index to camera number\n",
    "traffic_cameras = traffic_cameras.set_index('camera_number')"
   ]
  },
  {
   "cell_type": "code",
   "execution_count": 114,
   "metadata": {},
   "outputs": [],
   "source": [
    "#dropping unnecessary columns\n",
    "traffic_cameras = traffic_cameras.drop(traffic_cameras.columns[3:-1],axis=1)"
   ]
  },
  {
   "cell_type": "code",
   "execution_count": 115,
   "metadata": {},
   "outputs": [
    {
     "data": {
      "text/plain": [
       "geopandas.geodataframe.GeoDataFrame"
      ]
     },
     "execution_count": 115,
     "metadata": {},
     "output_type": "execute_result"
    }
   ],
   "source": [
    "type(traffic_cameras)"
   ]
  },
  {
   "cell_type": "code",
   "execution_count": 116,
   "metadata": {},
   "outputs": [
    {
     "data": {
      "text/html": [
       "<div>\n",
       "<style scoped>\n",
       "    .dataframe tbody tr th:only-of-type {\n",
       "        vertical-align: middle;\n",
       "    }\n",
       "\n",
       "    .dataframe tbody tr th {\n",
       "        vertical-align: top;\n",
       "    }\n",
       "\n",
       "    .dataframe thead th {\n",
       "        text-align: right;\n",
       "    }\n",
       "</style>\n",
       "<table border=\"1\" class=\"dataframe\">\n",
       "  <thead>\n",
       "    <tr style=\"text-align: right;\">\n",
       "      <th></th>\n",
       "      <th>latitude</th>\n",
       "      <th>longitude</th>\n",
       "      <th>main_road</th>\n",
       "      <th>geometry</th>\n",
       "    </tr>\n",
       "    <tr>\n",
       "      <th>camera_number</th>\n",
       "      <th></th>\n",
       "      <th></th>\n",
       "      <th></th>\n",
       "      <th></th>\n",
       "    </tr>\n",
       "  </thead>\n",
       "  <tbody>\n",
       "    <tr>\n",
       "      <th>Camera8000</th>\n",
       "      <td>43.64945</td>\n",
       "      <td>-79.371464</td>\n",
       "      <td>ABELL ST</td>\n",
       "      <td>None</td>\n",
       "    </tr>\n",
       "    <tr>\n",
       "      <th>Camera8001</th>\n",
       "      <td>43.643120</td>\n",
       "      <td>-79.381386</td>\n",
       "      <td>YORK ST</td>\n",
       "      <td>None</td>\n",
       "    </tr>\n",
       "    <tr>\n",
       "      <th>Camera8002</th>\n",
       "      <td>43.64222</td>\n",
       "      <td>-79.384068</td>\n",
       "      <td>LOWER SIMCOE ST</td>\n",
       "      <td>None</td>\n",
       "    </tr>\n",
       "    <tr>\n",
       "      <th>Camera8003</th>\n",
       "      <td>43.649461</td>\n",
       "      <td>-79.371267</td>\n",
       "      <td>JARVIS ST</td>\n",
       "      <td>None</td>\n",
       "    </tr>\n",
       "    <tr>\n",
       "      <th>Camera8004</th>\n",
       "      <td>43.645153</td>\n",
       "      <td>-79.382574</td>\n",
       "      <td>UNIVERSITY AVE</td>\n",
       "      <td>None</td>\n",
       "    </tr>\n",
       "  </tbody>\n",
       "</table>\n",
       "</div>"
      ],
      "text/plain": [
       "                latitude   longitude        main_road geometry\n",
       "camera_number                                                 \n",
       "Camera8000      43.64945  -79.371464         ABELL ST     None\n",
       "Camera8001     43.643120  -79.381386          YORK ST     None\n",
       "Camera8002      43.64222  -79.384068  LOWER SIMCOE ST     None\n",
       "Camera8003     43.649461  -79.371267        JARVIS ST     None\n",
       "Camera8004     43.645153  -79.382574   UNIVERSITY AVE     None"
      ]
     },
     "execution_count": 116,
     "metadata": {},
     "output_type": "execute_result"
    }
   ],
   "source": [
    "traffic_cameras.head()"
   ]
  },
  {
   "cell_type": "code",
   "execution_count": 117,
   "metadata": {},
   "outputs": [],
   "source": [
    "#adding a geometry column to traffic cameras\n",
    "\n",
    "traffic_cameras.crs = 'EPSG:3857'\n",
    "\n",
    "traffic_cameras = traffic_cameras.to_crs('EPSG:3857')\n",
    "\n",
    "geometries = gpd.points_from_xy(x=traffic_cameras.latitude,y=traffic_cameras.longitude,crs='EPSG:3857')\n",
    "\n",
    "traffic_cameras['geometry'] = geometries.to_crs('EPSG:3857')"
   ]
  },
  {
   "cell_type": "code",
   "execution_count": 118,
   "metadata": {},
   "outputs": [],
   "source": [
    "#adding a column for traffic_cameras = \"Yes\"\n",
    "traffic_cameras['traffic_cameras'] = \"Yes\""
   ]
  },
  {
   "cell_type": "code",
   "execution_count": 119,
   "metadata": {},
   "outputs": [],
   "source": [
    "#combining latitude and longitudes to form coordinates column\n",
    "#traffic_cameras['coordinates'] = traffic_cameras.apply(lambda x: (x.latitude, x.longitude), axis=1)\n",
    "\n",
    "#create hex cells for bike lanes\n",
    "\n",
    "#create coordinate column\n",
    "#pedestrian_crossover_exploded['coordinates'] = pedestrian_crossover_exploded['latitude'].astype('str') + ',' + pedestrian_crossover_exploded['longitude'].astype('str')\n",
    "\n",
    "#then we define the function to get h3 hex cells from coordinates data\n",
    "#def get_hex_cell(coordinates):\n",
    "    #a = float(coordinates.split(',')[0])\n",
    "    #b = float(coordinates.split(',')[1])\n",
    "    #a = coordinates[0]\n",
    "    #b = coordinates[1]\n",
    "    #return h3.latlng_to_cell(a,b,res=10)\n",
    "\n",
    "#finally, create a new column for hex cells by applying the function on coordinates column\n",
    "#traffic_cameras['hex_cell'] = traffic_cameras['coordinates'].apply(get_hex_cell)"
   ]
  },
  {
   "cell_type": "code",
   "execution_count": 120,
   "metadata": {},
   "outputs": [
    {
     "data": {
      "text/html": [
       "<div>\n",
       "<style scoped>\n",
       "    .dataframe tbody tr th:only-of-type {\n",
       "        vertical-align: middle;\n",
       "    }\n",
       "\n",
       "    .dataframe tbody tr th {\n",
       "        vertical-align: top;\n",
       "    }\n",
       "\n",
       "    .dataframe thead th {\n",
       "        text-align: right;\n",
       "    }\n",
       "</style>\n",
       "<table border=\"1\" class=\"dataframe\">\n",
       "  <thead>\n",
       "    <tr style=\"text-align: right;\">\n",
       "      <th></th>\n",
       "      <th>latitude</th>\n",
       "      <th>longitude</th>\n",
       "      <th>main_road</th>\n",
       "      <th>geometry</th>\n",
       "      <th>traffic_cameras</th>\n",
       "    </tr>\n",
       "    <tr>\n",
       "      <th>camera_number</th>\n",
       "      <th></th>\n",
       "      <th></th>\n",
       "      <th></th>\n",
       "      <th></th>\n",
       "      <th></th>\n",
       "    </tr>\n",
       "  </thead>\n",
       "  <tbody>\n",
       "    <tr>\n",
       "      <th>Camera8000</th>\n",
       "      <td>43.64945</td>\n",
       "      <td>-79.371464</td>\n",
       "      <td>ABELL ST</td>\n",
       "      <td>POINT (43.649 -79.371)</td>\n",
       "      <td>Yes</td>\n",
       "    </tr>\n",
       "    <tr>\n",
       "      <th>Camera8001</th>\n",
       "      <td>43.643120</td>\n",
       "      <td>-79.381386</td>\n",
       "      <td>YORK ST</td>\n",
       "      <td>POINT (43.643 -79.381)</td>\n",
       "      <td>Yes</td>\n",
       "    </tr>\n",
       "    <tr>\n",
       "      <th>Camera8002</th>\n",
       "      <td>43.64222</td>\n",
       "      <td>-79.384068</td>\n",
       "      <td>LOWER SIMCOE ST</td>\n",
       "      <td>POINT (43.642 -79.384)</td>\n",
       "      <td>Yes</td>\n",
       "    </tr>\n",
       "    <tr>\n",
       "      <th>Camera8003</th>\n",
       "      <td>43.649461</td>\n",
       "      <td>-79.371267</td>\n",
       "      <td>JARVIS ST</td>\n",
       "      <td>POINT (43.649 -79.371)</td>\n",
       "      <td>Yes</td>\n",
       "    </tr>\n",
       "    <tr>\n",
       "      <th>Camera8004</th>\n",
       "      <td>43.645153</td>\n",
       "      <td>-79.382574</td>\n",
       "      <td>UNIVERSITY AVE</td>\n",
       "      <td>POINT (43.645 -79.383)</td>\n",
       "      <td>Yes</td>\n",
       "    </tr>\n",
       "  </tbody>\n",
       "</table>\n",
       "</div>"
      ],
      "text/plain": [
       "                latitude   longitude        main_road                geometry  \\\n",
       "camera_number                                                                   \n",
       "Camera8000      43.64945  -79.371464         ABELL ST  POINT (43.649 -79.371)   \n",
       "Camera8001     43.643120  -79.381386          YORK ST  POINT (43.643 -79.381)   \n",
       "Camera8002      43.64222  -79.384068  LOWER SIMCOE ST  POINT (43.642 -79.384)   \n",
       "Camera8003     43.649461  -79.371267        JARVIS ST  POINT (43.649 -79.371)   \n",
       "Camera8004     43.645153  -79.382574   UNIVERSITY AVE  POINT (43.645 -79.383)   \n",
       "\n",
       "              traffic_cameras  \n",
       "camera_number                  \n",
       "Camera8000                Yes  \n",
       "Camera8001                Yes  \n",
       "Camera8002                Yes  \n",
       "Camera8003                Yes  \n",
       "Camera8004                Yes  "
      ]
     },
     "execution_count": 120,
     "metadata": {},
     "output_type": "execute_result"
    }
   ],
   "source": [
    "traffic_cameras.head()"
   ]
  },
  {
   "cell_type": "code",
   "execution_count": 121,
   "metadata": {},
   "outputs": [],
   "source": [
    "#adding column prefix speed_enforcement to all columns\n",
    "traffic_cameras.columns = ['traffic_cameras_' + s if s!= 'geometry' else s for s in traffic_cameras.columns]"
   ]
  },
  {
   "cell_type": "code",
   "execution_count": 122,
   "metadata": {},
   "outputs": [],
   "source": [
    "traffic_cameras.to_file('traffic_cameras_processed.geojson')"
   ]
  }
 ],
 "metadata": {
  "kernelspec": {
   "display_name": "base",
   "language": "python",
   "name": "python3"
  },
  "language_info": {
   "codemirror_mode": {
    "name": "ipython",
    "version": 3
   },
   "file_extension": ".py",
   "mimetype": "text/x-python",
   "name": "python",
   "nbconvert_exporter": "python",
   "pygments_lexer": "ipython3",
   "version": "3.9.12"
  },
  "orig_nbformat": 4
 },
 "nbformat": 4,
 "nbformat_minor": 2
}
