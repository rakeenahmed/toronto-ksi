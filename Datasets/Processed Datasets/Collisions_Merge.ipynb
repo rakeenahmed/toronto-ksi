{
 "cells": [
  {
   "cell_type": "code",
   "execution_count": 294,
   "metadata": {},
   "outputs": [],
   "source": [
    "import numpy as np\n",
    "import pandas as pd\n",
    "import geopandas as gpd\n",
    "import matplotlib as plt\n",
    "import plotly.express as px\n",
    "import shapely\n",
    "from geopandas import GeoDataFrame,GeoSeries\n",
    "import folium\n",
    "import matplotlib\n",
    "%matplotlib inline"
   ]
  },
  {
   "cell_type": "code",
   "execution_count": 295,
   "metadata": {},
   "outputs": [],
   "source": [
    "#reading in all datasets\n",
    "road_network = gpd.read_file('road_network_processed.geojson')\n",
    "#road_network = gpd.read_file('ontario_road_network_processed.geojson')\n",
    "bikelanes = gpd.read_file('cycling_network.geojson')\n",
    "collisions = gpd.read_file('collisions_processed.geojson')\n",
    "intersections = gpd.read_file('centreline_intersections_processed.geojson')\n",
    "ksi = pd.read_csv('ksi_processed.csv')\n",
    "lanes = gpd.read_file('lanes_processed.geojson')\n",
    "pedestrian_crossings = gpd.read_file('pedestrian_crossover_processed.geojson')\n",
    "sensitive_zones = gpd.read_file('sensitive_areas_processed_final.geojson')\n",
    "speed_enforcement = gpd.read_file('speed_enforcement_processed.geojson')\n",
    "speed_limits = gpd.read_file('speed_limits_processed.geojson')\n",
    "traffic_calming = gpd.read_file('traffic_calming_processed.geojson')\n",
    "traffic_cameras = gpd.read_file('traffic_cameras_processed.geojson')\n",
    "traffic_volumes = pd.read_csv('traffic_volumes_processed_2.csv')"
   ]
  },
  {
   "cell_type": "code",
   "execution_count": 296,
   "metadata": {},
   "outputs": [
    {
     "name": "stdout",
     "output_type": "stream",
     "text": [
      "EPSG:4326\n",
      "EPSG:4326\n",
      "EPSG:4326\n",
      "EPSG:4326\n",
      "EPSG:4326\n"
     ]
    }
   ],
   "source": [
    "print(road_network.crs)\n",
    "print(bikelanes.crs)\n",
    "print(lanes.crs)\n",
    "print(sensitive_zones.crs)\n",
    "print(collisions.crs)"
   ]
  },
  {
   "cell_type": "markdown",
   "metadata": {},
   "source": [
    "Main Dataset - Collisions"
   ]
  },
  {
   "cell_type": "code",
   "execution_count": 297,
   "metadata": {},
   "outputs": [
    {
     "data": {
      "text/html": [
       "<div>\n",
       "<style scoped>\n",
       "    .dataframe tbody tr th:only-of-type {\n",
       "        vertical-align: middle;\n",
       "    }\n",
       "\n",
       "    .dataframe tbody tr th {\n",
       "        vertical-align: top;\n",
       "    }\n",
       "\n",
       "    .dataframe thead th {\n",
       "        text-align: right;\n",
       "    }\n",
       "</style>\n",
       "<table border=\"1\" class=\"dataframe\">\n",
       "  <thead>\n",
       "    <tr style=\"text-align: right;\">\n",
       "      <th></th>\n",
       "      <th>eventuniqueid</th>\n",
       "      <th>collisions_month</th>\n",
       "      <th>collisions_day_of_week</th>\n",
       "      <th>collisions_year</th>\n",
       "      <th>collisions_hour</th>\n",
       "      <th>collisions_division</th>\n",
       "      <th>collisions_neighbourhood</th>\n",
       "      <th>collisions_fatalities</th>\n",
       "      <th>collisions_injury_collisions</th>\n",
       "      <th>collisions_ftr_collisions</th>\n",
       "      <th>collisions_pd_collisions</th>\n",
       "      <th>collisions_longitude</th>\n",
       "      <th>collisions_latitude</th>\n",
       "      <th>collisions_fatal_collisions</th>\n",
       "      <th>collisions_time_of_day</th>\n",
       "      <th>geometry</th>\n",
       "    </tr>\n",
       "  </thead>\n",
       "  <tbody>\n",
       "    <tr>\n",
       "      <th>0</th>\n",
       "      <td>GO-20168000055</td>\n",
       "      <td>January</td>\n",
       "      <td>Friday</td>\n",
       "      <td>2016</td>\n",
       "      <td>16</td>\n",
       "      <td>D42</td>\n",
       "      <td>LAmoreaux (117)</td>\n",
       "      <td>0</td>\n",
       "      <td>NO</td>\n",
       "      <td>NO</td>\n",
       "      <td>YES</td>\n",
       "      <td>-79.319271</td>\n",
       "      <td>43.795851</td>\n",
       "      <td>NO</td>\n",
       "      <td>afternoon</td>\n",
       "      <td>POINT (-79.31927 43.79585)</td>\n",
       "    </tr>\n",
       "    <tr>\n",
       "      <th>1</th>\n",
       "      <td>GO-20168000056</td>\n",
       "      <td>January</td>\n",
       "      <td>Friday</td>\n",
       "      <td>2016</td>\n",
       "      <td>17</td>\n",
       "      <td>D54/D55</td>\n",
       "      <td>Woodbine Corridor (64)</td>\n",
       "      <td>0</td>\n",
       "      <td>YES</td>\n",
       "      <td>NO</td>\n",
       "      <td>NO</td>\n",
       "      <td>-79.320851</td>\n",
       "      <td>43.683944</td>\n",
       "      <td>NO</td>\n",
       "      <td>evening</td>\n",
       "      <td>POINT (-79.32085 43.68394)</td>\n",
       "    </tr>\n",
       "    <tr>\n",
       "      <th>2</th>\n",
       "      <td>GO-20168000057</td>\n",
       "      <td>January</td>\n",
       "      <td>Friday</td>\n",
       "      <td>2016</td>\n",
       "      <td>19</td>\n",
       "      <td>D41</td>\n",
       "      <td>Kennedy Park (124)</td>\n",
       "      <td>0</td>\n",
       "      <td>NO</td>\n",
       "      <td>YES</td>\n",
       "      <td>NO</td>\n",
       "      <td>-79.251653</td>\n",
       "      <td>43.732248</td>\n",
       "      <td>NO</td>\n",
       "      <td>evening</td>\n",
       "      <td>POINT (-79.25165 43.73225)</td>\n",
       "    </tr>\n",
       "    <tr>\n",
       "      <th>3</th>\n",
       "      <td>GO-20168000058</td>\n",
       "      <td>January</td>\n",
       "      <td>Friday</td>\n",
       "      <td>2016</td>\n",
       "      <td>3</td>\n",
       "      <td>D52</td>\n",
       "      <td>Bay Street Corridor (76)</td>\n",
       "      <td>0</td>\n",
       "      <td>NO</td>\n",
       "      <td>NO</td>\n",
       "      <td>YES</td>\n",
       "      <td>-79.385522</td>\n",
       "      <td>43.646053</td>\n",
       "      <td>NO</td>\n",
       "      <td>night</td>\n",
       "      <td>POINT (-79.38552 43.64605)</td>\n",
       "    </tr>\n",
       "    <tr>\n",
       "      <th>4</th>\n",
       "      <td>GO-20168000059</td>\n",
       "      <td>January</td>\n",
       "      <td>Friday</td>\n",
       "      <td>2016</td>\n",
       "      <td>4</td>\n",
       "      <td>D41</td>\n",
       "      <td>Birchcliffe-Cliffside (122)</td>\n",
       "      <td>0</td>\n",
       "      <td>NO</td>\n",
       "      <td>NO</td>\n",
       "      <td>YES</td>\n",
       "      <td>-79.284020</td>\n",
       "      <td>43.680810</td>\n",
       "      <td>NO</td>\n",
       "      <td>night</td>\n",
       "      <td>POINT (-79.28402 43.68081)</td>\n",
       "    </tr>\n",
       "  </tbody>\n",
       "</table>\n",
       "</div>"
      ],
      "text/plain": [
       "    eventuniqueid collisions_month collisions_day_of_week  collisions_year  \\\n",
       "0  GO-20168000055          January                 Friday             2016   \n",
       "1  GO-20168000056          January                 Friday             2016   \n",
       "2  GO-20168000057          January                 Friday             2016   \n",
       "3  GO-20168000058          January                 Friday             2016   \n",
       "4  GO-20168000059          January                 Friday             2016   \n",
       "\n",
       "   collisions_hour collisions_division     collisions_neighbourhood  \\\n",
       "0               16                 D42              LAmoreaux (117)   \n",
       "1               17             D54/D55       Woodbine Corridor (64)   \n",
       "2               19                 D41           Kennedy Park (124)   \n",
       "3                3                 D52     Bay Street Corridor (76)   \n",
       "4                4                 D41  Birchcliffe-Cliffside (122)   \n",
       "\n",
       "   collisions_fatalities collisions_injury_collisions  \\\n",
       "0                      0                           NO   \n",
       "1                      0                          YES   \n",
       "2                      0                           NO   \n",
       "3                      0                           NO   \n",
       "4                      0                           NO   \n",
       "\n",
       "  collisions_ftr_collisions collisions_pd_collisions  collisions_longitude  \\\n",
       "0                        NO                      YES            -79.319271   \n",
       "1                        NO                       NO            -79.320851   \n",
       "2                       YES                       NO            -79.251653   \n",
       "3                        NO                      YES            -79.385522   \n",
       "4                        NO                      YES            -79.284020   \n",
       "\n",
       "   collisions_latitude collisions_fatal_collisions collisions_time_of_day  \\\n",
       "0            43.795851                          NO              afternoon   \n",
       "1            43.683944                          NO                evening   \n",
       "2            43.732248                          NO                evening   \n",
       "3            43.646053                          NO                  night   \n",
       "4            43.680810                          NO                  night   \n",
       "\n",
       "                     geometry  \n",
       "0  POINT (-79.31927 43.79585)  \n",
       "1  POINT (-79.32085 43.68394)  \n",
       "2  POINT (-79.25165 43.73225)  \n",
       "3  POINT (-79.38552 43.64605)  \n",
       "4  POINT (-79.28402 43.68081)  "
      ]
     },
     "execution_count": 297,
     "metadata": {},
     "output_type": "execute_result"
    }
   ],
   "source": [
    "collisions.head()"
   ]
  },
  {
   "cell_type": "code",
   "execution_count": 298,
   "metadata": {},
   "outputs": [
    {
     "data": {
      "text/plain": [
       "geopandas.geodataframe.GeoDataFrame"
      ]
     },
     "execution_count": 298,
     "metadata": {},
     "output_type": "execute_result"
    }
   ],
   "source": [
    "type(collisions)"
   ]
  },
  {
   "cell_type": "code",
   "execution_count": 299,
   "metadata": {},
   "outputs": [],
   "source": [
    "#set eventuniqueid as index\n",
    "collisions = collisions.set_index('eventuniqueid')"
   ]
  },
  {
   "cell_type": "code",
   "execution_count": 300,
   "metadata": {},
   "outputs": [
    {
     "data": {
      "text/html": [
       "<div>\n",
       "<style scoped>\n",
       "    .dataframe tbody tr th:only-of-type {\n",
       "        vertical-align: middle;\n",
       "    }\n",
       "\n",
       "    .dataframe tbody tr th {\n",
       "        vertical-align: top;\n",
       "    }\n",
       "\n",
       "    .dataframe thead th {\n",
       "        text-align: right;\n",
       "    }\n",
       "</style>\n",
       "<table border=\"1\" class=\"dataframe\">\n",
       "  <thead>\n",
       "    <tr style=\"text-align: right;\">\n",
       "      <th></th>\n",
       "      <th>collisions_month</th>\n",
       "      <th>collisions_day_of_week</th>\n",
       "      <th>collisions_year</th>\n",
       "      <th>collisions_hour</th>\n",
       "      <th>collisions_division</th>\n",
       "      <th>collisions_neighbourhood</th>\n",
       "      <th>collisions_fatalities</th>\n",
       "      <th>collisions_injury_collisions</th>\n",
       "      <th>collisions_ftr_collisions</th>\n",
       "      <th>collisions_pd_collisions</th>\n",
       "      <th>collisions_longitude</th>\n",
       "      <th>collisions_latitude</th>\n",
       "      <th>collisions_fatal_collisions</th>\n",
       "      <th>collisions_time_of_day</th>\n",
       "      <th>geometry</th>\n",
       "    </tr>\n",
       "    <tr>\n",
       "      <th>eventuniqueid</th>\n",
       "      <th></th>\n",
       "      <th></th>\n",
       "      <th></th>\n",
       "      <th></th>\n",
       "      <th></th>\n",
       "      <th></th>\n",
       "      <th></th>\n",
       "      <th></th>\n",
       "      <th></th>\n",
       "      <th></th>\n",
       "      <th></th>\n",
       "      <th></th>\n",
       "      <th></th>\n",
       "      <th></th>\n",
       "      <th></th>\n",
       "    </tr>\n",
       "  </thead>\n",
       "  <tbody>\n",
       "    <tr>\n",
       "      <th>GO-20168000055</th>\n",
       "      <td>January</td>\n",
       "      <td>Friday</td>\n",
       "      <td>2016</td>\n",
       "      <td>16</td>\n",
       "      <td>D42</td>\n",
       "      <td>LAmoreaux (117)</td>\n",
       "      <td>0</td>\n",
       "      <td>NO</td>\n",
       "      <td>NO</td>\n",
       "      <td>YES</td>\n",
       "      <td>-79.319271</td>\n",
       "      <td>43.795851</td>\n",
       "      <td>NO</td>\n",
       "      <td>afternoon</td>\n",
       "      <td>POINT (-79.31927 43.79585)</td>\n",
       "    </tr>\n",
       "    <tr>\n",
       "      <th>GO-20168000056</th>\n",
       "      <td>January</td>\n",
       "      <td>Friday</td>\n",
       "      <td>2016</td>\n",
       "      <td>17</td>\n",
       "      <td>D54/D55</td>\n",
       "      <td>Woodbine Corridor (64)</td>\n",
       "      <td>0</td>\n",
       "      <td>YES</td>\n",
       "      <td>NO</td>\n",
       "      <td>NO</td>\n",
       "      <td>-79.320851</td>\n",
       "      <td>43.683944</td>\n",
       "      <td>NO</td>\n",
       "      <td>evening</td>\n",
       "      <td>POINT (-79.32085 43.68394)</td>\n",
       "    </tr>\n",
       "    <tr>\n",
       "      <th>GO-20168000057</th>\n",
       "      <td>January</td>\n",
       "      <td>Friday</td>\n",
       "      <td>2016</td>\n",
       "      <td>19</td>\n",
       "      <td>D41</td>\n",
       "      <td>Kennedy Park (124)</td>\n",
       "      <td>0</td>\n",
       "      <td>NO</td>\n",
       "      <td>YES</td>\n",
       "      <td>NO</td>\n",
       "      <td>-79.251653</td>\n",
       "      <td>43.732248</td>\n",
       "      <td>NO</td>\n",
       "      <td>evening</td>\n",
       "      <td>POINT (-79.25165 43.73225)</td>\n",
       "    </tr>\n",
       "    <tr>\n",
       "      <th>GO-20168000058</th>\n",
       "      <td>January</td>\n",
       "      <td>Friday</td>\n",
       "      <td>2016</td>\n",
       "      <td>3</td>\n",
       "      <td>D52</td>\n",
       "      <td>Bay Street Corridor (76)</td>\n",
       "      <td>0</td>\n",
       "      <td>NO</td>\n",
       "      <td>NO</td>\n",
       "      <td>YES</td>\n",
       "      <td>-79.385522</td>\n",
       "      <td>43.646053</td>\n",
       "      <td>NO</td>\n",
       "      <td>night</td>\n",
       "      <td>POINT (-79.38552 43.64605)</td>\n",
       "    </tr>\n",
       "    <tr>\n",
       "      <th>GO-20168000059</th>\n",
       "      <td>January</td>\n",
       "      <td>Friday</td>\n",
       "      <td>2016</td>\n",
       "      <td>4</td>\n",
       "      <td>D41</td>\n",
       "      <td>Birchcliffe-Cliffside (122)</td>\n",
       "      <td>0</td>\n",
       "      <td>NO</td>\n",
       "      <td>NO</td>\n",
       "      <td>YES</td>\n",
       "      <td>-79.284020</td>\n",
       "      <td>43.680810</td>\n",
       "      <td>NO</td>\n",
       "      <td>night</td>\n",
       "      <td>POINT (-79.28402 43.68081)</td>\n",
       "    </tr>\n",
       "  </tbody>\n",
       "</table>\n",
       "</div>"
      ],
      "text/plain": [
       "               collisions_month collisions_day_of_week  collisions_year  \\\n",
       "eventuniqueid                                                             \n",
       "GO-20168000055          January                 Friday             2016   \n",
       "GO-20168000056          January                 Friday             2016   \n",
       "GO-20168000057          January                 Friday             2016   \n",
       "GO-20168000058          January                 Friday             2016   \n",
       "GO-20168000059          January                 Friday             2016   \n",
       "\n",
       "                collisions_hour collisions_division  \\\n",
       "eventuniqueid                                         \n",
       "GO-20168000055               16                 D42   \n",
       "GO-20168000056               17             D54/D55   \n",
       "GO-20168000057               19                 D41   \n",
       "GO-20168000058                3                 D52   \n",
       "GO-20168000059                4                 D41   \n",
       "\n",
       "                   collisions_neighbourhood  collisions_fatalities  \\\n",
       "eventuniqueid                                                        \n",
       "GO-20168000055              LAmoreaux (117)                      0   \n",
       "GO-20168000056       Woodbine Corridor (64)                      0   \n",
       "GO-20168000057           Kennedy Park (124)                      0   \n",
       "GO-20168000058     Bay Street Corridor (76)                      0   \n",
       "GO-20168000059  Birchcliffe-Cliffside (122)                      0   \n",
       "\n",
       "               collisions_injury_collisions collisions_ftr_collisions  \\\n",
       "eventuniqueid                                                           \n",
       "GO-20168000055                           NO                        NO   \n",
       "GO-20168000056                          YES                        NO   \n",
       "GO-20168000057                           NO                       YES   \n",
       "GO-20168000058                           NO                        NO   \n",
       "GO-20168000059                           NO                        NO   \n",
       "\n",
       "               collisions_pd_collisions  collisions_longitude  \\\n",
       "eventuniqueid                                                   \n",
       "GO-20168000055                      YES            -79.319271   \n",
       "GO-20168000056                       NO            -79.320851   \n",
       "GO-20168000057                       NO            -79.251653   \n",
       "GO-20168000058                      YES            -79.385522   \n",
       "GO-20168000059                      YES            -79.284020   \n",
       "\n",
       "                collisions_latitude collisions_fatal_collisions  \\\n",
       "eventuniqueid                                                     \n",
       "GO-20168000055            43.795851                          NO   \n",
       "GO-20168000056            43.683944                          NO   \n",
       "GO-20168000057            43.732248                          NO   \n",
       "GO-20168000058            43.646053                          NO   \n",
       "GO-20168000059            43.680810                          NO   \n",
       "\n",
       "               collisions_time_of_day                    geometry  \n",
       "eventuniqueid                                                      \n",
       "GO-20168000055              afternoon  POINT (-79.31927 43.79585)  \n",
       "GO-20168000056                evening  POINT (-79.32085 43.68394)  \n",
       "GO-20168000057                evening  POINT (-79.25165 43.73225)  \n",
       "GO-20168000058                  night  POINT (-79.38552 43.64605)  \n",
       "GO-20168000059                  night  POINT (-79.28402 43.68081)  "
      ]
     },
     "execution_count": 300,
     "metadata": {},
     "output_type": "execute_result"
    }
   ],
   "source": [
    "collisions.head()"
   ]
  },
  {
   "cell_type": "code",
   "execution_count": 301,
   "metadata": {},
   "outputs": [],
   "source": [
    "#dropping unnecessary columns\n",
    "collisions = collisions.drop(columns=['collisions_division','collisions_ftr_collisions','collisions_pd_collisions'])\n",
    "\n",
    "#creating a new column as indicator for fatal or injury collisions\n",
    "\n",
    "#definining function to get values for new columns\n",
    "def collision_injury_fatal(row):\n",
    "    if row['collisions_injury_collisions'] == \"YES\" or row['collisions_fatal_collisions'] == \"YES\":\n",
    "        return \"YES\"\n",
    "    else:\n",
    "        return \"NO\"\n",
    "\n",
    "#applying function on new column\n",
    "collisions['collision_injury_fatal'] = collisions.apply(collision_injury_fatal, axis=1)\n"
   ]
  },
  {
   "cell_type": "code",
   "execution_count": 302,
   "metadata": {},
   "outputs": [
    {
     "data": {
      "text/html": [
       "<div>\n",
       "<style scoped>\n",
       "    .dataframe tbody tr th:only-of-type {\n",
       "        vertical-align: middle;\n",
       "    }\n",
       "\n",
       "    .dataframe tbody tr th {\n",
       "        vertical-align: top;\n",
       "    }\n",
       "\n",
       "    .dataframe thead th {\n",
       "        text-align: right;\n",
       "    }\n",
       "</style>\n",
       "<table border=\"1\" class=\"dataframe\">\n",
       "  <thead>\n",
       "    <tr style=\"text-align: right;\">\n",
       "      <th></th>\n",
       "      <th>collisions_month</th>\n",
       "      <th>collisions_day_of_week</th>\n",
       "      <th>collisions_year</th>\n",
       "      <th>collisions_hour</th>\n",
       "      <th>collisions_neighbourhood</th>\n",
       "      <th>collisions_fatalities</th>\n",
       "      <th>collisions_injury_collisions</th>\n",
       "      <th>collisions_longitude</th>\n",
       "      <th>collisions_latitude</th>\n",
       "      <th>collisions_fatal_collisions</th>\n",
       "      <th>collisions_time_of_day</th>\n",
       "      <th>geometry</th>\n",
       "      <th>collision_injury_fatal</th>\n",
       "    </tr>\n",
       "    <tr>\n",
       "      <th>eventuniqueid</th>\n",
       "      <th></th>\n",
       "      <th></th>\n",
       "      <th></th>\n",
       "      <th></th>\n",
       "      <th></th>\n",
       "      <th></th>\n",
       "      <th></th>\n",
       "      <th></th>\n",
       "      <th></th>\n",
       "      <th></th>\n",
       "      <th></th>\n",
       "      <th></th>\n",
       "      <th></th>\n",
       "    </tr>\n",
       "  </thead>\n",
       "  <tbody>\n",
       "    <tr>\n",
       "      <th>GO-20168000055</th>\n",
       "      <td>January</td>\n",
       "      <td>Friday</td>\n",
       "      <td>2016</td>\n",
       "      <td>16</td>\n",
       "      <td>LAmoreaux (117)</td>\n",
       "      <td>0</td>\n",
       "      <td>NO</td>\n",
       "      <td>-79.319271</td>\n",
       "      <td>43.795851</td>\n",
       "      <td>NO</td>\n",
       "      <td>afternoon</td>\n",
       "      <td>POINT (-79.31927 43.79585)</td>\n",
       "      <td>NO</td>\n",
       "    </tr>\n",
       "    <tr>\n",
       "      <th>GO-20168000056</th>\n",
       "      <td>January</td>\n",
       "      <td>Friday</td>\n",
       "      <td>2016</td>\n",
       "      <td>17</td>\n",
       "      <td>Woodbine Corridor (64)</td>\n",
       "      <td>0</td>\n",
       "      <td>YES</td>\n",
       "      <td>-79.320851</td>\n",
       "      <td>43.683944</td>\n",
       "      <td>NO</td>\n",
       "      <td>evening</td>\n",
       "      <td>POINT (-79.32085 43.68394)</td>\n",
       "      <td>YES</td>\n",
       "    </tr>\n",
       "    <tr>\n",
       "      <th>GO-20168000057</th>\n",
       "      <td>January</td>\n",
       "      <td>Friday</td>\n",
       "      <td>2016</td>\n",
       "      <td>19</td>\n",
       "      <td>Kennedy Park (124)</td>\n",
       "      <td>0</td>\n",
       "      <td>NO</td>\n",
       "      <td>-79.251653</td>\n",
       "      <td>43.732248</td>\n",
       "      <td>NO</td>\n",
       "      <td>evening</td>\n",
       "      <td>POINT (-79.25165 43.73225)</td>\n",
       "      <td>NO</td>\n",
       "    </tr>\n",
       "    <tr>\n",
       "      <th>GO-20168000058</th>\n",
       "      <td>January</td>\n",
       "      <td>Friday</td>\n",
       "      <td>2016</td>\n",
       "      <td>3</td>\n",
       "      <td>Bay Street Corridor (76)</td>\n",
       "      <td>0</td>\n",
       "      <td>NO</td>\n",
       "      <td>-79.385522</td>\n",
       "      <td>43.646053</td>\n",
       "      <td>NO</td>\n",
       "      <td>night</td>\n",
       "      <td>POINT (-79.38552 43.64605)</td>\n",
       "      <td>NO</td>\n",
       "    </tr>\n",
       "    <tr>\n",
       "      <th>GO-20168000059</th>\n",
       "      <td>January</td>\n",
       "      <td>Friday</td>\n",
       "      <td>2016</td>\n",
       "      <td>4</td>\n",
       "      <td>Birchcliffe-Cliffside (122)</td>\n",
       "      <td>0</td>\n",
       "      <td>NO</td>\n",
       "      <td>-79.284020</td>\n",
       "      <td>43.680810</td>\n",
       "      <td>NO</td>\n",
       "      <td>night</td>\n",
       "      <td>POINT (-79.28402 43.68081)</td>\n",
       "      <td>NO</td>\n",
       "    </tr>\n",
       "  </tbody>\n",
       "</table>\n",
       "</div>"
      ],
      "text/plain": [
       "               collisions_month collisions_day_of_week  collisions_year  \\\n",
       "eventuniqueid                                                             \n",
       "GO-20168000055          January                 Friday             2016   \n",
       "GO-20168000056          January                 Friday             2016   \n",
       "GO-20168000057          January                 Friday             2016   \n",
       "GO-20168000058          January                 Friday             2016   \n",
       "GO-20168000059          January                 Friday             2016   \n",
       "\n",
       "                collisions_hour     collisions_neighbourhood  \\\n",
       "eventuniqueid                                                  \n",
       "GO-20168000055               16              LAmoreaux (117)   \n",
       "GO-20168000056               17       Woodbine Corridor (64)   \n",
       "GO-20168000057               19           Kennedy Park (124)   \n",
       "GO-20168000058                3     Bay Street Corridor (76)   \n",
       "GO-20168000059                4  Birchcliffe-Cliffside (122)   \n",
       "\n",
       "                collisions_fatalities collisions_injury_collisions  \\\n",
       "eventuniqueid                                                        \n",
       "GO-20168000055                      0                           NO   \n",
       "GO-20168000056                      0                          YES   \n",
       "GO-20168000057                      0                           NO   \n",
       "GO-20168000058                      0                           NO   \n",
       "GO-20168000059                      0                           NO   \n",
       "\n",
       "                collisions_longitude  collisions_latitude  \\\n",
       "eventuniqueid                                               \n",
       "GO-20168000055            -79.319271            43.795851   \n",
       "GO-20168000056            -79.320851            43.683944   \n",
       "GO-20168000057            -79.251653            43.732248   \n",
       "GO-20168000058            -79.385522            43.646053   \n",
       "GO-20168000059            -79.284020            43.680810   \n",
       "\n",
       "               collisions_fatal_collisions collisions_time_of_day  \\\n",
       "eventuniqueid                                                       \n",
       "GO-20168000055                          NO              afternoon   \n",
       "GO-20168000056                          NO                evening   \n",
       "GO-20168000057                          NO                evening   \n",
       "GO-20168000058                          NO                  night   \n",
       "GO-20168000059                          NO                  night   \n",
       "\n",
       "                                  geometry collision_injury_fatal  \n",
       "eventuniqueid                                                      \n",
       "GO-20168000055  POINT (-79.31927 43.79585)                     NO  \n",
       "GO-20168000056  POINT (-79.32085 43.68394)                    YES  \n",
       "GO-20168000057  POINT (-79.25165 43.73225)                     NO  \n",
       "GO-20168000058  POINT (-79.38552 43.64605)                     NO  \n",
       "GO-20168000059  POINT (-79.28402 43.68081)                     NO  "
      ]
     },
     "execution_count": 302,
     "metadata": {},
     "output_type": "execute_result"
    }
   ],
   "source": [
    "collisions.head()"
   ]
  },
  {
   "cell_type": "markdown",
   "metadata": {},
   "source": [
    "# Joining Bikelanes"
   ]
  },
  {
   "cell_type": "code",
   "execution_count": 303,
   "metadata": {},
   "outputs": [],
   "source": [
    "#bikelanes data processing\n",
    "bikelanes.columns = [s.strip().lower() for s in bikelanes.columns]\n",
    "#drop unneeded columns\n",
    "bikelanes = bikelanes.drop(columns=['objectid','segment_id','upgraded','pre_amalgamation','roadclass','cnpclass','surface','owner','dir_loworder','sepa_loworder','sepb_loworder','orig_loworder_infra','dir_highorder','sepa_highorder','sepb_highorder','orig_highorder','bylawed','editor','last_edit_date','upgrade_description','converted'])\n",
    "#rename id column\n",
    "bikelanes = bikelanes.rename(columns={'_id':'id'})\n",
    "#set id column as index\n",
    "bikelanes = bikelanes.set_index('id')\n",
    "#adding a bikelane_present column\n",
    "bikelanes['bikelane_present'] = \"Yes\""
   ]
  },
  {
   "cell_type": "code",
   "execution_count": 304,
   "metadata": {},
   "outputs": [
    {
     "name": "stderr",
     "output_type": "stream",
     "text": [
      "/Users/rakeenahmed/opt/anaconda3/lib/python3.9/site-packages/geopandas/array.py:364: UserWarning: Geometry is in a geographic CRS. Results from 'sjoin_nearest' are likely incorrect. Use 'GeoSeries.to_crs()' to re-project geometries to a projected CRS before this operation.\n",
      "\n",
      "  warnings.warn(\n"
     ]
    }
   ],
   "source": [
    "#joining road network and bikelanes using a radius search of 0.0003 degrees = 30 metres.\n",
    "#essentially road segments that have a bikelane present within 30 metres\n",
    "join_1 = collisions.sjoin_nearest(bikelanes,how='left',max_distance=0.0003,lsuffix='collisions',rsuffix='bikelanes')"
   ]
  },
  {
   "cell_type": "code",
   "execution_count": 305,
   "metadata": {},
   "outputs": [],
   "source": [
    "join_1.bikelane_present.fillna(\"No\",inplace=True)"
   ]
  },
  {
   "cell_type": "code",
   "execution_count": 306,
   "metadata": {},
   "outputs": [],
   "source": [
    "join_1 = join_1.drop(columns=['index_bikelanes','installed','street_name','from_street','to_street','infra_loworder','infra_highorder'])"
   ]
  },
  {
   "cell_type": "code",
   "execution_count": 307,
   "metadata": {},
   "outputs": [
    {
     "data": {
      "text/html": [
       "<div>\n",
       "<style scoped>\n",
       "    .dataframe tbody tr th:only-of-type {\n",
       "        vertical-align: middle;\n",
       "    }\n",
       "\n",
       "    .dataframe tbody tr th {\n",
       "        vertical-align: top;\n",
       "    }\n",
       "\n",
       "    .dataframe thead th {\n",
       "        text-align: right;\n",
       "    }\n",
       "</style>\n",
       "<table border=\"1\" class=\"dataframe\">\n",
       "  <thead>\n",
       "    <tr style=\"text-align: right;\">\n",
       "      <th></th>\n",
       "      <th>collisions_month</th>\n",
       "      <th>collisions_day_of_week</th>\n",
       "      <th>collisions_year</th>\n",
       "      <th>collisions_hour</th>\n",
       "      <th>collisions_neighbourhood</th>\n",
       "      <th>collisions_fatalities</th>\n",
       "      <th>collisions_injury_collisions</th>\n",
       "      <th>collisions_longitude</th>\n",
       "      <th>collisions_latitude</th>\n",
       "      <th>collisions_fatal_collisions</th>\n",
       "      <th>collisions_time_of_day</th>\n",
       "      <th>geometry</th>\n",
       "      <th>collision_injury_fatal</th>\n",
       "      <th>bikelane_present</th>\n",
       "    </tr>\n",
       "    <tr>\n",
       "      <th>eventuniqueid</th>\n",
       "      <th></th>\n",
       "      <th></th>\n",
       "      <th></th>\n",
       "      <th></th>\n",
       "      <th></th>\n",
       "      <th></th>\n",
       "      <th></th>\n",
       "      <th></th>\n",
       "      <th></th>\n",
       "      <th></th>\n",
       "      <th></th>\n",
       "      <th></th>\n",
       "      <th></th>\n",
       "      <th></th>\n",
       "    </tr>\n",
       "  </thead>\n",
       "  <tbody>\n",
       "    <tr>\n",
       "      <th>GO-20168000055</th>\n",
       "      <td>January</td>\n",
       "      <td>Friday</td>\n",
       "      <td>2016</td>\n",
       "      <td>16</td>\n",
       "      <td>LAmoreaux (117)</td>\n",
       "      <td>0</td>\n",
       "      <td>NO</td>\n",
       "      <td>-79.319271</td>\n",
       "      <td>43.795851</td>\n",
       "      <td>NO</td>\n",
       "      <td>afternoon</td>\n",
       "      <td>POINT (-79.31927 43.79585)</td>\n",
       "      <td>NO</td>\n",
       "      <td>No</td>\n",
       "    </tr>\n",
       "    <tr>\n",
       "      <th>GO-20168000056</th>\n",
       "      <td>January</td>\n",
       "      <td>Friday</td>\n",
       "      <td>2016</td>\n",
       "      <td>17</td>\n",
       "      <td>Woodbine Corridor (64)</td>\n",
       "      <td>0</td>\n",
       "      <td>YES</td>\n",
       "      <td>-79.320851</td>\n",
       "      <td>43.683944</td>\n",
       "      <td>NO</td>\n",
       "      <td>evening</td>\n",
       "      <td>POINT (-79.32085 43.68394)</td>\n",
       "      <td>YES</td>\n",
       "      <td>Yes</td>\n",
       "    </tr>\n",
       "  </tbody>\n",
       "</table>\n",
       "</div>"
      ],
      "text/plain": [
       "               collisions_month collisions_day_of_week  collisions_year  \\\n",
       "eventuniqueid                                                             \n",
       "GO-20168000055          January                 Friday             2016   \n",
       "GO-20168000056          January                 Friday             2016   \n",
       "\n",
       "                collisions_hour collisions_neighbourhood  \\\n",
       "eventuniqueid                                              \n",
       "GO-20168000055               16          LAmoreaux (117)   \n",
       "GO-20168000056               17   Woodbine Corridor (64)   \n",
       "\n",
       "                collisions_fatalities collisions_injury_collisions  \\\n",
       "eventuniqueid                                                        \n",
       "GO-20168000055                      0                           NO   \n",
       "GO-20168000056                      0                          YES   \n",
       "\n",
       "                collisions_longitude  collisions_latitude  \\\n",
       "eventuniqueid                                               \n",
       "GO-20168000055            -79.319271            43.795851   \n",
       "GO-20168000056            -79.320851            43.683944   \n",
       "\n",
       "               collisions_fatal_collisions collisions_time_of_day  \\\n",
       "eventuniqueid                                                       \n",
       "GO-20168000055                          NO              afternoon   \n",
       "GO-20168000056                          NO                evening   \n",
       "\n",
       "                                  geometry collision_injury_fatal  \\\n",
       "eventuniqueid                                                       \n",
       "GO-20168000055  POINT (-79.31927 43.79585)                     NO   \n",
       "GO-20168000056  POINT (-79.32085 43.68394)                    YES   \n",
       "\n",
       "               bikelane_present  \n",
       "eventuniqueid                    \n",
       "GO-20168000055               No  \n",
       "GO-20168000056              Yes  "
      ]
     },
     "execution_count": 307,
     "metadata": {},
     "output_type": "execute_result"
    }
   ],
   "source": [
    "join_1.head(2)"
   ]
  },
  {
   "cell_type": "markdown",
   "metadata": {},
   "source": [
    "# Joining Lanes"
   ]
  },
  {
   "cell_type": "code",
   "execution_count": 308,
   "metadata": {},
   "outputs": [
    {
     "name": "stderr",
     "output_type": "stream",
     "text": [
      "/Users/rakeenahmed/opt/anaconda3/lib/python3.9/site-packages/geopandas/array.py:364: UserWarning: Geometry is in a geographic CRS. Results from 'sjoin_nearest' are likely incorrect. Use 'GeoSeries.to_crs()' to re-project geometries to a projected CRS before this operation.\n",
      "\n",
      "  warnings.warn(\n"
     ]
    }
   ],
   "source": [
    "#joining lanes with a radius search of 10 metres\n",
    "join_2 = join_1.sjoin_nearest(lanes,how='inner',lsuffix='collisions',rsuffix='lanes',max_distance=0.0001)"
   ]
  },
  {
   "cell_type": "code",
   "execution_count": 309,
   "metadata": {},
   "outputs": [],
   "source": [
    "#dropping index_lanes column\n",
    "join_2 = join_2.drop(columns=['index_lanes'])"
   ]
  },
  {
   "cell_type": "code",
   "execution_count": 310,
   "metadata": {},
   "outputs": [
    {
     "data": {
      "text/plain": [
       "(360931, 17)"
      ]
     },
     "execution_count": 310,
     "metadata": {},
     "output_type": "execute_result"
    }
   ],
   "source": [
    "join_2.shape"
   ]
  },
  {
   "cell_type": "code",
   "execution_count": 311,
   "metadata": {},
   "outputs": [
    {
     "data": {
      "text/plain": [
       "(360612, 14)"
      ]
     },
     "execution_count": 311,
     "metadata": {},
     "output_type": "execute_result"
    }
   ],
   "source": [
    "join_1.shape"
   ]
  },
  {
   "cell_type": "markdown",
   "metadata": {},
   "source": [
    "# Joining Pedestrian Crossings"
   ]
  },
  {
   "cell_type": "code",
   "execution_count": 312,
   "metadata": {},
   "outputs": [],
   "source": [
    "#set id as index\n",
    "pedestrian_crossings = pedestrian_crossings.set_index('id')"
   ]
  },
  {
   "cell_type": "code",
   "execution_count": 313,
   "metadata": {},
   "outputs": [
    {
     "name": "stderr",
     "output_type": "stream",
     "text": [
      "/Users/rakeenahmed/opt/anaconda3/lib/python3.9/site-packages/geopandas/array.py:364: UserWarning: Geometry is in a geographic CRS. Results from 'sjoin_nearest' are likely incorrect. Use 'GeoSeries.to_crs()' to re-project geometries to a projected CRS before this operation.\n",
      "\n",
      "  warnings.warn(\n"
     ]
    }
   ],
   "source": [
    "join_3 = join_2.sjoin_nearest(pedestrian_crossings,how='left',lsuffix='collisions',rsuffix='pedestrian_crossings',max_distance=0.0003)"
   ]
  },
  {
   "cell_type": "code",
   "execution_count": 314,
   "metadata": {},
   "outputs": [],
   "source": [
    "#filling in values for road segments where pedestrian crossings are not present\n",
    "join_3.pedestrian_crossover_pedestrian_crossover.fillna('No',inplace=True)"
   ]
  },
  {
   "cell_type": "code",
   "execution_count": 315,
   "metadata": {},
   "outputs": [],
   "source": [
    "#dropping unnecessary columns \n",
    "join_3 = join_3.drop(columns=['index_pedestrian_crossings','pedestrian_crossover_main_street','pedestrian_crossover_side1_street'])\n",
    "\n",
    "#renaming column\n",
    "join_3 = join_3.rename(columns={'pedestrian_crossover_pedestrian_crossover':'pedestrian_crossover_present'})"
   ]
  },
  {
   "cell_type": "code",
   "execution_count": 316,
   "metadata": {},
   "outputs": [
    {
     "data": {
      "text/html": [
       "<div>\n",
       "<style scoped>\n",
       "    .dataframe tbody tr th:only-of-type {\n",
       "        vertical-align: middle;\n",
       "    }\n",
       "\n",
       "    .dataframe tbody tr th {\n",
       "        vertical-align: top;\n",
       "    }\n",
       "\n",
       "    .dataframe thead th {\n",
       "        text-align: right;\n",
       "    }\n",
       "</style>\n",
       "<table border=\"1\" class=\"dataframe\">\n",
       "  <thead>\n",
       "    <tr style=\"text-align: right;\">\n",
       "      <th></th>\n",
       "      <th>collisions_month</th>\n",
       "      <th>collisions_day_of_week</th>\n",
       "      <th>collisions_year</th>\n",
       "      <th>collisions_hour</th>\n",
       "      <th>collisions_neighbourhood</th>\n",
       "      <th>collisions_fatalities</th>\n",
       "      <th>collisions_injury_collisions</th>\n",
       "      <th>collisions_longitude</th>\n",
       "      <th>collisions_latitude</th>\n",
       "      <th>collisions_fatal_collisions</th>\n",
       "      <th>collisions_time_of_day</th>\n",
       "      <th>geometry</th>\n",
       "      <th>collision_injury_fatal</th>\n",
       "      <th>bikelane_present</th>\n",
       "      <th>road_name</th>\n",
       "      <th>road_class</th>\n",
       "      <th>number_of_lanes</th>\n",
       "      <th>pedestrian_crossover_present</th>\n",
       "    </tr>\n",
       "    <tr>\n",
       "      <th>eventuniqueid</th>\n",
       "      <th></th>\n",
       "      <th></th>\n",
       "      <th></th>\n",
       "      <th></th>\n",
       "      <th></th>\n",
       "      <th></th>\n",
       "      <th></th>\n",
       "      <th></th>\n",
       "      <th></th>\n",
       "      <th></th>\n",
       "      <th></th>\n",
       "      <th></th>\n",
       "      <th></th>\n",
       "      <th></th>\n",
       "      <th></th>\n",
       "      <th></th>\n",
       "      <th></th>\n",
       "      <th></th>\n",
       "    </tr>\n",
       "  </thead>\n",
       "  <tbody>\n",
       "    <tr>\n",
       "      <th>GO-20168000055</th>\n",
       "      <td>January</td>\n",
       "      <td>Friday</td>\n",
       "      <td>2016</td>\n",
       "      <td>16</td>\n",
       "      <td>LAmoreaux (117)</td>\n",
       "      <td>0</td>\n",
       "      <td>NO</td>\n",
       "      <td>-79.319271</td>\n",
       "      <td>43.795851</td>\n",
       "      <td>NO</td>\n",
       "      <td>afternoon</td>\n",
       "      <td>POINT (-79.31927 43.79585)</td>\n",
       "      <td>NO</td>\n",
       "      <td>No</td>\n",
       "      <td>FINCH AVE E</td>\n",
       "      <td>Major Arterial</td>\n",
       "      <td>4</td>\n",
       "      <td>No</td>\n",
       "    </tr>\n",
       "    <tr>\n",
       "      <th>GO-20168001220</th>\n",
       "      <td>January</td>\n",
       "      <td>Sunday</td>\n",
       "      <td>2016</td>\n",
       "      <td>17</td>\n",
       "      <td>LAmoreaux (117)</td>\n",
       "      <td>0</td>\n",
       "      <td>NO</td>\n",
       "      <td>-79.319271</td>\n",
       "      <td>43.795851</td>\n",
       "      <td>NO</td>\n",
       "      <td>evening</td>\n",
       "      <td>POINT (-79.31927 43.79585)</td>\n",
       "      <td>NO</td>\n",
       "      <td>No</td>\n",
       "      <td>FINCH AVE E</td>\n",
       "      <td>Major Arterial</td>\n",
       "      <td>4</td>\n",
       "      <td>No</td>\n",
       "    </tr>\n",
       "    <tr>\n",
       "      <th>GO-20168003250</th>\n",
       "      <td>January</td>\n",
       "      <td>Friday</td>\n",
       "      <td>2016</td>\n",
       "      <td>14</td>\n",
       "      <td>LAmoreaux (117)</td>\n",
       "      <td>0</td>\n",
       "      <td>NO</td>\n",
       "      <td>-79.319271</td>\n",
       "      <td>43.795851</td>\n",
       "      <td>NO</td>\n",
       "      <td>afternoon</td>\n",
       "      <td>POINT (-79.31927 43.79585)</td>\n",
       "      <td>NO</td>\n",
       "      <td>No</td>\n",
       "      <td>FINCH AVE E</td>\n",
       "      <td>Major Arterial</td>\n",
       "      <td>4</td>\n",
       "      <td>No</td>\n",
       "    </tr>\n",
       "    <tr>\n",
       "      <th>GO-20168003473</th>\n",
       "      <td>January</td>\n",
       "      <td>Monday</td>\n",
       "      <td>2016</td>\n",
       "      <td>7</td>\n",
       "      <td>LAmoreaux (117)</td>\n",
       "      <td>0</td>\n",
       "      <td>NO</td>\n",
       "      <td>-79.319271</td>\n",
       "      <td>43.795851</td>\n",
       "      <td>NO</td>\n",
       "      <td>morning</td>\n",
       "      <td>POINT (-79.31927 43.79585)</td>\n",
       "      <td>NO</td>\n",
       "      <td>No</td>\n",
       "      <td>FINCH AVE E</td>\n",
       "      <td>Major Arterial</td>\n",
       "      <td>4</td>\n",
       "      <td>No</td>\n",
       "    </tr>\n",
       "    <tr>\n",
       "      <th>GO-2016143401</th>\n",
       "      <td>January</td>\n",
       "      <td>Sunday</td>\n",
       "      <td>2016</td>\n",
       "      <td>21</td>\n",
       "      <td>LAmoreaux (117)</td>\n",
       "      <td>0</td>\n",
       "      <td>NO</td>\n",
       "      <td>-79.319271</td>\n",
       "      <td>43.795851</td>\n",
       "      <td>NO</td>\n",
       "      <td>night</td>\n",
       "      <td>POINT (-79.31927 43.79585)</td>\n",
       "      <td>NO</td>\n",
       "      <td>No</td>\n",
       "      <td>FINCH AVE E</td>\n",
       "      <td>Major Arterial</td>\n",
       "      <td>4</td>\n",
       "      <td>No</td>\n",
       "    </tr>\n",
       "  </tbody>\n",
       "</table>\n",
       "</div>"
      ],
      "text/plain": [
       "               collisions_month collisions_day_of_week  collisions_year  \\\n",
       "eventuniqueid                                                             \n",
       "GO-20168000055          January                 Friday             2016   \n",
       "GO-20168001220          January                 Sunday             2016   \n",
       "GO-20168003250          January                 Friday             2016   \n",
       "GO-20168003473          January                 Monday             2016   \n",
       "GO-2016143401           January                 Sunday             2016   \n",
       "\n",
       "                collisions_hour collisions_neighbourhood  \\\n",
       "eventuniqueid                                              \n",
       "GO-20168000055               16          LAmoreaux (117)   \n",
       "GO-20168001220               17          LAmoreaux (117)   \n",
       "GO-20168003250               14          LAmoreaux (117)   \n",
       "GO-20168003473                7          LAmoreaux (117)   \n",
       "GO-2016143401                21          LAmoreaux (117)   \n",
       "\n",
       "                collisions_fatalities collisions_injury_collisions  \\\n",
       "eventuniqueid                                                        \n",
       "GO-20168000055                      0                           NO   \n",
       "GO-20168001220                      0                           NO   \n",
       "GO-20168003250                      0                           NO   \n",
       "GO-20168003473                      0                           NO   \n",
       "GO-2016143401                       0                           NO   \n",
       "\n",
       "                collisions_longitude  collisions_latitude  \\\n",
       "eventuniqueid                                               \n",
       "GO-20168000055            -79.319271            43.795851   \n",
       "GO-20168001220            -79.319271            43.795851   \n",
       "GO-20168003250            -79.319271            43.795851   \n",
       "GO-20168003473            -79.319271            43.795851   \n",
       "GO-2016143401             -79.319271            43.795851   \n",
       "\n",
       "               collisions_fatal_collisions collisions_time_of_day  \\\n",
       "eventuniqueid                                                       \n",
       "GO-20168000055                          NO              afternoon   \n",
       "GO-20168001220                          NO                evening   \n",
       "GO-20168003250                          NO              afternoon   \n",
       "GO-20168003473                          NO                morning   \n",
       "GO-2016143401                           NO                  night   \n",
       "\n",
       "                                  geometry collision_injury_fatal  \\\n",
       "eventuniqueid                                                       \n",
       "GO-20168000055  POINT (-79.31927 43.79585)                     NO   \n",
       "GO-20168001220  POINT (-79.31927 43.79585)                     NO   \n",
       "GO-20168003250  POINT (-79.31927 43.79585)                     NO   \n",
       "GO-20168003473  POINT (-79.31927 43.79585)                     NO   \n",
       "GO-2016143401   POINT (-79.31927 43.79585)                     NO   \n",
       "\n",
       "               bikelane_present    road_name      road_class  number_of_lanes  \\\n",
       "eventuniqueid                                                                   \n",
       "GO-20168000055               No  FINCH AVE E  Major Arterial                4   \n",
       "GO-20168001220               No  FINCH AVE E  Major Arterial                4   \n",
       "GO-20168003250               No  FINCH AVE E  Major Arterial                4   \n",
       "GO-20168003473               No  FINCH AVE E  Major Arterial                4   \n",
       "GO-2016143401                No  FINCH AVE E  Major Arterial                4   \n",
       "\n",
       "               pedestrian_crossover_present  \n",
       "eventuniqueid                                \n",
       "GO-20168000055                           No  \n",
       "GO-20168001220                           No  \n",
       "GO-20168003250                           No  \n",
       "GO-20168003473                           No  \n",
       "GO-2016143401                            No  "
      ]
     },
     "execution_count": 316,
     "metadata": {},
     "output_type": "execute_result"
    }
   ],
   "source": [
    "join_3.head()"
   ]
  },
  {
   "cell_type": "markdown",
   "metadata": {},
   "source": [
    "# Joining Traffic Calming"
   ]
  },
  {
   "cell_type": "code",
   "execution_count": 317,
   "metadata": {},
   "outputs": [
    {
     "name": "stderr",
     "output_type": "stream",
     "text": [
      "/Users/rakeenahmed/opt/anaconda3/lib/python3.9/site-packages/geopandas/array.py:364: UserWarning: Geometry is in a geographic CRS. Results from 'sjoin_nearest' are likely incorrect. Use 'GeoSeries.to_crs()' to re-project geometries to a projected CRS before this operation.\n",
      "\n",
      "  warnings.warn(\n"
     ]
    }
   ],
   "source": [
    "join_4 = join_3.sjoin_nearest(traffic_calming,how='left',lsuffix='collisions',rsuffix='traffic_calming',max_distance=0.0003)"
   ]
  },
  {
   "cell_type": "code",
   "execution_count": 318,
   "metadata": {},
   "outputs": [
    {
     "data": {
      "text/plain": [
       "(362265, 24)"
      ]
     },
     "execution_count": 318,
     "metadata": {},
     "output_type": "execute_result"
    }
   ],
   "source": [
    "join_4.shape"
   ]
  },
  {
   "cell_type": "code",
   "execution_count": 319,
   "metadata": {},
   "outputs": [],
   "source": [
    "join_4 = join_4.drop(columns=['index_traffic_calming','traffic_calmingstreet','traffic_calmingintersection'])"
   ]
  },
  {
   "cell_type": "code",
   "execution_count": 320,
   "metadata": {},
   "outputs": [],
   "source": [
    "#join_4[['traffic_calmingspeed_hump','traffic_calmingtraffic_island','traffic_calmingspeed_cushion']].fillna('0',inplace=True)\n",
    "join_4['traffic_calmingspeed_hump'].fillna(0,inplace=True)\n",
    "join_4['traffic_calmingtraffic_island'].fillna(0,inplace=True)\n",
    "join_4['traffic_calmingspeed_cushion'].fillna(0,inplace=True)"
   ]
  },
  {
   "cell_type": "markdown",
   "metadata": {},
   "source": [
    "# Joining Speed Enforcement"
   ]
  },
  {
   "cell_type": "code",
   "execution_count": 321,
   "metadata": {},
   "outputs": [],
   "source": [
    "#data processing\n",
    "\n",
    "#setting location_code as index\n",
    "speed_enforcement.set_index('location_code',inplace=True)\n",
    "\n",
    "#renaming speed_enforcement = \"Yes\" column\n",
    "speed_enforcement = speed_enforcement.rename(columns={'speed_enforcement_speed_enforcement_automatic_speed_enforcement\t':'speed_enforcement_present'})"
   ]
  },
  {
   "cell_type": "code",
   "execution_count": 322,
   "metadata": {},
   "outputs": [
    {
     "name": "stderr",
     "output_type": "stream",
     "text": [
      "/Users/rakeenahmed/opt/anaconda3/lib/python3.9/site-packages/geopandas/array.py:364: UserWarning: Geometry is in a geographic CRS. Results from 'sjoin_nearest' are likely incorrect. Use 'GeoSeries.to_crs()' to re-project geometries to a projected CRS before this operation.\n",
      "\n",
      "  warnings.warn(\n"
     ]
    }
   ],
   "source": [
    "#joining dataframes, with radius search range of 30m\n",
    "join_5 = join_4.sjoin_nearest(speed_enforcement,how='left',max_distance=0.0003,lsuffix='road_network',rsuffix='speed_enforcement')"
   ]
  },
  {
   "cell_type": "code",
   "execution_count": 323,
   "metadata": {},
   "outputs": [],
   "source": [
    "#fill na values for speed_enforcement_present = \"No\"\n",
    "join_5.speed_enforcement_speed_enforcement_automatic_speed_enforcement.fillna('No',inplace=True)"
   ]
  },
  {
   "cell_type": "code",
   "execution_count": 324,
   "metadata": {},
   "outputs": [
    {
     "data": {
      "text/plain": [
       "No     361953\n",
       "Yes       312\n",
       "Name: speed_enforcement_speed_enforcement_automatic_speed_enforcement, dtype: int64"
      ]
     },
     "execution_count": 324,
     "metadata": {},
     "output_type": "execute_result"
    }
   ],
   "source": [
    "#checking values for speed enforcement\n",
    "join_5.speed_enforcement_speed_enforcement_automatic_speed_enforcement.value_counts()"
   ]
  },
  {
   "cell_type": "code",
   "execution_count": 325,
   "metadata": {},
   "outputs": [],
   "source": [
    "#renaming columns\n",
    "join_5.rename(columns={'speed_enforcement_speed_enforcement_automatic_speed_enforcement':'speed_enforcement_present'},inplace=True)\n",
    "\n",
    "#dropping columns\n",
    "join_5 = join_5.drop(columns=['index_speed_enforcement'])"
   ]
  },
  {
   "cell_type": "markdown",
   "metadata": {},
   "source": [
    "# Joining Traffic Volumes"
   ]
  },
  {
   "cell_type": "code",
   "execution_count": 326,
   "metadata": {},
   "outputs": [],
   "source": [
    "traffic_volumes['geometry'] = gpd.points_from_xy(traffic_volumes['lng'],traffic_volumes['lat'],crs='EPSG:4326')"
   ]
  },
  {
   "cell_type": "code",
   "execution_count": 327,
   "metadata": {},
   "outputs": [],
   "source": [
    "#converting traffic volumes to geodataframe\n",
    "traffic_volumes = gpd.GeoDataFrame(traffic_volumes,geometry=traffic_volumes['geometry'])"
   ]
  },
  {
   "cell_type": "code",
   "execution_count": 328,
   "metadata": {},
   "outputs": [],
   "source": [
    "#removing columns\n",
    "traffic_volumes = traffic_volumes.drop(columns=['lat','lng'])\n",
    "#set centreline_id as index\n",
    "traffic_volumes.set_index('centreline_id',inplace=True)"
   ]
  },
  {
   "cell_type": "code",
   "execution_count": 329,
   "metadata": {},
   "outputs": [
    {
     "name": "stderr",
     "output_type": "stream",
     "text": [
      "/Users/rakeenahmed/opt/anaconda3/lib/python3.9/site-packages/geopandas/array.py:364: UserWarning: Geometry is in a geographic CRS. Results from 'sjoin_nearest' are likely incorrect. Use 'GeoSeries.to_crs()' to re-project geometries to a projected CRS before this operation.\n",
      "\n",
      "  warnings.warn(\n"
     ]
    }
   ],
   "source": [
    "#spatial join on traffic volumes using a radius search of 0.0001 degrees = 10 metres radius\n",
    "join_6 = join_5.sjoin_nearest(traffic_volumes,how='inner',max_distance=0.0001,lsuffix='road_network',rsuffix='traffic_volumes')"
   ]
  },
  {
   "cell_type": "code",
   "execution_count": 330,
   "metadata": {},
   "outputs": [
    {
     "data": {
      "text/plain": [
       "(362265, 22)"
      ]
     },
     "execution_count": 330,
     "metadata": {},
     "output_type": "execute_result"
    }
   ],
   "source": [
    "join_5.shape"
   ]
  },
  {
   "cell_type": "code",
   "execution_count": 331,
   "metadata": {},
   "outputs": [
    {
     "data": {
      "text/plain": [
       "(145655, 33)"
      ]
     },
     "execution_count": 331,
     "metadata": {},
     "output_type": "execute_result"
    }
   ],
   "source": [
    "join_6.shape"
   ]
  },
  {
   "cell_type": "markdown",
   "metadata": {},
   "source": [
    "# Joining Taffic Cameras"
   ]
  },
  {
   "cell_type": "code",
   "execution_count": 332,
   "metadata": {},
   "outputs": [],
   "source": [
    "#processing traffic cameras dataframe\n",
    "\n",
    "#setting camera number as index\n",
    "traffic_cameras.set_index('camera_number',inplace=True)\n",
    "\n",
    "#dropping latitude and longitude columns\n",
    "#traffic_cameras = traffic_cameras.drop(columns=['traffic_cameras_latitude','traffic_cameras_longitude'])\n",
    "\n",
    "#renaming columns\n",
    "traffic_cameras.rename(columns={'traffic_cameras_traffic_cameras':'traffic_cameras_present'},inplace=True)\n",
    "\n",
    "#setting CRS to EPSG:4326\n",
    "traffic_cameras = traffic_cameras.to_crs('EPSG:4326')\n"
   ]
  },
  {
   "cell_type": "code",
   "execution_count": 333,
   "metadata": {},
   "outputs": [],
   "source": [
    "#processing geometry column\n",
    "\n",
    "#replacing the geometry column\n",
    "traffic_cameras = traffic_cameras.drop(columns=['geometry'])\n",
    "\n",
    "traffic_cameras['geometry'] = gpd.points_from_xy(traffic_cameras['traffic_cameras_longitude'],traffic_cameras['traffic_cameras_latitude'],crs='EPSG:4326')\n",
    "\n",
    "#converting to geodataframe\n",
    "traffic_cameras = gpd.GeoDataFrame(traffic_cameras,geometry=traffic_cameras['geometry'])"
   ]
  },
  {
   "cell_type": "code",
   "execution_count": 334,
   "metadata": {},
   "outputs": [
    {
     "name": "stderr",
     "output_type": "stream",
     "text": [
      "/Users/rakeenahmed/opt/anaconda3/lib/python3.9/site-packages/geopandas/array.py:364: UserWarning: Geometry is in a geographic CRS. Results from 'sjoin_nearest' are likely incorrect. Use 'GeoSeries.to_crs()' to re-project geometries to a projected CRS before this operation.\n",
      "\n",
      "  warnings.warn(\n"
     ]
    }
   ],
   "source": [
    "#spatial join on traffic cameras\n",
    "join_7 = join_6.sjoin_nearest(traffic_cameras,how='left',lsuffix='collisions',rsuffix='traffic_cameras',max_distance=0.0003)"
   ]
  },
  {
   "cell_type": "code",
   "execution_count": 335,
   "metadata": {},
   "outputs": [
    {
     "data": {
      "text/plain": [
       "(145655, 38)"
      ]
     },
     "execution_count": 335,
     "metadata": {},
     "output_type": "execute_result"
    }
   ],
   "source": [
    "join_7.shape"
   ]
  },
  {
   "cell_type": "code",
   "execution_count": 336,
   "metadata": {},
   "outputs": [],
   "source": [
    "#dropping unneccesary columns\n",
    "join_7 = join_7.drop(columns=['index_traffic_cameras','traffic_cameras_latitude','traffic_cameras_longitude','traffic_cameras_main_road'])"
   ]
  },
  {
   "cell_type": "code",
   "execution_count": 337,
   "metadata": {},
   "outputs": [
    {
     "data": {
      "text/html": [
       "<div>\n",
       "<style scoped>\n",
       "    .dataframe tbody tr th:only-of-type {\n",
       "        vertical-align: middle;\n",
       "    }\n",
       "\n",
       "    .dataframe tbody tr th {\n",
       "        vertical-align: top;\n",
       "    }\n",
       "\n",
       "    .dataframe thead th {\n",
       "        text-align: right;\n",
       "    }\n",
       "</style>\n",
       "<table border=\"1\" class=\"dataframe\">\n",
       "  <thead>\n",
       "    <tr style=\"text-align: right;\">\n",
       "      <th></th>\n",
       "      <th>collisions_month</th>\n",
       "      <th>collisions_day_of_week</th>\n",
       "      <th>collisions_year</th>\n",
       "      <th>collisions_hour</th>\n",
       "      <th>collisions_neighbourhood</th>\n",
       "      <th>collisions_fatalities</th>\n",
       "      <th>collisions_injury_collisions</th>\n",
       "      <th>collisions_longitude</th>\n",
       "      <th>collisions_latitude</th>\n",
       "      <th>collisions_fatal_collisions</th>\n",
       "      <th>...</th>\n",
       "      <th>cyclists_count</th>\n",
       "      <th>pedestrians_count</th>\n",
       "      <th>total_count</th>\n",
       "      <th>trucks_count</th>\n",
       "      <th>vehicle_count</th>\n",
       "      <th>pct_vehicles</th>\n",
       "      <th>pct_pedestrians</th>\n",
       "      <th>pct_cyclists</th>\n",
       "      <th>pct_trucks</th>\n",
       "      <th>traffic_cameras_present</th>\n",
       "    </tr>\n",
       "    <tr>\n",
       "      <th>eventuniqueid</th>\n",
       "      <th></th>\n",
       "      <th></th>\n",
       "      <th></th>\n",
       "      <th></th>\n",
       "      <th></th>\n",
       "      <th></th>\n",
       "      <th></th>\n",
       "      <th></th>\n",
       "      <th></th>\n",
       "      <th></th>\n",
       "      <th></th>\n",
       "      <th></th>\n",
       "      <th></th>\n",
       "      <th></th>\n",
       "      <th></th>\n",
       "      <th></th>\n",
       "      <th></th>\n",
       "      <th></th>\n",
       "      <th></th>\n",
       "      <th></th>\n",
       "      <th></th>\n",
       "    </tr>\n",
       "  </thead>\n",
       "  <tbody>\n",
       "    <tr>\n",
       "      <th>GO-20168000055</th>\n",
       "      <td>January</td>\n",
       "      <td>Friday</td>\n",
       "      <td>2016</td>\n",
       "      <td>16</td>\n",
       "      <td>LAmoreaux (117)</td>\n",
       "      <td>0</td>\n",
       "      <td>NO</td>\n",
       "      <td>-79.319271</td>\n",
       "      <td>43.795851</td>\n",
       "      <td>NO</td>\n",
       "      <td>...</td>\n",
       "      <td>3</td>\n",
       "      <td>899</td>\n",
       "      <td>18275</td>\n",
       "      <td>414</td>\n",
       "      <td>17373</td>\n",
       "      <td>95.064295</td>\n",
       "      <td>4.919289</td>\n",
       "      <td>0.016416</td>\n",
       "      <td>2.26539</td>\n",
       "      <td>NaN</td>\n",
       "    </tr>\n",
       "    <tr>\n",
       "      <th>GO-20168001220</th>\n",
       "      <td>January</td>\n",
       "      <td>Sunday</td>\n",
       "      <td>2016</td>\n",
       "      <td>17</td>\n",
       "      <td>LAmoreaux (117)</td>\n",
       "      <td>0</td>\n",
       "      <td>NO</td>\n",
       "      <td>-79.319271</td>\n",
       "      <td>43.795851</td>\n",
       "      <td>NO</td>\n",
       "      <td>...</td>\n",
       "      <td>3</td>\n",
       "      <td>899</td>\n",
       "      <td>18275</td>\n",
       "      <td>414</td>\n",
       "      <td>17373</td>\n",
       "      <td>95.064295</td>\n",
       "      <td>4.919289</td>\n",
       "      <td>0.016416</td>\n",
       "      <td>2.26539</td>\n",
       "      <td>NaN</td>\n",
       "    </tr>\n",
       "    <tr>\n",
       "      <th>GO-20168003250</th>\n",
       "      <td>January</td>\n",
       "      <td>Friday</td>\n",
       "      <td>2016</td>\n",
       "      <td>14</td>\n",
       "      <td>LAmoreaux (117)</td>\n",
       "      <td>0</td>\n",
       "      <td>NO</td>\n",
       "      <td>-79.319271</td>\n",
       "      <td>43.795851</td>\n",
       "      <td>NO</td>\n",
       "      <td>...</td>\n",
       "      <td>3</td>\n",
       "      <td>899</td>\n",
       "      <td>18275</td>\n",
       "      <td>414</td>\n",
       "      <td>17373</td>\n",
       "      <td>95.064295</td>\n",
       "      <td>4.919289</td>\n",
       "      <td>0.016416</td>\n",
       "      <td>2.26539</td>\n",
       "      <td>NaN</td>\n",
       "    </tr>\n",
       "    <tr>\n",
       "      <th>GO-20168003473</th>\n",
       "      <td>January</td>\n",
       "      <td>Monday</td>\n",
       "      <td>2016</td>\n",
       "      <td>7</td>\n",
       "      <td>LAmoreaux (117)</td>\n",
       "      <td>0</td>\n",
       "      <td>NO</td>\n",
       "      <td>-79.319271</td>\n",
       "      <td>43.795851</td>\n",
       "      <td>NO</td>\n",
       "      <td>...</td>\n",
       "      <td>3</td>\n",
       "      <td>899</td>\n",
       "      <td>18275</td>\n",
       "      <td>414</td>\n",
       "      <td>17373</td>\n",
       "      <td>95.064295</td>\n",
       "      <td>4.919289</td>\n",
       "      <td>0.016416</td>\n",
       "      <td>2.26539</td>\n",
       "      <td>NaN</td>\n",
       "    </tr>\n",
       "    <tr>\n",
       "      <th>GO-2016143401</th>\n",
       "      <td>January</td>\n",
       "      <td>Sunday</td>\n",
       "      <td>2016</td>\n",
       "      <td>21</td>\n",
       "      <td>LAmoreaux (117)</td>\n",
       "      <td>0</td>\n",
       "      <td>NO</td>\n",
       "      <td>-79.319271</td>\n",
       "      <td>43.795851</td>\n",
       "      <td>NO</td>\n",
       "      <td>...</td>\n",
       "      <td>3</td>\n",
       "      <td>899</td>\n",
       "      <td>18275</td>\n",
       "      <td>414</td>\n",
       "      <td>17373</td>\n",
       "      <td>95.064295</td>\n",
       "      <td>4.919289</td>\n",
       "      <td>0.016416</td>\n",
       "      <td>2.26539</td>\n",
       "      <td>NaN</td>\n",
       "    </tr>\n",
       "  </tbody>\n",
       "</table>\n",
       "<p>5 rows × 34 columns</p>\n",
       "</div>"
      ],
      "text/plain": [
       "               collisions_month collisions_day_of_week  collisions_year  \\\n",
       "eventuniqueid                                                             \n",
       "GO-20168000055          January                 Friday             2016   \n",
       "GO-20168001220          January                 Sunday             2016   \n",
       "GO-20168003250          January                 Friday             2016   \n",
       "GO-20168003473          January                 Monday             2016   \n",
       "GO-2016143401           January                 Sunday             2016   \n",
       "\n",
       "                collisions_hour collisions_neighbourhood  \\\n",
       "eventuniqueid                                              \n",
       "GO-20168000055               16          LAmoreaux (117)   \n",
       "GO-20168001220               17          LAmoreaux (117)   \n",
       "GO-20168003250               14          LAmoreaux (117)   \n",
       "GO-20168003473                7          LAmoreaux (117)   \n",
       "GO-2016143401                21          LAmoreaux (117)   \n",
       "\n",
       "                collisions_fatalities collisions_injury_collisions  \\\n",
       "eventuniqueid                                                        \n",
       "GO-20168000055                      0                           NO   \n",
       "GO-20168001220                      0                           NO   \n",
       "GO-20168003250                      0                           NO   \n",
       "GO-20168003473                      0                           NO   \n",
       "GO-2016143401                       0                           NO   \n",
       "\n",
       "                collisions_longitude  collisions_latitude  \\\n",
       "eventuniqueid                                               \n",
       "GO-20168000055            -79.319271            43.795851   \n",
       "GO-20168001220            -79.319271            43.795851   \n",
       "GO-20168003250            -79.319271            43.795851   \n",
       "GO-20168003473            -79.319271            43.795851   \n",
       "GO-2016143401             -79.319271            43.795851   \n",
       "\n",
       "               collisions_fatal_collisions  ... cyclists_count  \\\n",
       "eventuniqueid                               ...                  \n",
       "GO-20168000055                          NO  ...              3   \n",
       "GO-20168001220                          NO  ...              3   \n",
       "GO-20168003250                          NO  ...              3   \n",
       "GO-20168003473                          NO  ...              3   \n",
       "GO-2016143401                           NO  ...              3   \n",
       "\n",
       "               pedestrians_count total_count trucks_count vehicle_count  \\\n",
       "eventuniqueid                                                             \n",
       "GO-20168000055               899       18275          414         17373   \n",
       "GO-20168001220               899       18275          414         17373   \n",
       "GO-20168003250               899       18275          414         17373   \n",
       "GO-20168003473               899       18275          414         17373   \n",
       "GO-2016143401                899       18275          414         17373   \n",
       "\n",
       "               pct_vehicles  pct_pedestrians pct_cyclists  pct_trucks  \\\n",
       "eventuniqueid                                                           \n",
       "GO-20168000055    95.064295         4.919289     0.016416     2.26539   \n",
       "GO-20168001220    95.064295         4.919289     0.016416     2.26539   \n",
       "GO-20168003250    95.064295         4.919289     0.016416     2.26539   \n",
       "GO-20168003473    95.064295         4.919289     0.016416     2.26539   \n",
       "GO-2016143401     95.064295         4.919289     0.016416     2.26539   \n",
       "\n",
       "                traffic_cameras_present  \n",
       "eventuniqueid                            \n",
       "GO-20168000055                      NaN  \n",
       "GO-20168001220                      NaN  \n",
       "GO-20168003250                      NaN  \n",
       "GO-20168003473                      NaN  \n",
       "GO-2016143401                       NaN  \n",
       "\n",
       "[5 rows x 34 columns]"
      ]
     },
     "execution_count": 337,
     "metadata": {},
     "output_type": "execute_result"
    }
   ],
   "source": [
    "join_7.head()"
   ]
  },
  {
   "cell_type": "code",
   "execution_count": 338,
   "metadata": {},
   "outputs": [],
   "source": [
    "#filling N/A values where traffic camera is not present\n",
    "join_7.traffic_cameras_present.fillna('No',inplace=True)"
   ]
  },
  {
   "cell_type": "code",
   "execution_count": 339,
   "metadata": {},
   "outputs": [
    {
     "data": {
      "text/plain": [
       "No     114179\n",
       "Yes     31476\n",
       "Name: traffic_cameras_present, dtype: int64"
      ]
     },
     "execution_count": 339,
     "metadata": {},
     "output_type": "execute_result"
    }
   ],
   "source": [
    "join_7.traffic_cameras_present.value_counts()"
   ]
  },
  {
   "cell_type": "markdown",
   "metadata": {},
   "source": [
    "# Joining Speed Limits"
   ]
  },
  {
   "cell_type": "code",
   "execution_count": 340,
   "metadata": {},
   "outputs": [
    {
     "data": {
      "text/plain": [
       "<AxesSubplot:>"
      ]
     },
     "execution_count": 340,
     "metadata": {},
     "output_type": "execute_result"
    },
    {
     "data": {
      "image/png": "[encoded data removed]",
      "text/plain": [
       "<Figure size 432x288 with 1 Axes>"
      ]
     },
     "metadata": {
      "needs_background": "light"
     },
     "output_type": "display_data"
    }
   ],
   "source": [
    "join_7.plot()"
   ]
  },
  {
   "cell_type": "code",
   "execution_count": 341,
   "metadata": {},
   "outputs": [
    {
     "name": "stderr",
     "output_type": "stream",
     "text": [
      "/Users/rakeenahmed/opt/anaconda3/lib/python3.9/site-packages/geopandas/array.py:364: UserWarning: Geometry is in a geographic CRS. Results from 'sjoin_nearest' are likely incorrect. Use 'GeoSeries.to_crs()' to re-project geometries to a projected CRS before this operation.\n",
      "\n",
      "  warnings.warn(\n"
     ]
    }
   ],
   "source": [
    "#joining speed limit dataframe with radius search of max_distance = 0.00001 = 1 metre\n",
    "join_8 = join_7.sjoin_nearest(speed_limits,how='inner',lsuffix='collisions',rsuffix='speed_limits',max_distance=0.00001)"
   ]
  },
  {
   "cell_type": "code",
   "execution_count": 342,
   "metadata": {},
   "outputs": [],
   "source": [
    "#dropping unneccesary columns\n",
    "join_8 = join_8.drop(columns=['index_speed_limits'])"
   ]
  },
  {
   "cell_type": "code",
   "execution_count": 343,
   "metadata": {},
   "outputs": [
    {
     "data": {
      "text/plain": [
       "(145655, 34)"
      ]
     },
     "execution_count": 343,
     "metadata": {},
     "output_type": "execute_result"
    }
   ],
   "source": [
    "join_7.shape"
   ]
  },
  {
   "cell_type": "code",
   "execution_count": 344,
   "metadata": {},
   "outputs": [
    {
     "data": {
      "text/plain": [
       "(145669, 37)"
      ]
     },
     "execution_count": 344,
     "metadata": {},
     "output_type": "execute_result"
    }
   ],
   "source": [
    "join_8.shape"
   ]
  },
  {
   "cell_type": "markdown",
   "metadata": {},
   "source": [
    "# Joining Sensitive Zones"
   ]
  },
  {
   "cell_type": "code",
   "execution_count": 345,
   "metadata": {},
   "outputs": [],
   "source": [
    "#processing geometry column\n",
    "\n",
    "\n",
    "#replacing the geometry column\n",
    "sensitive_zones = sensitive_zones.drop(columns=['geometry'])\n",
    "\n",
    "sensitive_zones['geometry'] = gpd.points_from_xy(sensitive_zones['sensitive_zone_longitude'],sensitive_zones['sensitive_zone_latitude'],crs='EPSG:4326')\n",
    "\n",
    "#converting to geodataframe\n",
    "sensitive_zones = gpd.GeoDataFrame(sensitive_zones,geometry=sensitive_zones['geometry'])\n",
    "\n",
    "#restricting sensitive zones to toronto boundaries\n",
    "sensitive_zones = sensitive_zones.loc[sensitive_zones.geometry.y<44]\n",
    "sensitive_zones = sensitive_zones.loc[sensitive_zones.geometry.y>43.5]\n",
    "sensitive_zones = sensitive_zones.loc[sensitive_zones.geometry.x<-79]\n",
    "sensitive_zones = sensitive_zones.loc[sensitive_zones.geometry.x>-79.9]"
   ]
  },
  {
   "cell_type": "code",
   "execution_count": 346,
   "metadata": {},
   "outputs": [
    {
     "name": "stderr",
     "output_type": "stream",
     "text": [
      "/Users/rakeenahmed/opt/anaconda3/lib/python3.9/site-packages/geopandas/array.py:364: UserWarning: Geometry is in a geographic CRS. Results from 'sjoin_nearest' are likely incorrect. Use 'GeoSeries.to_crs()' to re-project geometries to a projected CRS before this operation.\n",
      "\n",
      "  warnings.warn(\n"
     ]
    }
   ],
   "source": [
    "#joining sensitive zones dataframe with radius search of 100 metres\n",
    "join_9 = join_8.sjoin_nearest(sensitive_zones,how='left',lsuffix='collisions',rsuffix='sensitive_zones',max_distance=0.001)"
   ]
  },
  {
   "cell_type": "code",
   "execution_count": 347,
   "metadata": {},
   "outputs": [
    {
     "data": {
      "text/plain": [
       "(167678, 43)"
      ]
     },
     "execution_count": 347,
     "metadata": {},
     "output_type": "execute_result"
    }
   ],
   "source": [
    "join_9.shape"
   ]
  },
  {
   "cell_type": "code",
   "execution_count": 348,
   "metadata": {},
   "outputs": [],
   "source": [
    "#dropping unneccesary columns\n",
    "join_9 = join_9.drop(columns=['index_sensitive_zones','sensitive_zone_name','sensitive_zone_latitude','sensitive_zone_longitude','sensitive_zone_type'])"
   ]
  },
  {
   "cell_type": "code",
   "execution_count": 349,
   "metadata": {},
   "outputs": [],
   "source": [
    "#filling N/A values where sensitive zone is not present\n",
    "join_9.sensitive_zone_sensitive_zone.fillna('No',inplace=True)"
   ]
  },
  {
   "cell_type": "markdown",
   "metadata": {},
   "source": [
    "# Exporting Final Data Frame"
   ]
  },
  {
   "cell_type": "code",
   "execution_count": 350,
   "metadata": {},
   "outputs": [],
   "source": [
    "#setting new name for final dataframe\n",
    "collisions_df = join_9"
   ]
  },
  {
   "cell_type": "code",
   "execution_count": 351,
   "metadata": {},
   "outputs": [
    {
     "data": {
      "text/html": [
       "<div>\n",
       "<style scoped>\n",
       "    .dataframe tbody tr th:only-of-type {\n",
       "        vertical-align: middle;\n",
       "    }\n",
       "\n",
       "    .dataframe tbody tr th {\n",
       "        vertical-align: top;\n",
       "    }\n",
       "\n",
       "    .dataframe thead th {\n",
       "        text-align: right;\n",
       "    }\n",
       "</style>\n",
       "<table border=\"1\" class=\"dataframe\">\n",
       "  <thead>\n",
       "    <tr style=\"text-align: right;\">\n",
       "      <th></th>\n",
       "      <th>collisions_month</th>\n",
       "      <th>collisions_day_of_week</th>\n",
       "      <th>collisions_year</th>\n",
       "      <th>collisions_hour</th>\n",
       "      <th>collisions_neighbourhood</th>\n",
       "      <th>collisions_fatalities</th>\n",
       "      <th>collisions_injury_collisions</th>\n",
       "      <th>collisions_longitude</th>\n",
       "      <th>collisions_latitude</th>\n",
       "      <th>collisions_fatal_collisions</th>\n",
       "      <th>...</th>\n",
       "      <th>vehicle_count</th>\n",
       "      <th>pct_vehicles</th>\n",
       "      <th>pct_pedestrians</th>\n",
       "      <th>pct_cyclists</th>\n",
       "      <th>pct_trucks</th>\n",
       "      <th>traffic_cameras_present</th>\n",
       "      <th>road_name_speed_limits</th>\n",
       "      <th>road_class_speed_limits</th>\n",
       "      <th>speed_limit</th>\n",
       "      <th>sensitive_zone_sensitive_zone</th>\n",
       "    </tr>\n",
       "    <tr>\n",
       "      <th>eventuniqueid</th>\n",
       "      <th></th>\n",
       "      <th></th>\n",
       "      <th></th>\n",
       "      <th></th>\n",
       "      <th></th>\n",
       "      <th></th>\n",
       "      <th></th>\n",
       "      <th></th>\n",
       "      <th></th>\n",
       "      <th></th>\n",
       "      <th></th>\n",
       "      <th></th>\n",
       "      <th></th>\n",
       "      <th></th>\n",
       "      <th></th>\n",
       "      <th></th>\n",
       "      <th></th>\n",
       "      <th></th>\n",
       "      <th></th>\n",
       "      <th></th>\n",
       "      <th></th>\n",
       "    </tr>\n",
       "  </thead>\n",
       "  <tbody>\n",
       "    <tr>\n",
       "      <th>GO-20168000055</th>\n",
       "      <td>January</td>\n",
       "      <td>Friday</td>\n",
       "      <td>2016</td>\n",
       "      <td>16</td>\n",
       "      <td>LAmoreaux (117)</td>\n",
       "      <td>0</td>\n",
       "      <td>NO</td>\n",
       "      <td>-79.319271</td>\n",
       "      <td>43.795851</td>\n",
       "      <td>NO</td>\n",
       "      <td>...</td>\n",
       "      <td>17373</td>\n",
       "      <td>95.064295</td>\n",
       "      <td>4.919289</td>\n",
       "      <td>0.016416</td>\n",
       "      <td>2.26539</td>\n",
       "      <td>No</td>\n",
       "      <td>FINCH AVE E</td>\n",
       "      <td>Major Arterial</td>\n",
       "      <td>60</td>\n",
       "      <td>Yes</td>\n",
       "    </tr>\n",
       "    <tr>\n",
       "      <th>GO-20168001220</th>\n",
       "      <td>January</td>\n",
       "      <td>Sunday</td>\n",
       "      <td>2016</td>\n",
       "      <td>17</td>\n",
       "      <td>LAmoreaux (117)</td>\n",
       "      <td>0</td>\n",
       "      <td>NO</td>\n",
       "      <td>-79.319271</td>\n",
       "      <td>43.795851</td>\n",
       "      <td>NO</td>\n",
       "      <td>...</td>\n",
       "      <td>17373</td>\n",
       "      <td>95.064295</td>\n",
       "      <td>4.919289</td>\n",
       "      <td>0.016416</td>\n",
       "      <td>2.26539</td>\n",
       "      <td>No</td>\n",
       "      <td>FINCH AVE E</td>\n",
       "      <td>Major Arterial</td>\n",
       "      <td>60</td>\n",
       "      <td>Yes</td>\n",
       "    </tr>\n",
       "    <tr>\n",
       "      <th>GO-20168003250</th>\n",
       "      <td>January</td>\n",
       "      <td>Friday</td>\n",
       "      <td>2016</td>\n",
       "      <td>14</td>\n",
       "      <td>LAmoreaux (117)</td>\n",
       "      <td>0</td>\n",
       "      <td>NO</td>\n",
       "      <td>-79.319271</td>\n",
       "      <td>43.795851</td>\n",
       "      <td>NO</td>\n",
       "      <td>...</td>\n",
       "      <td>17373</td>\n",
       "      <td>95.064295</td>\n",
       "      <td>4.919289</td>\n",
       "      <td>0.016416</td>\n",
       "      <td>2.26539</td>\n",
       "      <td>No</td>\n",
       "      <td>FINCH AVE E</td>\n",
       "      <td>Major Arterial</td>\n",
       "      <td>60</td>\n",
       "      <td>Yes</td>\n",
       "    </tr>\n",
       "    <tr>\n",
       "      <th>GO-20168003473</th>\n",
       "      <td>January</td>\n",
       "      <td>Monday</td>\n",
       "      <td>2016</td>\n",
       "      <td>7</td>\n",
       "      <td>LAmoreaux (117)</td>\n",
       "      <td>0</td>\n",
       "      <td>NO</td>\n",
       "      <td>-79.319271</td>\n",
       "      <td>43.795851</td>\n",
       "      <td>NO</td>\n",
       "      <td>...</td>\n",
       "      <td>17373</td>\n",
       "      <td>95.064295</td>\n",
       "      <td>4.919289</td>\n",
       "      <td>0.016416</td>\n",
       "      <td>2.26539</td>\n",
       "      <td>No</td>\n",
       "      <td>FINCH AVE E</td>\n",
       "      <td>Major Arterial</td>\n",
       "      <td>60</td>\n",
       "      <td>Yes</td>\n",
       "    </tr>\n",
       "    <tr>\n",
       "      <th>GO-2016143401</th>\n",
       "      <td>January</td>\n",
       "      <td>Sunday</td>\n",
       "      <td>2016</td>\n",
       "      <td>21</td>\n",
       "      <td>LAmoreaux (117)</td>\n",
       "      <td>0</td>\n",
       "      <td>NO</td>\n",
       "      <td>-79.319271</td>\n",
       "      <td>43.795851</td>\n",
       "      <td>NO</td>\n",
       "      <td>...</td>\n",
       "      <td>17373</td>\n",
       "      <td>95.064295</td>\n",
       "      <td>4.919289</td>\n",
       "      <td>0.016416</td>\n",
       "      <td>2.26539</td>\n",
       "      <td>No</td>\n",
       "      <td>FINCH AVE E</td>\n",
       "      <td>Major Arterial</td>\n",
       "      <td>60</td>\n",
       "      <td>Yes</td>\n",
       "    </tr>\n",
       "  </tbody>\n",
       "</table>\n",
       "<p>5 rows × 38 columns</p>\n",
       "</div>"
      ],
      "text/plain": [
       "               collisions_month collisions_day_of_week  collisions_year  \\\n",
       "eventuniqueid                                                             \n",
       "GO-20168000055          January                 Friday             2016   \n",
       "GO-20168001220          January                 Sunday             2016   \n",
       "GO-20168003250          January                 Friday             2016   \n",
       "GO-20168003473          January                 Monday             2016   \n",
       "GO-2016143401           January                 Sunday             2016   \n",
       "\n",
       "                collisions_hour collisions_neighbourhood  \\\n",
       "eventuniqueid                                              \n",
       "GO-20168000055               16          LAmoreaux (117)   \n",
       "GO-20168001220               17          LAmoreaux (117)   \n",
       "GO-20168003250               14          LAmoreaux (117)   \n",
       "GO-20168003473                7          LAmoreaux (117)   \n",
       "GO-2016143401                21          LAmoreaux (117)   \n",
       "\n",
       "                collisions_fatalities collisions_injury_collisions  \\\n",
       "eventuniqueid                                                        \n",
       "GO-20168000055                      0                           NO   \n",
       "GO-20168001220                      0                           NO   \n",
       "GO-20168003250                      0                           NO   \n",
       "GO-20168003473                      0                           NO   \n",
       "GO-2016143401                       0                           NO   \n",
       "\n",
       "                collisions_longitude  collisions_latitude  \\\n",
       "eventuniqueid                                               \n",
       "GO-20168000055            -79.319271            43.795851   \n",
       "GO-20168001220            -79.319271            43.795851   \n",
       "GO-20168003250            -79.319271            43.795851   \n",
       "GO-20168003473            -79.319271            43.795851   \n",
       "GO-2016143401             -79.319271            43.795851   \n",
       "\n",
       "               collisions_fatal_collisions  ... vehicle_count pct_vehicles  \\\n",
       "eventuniqueid                               ...                              \n",
       "GO-20168000055                          NO  ...         17373    95.064295   \n",
       "GO-20168001220                          NO  ...         17373    95.064295   \n",
       "GO-20168003250                          NO  ...         17373    95.064295   \n",
       "GO-20168003473                          NO  ...         17373    95.064295   \n",
       "GO-2016143401                           NO  ...         17373    95.064295   \n",
       "\n",
       "               pct_pedestrians pct_cyclists pct_trucks  \\\n",
       "eventuniqueid                                            \n",
       "GO-20168000055        4.919289     0.016416    2.26539   \n",
       "GO-20168001220        4.919289     0.016416    2.26539   \n",
       "GO-20168003250        4.919289     0.016416    2.26539   \n",
       "GO-20168003473        4.919289     0.016416    2.26539   \n",
       "GO-2016143401         4.919289     0.016416    2.26539   \n",
       "\n",
       "               traffic_cameras_present  road_name_speed_limits  \\\n",
       "eventuniqueid                                                    \n",
       "GO-20168000055                      No             FINCH AVE E   \n",
       "GO-20168001220                      No             FINCH AVE E   \n",
       "GO-20168003250                      No             FINCH AVE E   \n",
       "GO-20168003473                      No             FINCH AVE E   \n",
       "GO-2016143401                       No             FINCH AVE E   \n",
       "\n",
       "               road_class_speed_limits  speed_limit  \\\n",
       "eventuniqueid                                         \n",
       "GO-20168000055          Major Arterial           60   \n",
       "GO-20168001220          Major Arterial           60   \n",
       "GO-20168003250          Major Arterial           60   \n",
       "GO-20168003473          Major Arterial           60   \n",
       "GO-2016143401           Major Arterial           60   \n",
       "\n",
       "                sensitive_zone_sensitive_zone  \n",
       "eventuniqueid                                  \n",
       "GO-20168000055                            Yes  \n",
       "GO-20168001220                            Yes  \n",
       "GO-20168003250                            Yes  \n",
       "GO-20168003473                            Yes  \n",
       "GO-2016143401                             Yes  \n",
       "\n",
       "[5 rows x 38 columns]"
      ]
     },
     "execution_count": 351,
     "metadata": {},
     "output_type": "execute_result"
    }
   ],
   "source": [
    "collisions_final.head()"
   ]
  },
  {
   "cell_type": "code",
   "execution_count": 352,
   "metadata": {},
   "outputs": [],
   "source": [
    "#dropping unneeccesary columns\n",
    "collisions_df = collisions_df.drop(columns=['index_traffic_volumes','location','road_name_speed_limits','road_class_speed_limits'])"
   ]
  },
  {
   "cell_type": "code",
   "execution_count": 353,
   "metadata": {},
   "outputs": [],
   "source": [
    "#exporting dataframe\n",
    "\n",
    "#csv\n",
    "collisions_df.to_csv('/Users/rakeenahmed/Library/CloudStorage/GoogleDrive-rakeenaahmed@gmail.com/My Drive/Centennial/BA 723 - Business Analytics Capstone/Projects/Toronto KSI/Modeling/collisions_df.csv')\n",
    "\n",
    "#geojson\n",
    "collisions_df.to_file('/Users/rakeenahmed/Library/CloudStorage/GoogleDrive-rakeenaahmed@gmail.com/My Drive/Centennial/BA 723 - Business Analytics Capstone/Projects/Toronto KSI/Modeling/collisions_df.geojson',driver='GeoJSON')"
   ]
  },
  {
   "cell_type": "code",
   "execution_count": null,
   "metadata": {},
   "outputs": [],
   "source": []
  }
 ],
 "metadata": {
  "kernelspec": {
   "display_name": "base",
   "language": "python",
   "name": "python3"
  },
  "language_info": {
   "codemirror_mode": {
    "name": "ipython",
    "version": 3
   },
   "file_extension": ".py",
   "mimetype": "text/x-python",
   "name": "python",
   "nbconvert_exporter": "python",
   "pygments_lexer": "ipython3",
   "version": "3.9.12"
  },
  "orig_nbformat": 4
 },
 "nbformat": 4,
 "nbformat_minor": 2
}
