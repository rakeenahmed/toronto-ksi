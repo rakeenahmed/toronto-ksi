{
 "cells": [
  {
   "cell_type": "code",
   "execution_count": 1,
   "metadata": {},
   "outputs": [],
   "source": [
    "import numpy as np\n",
    "import pandas as pd\n",
    "import geopandas as gpd\n",
    "import keplergl\n",
    "#from keplergl import KeplerGL\n",
    "import matplotlib as plt\n",
    "import plotly.express as px\n",
    "import h3\n",
    "import shapely\n",
    "from geopandas import GeoDataFrame,GeoSeries\n",
    "import folium\n",
    "import matplotlib\n",
    "%matplotlib inline"
   ]
  },
  {
   "cell_type": "code",
   "execution_count": 2,
   "metadata": {},
   "outputs": [],
   "source": [
    "bikelanes = gpd.read_file('cycling-network.geojson')"
   ]
  },
  {
   "cell_type": "code",
   "execution_count": 3,
   "metadata": {},
   "outputs": [
    {
     "data": {
      "text/plain": [
       "geopandas.geodataframe.GeoDataFrame"
      ]
     },
     "execution_count": 3,
     "metadata": {},
     "output_type": "execute_result"
    }
   ],
   "source": [
    "type(bikelanes)"
   ]
  },
  {
   "cell_type": "code",
   "execution_count": 4,
   "metadata": {},
   "outputs": [
    {
     "data": {
      "text/html": [
       "<div>\n",
       "<style scoped>\n",
       "    .dataframe tbody tr th:only-of-type {\n",
       "        vertical-align: middle;\n",
       "    }\n",
       "\n",
       "    .dataframe tbody tr th {\n",
       "        vertical-align: top;\n",
       "    }\n",
       "\n",
       "    .dataframe thead th {\n",
       "        text-align: right;\n",
       "    }\n",
       "</style>\n",
       "<table border=\"1\" class=\"dataframe\">\n",
       "  <thead>\n",
       "    <tr style=\"text-align: right;\">\n",
       "      <th></th>\n",
       "      <th>_id</th>\n",
       "      <th>OBJECTID</th>\n",
       "      <th>SEGMENT_ID</th>\n",
       "      <th>INSTALLED</th>\n",
       "      <th>UPGRADED</th>\n",
       "      <th>PRE_AMALGAMATION</th>\n",
       "      <th>STREET_NAME</th>\n",
       "      <th>FROM_STREET</th>\n",
       "      <th>TO_STREET</th>\n",
       "      <th>ROADCLASS</th>\n",
       "      <th>...</th>\n",
       "      <th>INFRA_HIGHORDER</th>\n",
       "      <th>SEPA_HIGHORDER</th>\n",
       "      <th>SEPB_HIGHORDER</th>\n",
       "      <th>ORIG_HIGHORDER</th>\n",
       "      <th>BYLAWED</th>\n",
       "      <th>EDITOR</th>\n",
       "      <th>LAST_EDIT_DATE</th>\n",
       "      <th>UPGRADE_DESCRIPTION</th>\n",
       "      <th>CONVERTED</th>\n",
       "      <th>geometry</th>\n",
       "    </tr>\n",
       "  </thead>\n",
       "  <tbody>\n",
       "    <tr>\n",
       "      <th>0</th>\n",
       "      <td>1</td>\n",
       "      <td>1</td>\n",
       "      <td>1</td>\n",
       "      <td>2001</td>\n",
       "      <td>2021</td>\n",
       "      <td></td>\n",
       "      <td>Kilbarry Rd</td>\n",
       "      <td>Highbourne Rd</td>\n",
       "      <td>Oriole Pkwy</td>\n",
       "      <td></td>\n",
       "      <td>...</td>\n",
       "      <td>Sharrows - Wayfinding</td>\n",
       "      <td></td>\n",
       "      <td></td>\n",
       "      <td></td>\n",
       "      <td></td>\n",
       "      <td></td>\n",
       "      <td>2023-01-16 19:53:01</td>\n",
       "      <td></td>\n",
       "      <td>2007</td>\n",
       "      <td>MULTILINESTRING ((-79.40351 43.69526, -79.4030...</td>\n",
       "    </tr>\n",
       "    <tr>\n",
       "      <th>1</th>\n",
       "      <td>2</td>\n",
       "      <td>2</td>\n",
       "      <td>2</td>\n",
       "      <td>2001</td>\n",
       "      <td>2009</td>\n",
       "      <td></td>\n",
       "      <td>Martin Goodman / Waterfront Trl</td>\n",
       "      <td>Lake Shore Blvd W</td>\n",
       "      <td>Martin Goodman Trl Branch</td>\n",
       "      <td></td>\n",
       "      <td>...</td>\n",
       "      <td>Multi-Use Trail</td>\n",
       "      <td></td>\n",
       "      <td></td>\n",
       "      <td></td>\n",
       "      <td></td>\n",
       "      <td></td>\n",
       "      <td>2023-01-16 19:53:01</td>\n",
       "      <td></td>\n",
       "      <td></td>\n",
       "      <td>MULTILINESTRING ((-79.40364 43.63499, -79.4035...</td>\n",
       "    </tr>\n",
       "    <tr>\n",
       "      <th>2</th>\n",
       "      <td>3</td>\n",
       "      <td>3</td>\n",
       "      <td>3</td>\n",
       "      <td>2001</td>\n",
       "      <td>2011</td>\n",
       "      <td></td>\n",
       "      <td>Gatineau Hydro Corridor Trl</td>\n",
       "      <td>Givendale Rd</td>\n",
       "      <td>Kennedy Rd</td>\n",
       "      <td></td>\n",
       "      <td>...</td>\n",
       "      <td>Multi-Use Trail</td>\n",
       "      <td></td>\n",
       "      <td></td>\n",
       "      <td></td>\n",
       "      <td></td>\n",
       "      <td></td>\n",
       "      <td>2023-01-16 19:53:01</td>\n",
       "      <td></td>\n",
       "      <td></td>\n",
       "      <td>MULTILINESTRING ((-79.27522 43.74158, -79.2751...</td>\n",
       "    </tr>\n",
       "    <tr>\n",
       "      <th>3</th>\n",
       "      <td>4</td>\n",
       "      <td>4</td>\n",
       "      <td>4</td>\n",
       "      <td>2001</td>\n",
       "      <td>2011</td>\n",
       "      <td></td>\n",
       "      <td>G Ross Lord Park Trl</td>\n",
       "      <td>Dufferin St</td>\n",
       "      <td>G Ross Lord Park Trl Branch</td>\n",
       "      <td></td>\n",
       "      <td>...</td>\n",
       "      <td>Multi-Use Trail</td>\n",
       "      <td></td>\n",
       "      <td></td>\n",
       "      <td></td>\n",
       "      <td></td>\n",
       "      <td></td>\n",
       "      <td>2023-01-16 19:53:01</td>\n",
       "      <td></td>\n",
       "      <td></td>\n",
       "      <td>MULTILINESTRING ((-79.46772 43.77208, -79.4675...</td>\n",
       "    </tr>\n",
       "    <tr>\n",
       "      <th>4</th>\n",
       "      <td>5</td>\n",
       "      <td>5</td>\n",
       "      <td>5</td>\n",
       "      <td>2001</td>\n",
       "      <td>2012</td>\n",
       "      <td></td>\n",
       "      <td>Etobicoke Creek Trl</td>\n",
       "      <td>Etobicoke Creek Trl Branch</td>\n",
       "      <td>Forty Third St</td>\n",
       "      <td></td>\n",
       "      <td>...</td>\n",
       "      <td>Multi-Use Trail - Entrance</td>\n",
       "      <td></td>\n",
       "      <td></td>\n",
       "      <td></td>\n",
       "      <td></td>\n",
       "      <td></td>\n",
       "      <td>2023-01-16 19:53:01</td>\n",
       "      <td></td>\n",
       "      <td></td>\n",
       "      <td>MULTILINESTRING ((-79.54812 43.59027, -79.5480...</td>\n",
       "    </tr>\n",
       "  </tbody>\n",
       "</table>\n",
       "<p>5 rows × 29 columns</p>\n",
       "</div>"
      ],
      "text/plain": [
       "   _id  OBJECTID  SEGMENT_ID  INSTALLED  UPGRADED PRE_AMALGAMATION  \\\n",
       "0    1         1           1       2001      2021                    \n",
       "1    2         2           2       2001      2009                    \n",
       "2    3         3           3       2001      2011                    \n",
       "3    4         4           4       2001      2011                    \n",
       "4    5         5           5       2001      2012                    \n",
       "\n",
       "                       STREET_NAME                 FROM_STREET  \\\n",
       "0                      Kilbarry Rd               Highbourne Rd   \n",
       "1  Martin Goodman / Waterfront Trl           Lake Shore Blvd W   \n",
       "2      Gatineau Hydro Corridor Trl                Givendale Rd   \n",
       "3             G Ross Lord Park Trl                 Dufferin St   \n",
       "4              Etobicoke Creek Trl  Etobicoke Creek Trl Branch   \n",
       "\n",
       "                     TO_STREET ROADCLASS  ...             INFRA_HIGHORDER  \\\n",
       "0                  Oriole Pkwy            ...       Sharrows - Wayfinding   \n",
       "1    Martin Goodman Trl Branch            ...             Multi-Use Trail   \n",
       "2                   Kennedy Rd            ...             Multi-Use Trail   \n",
       "3  G Ross Lord Park Trl Branch            ...             Multi-Use Trail   \n",
       "4               Forty Third St            ...  Multi-Use Trail - Entrance   \n",
       "\n",
       "  SEPA_HIGHORDER SEPB_HIGHORDER ORIG_HIGHORDER BYLAWED EDITOR  \\\n",
       "0                                                               \n",
       "1                                                               \n",
       "2                                                               \n",
       "3                                                               \n",
       "4                                                               \n",
       "\n",
       "       LAST_EDIT_DATE UPGRADE_DESCRIPTION CONVERTED  \\\n",
       "0 2023-01-16 19:53:01                          2007   \n",
       "1 2023-01-16 19:53:01                                 \n",
       "2 2023-01-16 19:53:01                                 \n",
       "3 2023-01-16 19:53:01                                 \n",
       "4 2023-01-16 19:53:01                                 \n",
       "\n",
       "                                            geometry  \n",
       "0  MULTILINESTRING ((-79.40351 43.69526, -79.4030...  \n",
       "1  MULTILINESTRING ((-79.40364 43.63499, -79.4035...  \n",
       "2  MULTILINESTRING ((-79.27522 43.74158, -79.2751...  \n",
       "3  MULTILINESTRING ((-79.46772 43.77208, -79.4675...  \n",
       "4  MULTILINESTRING ((-79.54812 43.59027, -79.5480...  \n",
       "\n",
       "[5 rows x 29 columns]"
      ]
     },
     "execution_count": 4,
     "metadata": {},
     "output_type": "execute_result"
    }
   ],
   "source": [
    "bikelanes.head()"
   ]
  },
  {
   "cell_type": "code",
   "execution_count": 5,
   "metadata": {},
   "outputs": [
    {
     "data": {
      "text/plain": [
       "(1323, 29)"
      ]
     },
     "execution_count": 5,
     "metadata": {},
     "output_type": "execute_result"
    }
   ],
   "source": [
    "#shape of dataframe\n",
    "bikelanes.shape"
   ]
  },
  {
   "cell_type": "code",
   "execution_count": 6,
   "metadata": {},
   "outputs": [],
   "source": [
    "#converting dataframe headers to lowercase\n",
    "bikelanes.columns = [s.strip().lower() for s in bikelanes.columns]"
   ]
  },
  {
   "cell_type": "code",
   "execution_count": 7,
   "metadata": {},
   "outputs": [],
   "source": [
    "#drop unneeded columns\n",
    "bikelanes = bikelanes.drop(columns=['objectid','segment_id','upgraded','pre_amalgamation','roadclass','cnpclass','surface','owner','dir_loworder','sepa_loworder','sepb_loworder','orig_loworder_infra','dir_highorder','sepa_highorder','sepb_highorder','orig_highorder','bylawed','editor','last_edit_date','upgrade_description','converted'])"
   ]
  },
  {
   "cell_type": "code",
   "execution_count": 8,
   "metadata": {},
   "outputs": [],
   "source": [
    "#rename id column\n",
    "bikelanes = bikelanes.rename(columns={'_id':'id'})"
   ]
  },
  {
   "cell_type": "code",
   "execution_count": 9,
   "metadata": {},
   "outputs": [
    {
     "data": {
      "text/html": [
       "<div>\n",
       "<style scoped>\n",
       "    .dataframe tbody tr th:only-of-type {\n",
       "        vertical-align: middle;\n",
       "    }\n",
       "\n",
       "    .dataframe tbody tr th {\n",
       "        vertical-align: top;\n",
       "    }\n",
       "\n",
       "    .dataframe thead th {\n",
       "        text-align: right;\n",
       "    }\n",
       "</style>\n",
       "<table border=\"1\" class=\"dataframe\">\n",
       "  <thead>\n",
       "    <tr style=\"text-align: right;\">\n",
       "      <th></th>\n",
       "      <th>id</th>\n",
       "      <th>installed</th>\n",
       "      <th>street_name</th>\n",
       "      <th>from_street</th>\n",
       "      <th>to_street</th>\n",
       "      <th>infra_loworder</th>\n",
       "      <th>infra_highorder</th>\n",
       "      <th>geometry</th>\n",
       "    </tr>\n",
       "  </thead>\n",
       "  <tbody>\n",
       "    <tr>\n",
       "      <th>0</th>\n",
       "      <td>1</td>\n",
       "      <td>2001</td>\n",
       "      <td>Kilbarry Rd</td>\n",
       "      <td>Highbourne Rd</td>\n",
       "      <td>Oriole Pkwy</td>\n",
       "      <td>Sharrows - Wayfinding</td>\n",
       "      <td>Sharrows - Wayfinding</td>\n",
       "      <td>MULTILINESTRING ((-79.40351 43.69526, -79.4030...</td>\n",
       "    </tr>\n",
       "    <tr>\n",
       "      <th>1</th>\n",
       "      <td>2</td>\n",
       "      <td>2001</td>\n",
       "      <td>Martin Goodman / Waterfront Trl</td>\n",
       "      <td>Lake Shore Blvd W</td>\n",
       "      <td>Martin Goodman Trl Branch</td>\n",
       "      <td>Multi-Use Trail</td>\n",
       "      <td>Multi-Use Trail</td>\n",
       "      <td>MULTILINESTRING ((-79.40364 43.63499, -79.4035...</td>\n",
       "    </tr>\n",
       "    <tr>\n",
       "      <th>2</th>\n",
       "      <td>3</td>\n",
       "      <td>2001</td>\n",
       "      <td>Gatineau Hydro Corridor Trl</td>\n",
       "      <td>Givendale Rd</td>\n",
       "      <td>Kennedy Rd</td>\n",
       "      <td>Multi-Use Trail</td>\n",
       "      <td>Multi-Use Trail</td>\n",
       "      <td>MULTILINESTRING ((-79.27522 43.74158, -79.2751...</td>\n",
       "    </tr>\n",
       "    <tr>\n",
       "      <th>3</th>\n",
       "      <td>4</td>\n",
       "      <td>2001</td>\n",
       "      <td>G Ross Lord Park Trl</td>\n",
       "      <td>Dufferin St</td>\n",
       "      <td>G Ross Lord Park Trl Branch</td>\n",
       "      <td>Multi-Use Trail</td>\n",
       "      <td>Multi-Use Trail</td>\n",
       "      <td>MULTILINESTRING ((-79.46772 43.77208, -79.4675...</td>\n",
       "    </tr>\n",
       "    <tr>\n",
       "      <th>4</th>\n",
       "      <td>5</td>\n",
       "      <td>2001</td>\n",
       "      <td>Etobicoke Creek Trl</td>\n",
       "      <td>Etobicoke Creek Trl Branch</td>\n",
       "      <td>Forty Third St</td>\n",
       "      <td>Multi-Use Trail - Entrance</td>\n",
       "      <td>Multi-Use Trail - Entrance</td>\n",
       "      <td>MULTILINESTRING ((-79.54812 43.59027, -79.5480...</td>\n",
       "    </tr>\n",
       "  </tbody>\n",
       "</table>\n",
       "</div>"
      ],
      "text/plain": [
       "   id  installed                      street_name                 from_street  \\\n",
       "0   1       2001                      Kilbarry Rd               Highbourne Rd   \n",
       "1   2       2001  Martin Goodman / Waterfront Trl           Lake Shore Blvd W   \n",
       "2   3       2001      Gatineau Hydro Corridor Trl                Givendale Rd   \n",
       "3   4       2001             G Ross Lord Park Trl                 Dufferin St   \n",
       "4   5       2001              Etobicoke Creek Trl  Etobicoke Creek Trl Branch   \n",
       "\n",
       "                     to_street              infra_loworder  \\\n",
       "0                  Oriole Pkwy       Sharrows - Wayfinding   \n",
       "1    Martin Goodman Trl Branch             Multi-Use Trail   \n",
       "2                   Kennedy Rd             Multi-Use Trail   \n",
       "3  G Ross Lord Park Trl Branch             Multi-Use Trail   \n",
       "4               Forty Third St  Multi-Use Trail - Entrance   \n",
       "\n",
       "              infra_highorder  \\\n",
       "0       Sharrows - Wayfinding   \n",
       "1             Multi-Use Trail   \n",
       "2             Multi-Use Trail   \n",
       "3             Multi-Use Trail   \n",
       "4  Multi-Use Trail - Entrance   \n",
       "\n",
       "                                            geometry  \n",
       "0  MULTILINESTRING ((-79.40351 43.69526, -79.4030...  \n",
       "1  MULTILINESTRING ((-79.40364 43.63499, -79.4035...  \n",
       "2  MULTILINESTRING ((-79.27522 43.74158, -79.2751...  \n",
       "3  MULTILINESTRING ((-79.46772 43.77208, -79.4675...  \n",
       "4  MULTILINESTRING ((-79.54812 43.59027, -79.5480...  "
      ]
     },
     "execution_count": 9,
     "metadata": {},
     "output_type": "execute_result"
    }
   ],
   "source": [
    "bikelanes.head()"
   ]
  },
  {
   "cell_type": "code",
   "execution_count": 10,
   "metadata": {},
   "outputs": [
    {
     "data": {
      "text/plain": [
       "id                    int64\n",
       "installed             int64\n",
       "street_name          object\n",
       "from_street          object\n",
       "to_street            object\n",
       "infra_loworder       object\n",
       "infra_highorder      object\n",
       "geometry           geometry\n",
       "dtype: object"
      ]
     },
     "execution_count": 10,
     "metadata": {},
     "output_type": "execute_result"
    }
   ],
   "source": [
    "bikelanes.dtypes"
   ]
  },
  {
   "cell_type": "code",
   "execution_count": 38,
   "metadata": {},
   "outputs": [
    {
     "name": "stdout",
     "output_type": "stream",
     "text": [
      "User Guide: https://docs.kepler.gl/docs/keplergl-jupyter\n"
     ]
    },
    {
     "data": {
      "application/vnd.jupyter.widget-view+json": {
       "model_id": "6758e3c18678465c8721a95e2c8ccae1",
       "version_major": 2,
       "version_minor": 0
      },
      "text/plain": [
       "KeplerGl(data={'data_1':         id  installed                      street_name  \\\n",
       "0        1       2001      …"
      ]
     },
     "metadata": {},
     "output_type": "display_data"
    }
   ],
   "source": [
    "from keplergl import KeplerGl\n",
    "\n",
    "KeplerGl(data={'data_1':bikelanes})"
   ]
  },
  {
   "cell_type": "code",
   "execution_count": 39,
   "metadata": {},
   "outputs": [
    {
     "name": "stderr",
     "output_type": "stream",
     "text": [
      "C:\\Users\\arara\\AppData\\Local\\Temp\\ipykernel_36368\\1914353726.py:2: FutureWarning: Currently, index_parts defaults to True, but in the future, it will default to False to be consistent with Pandas. Use `index_parts=True` to keep the current behavior and True/False to silence the warning.\n",
      "  bikelanes_exploded = bikelanes.explode()\n"
     ]
    }
   ],
   "source": [
    "#using the geopandas explode() function to convert the multiline geometry to single line point geometry\n",
    "bikelanes_exploded = bikelanes.explode()"
   ]
  },
  {
   "cell_type": "code",
   "execution_count": 40,
   "metadata": {},
   "outputs": [],
   "source": [
    "#extract latitude and longitudes from single line geometry\n",
    "bikelanes_exploded['latitude'] = bikelanes_exploded.apply(lambda x: x.geometry.coords[0][1], axis=1)\n",
    "bikelanes_exploded['longitude'] = bikelanes_exploded.apply(lambda x: x.geometry.coords[0][0], axis=1)"
   ]
  },
  {
   "cell_type": "code",
   "execution_count": 41,
   "metadata": {},
   "outputs": [],
   "source": [
    "#alternate method: extract latitude and longitude from centre of linestring geometry\n",
    "#bikelanes_exploded['latitude'] = bikelanes_exploded.apply(lambda x: x.geometry.centroid.coords[0][1], axis=1)\n",
    "#bikelanes_exploded['longitude'] = bikelanes_exploded.apply(lambda x: x.geometry.centroid.coords[0][0], axis=1)"
   ]
  },
  {
   "cell_type": "code",
   "execution_count": 42,
   "metadata": {},
   "outputs": [
    {
     "data": {
      "text/html": [
       "<div>\n",
       "<style scoped>\n",
       "    .dataframe tbody tr th:only-of-type {\n",
       "        vertical-align: middle;\n",
       "    }\n",
       "\n",
       "    .dataframe tbody tr th {\n",
       "        vertical-align: top;\n",
       "    }\n",
       "\n",
       "    .dataframe thead th {\n",
       "        text-align: right;\n",
       "    }\n",
       "</style>\n",
       "<table border=\"1\" class=\"dataframe\">\n",
       "  <thead>\n",
       "    <tr style=\"text-align: right;\">\n",
       "      <th></th>\n",
       "      <th></th>\n",
       "      <th>id</th>\n",
       "      <th>installed</th>\n",
       "      <th>street_name</th>\n",
       "      <th>from_street</th>\n",
       "      <th>to_street</th>\n",
       "      <th>infra_loworder</th>\n",
       "      <th>infra_highorder</th>\n",
       "      <th>geometry</th>\n",
       "      <th>latitude</th>\n",
       "      <th>longitude</th>\n",
       "    </tr>\n",
       "  </thead>\n",
       "  <tbody>\n",
       "    <tr>\n",
       "      <th>0</th>\n",
       "      <th>0</th>\n",
       "      <td>1</td>\n",
       "      <td>2001</td>\n",
       "      <td>Kilbarry Rd</td>\n",
       "      <td>Highbourne Rd</td>\n",
       "      <td>Oriole Pkwy</td>\n",
       "      <td>Sharrows - Wayfinding</td>\n",
       "      <td>Sharrows - Wayfinding</td>\n",
       "      <td>LINESTRING (-79.40351 43.69526, -79.40309 43.6...</td>\n",
       "      <td>43.695260</td>\n",
       "      <td>-79.403507</td>\n",
       "    </tr>\n",
       "    <tr>\n",
       "      <th>1</th>\n",
       "      <th>0</th>\n",
       "      <td>2</td>\n",
       "      <td>2001</td>\n",
       "      <td>Martin Goodman / Waterfront Trl</td>\n",
       "      <td>Lake Shore Blvd W</td>\n",
       "      <td>Martin Goodman Trl Branch</td>\n",
       "      <td>Multi-Use Trail</td>\n",
       "      <td>Multi-Use Trail</td>\n",
       "      <td>LINESTRING (-79.40364 43.63499, -79.40355 43.6...</td>\n",
       "      <td>43.634994</td>\n",
       "      <td>-79.403639</td>\n",
       "    </tr>\n",
       "    <tr>\n",
       "      <th>2</th>\n",
       "      <th>0</th>\n",
       "      <td>3</td>\n",
       "      <td>2001</td>\n",
       "      <td>Gatineau Hydro Corridor Trl</td>\n",
       "      <td>Givendale Rd</td>\n",
       "      <td>Kennedy Rd</td>\n",
       "      <td>Multi-Use Trail</td>\n",
       "      <td>Multi-Use Trail</td>\n",
       "      <td>LINESTRING (-79.27522 43.74158, -79.27518 43.7...</td>\n",
       "      <td>43.741582</td>\n",
       "      <td>-79.275224</td>\n",
       "    </tr>\n",
       "    <tr>\n",
       "      <th>3</th>\n",
       "      <th>0</th>\n",
       "      <td>4</td>\n",
       "      <td>2001</td>\n",
       "      <td>G Ross Lord Park Trl</td>\n",
       "      <td>Dufferin St</td>\n",
       "      <td>G Ross Lord Park Trl Branch</td>\n",
       "      <td>Multi-Use Trail</td>\n",
       "      <td>Multi-Use Trail</td>\n",
       "      <td>LINESTRING (-79.46772 43.77208, -79.46759 43.7...</td>\n",
       "      <td>43.772076</td>\n",
       "      <td>-79.467719</td>\n",
       "    </tr>\n",
       "    <tr>\n",
       "      <th>4</th>\n",
       "      <th>0</th>\n",
       "      <td>5</td>\n",
       "      <td>2001</td>\n",
       "      <td>Etobicoke Creek Trl</td>\n",
       "      <td>Etobicoke Creek Trl Branch</td>\n",
       "      <td>Forty Third St</td>\n",
       "      <td>Multi-Use Trail - Entrance</td>\n",
       "      <td>Multi-Use Trail - Entrance</td>\n",
       "      <td>LINESTRING (-79.54812 43.59027, -79.54807 43.5...</td>\n",
       "      <td>43.590268</td>\n",
       "      <td>-79.548116</td>\n",
       "    </tr>\n",
       "  </tbody>\n",
       "</table>\n",
       "</div>"
      ],
      "text/plain": [
       "     id  installed                      street_name  \\\n",
       "0 0   1       2001                      Kilbarry Rd   \n",
       "1 0   2       2001  Martin Goodman / Waterfront Trl   \n",
       "2 0   3       2001      Gatineau Hydro Corridor Trl   \n",
       "3 0   4       2001             G Ross Lord Park Trl   \n",
       "4 0   5       2001              Etobicoke Creek Trl   \n",
       "\n",
       "                    from_street                    to_street  \\\n",
       "0 0               Highbourne Rd                  Oriole Pkwy   \n",
       "1 0           Lake Shore Blvd W    Martin Goodman Trl Branch   \n",
       "2 0                Givendale Rd                   Kennedy Rd   \n",
       "3 0                 Dufferin St  G Ross Lord Park Trl Branch   \n",
       "4 0  Etobicoke Creek Trl Branch               Forty Third St   \n",
       "\n",
       "                 infra_loworder             infra_highorder  \\\n",
       "0 0       Sharrows - Wayfinding       Sharrows - Wayfinding   \n",
       "1 0             Multi-Use Trail             Multi-Use Trail   \n",
       "2 0             Multi-Use Trail             Multi-Use Trail   \n",
       "3 0             Multi-Use Trail             Multi-Use Trail   \n",
       "4 0  Multi-Use Trail - Entrance  Multi-Use Trail - Entrance   \n",
       "\n",
       "                                              geometry   latitude  longitude  \n",
       "0 0  LINESTRING (-79.40351 43.69526, -79.40309 43.6...  43.695260 -79.403507  \n",
       "1 0  LINESTRING (-79.40364 43.63499, -79.40355 43.6...  43.634994 -79.403639  \n",
       "2 0  LINESTRING (-79.27522 43.74158, -79.27518 43.7...  43.741582 -79.275224  \n",
       "3 0  LINESTRING (-79.46772 43.77208, -79.46759 43.7...  43.772076 -79.467719  \n",
       "4 0  LINESTRING (-79.54812 43.59027, -79.54807 43.5...  43.590268 -79.548116  "
      ]
     },
     "execution_count": 42,
     "metadata": {},
     "output_type": "execute_result"
    }
   ],
   "source": [
    "bikelanes_exploded.head()"
   ]
  },
  {
   "cell_type": "code",
   "execution_count": 43,
   "metadata": {},
   "outputs": [],
   "source": [
    "#combining latitude and longitudes to form coordinates column\n",
    "bikelanes_exploded['coordinates'] = bikelanes_exploded.apply(lambda x: (x.latitude, x.longitude), axis=1)"
   ]
  },
  {
   "cell_type": "code",
   "execution_count": 44,
   "metadata": {},
   "outputs": [],
   "source": [
    "#create hex cells for bike lanes\n",
    "\n",
    "#create coordinate column\n",
    "#pedestrian_crossover_exploded['coordinates'] = pedestrian_crossover_exploded['latitude'].astype('str') + ',' + pedestrian_crossover_exploded['longitude'].astype('str')\n",
    "\n",
    "#then we define the function to get h3 hex cells from coordinates data\n",
    "def get_hex_cell(coordinates):\n",
    "    #a = float(coordinates.split(',')[0])\n",
    "    #b = float(coordinates.split(',')[1])\n",
    "    a = coordinates[0]\n",
    "    b = coordinates[1]\n",
    "    return h3.latlng_to_cell(a,b,res=10)\n",
    "\n",
    "#finally, create a new column for hex cells by applying the function on coordinates column\n",
    "bikelanes_exploded['hex_cell'] = bikelanes_exploded['coordinates'].apply(get_hex_cell)"
   ]
  },
  {
   "cell_type": "code",
   "execution_count": 45,
   "metadata": {},
   "outputs": [
    {
     "data": {
      "text/html": [
       "<div>\n",
       "<style scoped>\n",
       "    .dataframe tbody tr th:only-of-type {\n",
       "        vertical-align: middle;\n",
       "    }\n",
       "\n",
       "    .dataframe tbody tr th {\n",
       "        vertical-align: top;\n",
       "    }\n",
       "\n",
       "    .dataframe thead th {\n",
       "        text-align: right;\n",
       "    }\n",
       "</style>\n",
       "<table border=\"1\" class=\"dataframe\">\n",
       "  <thead>\n",
       "    <tr style=\"text-align: right;\">\n",
       "      <th></th>\n",
       "      <th></th>\n",
       "      <th>id</th>\n",
       "      <th>installed</th>\n",
       "      <th>street_name</th>\n",
       "      <th>from_street</th>\n",
       "      <th>to_street</th>\n",
       "      <th>infra_loworder</th>\n",
       "      <th>infra_highorder</th>\n",
       "      <th>geometry</th>\n",
       "      <th>latitude</th>\n",
       "      <th>longitude</th>\n",
       "      <th>coordinates</th>\n",
       "      <th>hex_cell</th>\n",
       "    </tr>\n",
       "  </thead>\n",
       "  <tbody>\n",
       "    <tr>\n",
       "      <th>0</th>\n",
       "      <th>0</th>\n",
       "      <td>1</td>\n",
       "      <td>2001</td>\n",
       "      <td>Kilbarry Rd</td>\n",
       "      <td>Highbourne Rd</td>\n",
       "      <td>Oriole Pkwy</td>\n",
       "      <td>Sharrows - Wayfinding</td>\n",
       "      <td>Sharrows - Wayfinding</td>\n",
       "      <td>LINESTRING (-79.40351 43.69526, -79.40309 43.6...</td>\n",
       "      <td>43.695260</td>\n",
       "      <td>-79.403507</td>\n",
       "      <td>(43.6952595244941, -79.4035069136297)</td>\n",
       "      <td>8a2b9bc76357fff</td>\n",
       "    </tr>\n",
       "    <tr>\n",
       "      <th>1</th>\n",
       "      <th>0</th>\n",
       "      <td>2</td>\n",
       "      <td>2001</td>\n",
       "      <td>Martin Goodman / Waterfront Trl</td>\n",
       "      <td>Lake Shore Blvd W</td>\n",
       "      <td>Martin Goodman Trl Branch</td>\n",
       "      <td>Multi-Use Trail</td>\n",
       "      <td>Multi-Use Trail</td>\n",
       "      <td>LINESTRING (-79.40364 43.63499, -79.40355 43.6...</td>\n",
       "      <td>43.634994</td>\n",
       "      <td>-79.403639</td>\n",
       "      <td>(43.6349938275931, -79.4036386937994)</td>\n",
       "      <td>8a2b9bc42ca7fff</td>\n",
       "    </tr>\n",
       "    <tr>\n",
       "      <th>2</th>\n",
       "      <th>0</th>\n",
       "      <td>3</td>\n",
       "      <td>2001</td>\n",
       "      <td>Gatineau Hydro Corridor Trl</td>\n",
       "      <td>Givendale Rd</td>\n",
       "      <td>Kennedy Rd</td>\n",
       "      <td>Multi-Use Trail</td>\n",
       "      <td>Multi-Use Trail</td>\n",
       "      <td>LINESTRING (-79.27522 43.74158, -79.27518 43.7...</td>\n",
       "      <td>43.741582</td>\n",
       "      <td>-79.275224</td>\n",
       "      <td>(43.7415816548541, -79.2752236011477)</td>\n",
       "      <td>8a2b9bd4ed8ffff</td>\n",
       "    </tr>\n",
       "    <tr>\n",
       "      <th>3</th>\n",
       "      <th>0</th>\n",
       "      <td>4</td>\n",
       "      <td>2001</td>\n",
       "      <td>G Ross Lord Park Trl</td>\n",
       "      <td>Dufferin St</td>\n",
       "      <td>G Ross Lord Park Trl Branch</td>\n",
       "      <td>Multi-Use Trail</td>\n",
       "      <td>Multi-Use Trail</td>\n",
       "      <td>LINESTRING (-79.46772 43.77208, -79.46759 43.7...</td>\n",
       "      <td>43.772076</td>\n",
       "      <td>-79.467719</td>\n",
       "      <td>(43.7720763078272, -79.4677191149987)</td>\n",
       "      <td>8a2b9bc04b6ffff</td>\n",
       "    </tr>\n",
       "    <tr>\n",
       "      <th>4</th>\n",
       "      <th>0</th>\n",
       "      <td>5</td>\n",
       "      <td>2001</td>\n",
       "      <td>Etobicoke Creek Trl</td>\n",
       "      <td>Etobicoke Creek Trl Branch</td>\n",
       "      <td>Forty Third St</td>\n",
       "      <td>Multi-Use Trail - Entrance</td>\n",
       "      <td>Multi-Use Trail - Entrance</td>\n",
       "      <td>LINESTRING (-79.54812 43.59027, -79.54807 43.5...</td>\n",
       "      <td>43.590268</td>\n",
       "      <td>-79.548116</td>\n",
       "      <td>(43.5902679719901, -79.5481155366534)</td>\n",
       "      <td>8a2b9bcea6affff</td>\n",
       "    </tr>\n",
       "  </tbody>\n",
       "</table>\n",
       "</div>"
      ],
      "text/plain": [
       "     id  installed                      street_name  \\\n",
       "0 0   1       2001                      Kilbarry Rd   \n",
       "1 0   2       2001  Martin Goodman / Waterfront Trl   \n",
       "2 0   3       2001      Gatineau Hydro Corridor Trl   \n",
       "3 0   4       2001             G Ross Lord Park Trl   \n",
       "4 0   5       2001              Etobicoke Creek Trl   \n",
       "\n",
       "                    from_street                    to_street  \\\n",
       "0 0               Highbourne Rd                  Oriole Pkwy   \n",
       "1 0           Lake Shore Blvd W    Martin Goodman Trl Branch   \n",
       "2 0                Givendale Rd                   Kennedy Rd   \n",
       "3 0                 Dufferin St  G Ross Lord Park Trl Branch   \n",
       "4 0  Etobicoke Creek Trl Branch               Forty Third St   \n",
       "\n",
       "                 infra_loworder             infra_highorder  \\\n",
       "0 0       Sharrows - Wayfinding       Sharrows - Wayfinding   \n",
       "1 0             Multi-Use Trail             Multi-Use Trail   \n",
       "2 0             Multi-Use Trail             Multi-Use Trail   \n",
       "3 0             Multi-Use Trail             Multi-Use Trail   \n",
       "4 0  Multi-Use Trail - Entrance  Multi-Use Trail - Entrance   \n",
       "\n",
       "                                              geometry   latitude  longitude  \\\n",
       "0 0  LINESTRING (-79.40351 43.69526, -79.40309 43.6...  43.695260 -79.403507   \n",
       "1 0  LINESTRING (-79.40364 43.63499, -79.40355 43.6...  43.634994 -79.403639   \n",
       "2 0  LINESTRING (-79.27522 43.74158, -79.27518 43.7...  43.741582 -79.275224   \n",
       "3 0  LINESTRING (-79.46772 43.77208, -79.46759 43.7...  43.772076 -79.467719   \n",
       "4 0  LINESTRING (-79.54812 43.59027, -79.54807 43.5...  43.590268 -79.548116   \n",
       "\n",
       "                               coordinates         hex_cell  \n",
       "0 0  (43.6952595244941, -79.4035069136297)  8a2b9bc76357fff  \n",
       "1 0  (43.6349938275931, -79.4036386937994)  8a2b9bc42ca7fff  \n",
       "2 0  (43.7415816548541, -79.2752236011477)  8a2b9bd4ed8ffff  \n",
       "3 0  (43.7720763078272, -79.4677191149987)  8a2b9bc04b6ffff  \n",
       "4 0  (43.5902679719901, -79.5481155366534)  8a2b9bcea6affff  "
      ]
     },
     "execution_count": 45,
     "metadata": {},
     "output_type": "execute_result"
    }
   ],
   "source": [
    "#check final dataframe\n",
    "bikelanes_exploded.head()"
   ]
  },
  {
   "cell_type": "code",
   "execution_count": 46,
   "metadata": {},
   "outputs": [],
   "source": [
    "#final processing\n",
    "\n",
    "#set id as index\n",
    "bikelanes_exploded.set_index('id', inplace=True)\n",
    "\n",
    "#drop geometry, latitude, and longitudes columns\n",
    "bikelanes_exploded.drop(columns=['geometry','latitude','longitude'], inplace=True)"
   ]
  },
  {
   "cell_type": "code",
   "execution_count": 47,
   "metadata": {},
   "outputs": [
    {
     "data": {
      "text/plain": [
       "424"
      ]
     },
     "execution_count": 47,
     "metadata": {},
     "output_type": "execute_result"
    }
   ],
   "source": [
    "bikelanes_exploded.hex_cell.duplicated().sum()"
   ]
  },
  {
   "cell_type": "markdown",
   "metadata": {},
   "source": [
    "### Creating another dataframe to extract hex cells from bikelanes centroid geometry"
   ]
  },
  {
   "cell_type": "code",
   "execution_count": 48,
   "metadata": {},
   "outputs": [
    {
     "name": "stderr",
     "output_type": "stream",
     "text": [
      "C:\\Users\\arara\\AppData\\Local\\Temp\\ipykernel_36368\\3145448852.py:1: FutureWarning: Currently, index_parts defaults to True, but in the future, it will default to False to be consistent with Pandas. Use `index_parts=True` to keep the current behavior and True/False to silence the warning.\n",
      "  bikelanes_exploded_2 = bikelanes.explode()\n"
     ]
    }
   ],
   "source": [
    "bikelanes_exploded_2 = bikelanes.explode()\n",
    "\n",
    "#alternate method: extract latitude and longitude from centre of linestring geometry\n",
    "bikelanes_exploded_2['latitude'] = bikelanes_exploded_2.apply(lambda x: x.geometry.centroid.coords[0][1], axis=1)\n",
    "bikelanes_exploded_2['longitude'] = bikelanes_exploded_2.apply(lambda x: x.geometry.centroid.coords[0][0], axis=1)\n",
    "\n",
    "#combining latitude and longitudes to form coordinates column\n",
    "bikelanes_exploded_2['coordinates'] = bikelanes_exploded_2.apply(lambda x: (x.latitude, x.longitude), axis=1)\n",
    "\n",
    "#finally, create a new column for hex cells by applying the function on coordinates column\n",
    "bikelanes_exploded_2['hex_cell'] = bikelanes_exploded_2['coordinates'].apply(get_hex_cell)\n",
    "\n",
    "#final processing\n",
    "\n",
    "#set id as index\n",
    "bikelanes_exploded_2.set_index('id', inplace=True)\n",
    "\n",
    "#drop geometry, latitude, and longitudes columns\n",
    "bikelanes_exploded_2.drop(columns=['geometry','latitude','longitude'], inplace=True)"
   ]
  },
  {
   "cell_type": "code",
   "execution_count": 49,
   "metadata": {},
   "outputs": [
    {
     "data": {
      "text/html": [
       "<div>\n",
       "<style scoped>\n",
       "    .dataframe tbody tr th:only-of-type {\n",
       "        vertical-align: middle;\n",
       "    }\n",
       "\n",
       "    .dataframe tbody tr th {\n",
       "        vertical-align: top;\n",
       "    }\n",
       "\n",
       "    .dataframe thead th {\n",
       "        text-align: right;\n",
       "    }\n",
       "</style>\n",
       "<table border=\"1\" class=\"dataframe\">\n",
       "  <thead>\n",
       "    <tr style=\"text-align: right;\">\n",
       "      <th></th>\n",
       "      <th>installed</th>\n",
       "      <th>street_name</th>\n",
       "      <th>from_street</th>\n",
       "      <th>to_street</th>\n",
       "      <th>infra_loworder</th>\n",
       "      <th>infra_highorder</th>\n",
       "      <th>coordinates</th>\n",
       "      <th>hex_cell</th>\n",
       "    </tr>\n",
       "    <tr>\n",
       "      <th>id</th>\n",
       "      <th></th>\n",
       "      <th></th>\n",
       "      <th></th>\n",
       "      <th></th>\n",
       "      <th></th>\n",
       "      <th></th>\n",
       "      <th></th>\n",
       "      <th></th>\n",
       "    </tr>\n",
       "  </thead>\n",
       "  <tbody>\n",
       "    <tr>\n",
       "      <th>1</th>\n",
       "      <td>2001</td>\n",
       "      <td>Kilbarry Rd</td>\n",
       "      <td>Highbourne Rd</td>\n",
       "      <td>Oriole Pkwy</td>\n",
       "      <td>Sharrows - Wayfinding</td>\n",
       "      <td>Sharrows - Wayfinding</td>\n",
       "      <td>(43.69537795963702, -79.40295543460897)</td>\n",
       "      <td>8a2b9bc76357fff</td>\n",
       "    </tr>\n",
       "    <tr>\n",
       "      <th>2</th>\n",
       "      <td>2001</td>\n",
       "      <td>Martin Goodman / Waterfront Trl</td>\n",
       "      <td>Lake Shore Blvd W</td>\n",
       "      <td>Martin Goodman Trl Branch</td>\n",
       "      <td>Multi-Use Trail</td>\n",
       "      <td>Multi-Use Trail</td>\n",
       "      <td>(43.635383460222734, -79.40341281112208)</td>\n",
       "      <td>8a2b9bc42d8ffff</td>\n",
       "    </tr>\n",
       "    <tr>\n",
       "      <th>3</th>\n",
       "      <td>2001</td>\n",
       "      <td>Gatineau Hydro Corridor Trl</td>\n",
       "      <td>Givendale Rd</td>\n",
       "      <td>Kennedy Rd</td>\n",
       "      <td>Multi-Use Trail</td>\n",
       "      <td>Multi-Use Trail</td>\n",
       "      <td>(43.74214616290669, -79.2737540413134)</td>\n",
       "      <td>8a2b9bd4edaffff</td>\n",
       "    </tr>\n",
       "    <tr>\n",
       "      <th>4</th>\n",
       "      <td>2001</td>\n",
       "      <td>G Ross Lord Park Trl</td>\n",
       "      <td>Dufferin St</td>\n",
       "      <td>G Ross Lord Park Trl Branch</td>\n",
       "      <td>Multi-Use Trail</td>\n",
       "      <td>Multi-Use Trail</td>\n",
       "      <td>(43.77358708102622, -79.46748984968795)</td>\n",
       "      <td>8a2b9bc04b67fff</td>\n",
       "    </tr>\n",
       "    <tr>\n",
       "      <th>5</th>\n",
       "      <td>2001</td>\n",
       "      <td>Etobicoke Creek Trl</td>\n",
       "      <td>Etobicoke Creek Trl Branch</td>\n",
       "      <td>Forty Third St</td>\n",
       "      <td>Multi-Use Trail - Entrance</td>\n",
       "      <td>Multi-Use Trail - Entrance</td>\n",
       "      <td>(43.59016644008738, -79.5474509580628)</td>\n",
       "      <td>8a2b9bcea6affff</td>\n",
       "    </tr>\n",
       "  </tbody>\n",
       "</table>\n",
       "</div>"
      ],
      "text/plain": [
       "    installed                      street_name                 from_street  \\\n",
       "id                                                                           \n",
       "1        2001                      Kilbarry Rd               Highbourne Rd   \n",
       "2        2001  Martin Goodman / Waterfront Trl           Lake Shore Blvd W   \n",
       "3        2001      Gatineau Hydro Corridor Trl                Givendale Rd   \n",
       "4        2001             G Ross Lord Park Trl                 Dufferin St   \n",
       "5        2001              Etobicoke Creek Trl  Etobicoke Creek Trl Branch   \n",
       "\n",
       "                      to_street              infra_loworder  \\\n",
       "id                                                            \n",
       "1                   Oriole Pkwy       Sharrows - Wayfinding   \n",
       "2     Martin Goodman Trl Branch             Multi-Use Trail   \n",
       "3                    Kennedy Rd             Multi-Use Trail   \n",
       "4   G Ross Lord Park Trl Branch             Multi-Use Trail   \n",
       "5                Forty Third St  Multi-Use Trail - Entrance   \n",
       "\n",
       "               infra_highorder                               coordinates  \\\n",
       "id                                                                         \n",
       "1        Sharrows - Wayfinding   (43.69537795963702, -79.40295543460897)   \n",
       "2              Multi-Use Trail  (43.635383460222734, -79.40341281112208)   \n",
       "3              Multi-Use Trail    (43.74214616290669, -79.2737540413134)   \n",
       "4              Multi-Use Trail   (43.77358708102622, -79.46748984968795)   \n",
       "5   Multi-Use Trail - Entrance    (43.59016644008738, -79.5474509580628)   \n",
       "\n",
       "           hex_cell  \n",
       "id                   \n",
       "1   8a2b9bc76357fff  \n",
       "2   8a2b9bc42d8ffff  \n",
       "3   8a2b9bd4edaffff  \n",
       "4   8a2b9bc04b67fff  \n",
       "5   8a2b9bcea6affff  "
      ]
     },
     "execution_count": 49,
     "metadata": {},
     "output_type": "execute_result"
    }
   ],
   "source": [
    "bikelanes_exploded_2.head()"
   ]
  },
  {
   "cell_type": "markdown",
   "metadata": {},
   "source": [
    "Concatenating the two dataframes"
   ]
  },
  {
   "cell_type": "code",
   "execution_count": 50,
   "metadata": {},
   "outputs": [],
   "source": [
    "bikelanes_processed = pd.concat([bikelanes_exploded,bikelanes_exploded_2], ignore_index=True)"
   ]
  },
  {
   "cell_type": "code",
   "execution_count": 51,
   "metadata": {},
   "outputs": [
    {
     "data": {
      "text/html": [
       "<div>\n",
       "<style scoped>\n",
       "    .dataframe tbody tr th:only-of-type {\n",
       "        vertical-align: middle;\n",
       "    }\n",
       "\n",
       "    .dataframe tbody tr th {\n",
       "        vertical-align: top;\n",
       "    }\n",
       "\n",
       "    .dataframe thead th {\n",
       "        text-align: right;\n",
       "    }\n",
       "</style>\n",
       "<table border=\"1\" class=\"dataframe\">\n",
       "  <thead>\n",
       "    <tr style=\"text-align: right;\">\n",
       "      <th></th>\n",
       "      <th>installed</th>\n",
       "      <th>street_name</th>\n",
       "      <th>from_street</th>\n",
       "      <th>to_street</th>\n",
       "      <th>infra_loworder</th>\n",
       "      <th>infra_highorder</th>\n",
       "      <th>coordinates</th>\n",
       "      <th>hex_cell</th>\n",
       "    </tr>\n",
       "  </thead>\n",
       "  <tbody>\n",
       "    <tr>\n",
       "      <th>0</th>\n",
       "      <td>2001</td>\n",
       "      <td>Kilbarry Rd</td>\n",
       "      <td>Highbourne Rd</td>\n",
       "      <td>Oriole Pkwy</td>\n",
       "      <td>Sharrows - Wayfinding</td>\n",
       "      <td>Sharrows - Wayfinding</td>\n",
       "      <td>(43.6952595244941, -79.4035069136297)</td>\n",
       "      <td>8a2b9bc76357fff</td>\n",
       "    </tr>\n",
       "    <tr>\n",
       "      <th>1</th>\n",
       "      <td>2001</td>\n",
       "      <td>Martin Goodman / Waterfront Trl</td>\n",
       "      <td>Lake Shore Blvd W</td>\n",
       "      <td>Martin Goodman Trl Branch</td>\n",
       "      <td>Multi-Use Trail</td>\n",
       "      <td>Multi-Use Trail</td>\n",
       "      <td>(43.6349938275931, -79.4036386937994)</td>\n",
       "      <td>8a2b9bc42ca7fff</td>\n",
       "    </tr>\n",
       "    <tr>\n",
       "      <th>2</th>\n",
       "      <td>2001</td>\n",
       "      <td>Gatineau Hydro Corridor Trl</td>\n",
       "      <td>Givendale Rd</td>\n",
       "      <td>Kennedy Rd</td>\n",
       "      <td>Multi-Use Trail</td>\n",
       "      <td>Multi-Use Trail</td>\n",
       "      <td>(43.7415816548541, -79.2752236011477)</td>\n",
       "      <td>8a2b9bd4ed8ffff</td>\n",
       "    </tr>\n",
       "    <tr>\n",
       "      <th>3</th>\n",
       "      <td>2001</td>\n",
       "      <td>G Ross Lord Park Trl</td>\n",
       "      <td>Dufferin St</td>\n",
       "      <td>G Ross Lord Park Trl Branch</td>\n",
       "      <td>Multi-Use Trail</td>\n",
       "      <td>Multi-Use Trail</td>\n",
       "      <td>(43.7720763078272, -79.4677191149987)</td>\n",
       "      <td>8a2b9bc04b6ffff</td>\n",
       "    </tr>\n",
       "    <tr>\n",
       "      <th>4</th>\n",
       "      <td>2001</td>\n",
       "      <td>Etobicoke Creek Trl</td>\n",
       "      <td>Etobicoke Creek Trl Branch</td>\n",
       "      <td>Forty Third St</td>\n",
       "      <td>Multi-Use Trail - Entrance</td>\n",
       "      <td>Multi-Use Trail - Entrance</td>\n",
       "      <td>(43.5902679719901, -79.5481155366534)</td>\n",
       "      <td>8a2b9bcea6affff</td>\n",
       "    </tr>\n",
       "  </tbody>\n",
       "</table>\n",
       "</div>"
      ],
      "text/plain": [
       "   installed                      street_name                 from_street  \\\n",
       "0       2001                      Kilbarry Rd               Highbourne Rd   \n",
       "1       2001  Martin Goodman / Waterfront Trl           Lake Shore Blvd W   \n",
       "2       2001      Gatineau Hydro Corridor Trl                Givendale Rd   \n",
       "3       2001             G Ross Lord Park Trl                 Dufferin St   \n",
       "4       2001              Etobicoke Creek Trl  Etobicoke Creek Trl Branch   \n",
       "\n",
       "                     to_street              infra_loworder  \\\n",
       "0                  Oriole Pkwy       Sharrows - Wayfinding   \n",
       "1    Martin Goodman Trl Branch             Multi-Use Trail   \n",
       "2                   Kennedy Rd             Multi-Use Trail   \n",
       "3  G Ross Lord Park Trl Branch             Multi-Use Trail   \n",
       "4               Forty Third St  Multi-Use Trail - Entrance   \n",
       "\n",
       "              infra_highorder                            coordinates  \\\n",
       "0       Sharrows - Wayfinding  (43.6952595244941, -79.4035069136297)   \n",
       "1             Multi-Use Trail  (43.6349938275931, -79.4036386937994)   \n",
       "2             Multi-Use Trail  (43.7415816548541, -79.2752236011477)   \n",
       "3             Multi-Use Trail  (43.7720763078272, -79.4677191149987)   \n",
       "4  Multi-Use Trail - Entrance  (43.5902679719901, -79.5481155366534)   \n",
       "\n",
       "          hex_cell  \n",
       "0  8a2b9bc76357fff  \n",
       "1  8a2b9bc42ca7fff  \n",
       "2  8a2b9bd4ed8ffff  \n",
       "3  8a2b9bc04b6ffff  \n",
       "4  8a2b9bcea6affff  "
      ]
     },
     "execution_count": 51,
     "metadata": {},
     "output_type": "execute_result"
    }
   ],
   "source": [
    "bikelanes_processed.head()"
   ]
  },
  {
   "cell_type": "code",
   "execution_count": 53,
   "metadata": {},
   "outputs": [
    {
     "data": {
      "text/plain": [
       "(3112, 8)"
      ]
     },
     "execution_count": 53,
     "metadata": {},
     "output_type": "execute_result"
    }
   ],
   "source": [
    "bikelanes_processed.shape"
   ]
  },
  {
   "cell_type": "code",
   "execution_count": 55,
   "metadata": {},
   "outputs": [
    {
     "data": {
      "text/plain": [
       "1132"
      ]
     },
     "execution_count": 55,
     "metadata": {},
     "output_type": "execute_result"
    }
   ],
   "source": [
    "bikelanes_exploded.hex_cell.nunique()"
   ]
  },
  {
   "cell_type": "code",
   "execution_count": 56,
   "metadata": {},
   "outputs": [
    {
     "data": {
      "text/plain": [
       "1368"
      ]
     },
     "execution_count": 56,
     "metadata": {},
     "output_type": "execute_result"
    }
   ],
   "source": [
    "bikelanes_exploded_2.hex_cell.nunique()"
   ]
  },
  {
   "cell_type": "code",
   "execution_count": 57,
   "metadata": {},
   "outputs": [
    {
     "data": {
      "text/plain": [
       "2045"
      ]
     },
     "execution_count": 57,
     "metadata": {},
     "output_type": "execute_result"
    }
   ],
   "source": [
    "bikelanes_processed.hex_cell.nunique()"
   ]
  },
  {
   "cell_type": "code",
   "execution_count": 58,
   "metadata": {},
   "outputs": [],
   "source": [
    "#save processed dataframe as csv\n",
    "bikelanes_processed.to_csv('bikelanes_processed.csv')"
   ]
  },
  {
   "cell_type": "code",
   "execution_count": null,
   "metadata": {},
   "outputs": [],
   "source": []
  }
 ],
 "metadata": {
  "kernelspec": {
   "display_name": "base",
   "language": "python",
   "name": "python3"
  },
  "language_info": {
   "codemirror_mode": {
    "name": "ipython",
    "version": 3
   },
   "file_extension": ".py",
   "mimetype": "text/x-python",
   "name": "python",
   "nbconvert_exporter": "python",
   "pygments_lexer": "ipython3",
   "version": "3.9.12"
  },
  "orig_nbformat": 4
 },
 "nbformat": 4,
 "nbformat_minor": 2
}
