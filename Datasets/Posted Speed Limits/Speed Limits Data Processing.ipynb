{
 "cells": [
  {
   "cell_type": "markdown",
   "metadata": {},
   "source": [
    "Note: Data contains linestrings. Not sure how to convert them to polygons or h3 cells."
   ]
  },
  {
   "cell_type": "code",
   "execution_count": 1,
   "metadata": {},
   "outputs": [
    {
     "name": "stderr",
     "output_type": "stream",
     "text": [
      "/Users/rakeenahmed/opt/anaconda3/lib/python3.9/site-packages/scipy/__init__.py:146: UserWarning: A NumPy version >=1.16.5 and <1.23.0 is required for this version of SciPy (detected version 1.23.5\n",
      "  warnings.warn(f\"A NumPy version >={np_minversion} and <{np_maxversion}\"\n"
     ]
    }
   ],
   "source": [
    "import numpy as np\n",
    "import pandas as pd\n",
    "import geopandas as gpd\n",
    "import keplergl\n",
    "#from keplergl import KeplerGL\n",
    "import matplotlib as plt\n",
    "import plotly.express as px\n",
    "import h3\n",
    "import shapely\n",
    "from geopandas import GeoDataFrame,GeoSeries\n",
    "import folium\n",
    "import matplotlib\n",
    "%matplotlib inline"
   ]
  },
  {
   "cell_type": "code",
   "execution_count": 2,
   "metadata": {},
   "outputs": [],
   "source": [
    "#reading in data\n",
    "speed_limits = gpd.read_file('posted_speed_limits.geojson')"
   ]
  },
  {
   "cell_type": "code",
   "execution_count": 3,
   "metadata": {},
   "outputs": [],
   "source": [
    "#convert column names to lowercase\n",
    "speed_limits.columns = [s.strip().lower() for s in speed_limits.columns]"
   ]
  },
  {
   "cell_type": "code",
   "execution_count": 4,
   "metadata": {},
   "outputs": [
    {
     "data": {
      "text/plain": [
       "Index(['fid', 'geo_id', 'objectid', 'create_id', 'address_l', 'address_r',\n",
       "       'lf_name', 'oe_flag_l', 'oe_flag_r', 'fnode', 'tnode', 'lfn_id',\n",
       "       'juris_code', 'districtco', 'str_name', 'str_type', 'str_dir',\n",
       "       'mar13rc_10', 'mar13rc_11', 'comment', 'posted_spe', 'len_km',\n",
       "       'geometry'],\n",
       "      dtype='object')"
      ]
     },
     "execution_count": 4,
     "metadata": {},
     "output_type": "execute_result"
    }
   ],
   "source": [
    "speed_limits.columns"
   ]
  },
  {
   "cell_type": "code",
   "execution_count": 5,
   "metadata": {},
   "outputs": [],
   "source": [
    "#dropping unneccessary columns\n",
    "\n",
    "#specifying columns to keep\n",
    "cols_to_keep = ['lf_name','mar13rc_11','posted_spe','geometry']\n",
    "\n",
    "#dropping columns\n",
    "speed_limits = speed_limits[cols_to_keep]"
   ]
  },
  {
   "cell_type": "code",
   "execution_count": 6,
   "metadata": {},
   "outputs": [
    {
     "data": {
      "text/plain": [
       "lf_name       0\n",
       "mar13rc_11    0\n",
       "posted_spe    0\n",
       "geometry      1\n",
       "dtype: int64"
      ]
     },
     "execution_count": 6,
     "metadata": {},
     "output_type": "execute_result"
    }
   ],
   "source": [
    "speed_limits.isnull().sum()"
   ]
  },
  {
   "cell_type": "code",
   "execution_count": 8,
   "metadata": {},
   "outputs": [
    {
     "data": {
      "text/html": [
       "<div>\n",
       "<style scoped>\n",
       "    .dataframe tbody tr th:only-of-type {\n",
       "        vertical-align: middle;\n",
       "    }\n",
       "\n",
       "    .dataframe tbody tr th {\n",
       "        vertical-align: top;\n",
       "    }\n",
       "\n",
       "    .dataframe thead th {\n",
       "        text-align: right;\n",
       "    }\n",
       "</style>\n",
       "<table border=\"1\" class=\"dataframe\">\n",
       "  <thead>\n",
       "    <tr style=\"text-align: right;\">\n",
       "      <th></th>\n",
       "      <th>lf_name</th>\n",
       "      <th>mar13rc_11</th>\n",
       "      <th>posted_spe</th>\n",
       "      <th>geometry</th>\n",
       "    </tr>\n",
       "  </thead>\n",
       "  <tbody>\n",
       "    <tr>\n",
       "      <th>0</th>\n",
       "      <td>ROGERS RD</td>\n",
       "      <td>Minor Arterial</td>\n",
       "      <td>40</td>\n",
       "      <td>LINESTRING (-79.46436 43.68254, -79.46542 43.6...</td>\n",
       "    </tr>\n",
       "    <tr>\n",
       "      <th>1</th>\n",
       "      <td>ROGERS RD</td>\n",
       "      <td>Minor Arterial</td>\n",
       "      <td>40</td>\n",
       "      <td>LINESTRING (-79.46328 43.68278, -79.46436 43.6...</td>\n",
       "    </tr>\n",
       "    <tr>\n",
       "      <th>2</th>\n",
       "      <td>ROSETHORN AVE</td>\n",
       "      <td>Local</td>\n",
       "      <td>50</td>\n",
       "      <td>LINESTRING (-79.46375 43.68108, -79.46436 43.6...</td>\n",
       "    </tr>\n",
       "    <tr>\n",
       "      <th>3</th>\n",
       "      <td>SILVERTHORN AVE</td>\n",
       "      <td>Collector</td>\n",
       "      <td>50</td>\n",
       "      <td>LINESTRING (-79.46267 43.68132, -79.46328 43.6...</td>\n",
       "    </tr>\n",
       "    <tr>\n",
       "      <th>4</th>\n",
       "      <td>BLACKTHORN AVE</td>\n",
       "      <td>Local</td>\n",
       "      <td>40</td>\n",
       "      <td>LINESTRING (-79.46183 43.68211, -79.46216 43.6...</td>\n",
       "    </tr>\n",
       "  </tbody>\n",
       "</table>\n",
       "</div>"
      ],
      "text/plain": [
       "           lf_name      mar13rc_11  posted_spe  \\\n",
       "0        ROGERS RD  Minor Arterial          40   \n",
       "1        ROGERS RD  Minor Arterial          40   \n",
       "2    ROSETHORN AVE           Local          50   \n",
       "3  SILVERTHORN AVE       Collector          50   \n",
       "4   BLACKTHORN AVE           Local          40   \n",
       "\n",
       "                                            geometry  \n",
       "0  LINESTRING (-79.46436 43.68254, -79.46542 43.6...  \n",
       "1  LINESTRING (-79.46328 43.68278, -79.46436 43.6...  \n",
       "2  LINESTRING (-79.46375 43.68108, -79.46436 43.6...  \n",
       "3  LINESTRING (-79.46267 43.68132, -79.46328 43.6...  \n",
       "4  LINESTRING (-79.46183 43.68211, -79.46216 43.6...  "
      ]
     },
     "execution_count": 8,
     "metadata": {},
     "output_type": "execute_result"
    }
   ],
   "source": [
    "speed_limits.head()"
   ]
  },
  {
   "cell_type": "code",
   "execution_count": 9,
   "metadata": {},
   "outputs": [
    {
     "data": {
      "text/plain": [
       "geopandas.geodataframe.GeoDataFrame"
      ]
     },
     "execution_count": 9,
     "metadata": {},
     "output_type": "execute_result"
    }
   ],
   "source": [
    "type(speed_limits)"
   ]
  },
  {
   "cell_type": "code",
   "execution_count": 10,
   "metadata": {},
   "outputs": [],
   "source": [
    "#dropping speed limits that do not have a value for the geometry column\n",
    "speed_limits = speed_limits.dropna()"
   ]
  },
  {
   "cell_type": "code",
   "execution_count": 11,
   "metadata": {},
   "outputs": [
    {
     "data": {
      "text/html": [
       "<div>\n",
       "<style scoped>\n",
       "    .dataframe tbody tr th:only-of-type {\n",
       "        vertical-align: middle;\n",
       "    }\n",
       "\n",
       "    .dataframe tbody tr th {\n",
       "        vertical-align: top;\n",
       "    }\n",
       "\n",
       "    .dataframe thead th {\n",
       "        text-align: right;\n",
       "    }\n",
       "</style>\n",
       "<table border=\"1\" class=\"dataframe\">\n",
       "  <thead>\n",
       "    <tr style=\"text-align: right;\">\n",
       "      <th></th>\n",
       "      <th>lf_name</th>\n",
       "      <th>mar13rc_11</th>\n",
       "      <th>posted_spe</th>\n",
       "      <th>geometry</th>\n",
       "    </tr>\n",
       "  </thead>\n",
       "  <tbody>\n",
       "    <tr>\n",
       "      <th>0</th>\n",
       "      <td>ROGERS RD</td>\n",
       "      <td>Minor Arterial</td>\n",
       "      <td>40</td>\n",
       "      <td>LINESTRING (-79.46436 43.68254, -79.46542 43.6...</td>\n",
       "    </tr>\n",
       "    <tr>\n",
       "      <th>1</th>\n",
       "      <td>ROGERS RD</td>\n",
       "      <td>Minor Arterial</td>\n",
       "      <td>40</td>\n",
       "      <td>LINESTRING (-79.46328 43.68278, -79.46436 43.6...</td>\n",
       "    </tr>\n",
       "    <tr>\n",
       "      <th>2</th>\n",
       "      <td>ROSETHORN AVE</td>\n",
       "      <td>Local</td>\n",
       "      <td>50</td>\n",
       "      <td>LINESTRING (-79.46375 43.68108, -79.46436 43.6...</td>\n",
       "    </tr>\n",
       "    <tr>\n",
       "      <th>3</th>\n",
       "      <td>SILVERTHORN AVE</td>\n",
       "      <td>Collector</td>\n",
       "      <td>50</td>\n",
       "      <td>LINESTRING (-79.46267 43.68132, -79.46328 43.6...</td>\n",
       "    </tr>\n",
       "    <tr>\n",
       "      <th>4</th>\n",
       "      <td>BLACKTHORN AVE</td>\n",
       "      <td>Local</td>\n",
       "      <td>40</td>\n",
       "      <td>LINESTRING (-79.46183 43.68211, -79.46216 43.6...</td>\n",
       "    </tr>\n",
       "  </tbody>\n",
       "</table>\n",
       "</div>"
      ],
      "text/plain": [
       "           lf_name      mar13rc_11  posted_spe  \\\n",
       "0        ROGERS RD  Minor Arterial          40   \n",
       "1        ROGERS RD  Minor Arterial          40   \n",
       "2    ROSETHORN AVE           Local          50   \n",
       "3  SILVERTHORN AVE       Collector          50   \n",
       "4   BLACKTHORN AVE           Local          40   \n",
       "\n",
       "                                            geometry  \n",
       "0  LINESTRING (-79.46436 43.68254, -79.46542 43.6...  \n",
       "1  LINESTRING (-79.46328 43.68278, -79.46436 43.6...  \n",
       "2  LINESTRING (-79.46375 43.68108, -79.46436 43.6...  \n",
       "3  LINESTRING (-79.46267 43.68132, -79.46328 43.6...  \n",
       "4  LINESTRING (-79.46183 43.68211, -79.46216 43.6...  "
      ]
     },
     "execution_count": 11,
     "metadata": {},
     "output_type": "execute_result"
    }
   ],
   "source": [
    "speed_limits.head()"
   ]
  },
  {
   "cell_type": "code",
   "execution_count": 9,
   "metadata": {},
   "outputs": [
    {
     "data": {
      "text/plain": [
       "(58956, 4)"
      ]
     },
     "execution_count": 9,
     "metadata": {},
     "output_type": "execute_result"
    }
   ],
   "source": [
    "speed_limits.shape"
   ]
  },
  {
   "cell_type": "code",
   "execution_count": 10,
   "metadata": {},
   "outputs": [
    {
     "data": {
      "text/plain": [
       "count     58956.000000\n",
       "mean         54.034890\n",
       "std        1276.070414\n",
       "min           0.000000\n",
       "25%           1.000000\n",
       "50%          40.000000\n",
       "75%          50.000000\n",
       "max      304050.000000\n",
       "Name: posted_spe, dtype: float64"
      ]
     },
     "execution_count": 10,
     "metadata": {},
     "output_type": "execute_result"
    }
   ],
   "source": [
    "speed_limits.posted_spe.describe()"
   ]
  },
  {
   "cell_type": "markdown",
   "metadata": {},
   "source": [
    "Note: There are some unreasonable speed limits in the dataset that will have to be cleaned."
   ]
  },
  {
   "cell_type": "markdown",
   "metadata": {},
   "source": [
    "### Cleaning Speed Limits"
   ]
  },
  {
   "cell_type": "code",
   "execution_count": 11,
   "metadata": {},
   "outputs": [],
   "source": [
    "#drop rows with unreasonable speed limits that do not make sense e.g. speed limit = 3000\n",
    "#speed_limits = speed_limits[(speed_limits.posted_spe > 10) & (speed_limits.posted_spe < 200)]"
   ]
  },
  {
   "cell_type": "code",
   "execution_count": 13,
   "metadata": {},
   "outputs": [],
   "source": [
    "#looking at the roads that have posted speed limits of over 200\n",
    "#looks like mostly local roads so we can replace with median speed limit\n",
    "#speed_limits.loc[(speed_limits.posted_spe > 200)].explore()"
   ]
  },
  {
   "cell_type": "code",
   "execution_count": 13,
   "metadata": {},
   "outputs": [],
   "source": [
    "#replacing speed limits > 200 with speed limit = 50\n",
    "speed_limits.loc[(speed_limits.posted_spe > 200), 'posted_spe'] = 50"
   ]
  },
  {
   "cell_type": "code",
   "execution_count": 17,
   "metadata": {},
   "outputs": [],
   "source": [
    "#looking at speed limits where limit < 10\n",
    "#speed_limits.loc[(speed_limits.posted_spe < 10)].explore()"
   ]
  },
  {
   "cell_type": "code",
   "execution_count": 14,
   "metadata": {},
   "outputs": [],
   "source": [
    "#different types of roads but mostly local roads\n",
    "#replace with median speed limit\n",
    "speed_limits.loc[(speed_limits.posted_spe < 10), 'posted_spe'] = 40"
   ]
  },
  {
   "cell_type": "code",
   "execution_count": 15,
   "metadata": {},
   "outputs": [
    {
     "data": {
      "text/plain": [
       "count    58956.000000\n",
       "mean        44.576973\n",
       "std         11.272787\n",
       "min         20.000000\n",
       "25%         40.000000\n",
       "50%         40.000000\n",
       "75%         50.000000\n",
       "max        100.000000\n",
       "Name: posted_spe, dtype: float64"
      ]
     },
     "execution_count": 15,
     "metadata": {},
     "output_type": "execute_result"
    }
   ],
   "source": [
    "#checking summary statistics of speed limits again\n",
    "speed_limits.posted_spe.describe()"
   ]
  },
  {
   "cell_type": "code",
   "execution_count": 16,
   "metadata": {},
   "outputs": [
    {
     "data": {
      "text/plain": [
       "array([[<AxesSubplot:title={'center':'posted_spe'}>]], dtype=object)"
      ]
     },
     "execution_count": 16,
     "metadata": {},
     "output_type": "execute_result"
    },
    {
     "data": {
      "image/png": "[encoded data removed]",
      "text/plain": [
       "<Figure size 432x288 with 1 Axes>"
      ]
     },
     "metadata": {
      "needs_background": "light"
     },
     "output_type": "display_data"
    }
   ],
   "source": [
    "speed_limits.hist()"
   ]
  },
  {
   "cell_type": "code",
   "execution_count": 18,
   "metadata": {},
   "outputs": [],
   "source": [
    "#rename columns\n",
    "speed_limits.rename(columns={'posted_spe':'speed_limit','lf_name':'road_name','mar13rc_11':'road_class'},inplace=True)"
   ]
  },
  {
   "cell_type": "code",
   "execution_count": 19,
   "metadata": {},
   "outputs": [
    {
     "data": {
      "text/html": [
       "<div>\n",
       "<style scoped>\n",
       "    .dataframe tbody tr th:only-of-type {\n",
       "        vertical-align: middle;\n",
       "    }\n",
       "\n",
       "    .dataframe tbody tr th {\n",
       "        vertical-align: top;\n",
       "    }\n",
       "\n",
       "    .dataframe thead th {\n",
       "        text-align: right;\n",
       "    }\n",
       "</style>\n",
       "<table border=\"1\" class=\"dataframe\">\n",
       "  <thead>\n",
       "    <tr style=\"text-align: right;\">\n",
       "      <th></th>\n",
       "      <th>road_name</th>\n",
       "      <th>road_class</th>\n",
       "      <th>speed_limit</th>\n",
       "      <th>geometry</th>\n",
       "    </tr>\n",
       "  </thead>\n",
       "  <tbody>\n",
       "    <tr>\n",
       "      <th>0</th>\n",
       "      <td>ROGERS RD</td>\n",
       "      <td>Minor Arterial</td>\n",
       "      <td>40</td>\n",
       "      <td>LINESTRING (-79.46436 43.68254, -79.46542 43.6...</td>\n",
       "    </tr>\n",
       "    <tr>\n",
       "      <th>1</th>\n",
       "      <td>ROGERS RD</td>\n",
       "      <td>Minor Arterial</td>\n",
       "      <td>40</td>\n",
       "      <td>LINESTRING (-79.46328 43.68278, -79.46436 43.6...</td>\n",
       "    </tr>\n",
       "    <tr>\n",
       "      <th>2</th>\n",
       "      <td>ROSETHORN AVE</td>\n",
       "      <td>Local</td>\n",
       "      <td>50</td>\n",
       "      <td>LINESTRING (-79.46375 43.68108, -79.46436 43.6...</td>\n",
       "    </tr>\n",
       "    <tr>\n",
       "      <th>3</th>\n",
       "      <td>SILVERTHORN AVE</td>\n",
       "      <td>Collector</td>\n",
       "      <td>50</td>\n",
       "      <td>LINESTRING (-79.46267 43.68132, -79.46328 43.6...</td>\n",
       "    </tr>\n",
       "    <tr>\n",
       "      <th>4</th>\n",
       "      <td>BLACKTHORN AVE</td>\n",
       "      <td>Local</td>\n",
       "      <td>40</td>\n",
       "      <td>LINESTRING (-79.46183 43.68211, -79.46216 43.6...</td>\n",
       "    </tr>\n",
       "  </tbody>\n",
       "</table>\n",
       "</div>"
      ],
      "text/plain": [
       "         road_name      road_class  speed_limit  \\\n",
       "0        ROGERS RD  Minor Arterial           40   \n",
       "1        ROGERS RD  Minor Arterial           40   \n",
       "2    ROSETHORN AVE           Local           50   \n",
       "3  SILVERTHORN AVE       Collector           50   \n",
       "4   BLACKTHORN AVE           Local           40   \n",
       "\n",
       "                                            geometry  \n",
       "0  LINESTRING (-79.46436 43.68254, -79.46542 43.6...  \n",
       "1  LINESTRING (-79.46328 43.68278, -79.46436 43.6...  \n",
       "2  LINESTRING (-79.46375 43.68108, -79.46436 43.6...  \n",
       "3  LINESTRING (-79.46267 43.68132, -79.46328 43.6...  \n",
       "4  LINESTRING (-79.46183 43.68211, -79.46216 43.6...  "
      ]
     },
     "execution_count": 19,
     "metadata": {},
     "output_type": "execute_result"
    }
   ],
   "source": [
    "speed_limits.head()"
   ]
  },
  {
   "cell_type": "code",
   "execution_count": 22,
   "metadata": {},
   "outputs": [],
   "source": [
    "#extracting latitude and longitude values from the linestring centroids\n",
    "#speed_limits['latitude'] = speed_limits.apply(lambda x: x.geometry.centroid.coords[0][1], axis=1)\n",
    "#speed_limits['longitude'] = speed_limits.apply(lambda x: x.geometry.centroid.coords[0][0], axis=1)"
   ]
  },
  {
   "cell_type": "code",
   "execution_count": 22,
   "metadata": {},
   "outputs": [],
   "source": [
    "#speed_limits.explore()"
   ]
  },
  {
   "cell_type": "code",
   "execution_count": 24,
   "metadata": {},
   "outputs": [
    {
     "ename": "IndentationError",
     "evalue": "unexpected indent (3795545862.py, line 13)",
     "output_type": "error",
     "traceback": [
      "\u001b[0;36m  Input \u001b[0;32mIn [24]\u001b[0;36m\u001b[0m\n\u001b[0;31m    a = coordinates[0]\u001b[0m\n\u001b[0m    ^\u001b[0m\n\u001b[0;31mIndentationError\u001b[0m\u001b[0;31m:\u001b[0m unexpected indent\n"
     ]
    }
   ],
   "source": [
    "#combining latitude and longitudes to form coordinates column\n",
    "#speed_limits['coordinates'] = speed_limits.apply(lambda x: (x.latitude, x.longitude), axis=1)\n",
    "\n",
    "#create hex cells for bike lanes\n",
    "\n",
    "#create coordinate column\n",
    "#pedestrian_crossover_exploded['coordinates'] = pedestrian_crossover_exploded['latitude'].astype('str') + ',' + pedestrian_crossover_exploded['longitude'].astype('str')\n",
    "\n",
    "#then we define the function to get h3 hex cells from coordinates data\n",
    "#def get_hex_cell(coordinates):\n",
    "    #a = float(coordinates.split(',')[0])\n",
    "    #b = float(coordinates.split(',')[1])\n",
    "    a = coordinates[0]\n",
    "    b = coordinates[1]\n",
    "    return h3.latlng_to_cell(a,b,res=10)\n",
    "\n",
    "#finally, create a new column for hex cells by applying the function on coordinates column\n",
    "#speed_limits['hex_cell'] = speed_limits['coordinates'].apply(get_hex_cell)"
   ]
  },
  {
   "cell_type": "code",
   "execution_count": 23,
   "metadata": {},
   "outputs": [
    {
     "data": {
      "text/html": [
       "<div>\n",
       "<style scoped>\n",
       "    .dataframe tbody tr th:only-of-type {\n",
       "        vertical-align: middle;\n",
       "    }\n",
       "\n",
       "    .dataframe tbody tr th {\n",
       "        vertical-align: top;\n",
       "    }\n",
       "\n",
       "    .dataframe thead th {\n",
       "        text-align: right;\n",
       "    }\n",
       "</style>\n",
       "<table border=\"1\" class=\"dataframe\">\n",
       "  <thead>\n",
       "    <tr style=\"text-align: right;\">\n",
       "      <th></th>\n",
       "      <th>road_name</th>\n",
       "      <th>road_class</th>\n",
       "      <th>speed_limit</th>\n",
       "      <th>geometry</th>\n",
       "    </tr>\n",
       "  </thead>\n",
       "  <tbody>\n",
       "    <tr>\n",
       "      <th>0</th>\n",
       "      <td>ROGERS RD</td>\n",
       "      <td>Minor Arterial</td>\n",
       "      <td>40</td>\n",
       "      <td>LINESTRING (-79.46436 43.68254, -79.46542 43.6...</td>\n",
       "    </tr>\n",
       "    <tr>\n",
       "      <th>1</th>\n",
       "      <td>ROGERS RD</td>\n",
       "      <td>Minor Arterial</td>\n",
       "      <td>40</td>\n",
       "      <td>LINESTRING (-79.46328 43.68278, -79.46436 43.6...</td>\n",
       "    </tr>\n",
       "    <tr>\n",
       "      <th>2</th>\n",
       "      <td>ROSETHORN AVE</td>\n",
       "      <td>Local</td>\n",
       "      <td>50</td>\n",
       "      <td>LINESTRING (-79.46375 43.68108, -79.46436 43.6...</td>\n",
       "    </tr>\n",
       "    <tr>\n",
       "      <th>3</th>\n",
       "      <td>SILVERTHORN AVE</td>\n",
       "      <td>Collector</td>\n",
       "      <td>50</td>\n",
       "      <td>LINESTRING (-79.46267 43.68132, -79.46328 43.6...</td>\n",
       "    </tr>\n",
       "    <tr>\n",
       "      <th>4</th>\n",
       "      <td>BLACKTHORN AVE</td>\n",
       "      <td>Local</td>\n",
       "      <td>40</td>\n",
       "      <td>LINESTRING (-79.46183 43.68211, -79.46216 43.6...</td>\n",
       "    </tr>\n",
       "  </tbody>\n",
       "</table>\n",
       "</div>"
      ],
      "text/plain": [
       "         road_name      road_class  speed_limit  \\\n",
       "0        ROGERS RD  Minor Arterial           40   \n",
       "1        ROGERS RD  Minor Arterial           40   \n",
       "2    ROSETHORN AVE           Local           50   \n",
       "3  SILVERTHORN AVE       Collector           50   \n",
       "4   BLACKTHORN AVE           Local           40   \n",
       "\n",
       "                                            geometry  \n",
       "0  LINESTRING (-79.46436 43.68254, -79.46542 43.6...  \n",
       "1  LINESTRING (-79.46328 43.68278, -79.46436 43.6...  \n",
       "2  LINESTRING (-79.46375 43.68108, -79.46436 43.6...  \n",
       "3  LINESTRING (-79.46267 43.68132, -79.46328 43.6...  \n",
       "4  LINESTRING (-79.46183 43.68211, -79.46216 43.6...  "
      ]
     },
     "execution_count": 23,
     "metadata": {},
     "output_type": "execute_result"
    }
   ],
   "source": [
    "speed_limits.head()"
   ]
  },
  {
   "cell_type": "code",
   "execution_count": 24,
   "metadata": {},
   "outputs": [
    {
     "data": {
      "text/plain": [
       "geopandas.geodataframe.GeoDataFrame"
      ]
     },
     "execution_count": 24,
     "metadata": {},
     "output_type": "execute_result"
    }
   ],
   "source": [
    "type(speed_limits)"
   ]
  },
  {
   "cell_type": "code",
   "execution_count": 28,
   "metadata": {},
   "outputs": [],
   "source": [
    "#saving file as geojson\n",
    "speed_limits.to_file('speed_limits_processed.geojson',driver='GeoJSON')"
   ]
  },
  {
   "cell_type": "code",
   "execution_count": null,
   "metadata": {},
   "outputs": [],
   "source": []
  }
 ],
 "metadata": {
  "kernelspec": {
   "display_name": "base",
   "language": "python",
   "name": "python3"
  },
  "language_info": {
   "codemirror_mode": {
    "name": "ipython",
    "version": 3
   },
   "file_extension": ".py",
   "mimetype": "text/x-python",
   "name": "python",
   "nbconvert_exporter": "python",
   "pygments_lexer": "ipython3",
   "version": "3.9.12"
  },
  "orig_nbformat": 4
 },
 "nbformat": 4,
 "nbformat_minor": 2
}
