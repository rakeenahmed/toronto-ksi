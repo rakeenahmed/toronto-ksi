{
 "cells": [
  {
   "cell_type": "code",
   "execution_count": 1,
   "metadata": {},
   "outputs": [
    {
     "name": "stderr",
     "output_type": "stream",
     "text": [
      "/Users/rakeenahmed/opt/anaconda3/lib/python3.9/site-packages/scipy/__init__.py:146: UserWarning: A NumPy version >=1.16.5 and <1.23.0 is required for this version of SciPy (detected version 1.23.5\n",
      "  warnings.warn(f\"A NumPy version >={np_minversion} and <{np_maxversion}\"\n"
     ]
    }
   ],
   "source": [
    "import numpy as np\n",
    "import pandas as pd\n",
    "import geopandas as gpd\n",
    "import keplergl\n",
    "#from keplergl import KeplerGL\n",
    "import matplotlib as plt\n",
    "import plotly.express as px\n",
    "import h3\n",
    "import shapely\n",
    "from geopandas import GeoDataFrame,GeoSeries\n",
    "import folium\n",
    "import matplotlib\n",
    "%matplotlib inline"
   ]
  },
  {
   "cell_type": "code",
   "execution_count": 2,
   "metadata": {},
   "outputs": [],
   "source": [
    "road_network = gpd.read_file('Ontario_Road_Network_(ORN)_Segment_With_Address (1).geojson')"
   ]
  },
  {
   "cell_type": "code",
   "execution_count": 3,
   "metadata": {},
   "outputs": [],
   "source": [
    "#convert column names to lowercase\n",
    "road_network.columns = [s.strip().lower() for s in road_network.columns]"
   ]
  },
  {
   "cell_type": "code",
   "execution_count": 4,
   "metadata": {},
   "outputs": [
    {
     "data": {
      "text/plain": [
       "(607277, 38)"
      ]
     },
     "execution_count": 4,
     "metadata": {},
     "output_type": "execute_result"
    }
   ],
   "source": [
    "road_network.shape"
   ]
  },
  {
   "cell_type": "code",
   "execution_count": 5,
   "metadata": {},
   "outputs": [
    {
     "data": {
      "text/plain": [
       "Index(['ogf_id', 'official_street_name', 'abbreviated_street_name',\n",
       "       'alternate_street_name', 'directional_prefix', 'street_type_prefix',\n",
       "       'street_name_body', 'street_type_suffix', 'directional_suffix',\n",
       "       'road_class', 'road_element_type', 'l_first_house_number',\n",
       "       'l_last_house_number', 'l_house_number_structure',\n",
       "       'l_original_municipality', 'l_standard_municipality',\n",
       "       'r_first_house_number', 'r_last_house_number',\n",
       "       'r_house_number_structure', 'r_original_municipality',\n",
       "       'r_standard_municipality', 'direction_of_traffic_flow', 'route_name_1',\n",
       "       'route_name_2', 'route_name_3', 'route_name_4', 'route_number_1',\n",
       "       'route_number_2', 'route_number_3', 'shield_type', 'length',\n",
       "       'geometry_update_datetime', 'effective_datetime', 'system_datetime',\n",
       "       'objectid', 'shapelen', 'shape', 'geometry'],\n",
       "      dtype='object')"
      ]
     },
     "execution_count": 5,
     "metadata": {},
     "output_type": "execute_result"
    }
   ],
   "source": [
    "road_network.columns"
   ]
  },
  {
   "cell_type": "code",
   "execution_count": 6,
   "metadata": {},
   "outputs": [],
   "source": [
    "#filter only toronto roads\n",
    "road_network = road_network[road_network['r_standard_municipality'] == 'City of Toronto']"
   ]
  },
  {
   "cell_type": "code",
   "execution_count": 7,
   "metadata": {},
   "outputs": [
    {
     "data": {
      "text/plain": [
       "(50066, 38)"
      ]
     },
     "execution_count": 7,
     "metadata": {},
     "output_type": "execute_result"
    }
   ],
   "source": [
    "#check dataframe shape of remaining rows\n",
    "road_network.shape"
   ]
  },
  {
   "cell_type": "code",
   "execution_count": 8,
   "metadata": {},
   "outputs": [],
   "source": [
    "#dropping unneccessary columns\n",
    "\n",
    "#specifying columns to keep\n",
    "cols_to_keep = ['official_street_name','road_class','geometry']\n",
    "\n",
    "#dropping columns\n",
    "road_network = road_network[cols_to_keep]"
   ]
  },
  {
   "cell_type": "code",
   "execution_count": 9,
   "metadata": {},
   "outputs": [
    {
     "data": {
      "text/html": [
       "<div>\n",
       "<style scoped>\n",
       "    .dataframe tbody tr th:only-of-type {\n",
       "        vertical-align: middle;\n",
       "    }\n",
       "\n",
       "    .dataframe tbody tr th {\n",
       "        vertical-align: top;\n",
       "    }\n",
       "\n",
       "    .dataframe thead th {\n",
       "        text-align: right;\n",
       "    }\n",
       "</style>\n",
       "<table border=\"1\" class=\"dataframe\">\n",
       "  <thead>\n",
       "    <tr style=\"text-align: right;\">\n",
       "      <th></th>\n",
       "      <th>official_street_name</th>\n",
       "      <th>road_class</th>\n",
       "      <th>geometry</th>\n",
       "    </tr>\n",
       "  </thead>\n",
       "  <tbody>\n",
       "    <tr>\n",
       "      <th>14</th>\n",
       "      <td>JOHN TABOR TRAIL</td>\n",
       "      <td>Collector</td>\n",
       "      <td>LINESTRING (-79.20635 43.80700, -79.20645 43.8...</td>\n",
       "    </tr>\n",
       "    <tr>\n",
       "      <th>17</th>\n",
       "      <td>HILLCREST AVENUE</td>\n",
       "      <td>Local / Street</td>\n",
       "      <td>LINESTRING (-79.40732 43.76861, -79.40474 43.7...</td>\n",
       "    </tr>\n",
       "    <tr>\n",
       "      <th>24</th>\n",
       "      <td>KINGSTON ROAD</td>\n",
       "      <td>Arterial</td>\n",
       "      <td>LINESTRING (-79.25200 43.70537, -79.25138 43.7...</td>\n",
       "    </tr>\n",
       "    <tr>\n",
       "      <th>68</th>\n",
       "      <td>IAN MACDONALD BOULEVARD</td>\n",
       "      <td>Local / Strata</td>\n",
       "      <td>LINESTRING (-79.49831 43.77091, -79.49836 43.7...</td>\n",
       "    </tr>\n",
       "    <tr>\n",
       "      <th>161</th>\n",
       "      <td>SARGENT LANE</td>\n",
       "      <td>Local / Street</td>\n",
       "      <td>LINESTRING (-79.29759 43.68485, -79.29664 43.6...</td>\n",
       "    </tr>\n",
       "  </tbody>\n",
       "</table>\n",
       "</div>"
      ],
      "text/plain": [
       "        official_street_name      road_class  \\\n",
       "14          JOHN TABOR TRAIL       Collector   \n",
       "17          HILLCREST AVENUE  Local / Street   \n",
       "24             KINGSTON ROAD        Arterial   \n",
       "68   IAN MACDONALD BOULEVARD  Local / Strata   \n",
       "161             SARGENT LANE  Local / Street   \n",
       "\n",
       "                                              geometry  \n",
       "14   LINESTRING (-79.20635 43.80700, -79.20645 43.8...  \n",
       "17   LINESTRING (-79.40732 43.76861, -79.40474 43.7...  \n",
       "24   LINESTRING (-79.25200 43.70537, -79.25138 43.7...  \n",
       "68   LINESTRING (-79.49831 43.77091, -79.49836 43.7...  \n",
       "161  LINESTRING (-79.29759 43.68485, -79.29664 43.6...  "
      ]
     },
     "execution_count": 9,
     "metadata": {},
     "output_type": "execute_result"
    }
   ],
   "source": [
    "road_network.head()"
   ]
  },
  {
   "cell_type": "code",
   "execution_count": 40,
   "metadata": {},
   "outputs": [],
   "source": [
    "#extracting latitude and longitude values from the linestring centroids\n",
    "#road_network['latitude'] = road_network.apply(lambda x: x.geometry.centroid.coords[0][1], axis=1)\n",
    "#road_network['longitude'] = road_network.apply(lambda x: x.geometry.centroid.coords[0][0], axis=1)"
   ]
  },
  {
   "cell_type": "code",
   "execution_count": 41,
   "metadata": {},
   "outputs": [],
   "source": [
    "#combining latitude and longitudes to form coordinates column\n",
    "#road_network['coordinates'] = road_network.apply(lambda x: (x.latitude, x.longitude), axis=1)\n",
    "\n",
    "#create hex cells for bike lanes\n",
    "\n",
    "#create coordinate column\n",
    "#pedestrian_crossover_exploded['coordinates'] = pedestrian_crossover_exploded['latitude'].astype('str') + ',' + pedestrian_crossover_exploded['longitude'].astype('str')\n",
    "\n",
    "#then we define the function to get h3 hex cells from coordinates data\n",
    "#def get_hex_cell(coordinates):\n",
    "    #a = float(coordinates.split(',')[0])\n",
    "    #b = float(coordinates.split(',')[1])\n",
    "    a = coordinates[0]\n",
    "    b = coordinates[1]\n",
    "    return h3.latlng_to_cell(a,b,res=10)\n",
    "\n",
    "#finally, create a new column for hex cells by applying the function on coordinates column\n",
    "#road_network['hex_cell'] = road_network['coordinates'].apply(get_hex_cell)"
   ]
  },
  {
   "cell_type": "code",
   "execution_count": 10,
   "metadata": {},
   "outputs": [
    {
     "data": {
      "text/html": [
       "<div>\n",
       "<style scoped>\n",
       "    .dataframe tbody tr th:only-of-type {\n",
       "        vertical-align: middle;\n",
       "    }\n",
       "\n",
       "    .dataframe tbody tr th {\n",
       "        vertical-align: top;\n",
       "    }\n",
       "\n",
       "    .dataframe thead th {\n",
       "        text-align: right;\n",
       "    }\n",
       "</style>\n",
       "<table border=\"1\" class=\"dataframe\">\n",
       "  <thead>\n",
       "    <tr style=\"text-align: right;\">\n",
       "      <th></th>\n",
       "      <th>official_street_name</th>\n",
       "      <th>road_class</th>\n",
       "      <th>geometry</th>\n",
       "    </tr>\n",
       "  </thead>\n",
       "  <tbody>\n",
       "    <tr>\n",
       "      <th>14</th>\n",
       "      <td>JOHN TABOR TRAIL</td>\n",
       "      <td>Collector</td>\n",
       "      <td>LINESTRING (-79.20635 43.80700, -79.20645 43.8...</td>\n",
       "    </tr>\n",
       "    <tr>\n",
       "      <th>17</th>\n",
       "      <td>HILLCREST AVENUE</td>\n",
       "      <td>Local / Street</td>\n",
       "      <td>LINESTRING (-79.40732 43.76861, -79.40474 43.7...</td>\n",
       "    </tr>\n",
       "    <tr>\n",
       "      <th>24</th>\n",
       "      <td>KINGSTON ROAD</td>\n",
       "      <td>Arterial</td>\n",
       "      <td>LINESTRING (-79.25200 43.70537, -79.25138 43.7...</td>\n",
       "    </tr>\n",
       "    <tr>\n",
       "      <th>68</th>\n",
       "      <td>IAN MACDONALD BOULEVARD</td>\n",
       "      <td>Local / Strata</td>\n",
       "      <td>LINESTRING (-79.49831 43.77091, -79.49836 43.7...</td>\n",
       "    </tr>\n",
       "    <tr>\n",
       "      <th>161</th>\n",
       "      <td>SARGENT LANE</td>\n",
       "      <td>Local / Street</td>\n",
       "      <td>LINESTRING (-79.29759 43.68485, -79.29664 43.6...</td>\n",
       "    </tr>\n",
       "  </tbody>\n",
       "</table>\n",
       "</div>"
      ],
      "text/plain": [
       "        official_street_name      road_class  \\\n",
       "14          JOHN TABOR TRAIL       Collector   \n",
       "17          HILLCREST AVENUE  Local / Street   \n",
       "24             KINGSTON ROAD        Arterial   \n",
       "68   IAN MACDONALD BOULEVARD  Local / Strata   \n",
       "161             SARGENT LANE  Local / Street   \n",
       "\n",
       "                                              geometry  \n",
       "14   LINESTRING (-79.20635 43.80700, -79.20645 43.8...  \n",
       "17   LINESTRING (-79.40732 43.76861, -79.40474 43.7...  \n",
       "24   LINESTRING (-79.25200 43.70537, -79.25138 43.7...  \n",
       "68   LINESTRING (-79.49831 43.77091, -79.49836 43.7...  \n",
       "161  LINESTRING (-79.29759 43.68485, -79.29664 43.6...  "
      ]
     },
     "execution_count": 10,
     "metadata": {},
     "output_type": "execute_result"
    }
   ],
   "source": [
    "road_network.head()"
   ]
  },
  {
   "cell_type": "code",
   "execution_count": 43,
   "metadata": {},
   "outputs": [],
   "source": [
    "road_network.to_csv('road_network_processed.csv')"
   ]
  },
  {
   "cell_type": "code",
   "execution_count": 11,
   "metadata": {},
   "outputs": [],
   "source": [
    "road_network.to_file('road_network_processed.geojson',driver='GeoJSON')"
   ]
  },
  {
   "cell_type": "markdown",
   "metadata": {},
   "source": [
    "# Intersections"
   ]
  },
  {
   "cell_type": "code",
   "execution_count": 21,
   "metadata": {},
   "outputs": [],
   "source": [
    "intersections = gpd.read_file('Centreline Intersection - 4326.geojson')"
   ]
  },
  {
   "cell_type": "code",
   "execution_count": 22,
   "metadata": {},
   "outputs": [
    {
     "data": {
      "text/html": [
       "<div>\n",
       "<style scoped>\n",
       "    .dataframe tbody tr th:only-of-type {\n",
       "        vertical-align: middle;\n",
       "    }\n",
       "\n",
       "    .dataframe tbody tr th {\n",
       "        vertical-align: top;\n",
       "    }\n",
       "\n",
       "    .dataframe thead th {\n",
       "        text-align: right;\n",
       "    }\n",
       "</style>\n",
       "<table border=\"1\" class=\"dataframe\">\n",
       "  <thead>\n",
       "    <tr style=\"text-align: right;\">\n",
       "      <th></th>\n",
       "      <th>_id</th>\n",
       "      <th>INTERSECTION_ID</th>\n",
       "      <th>DATE_EFFECTIVE</th>\n",
       "      <th>DATE_EXPIRY</th>\n",
       "      <th>ELEVATION_ID</th>\n",
       "      <th>INTERSECTION_DESC</th>\n",
       "      <th>CLASSIFICATION</th>\n",
       "      <th>CLASSIFICATION_DESC</th>\n",
       "      <th>NUMBER_OF_ELEVATIONS</th>\n",
       "      <th>ELEVATION_FEATURE_CODE</th>\n",
       "      <th>...</th>\n",
       "      <th>ELEVATION_LEVEL</th>\n",
       "      <th>ELEVATION</th>\n",
       "      <th>ELEVATION_UNIT</th>\n",
       "      <th>HEIGHT_RESTRICTION</th>\n",
       "      <th>HEIGHT_RESTRICTION_UNIT</th>\n",
       "      <th>STATE</th>\n",
       "      <th>TRANS_ID_CREATE</th>\n",
       "      <th>TRANS_ID_EXPIRE</th>\n",
       "      <th>OBJECTID</th>\n",
       "      <th>geometry</th>\n",
       "    </tr>\n",
       "  </thead>\n",
       "  <tbody>\n",
       "    <tr>\n",
       "      <th>0</th>\n",
       "      <td>1</td>\n",
       "      <td>13470264</td>\n",
       "      <td>2008-12-12 04:22:46</td>\n",
       "      <td>3000-01-01T05:00:00</td>\n",
       "      <td>13</td>\n",
       "      <td>Robindale Ave / Rimilton Ave</td>\n",
       "      <td>MNRSL</td>\n",
       "      <td>Minor-Single Level</td>\n",
       "      <td>1</td>\n",
       "      <td>501300</td>\n",
       "      <td>...</td>\n",
       "      <td>0</td>\n",
       "      <td>0.0</td>\n",
       "      <td>None</td>\n",
       "      <td>0.0</td>\n",
       "      <td>None</td>\n",
       "      <td>8</td>\n",
       "      <td>200000</td>\n",
       "      <td>-1</td>\n",
       "      <td>1</td>\n",
       "      <td>MULTIPOINT (-79.53107 43.60724)</td>\n",
       "    </tr>\n",
       "    <tr>\n",
       "      <th>1</th>\n",
       "      <td>2</td>\n",
       "      <td>13470193</td>\n",
       "      <td>2008-12-12 04:22:46</td>\n",
       "      <td>3000-01-01T05:00:00</td>\n",
       "      <td>4718</td>\n",
       "      <td>Bellman Ave / Valermo Dr</td>\n",
       "      <td>MNRSL</td>\n",
       "      <td>Minor-Single Level</td>\n",
       "      <td>1</td>\n",
       "      <td>501300</td>\n",
       "      <td>...</td>\n",
       "      <td>0</td>\n",
       "      <td>0.0</td>\n",
       "      <td>None</td>\n",
       "      <td>0.0</td>\n",
       "      <td>None</td>\n",
       "      <td>8</td>\n",
       "      <td>200000</td>\n",
       "      <td>-1</td>\n",
       "      <td>4</td>\n",
       "      <td>MULTIPOINT (-79.53137 43.60960)</td>\n",
       "    </tr>\n",
       "    <tr>\n",
       "      <th>2</th>\n",
       "      <td>3</td>\n",
       "      <td>13470188</td>\n",
       "      <td>2008-12-12 04:22:46</td>\n",
       "      <td>3000-01-01T05:00:00</td>\n",
       "      <td>32728</td>\n",
       "      <td>Rimilton Ave / Valermo Dr</td>\n",
       "      <td>SEUSL</td>\n",
       "      <td>Pseudo Intersection-Single Level</td>\n",
       "      <td>1</td>\n",
       "      <td>509200</td>\n",
       "      <td>...</td>\n",
       "      <td>0</td>\n",
       "      <td>0.0</td>\n",
       "      <td>None</td>\n",
       "      <td>0.0</td>\n",
       "      <td>None</td>\n",
       "      <td>8</td>\n",
       "      <td>200000</td>\n",
       "      <td>-1</td>\n",
       "      <td>5</td>\n",
       "      <td>MULTIPOINT (-79.53012 43.60983)</td>\n",
       "    </tr>\n",
       "    <tr>\n",
       "      <th>3</th>\n",
       "      <td>4</td>\n",
       "      <td>13470203</td>\n",
       "      <td>2008-12-12 04:22:46</td>\n",
       "      <td>3000-01-01T05:00:00</td>\n",
       "      <td>21669</td>\n",
       "      <td>Valermo Dr / Goa Crt</td>\n",
       "      <td>MNRSL</td>\n",
       "      <td>Minor-Single Level</td>\n",
       "      <td>1</td>\n",
       "      <td>501300</td>\n",
       "      <td>...</td>\n",
       "      <td>0</td>\n",
       "      <td>0.0</td>\n",
       "      <td>None</td>\n",
       "      <td>0.0</td>\n",
       "      <td>None</td>\n",
       "      <td>8</td>\n",
       "      <td>200000</td>\n",
       "      <td>-1</td>\n",
       "      <td>7</td>\n",
       "      <td>MULTIPOINT (-79.53317 43.60919)</td>\n",
       "    </tr>\n",
       "    <tr>\n",
       "      <th>4</th>\n",
       "      <td>5</td>\n",
       "      <td>13470228</td>\n",
       "      <td>2008-12-12 04:22:46</td>\n",
       "      <td>3000-01-01T05:00:00</td>\n",
       "      <td>36820</td>\n",
       "      <td>Valermo Dr / Thirtieth St</td>\n",
       "      <td>MNRSL</td>\n",
       "      <td>Minor-Single Level</td>\n",
       "      <td>1</td>\n",
       "      <td>501300</td>\n",
       "      <td>...</td>\n",
       "      <td>0</td>\n",
       "      <td>0.0</td>\n",
       "      <td>None</td>\n",
       "      <td>0.0</td>\n",
       "      <td>None</td>\n",
       "      <td>8</td>\n",
       "      <td>200000</td>\n",
       "      <td>-1</td>\n",
       "      <td>9</td>\n",
       "      <td>MULTIPOINT (-79.53559 43.60864)</td>\n",
       "    </tr>\n",
       "  </tbody>\n",
       "</table>\n",
       "<p>5 rows × 21 columns</p>\n",
       "</div>"
      ],
      "text/plain": [
       "   _id  INTERSECTION_ID      DATE_EFFECTIVE          DATE_EXPIRY  \\\n",
       "0    1         13470264 2008-12-12 04:22:46  3000-01-01T05:00:00   \n",
       "1    2         13470193 2008-12-12 04:22:46  3000-01-01T05:00:00   \n",
       "2    3         13470188 2008-12-12 04:22:46  3000-01-01T05:00:00   \n",
       "3    4         13470203 2008-12-12 04:22:46  3000-01-01T05:00:00   \n",
       "4    5         13470228 2008-12-12 04:22:46  3000-01-01T05:00:00   \n",
       "\n",
       "   ELEVATION_ID             INTERSECTION_DESC CLASSIFICATION  \\\n",
       "0            13  Robindale Ave / Rimilton Ave          MNRSL   \n",
       "1          4718      Bellman Ave / Valermo Dr          MNRSL   \n",
       "2         32728     Rimilton Ave / Valermo Dr          SEUSL   \n",
       "3         21669          Valermo Dr / Goa Crt          MNRSL   \n",
       "4         36820     Valermo Dr / Thirtieth St          MNRSL   \n",
       "\n",
       "                CLASSIFICATION_DESC  NUMBER_OF_ELEVATIONS  \\\n",
       "0                Minor-Single Level                     1   \n",
       "1                Minor-Single Level                     1   \n",
       "2  Pseudo Intersection-Single Level                     1   \n",
       "3                Minor-Single Level                     1   \n",
       "4                Minor-Single Level                     1   \n",
       "\n",
       "   ELEVATION_FEATURE_CODE  ... ELEVATION_LEVEL  ELEVATION  ELEVATION_UNIT  \\\n",
       "0                  501300  ...               0        0.0            None   \n",
       "1                  501300  ...               0        0.0            None   \n",
       "2                  509200  ...               0        0.0            None   \n",
       "3                  501300  ...               0        0.0            None   \n",
       "4                  501300  ...               0        0.0            None   \n",
       "\n",
       "  HEIGHT_RESTRICTION  HEIGHT_RESTRICTION_UNIT STATE  TRANS_ID_CREATE  \\\n",
       "0                0.0                     None     8           200000   \n",
       "1                0.0                     None     8           200000   \n",
       "2                0.0                     None     8           200000   \n",
       "3                0.0                     None     8           200000   \n",
       "4                0.0                     None     8           200000   \n",
       "\n",
       "   TRANS_ID_EXPIRE  OBJECTID                         geometry  \n",
       "0               -1         1  MULTIPOINT (-79.53107 43.60724)  \n",
       "1               -1         4  MULTIPOINT (-79.53137 43.60960)  \n",
       "2               -1         5  MULTIPOINT (-79.53012 43.60983)  \n",
       "3               -1         7  MULTIPOINT (-79.53317 43.60919)  \n",
       "4               -1         9  MULTIPOINT (-79.53559 43.60864)  \n",
       "\n",
       "[5 rows x 21 columns]"
      ]
     },
     "execution_count": 22,
     "metadata": {},
     "output_type": "execute_result"
    }
   ],
   "source": [
    "intersections.head()"
   ]
  },
  {
   "cell_type": "code",
   "execution_count": 23,
   "metadata": {},
   "outputs": [],
   "source": [
    "intersections.columns = [s.strip().lower() for s in intersections.columns]"
   ]
  },
  {
   "cell_type": "code",
   "execution_count": 24,
   "metadata": {},
   "outputs": [
    {
     "data": {
      "text/plain": [
       "Index(['_id', 'intersection_id', 'date_effective', 'date_expiry',\n",
       "       'elevation_id', 'intersection_desc', 'classification',\n",
       "       'classification_desc', 'number_of_elevations', 'elevation_feature_code',\n",
       "       'elevation_feature_code_desc', 'elevation_level', 'elevation',\n",
       "       'elevation_unit', 'height_restriction', 'height_restriction_unit',\n",
       "       'state', 'trans_id_create', 'trans_id_expire', 'objectid', 'geometry'],\n",
       "      dtype='object')"
      ]
     },
     "execution_count": 24,
     "metadata": {},
     "output_type": "execute_result"
    }
   ],
   "source": [
    "intersections.columns"
   ]
  },
  {
   "cell_type": "code",
   "execution_count": 25,
   "metadata": {},
   "outputs": [],
   "source": [
    "#dropping unneccessary columns\n",
    "cols_to_keep = ['intersection_id','intersection_desc','geometry']\n",
    "intersections = intersections[cols_to_keep]"
   ]
  },
  {
   "cell_type": "code",
   "execution_count": 26,
   "metadata": {},
   "outputs": [],
   "source": [
    "#set intersection_id as id index\n",
    "#intersections.set_index('intersection_id',inplace=True)      "
   ]
  },
  {
   "cell_type": "code",
   "execution_count": 27,
   "metadata": {},
   "outputs": [
    {
     "data": {
      "text/html": [
       "<div>\n",
       "<style scoped>\n",
       "    .dataframe tbody tr th:only-of-type {\n",
       "        vertical-align: middle;\n",
       "    }\n",
       "\n",
       "    .dataframe tbody tr th {\n",
       "        vertical-align: top;\n",
       "    }\n",
       "\n",
       "    .dataframe thead th {\n",
       "        text-align: right;\n",
       "    }\n",
       "</style>\n",
       "<table border=\"1\" class=\"dataframe\">\n",
       "  <thead>\n",
       "    <tr style=\"text-align: right;\">\n",
       "      <th></th>\n",
       "      <th>intersection_id</th>\n",
       "      <th>intersection_desc</th>\n",
       "      <th>geometry</th>\n",
       "    </tr>\n",
       "  </thead>\n",
       "  <tbody>\n",
       "    <tr>\n",
       "      <th>0</th>\n",
       "      <td>13470264</td>\n",
       "      <td>Robindale Ave / Rimilton Ave</td>\n",
       "      <td>MULTIPOINT (-79.53107 43.60724)</td>\n",
       "    </tr>\n",
       "    <tr>\n",
       "      <th>1</th>\n",
       "      <td>13470193</td>\n",
       "      <td>Bellman Ave / Valermo Dr</td>\n",
       "      <td>MULTIPOINT (-79.53137 43.60960)</td>\n",
       "    </tr>\n",
       "    <tr>\n",
       "      <th>2</th>\n",
       "      <td>13470188</td>\n",
       "      <td>Rimilton Ave / Valermo Dr</td>\n",
       "      <td>MULTIPOINT (-79.53012 43.60983)</td>\n",
       "    </tr>\n",
       "    <tr>\n",
       "      <th>3</th>\n",
       "      <td>13470203</td>\n",
       "      <td>Valermo Dr / Goa Crt</td>\n",
       "      <td>MULTIPOINT (-79.53317 43.60919)</td>\n",
       "    </tr>\n",
       "    <tr>\n",
       "      <th>4</th>\n",
       "      <td>13470228</td>\n",
       "      <td>Valermo Dr / Thirtieth St</td>\n",
       "      <td>MULTIPOINT (-79.53559 43.60864)</td>\n",
       "    </tr>\n",
       "  </tbody>\n",
       "</table>\n",
       "</div>"
      ],
      "text/plain": [
       "   intersection_id             intersection_desc  \\\n",
       "0         13470264  Robindale Ave / Rimilton Ave   \n",
       "1         13470193      Bellman Ave / Valermo Dr   \n",
       "2         13470188     Rimilton Ave / Valermo Dr   \n",
       "3         13470203          Valermo Dr / Goa Crt   \n",
       "4         13470228     Valermo Dr / Thirtieth St   \n",
       "\n",
       "                          geometry  \n",
       "0  MULTIPOINT (-79.53107 43.60724)  \n",
       "1  MULTIPOINT (-79.53137 43.60960)  \n",
       "2  MULTIPOINT (-79.53012 43.60983)  \n",
       "3  MULTIPOINT (-79.53317 43.60919)  \n",
       "4  MULTIPOINT (-79.53559 43.60864)  "
      ]
     },
     "execution_count": 27,
     "metadata": {},
     "output_type": "execute_result"
    }
   ],
   "source": [
    "intersections.head()"
   ]
  },
  {
   "cell_type": "code",
   "execution_count": 29,
   "metadata": {},
   "outputs": [],
   "source": [
    "#saving as geojson file\n",
    "intersections.to_file('centreline_intersections_processed.geojson',driver='GeoJSON')"
   ]
  },
  {
   "cell_type": "code",
   "execution_count": null,
   "metadata": {},
   "outputs": [],
   "source": []
  }
 ],
 "metadata": {
  "kernelspec": {
   "display_name": "base",
   "language": "python",
   "name": "python3"
  },
  "language_info": {
   "codemirror_mode": {
    "name": "ipython",
    "version": 3
   },
   "file_extension": ".py",
   "mimetype": "text/x-python",
   "name": "python",
   "nbconvert_exporter": "python",
   "pygments_lexer": "ipython3",
   "version": "3.9.12"
  },
  "orig_nbformat": 4
 },
 "nbformat": 4,
 "nbformat_minor": 2
}
