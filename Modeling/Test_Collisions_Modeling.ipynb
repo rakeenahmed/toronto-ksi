{
 "cells": [
  {
   "cell_type": "markdown",
   "metadata": {},
   "source": [
    "# Feature Engineering"
   ]
  },
  {
   "cell_type": "code",
   "execution_count": 304,
   "metadata": {},
   "outputs": [],
   "source": [
    "#importing libraries\n",
    "import numpy as np\n",
    "import pandas as pd\n",
    "import geopandas as gpd\n",
    "import matplotlib as plt\n",
    "import plotly.express as px\n",
    "import shapely\n",
    "from geopandas import GeoDataFrame,GeoSeries\n",
    "import folium\n",
    "import matplotlib\n",
    "%matplotlib inline\n",
    "import seaborn as sns\n",
    "import plotly.express as px"
   ]
  },
  {
   "cell_type": "code",
   "execution_count": 305,
   "metadata": {},
   "outputs": [],
   "source": [
    "collisions = gpd.read_file('collisions_df.geojson')"
   ]
  },
  {
   "cell_type": "code",
   "execution_count": 306,
   "metadata": {},
   "outputs": [],
   "source": [
    "collisions = collisions_df"
   ]
  },
  {
   "cell_type": "code",
   "execution_count": 307,
   "metadata": {},
   "outputs": [
    {
     "name": "stderr",
     "output_type": "stream",
     "text": [
      "/Users/rakeenahmed/opt/anaconda3/lib/python3.9/site-packages/dtale/views.py:755: FutureWarning:\n",
      "\n",
      "['geometry'] did not aggregate successfully. If any error is raised this will raise in a future version of pandas. Drop these columns/ops to avoid this warning.\n",
      "\n"
     ]
    },
    {
     "data": {
      "text/html": [
       "\n",
       "        <iframe\n",
       "            width=\"100%\"\n",
       "            height=\"475\"\n",
       "            src=\"http://Rakeens-Air:40001/dtale/iframe/8\"\n",
       "            frameborder=\"0\"\n",
       "            allowfullscreen\n",
       "            \n",
       "        ></iframe>\n",
       "        "
      ],
      "text/plain": [
       "<IPython.lib.display.IFrame at 0x7f78f19c2a60>"
      ]
     },
     "metadata": {},
     "output_type": "display_data"
    },
    {
     "data": {
      "text/plain": []
     },
     "execution_count": 307,
     "metadata": {},
     "output_type": "execute_result"
    }
   ],
   "source": [
    "import dtale\n",
    "dtale.show(collisions)"
   ]
  },
  {
   "cell_type": "code",
   "execution_count": 308,
   "metadata": {},
   "outputs": [],
   "source": [
    "#set eventuniqueid as index\n",
    "collisions = collisions.set_index('eventuniqueid')"
   ]
  },
  {
   "cell_type": "markdown",
   "metadata": {},
   "source": [
    "# Modeling Test (Modeling on Untreated Data)"
   ]
  },
  {
   "cell_type": "code",
   "execution_count": 309,
   "metadata": {},
   "outputs": [],
   "source": [
    "excluded_columns = ['collisions_fatalities','collisions_injury_collisions','collisions_longitude','collisions_latitude','pct_vehicles','pct_pedestrians','pct_cyclists','pct_trucks','geometry','collisions_hour','collisions_year','road_name_collisions']\n",
    "outcome = ['collision_injury_fatal']\n",
    "predictors = [s for s in collisions.columns if s not in excluded_columns + outcome]"
   ]
  },
  {
   "cell_type": "code",
   "execution_count": 310,
   "metadata": {},
   "outputs": [
    {
     "data": {
      "text/plain": [
       "(35518, 194)"
      ]
     },
     "execution_count": 310,
     "metadata": {},
     "output_type": "execute_result"
    }
   ],
   "source": [
    "train_X_resampled.shape"
   ]
  },
  {
   "cell_type": "code",
   "execution_count": 311,
   "metadata": {},
   "outputs": [
    {
     "data": {
      "text/plain": [
       "(117374, 194)"
      ]
     },
     "execution_count": 311,
     "metadata": {},
     "output_type": "execute_result"
    }
   ],
   "source": [
    "train_X.shape"
   ]
  },
  {
   "cell_type": "code",
   "execution_count": 334,
   "metadata": {},
   "outputs": [],
   "source": [
    "X = pd.get_dummies(collisions[predictors])\n",
    "y = collisions[outcome]\n",
    "\n",
    "from sklearn.model_selection import train_test_split\n",
    "from imblearn.under_sampling import RandomUnderSampler\n",
    "ros = RandomUnderSampler(random_state=1)\n",
    "train_X,valid_X,train_y,valid_y = train_test_split(X,y,test_size=0.3,random_state=1)\n",
    "train_X_resampled, train_y_resampled = ros.fit_resample(train_X,train_y)\n",
    "valid_X_resampled, valid_y_resampled = ros.fit_resample(valid_X,valid_y)"
   ]
  },
  {
   "cell_type": "code",
   "execution_count": 313,
   "metadata": {},
   "outputs": [
    {
     "data": {
      "text/html": [
       "<div>\n",
       "<style scoped>\n",
       "    .dataframe tbody tr th:only-of-type {\n",
       "        vertical-align: middle;\n",
       "    }\n",
       "\n",
       "    .dataframe tbody tr th {\n",
       "        vertical-align: top;\n",
       "    }\n",
       "\n",
       "    .dataframe thead th {\n",
       "        text-align: right;\n",
       "    }\n",
       "</style>\n",
       "<table border=\"1\" class=\"dataframe\">\n",
       "  <thead>\n",
       "    <tr style=\"text-align: right;\">\n",
       "      <th></th>\n",
       "      <th>collisions_month</th>\n",
       "      <th>collisions_day_of_week</th>\n",
       "      <th>collisions_year</th>\n",
       "      <th>collisions_hour</th>\n",
       "      <th>collisions_neighbourhood</th>\n",
       "      <th>collisions_fatalities</th>\n",
       "      <th>collisions_injury_collisions</th>\n",
       "      <th>collisions_longitude</th>\n",
       "      <th>collisions_latitude</th>\n",
       "      <th>collisions_fatal_collisions</th>\n",
       "      <th>...</th>\n",
       "      <th>trucks_count</th>\n",
       "      <th>vehicle_count</th>\n",
       "      <th>pct_vehicles</th>\n",
       "      <th>pct_pedestrians</th>\n",
       "      <th>pct_cyclists</th>\n",
       "      <th>pct_trucks</th>\n",
       "      <th>traffic_cameras_present</th>\n",
       "      <th>speed_limit</th>\n",
       "      <th>sensitive_zone_sensitive_zone</th>\n",
       "      <th>geometry</th>\n",
       "    </tr>\n",
       "    <tr>\n",
       "      <th>eventuniqueid</th>\n",
       "      <th></th>\n",
       "      <th></th>\n",
       "      <th></th>\n",
       "      <th></th>\n",
       "      <th></th>\n",
       "      <th></th>\n",
       "      <th></th>\n",
       "      <th></th>\n",
       "      <th></th>\n",
       "      <th></th>\n",
       "      <th></th>\n",
       "      <th></th>\n",
       "      <th></th>\n",
       "      <th></th>\n",
       "      <th></th>\n",
       "      <th></th>\n",
       "      <th></th>\n",
       "      <th></th>\n",
       "      <th></th>\n",
       "      <th></th>\n",
       "      <th></th>\n",
       "    </tr>\n",
       "  </thead>\n",
       "  <tbody>\n",
       "    <tr>\n",
       "      <th>GO-20168000055</th>\n",
       "      <td>January</td>\n",
       "      <td>Friday</td>\n",
       "      <td>2016</td>\n",
       "      <td>16</td>\n",
       "      <td>LAmoreaux (117)</td>\n",
       "      <td>0</td>\n",
       "      <td>NO</td>\n",
       "      <td>-79.319271</td>\n",
       "      <td>43.795851</td>\n",
       "      <td>NO</td>\n",
       "      <td>...</td>\n",
       "      <td>414</td>\n",
       "      <td>17373</td>\n",
       "      <td>95.064295</td>\n",
       "      <td>4.919289</td>\n",
       "      <td>0.016416</td>\n",
       "      <td>2.26539</td>\n",
       "      <td>No</td>\n",
       "      <td>60</td>\n",
       "      <td>Yes</td>\n",
       "      <td>POINT (-79.31927 43.79585)</td>\n",
       "    </tr>\n",
       "    <tr>\n",
       "      <th>GO-20168001220</th>\n",
       "      <td>January</td>\n",
       "      <td>Sunday</td>\n",
       "      <td>2016</td>\n",
       "      <td>17</td>\n",
       "      <td>LAmoreaux (117)</td>\n",
       "      <td>0</td>\n",
       "      <td>NO</td>\n",
       "      <td>-79.319271</td>\n",
       "      <td>43.795851</td>\n",
       "      <td>NO</td>\n",
       "      <td>...</td>\n",
       "      <td>414</td>\n",
       "      <td>17373</td>\n",
       "      <td>95.064295</td>\n",
       "      <td>4.919289</td>\n",
       "      <td>0.016416</td>\n",
       "      <td>2.26539</td>\n",
       "      <td>No</td>\n",
       "      <td>60</td>\n",
       "      <td>Yes</td>\n",
       "      <td>POINT (-79.31927 43.79585)</td>\n",
       "    </tr>\n",
       "    <tr>\n",
       "      <th>GO-20168003250</th>\n",
       "      <td>January</td>\n",
       "      <td>Friday</td>\n",
       "      <td>2016</td>\n",
       "      <td>14</td>\n",
       "      <td>LAmoreaux (117)</td>\n",
       "      <td>0</td>\n",
       "      <td>NO</td>\n",
       "      <td>-79.319271</td>\n",
       "      <td>43.795851</td>\n",
       "      <td>NO</td>\n",
       "      <td>...</td>\n",
       "      <td>414</td>\n",
       "      <td>17373</td>\n",
       "      <td>95.064295</td>\n",
       "      <td>4.919289</td>\n",
       "      <td>0.016416</td>\n",
       "      <td>2.26539</td>\n",
       "      <td>No</td>\n",
       "      <td>60</td>\n",
       "      <td>Yes</td>\n",
       "      <td>POINT (-79.31927 43.79585)</td>\n",
       "    </tr>\n",
       "    <tr>\n",
       "      <th>GO-20168003473</th>\n",
       "      <td>January</td>\n",
       "      <td>Monday</td>\n",
       "      <td>2016</td>\n",
       "      <td>7</td>\n",
       "      <td>LAmoreaux (117)</td>\n",
       "      <td>0</td>\n",
       "      <td>NO</td>\n",
       "      <td>-79.319271</td>\n",
       "      <td>43.795851</td>\n",
       "      <td>NO</td>\n",
       "      <td>...</td>\n",
       "      <td>414</td>\n",
       "      <td>17373</td>\n",
       "      <td>95.064295</td>\n",
       "      <td>4.919289</td>\n",
       "      <td>0.016416</td>\n",
       "      <td>2.26539</td>\n",
       "      <td>No</td>\n",
       "      <td>60</td>\n",
       "      <td>Yes</td>\n",
       "      <td>POINT (-79.31927 43.79585)</td>\n",
       "    </tr>\n",
       "    <tr>\n",
       "      <th>GO-2016143401</th>\n",
       "      <td>January</td>\n",
       "      <td>Sunday</td>\n",
       "      <td>2016</td>\n",
       "      <td>21</td>\n",
       "      <td>LAmoreaux (117)</td>\n",
       "      <td>0</td>\n",
       "      <td>NO</td>\n",
       "      <td>-79.319271</td>\n",
       "      <td>43.795851</td>\n",
       "      <td>NO</td>\n",
       "      <td>...</td>\n",
       "      <td>414</td>\n",
       "      <td>17373</td>\n",
       "      <td>95.064295</td>\n",
       "      <td>4.919289</td>\n",
       "      <td>0.016416</td>\n",
       "      <td>2.26539</td>\n",
       "      <td>No</td>\n",
       "      <td>60</td>\n",
       "      <td>Yes</td>\n",
       "      <td>POINT (-79.31927 43.79585)</td>\n",
       "    </tr>\n",
       "  </tbody>\n",
       "</table>\n",
       "<p>5 rows × 34 columns</p>\n",
       "</div>"
      ],
      "text/plain": [
       "               collisions_month collisions_day_of_week  collisions_year  \\\n",
       "eventuniqueid                                                             \n",
       "GO-20168000055          January                 Friday             2016   \n",
       "GO-20168001220          January                 Sunday             2016   \n",
       "GO-20168003250          January                 Friday             2016   \n",
       "GO-20168003473          January                 Monday             2016   \n",
       "GO-2016143401           January                 Sunday             2016   \n",
       "\n",
       "                collisions_hour collisions_neighbourhood  \\\n",
       "eventuniqueid                                              \n",
       "GO-20168000055               16          LAmoreaux (117)   \n",
       "GO-20168001220               17          LAmoreaux (117)   \n",
       "GO-20168003250               14          LAmoreaux (117)   \n",
       "GO-20168003473                7          LAmoreaux (117)   \n",
       "GO-2016143401                21          LAmoreaux (117)   \n",
       "\n",
       "                collisions_fatalities collisions_injury_collisions  \\\n",
       "eventuniqueid                                                        \n",
       "GO-20168000055                      0                           NO   \n",
       "GO-20168001220                      0                           NO   \n",
       "GO-20168003250                      0                           NO   \n",
       "GO-20168003473                      0                           NO   \n",
       "GO-2016143401                       0                           NO   \n",
       "\n",
       "                collisions_longitude  collisions_latitude  \\\n",
       "eventuniqueid                                               \n",
       "GO-20168000055            -79.319271            43.795851   \n",
       "GO-20168001220            -79.319271            43.795851   \n",
       "GO-20168003250            -79.319271            43.795851   \n",
       "GO-20168003473            -79.319271            43.795851   \n",
       "GO-2016143401             -79.319271            43.795851   \n",
       "\n",
       "               collisions_fatal_collisions  ... trucks_count vehicle_count  \\\n",
       "eventuniqueid                               ...                              \n",
       "GO-20168000055                          NO  ...          414         17373   \n",
       "GO-20168001220                          NO  ...          414         17373   \n",
       "GO-20168003250                          NO  ...          414         17373   \n",
       "GO-20168003473                          NO  ...          414         17373   \n",
       "GO-2016143401                           NO  ...          414         17373   \n",
       "\n",
       "               pct_vehicles pct_pedestrians pct_cyclists  pct_trucks  \\\n",
       "eventuniqueid                                                          \n",
       "GO-20168000055    95.064295        4.919289     0.016416     2.26539   \n",
       "GO-20168001220    95.064295        4.919289     0.016416     2.26539   \n",
       "GO-20168003250    95.064295        4.919289     0.016416     2.26539   \n",
       "GO-20168003473    95.064295        4.919289     0.016416     2.26539   \n",
       "GO-2016143401     95.064295        4.919289     0.016416     2.26539   \n",
       "\n",
       "               traffic_cameras_present  speed_limit  \\\n",
       "eventuniqueid                                         \n",
       "GO-20168000055                      No           60   \n",
       "GO-20168001220                      No           60   \n",
       "GO-20168003250                      No           60   \n",
       "GO-20168003473                      No           60   \n",
       "GO-2016143401                       No           60   \n",
       "\n",
       "                sensitive_zone_sensitive_zone                    geometry  \n",
       "eventuniqueid                                                              \n",
       "GO-20168000055                            Yes  POINT (-79.31927 43.79585)  \n",
       "GO-20168001220                            Yes  POINT (-79.31927 43.79585)  \n",
       "GO-20168003250                            Yes  POINT (-79.31927 43.79585)  \n",
       "GO-20168003473                            Yes  POINT (-79.31927 43.79585)  \n",
       "GO-2016143401                             Yes  POINT (-79.31927 43.79585)  \n",
       "\n",
       "[5 rows x 34 columns]"
      ]
     },
     "execution_count": 313,
     "metadata": {},
     "output_type": "execute_result"
    }
   ],
   "source": [
    "collisions.head()"
   ]
  },
  {
   "cell_type": "markdown",
   "metadata": {},
   "source": [
    "## Test Model 1 - Decision Tree with Under Sampling"
   ]
  },
  {
   "cell_type": "code",
   "execution_count": 314,
   "metadata": {},
   "outputs": [
    {
     "data": {
      "text/plain": [
       "DecisionTreeClassifier(max_depth=5, random_state=1)"
      ]
     },
     "execution_count": 314,
     "metadata": {},
     "output_type": "execute_result"
    }
   ],
   "source": [
    "from sklearn.tree import DecisionTreeClassifier\n",
    "test_model = DecisionTreeClassifier(max_depth=5,random_state=1)\n",
    "test_model.fit(train_X_resampled,train_y_resampled)"
   ]
  },
  {
   "cell_type": "code",
   "execution_count": 315,
   "metadata": {},
   "outputs": [
    {
     "name": "stdout",
     "output_type": "stream",
     "text": [
      "Confusion Matrix (Accuracy 0.6339)\n",
      "\n",
      "       Prediction\n",
      "Actual    NO   YES\n",
      "    NO 28976 13723\n",
      "   YES  4693  2912\n"
     ]
    }
   ],
   "source": [
    "#classificationsummary validation data\n",
    "from dmba import classificationSummary\n",
    "classificationSummary(valid_y,test_model.predict(valid_X),class_names=['NO','YES'])"
   ]
  },
  {
   "cell_type": "markdown",
   "metadata": {},
   "source": [
    "## Test Model 2 - Random Forest Model with Under Sampling"
   ]
  },
  {
   "cell_type": "code",
   "execution_count": 316,
   "metadata": {},
   "outputs": [
    {
     "name": "stderr",
     "output_type": "stream",
     "text": [
      "/var/folders/sv/rf_t3py91vj8qdm_n4yljrp40000gn/T/ipykernel_96528/794994250.py:4: DataConversionWarning:\n",
      "\n",
      "A column-vector y was passed when a 1d array was expected. Please change the shape of y to (n_samples,), for example using ravel().\n",
      "\n"
     ]
    },
    {
     "data": {
      "text/plain": [
       "RandomForestClassifier(n_estimators=200, random_state=1)"
      ]
     },
     "execution_count": 316,
     "metadata": {},
     "output_type": "execute_result"
    }
   ],
   "source": [
    "#random forest classifier\n",
    "from sklearn.ensemble import RandomForestClassifier\n",
    "test_model_2 = RandomForestClassifier(n_estimators=200,random_state=1)\n",
    "test_model_2.fit(train_X_resampled.reset_index(drop=True),train_y_resampled.reset_index(drop=True))"
   ]
  },
  {
   "cell_type": "code",
   "execution_count": 317,
   "metadata": {},
   "outputs": [
    {
     "name": "stdout",
     "output_type": "stream",
     "text": [
      "Confusion Matrix (Accuracy 0.5926)\n",
      "\n",
      "       Prediction\n",
      "Actual    NO   YES\n",
      "    NO 25107 17592\n",
      "   YES  2901  4704\n"
     ]
    }
   ],
   "source": [
    "classificationSummary(valid_y,test_model_2.predict(valid_X),class_names=['NO','YES'])"
   ]
  },
  {
   "cell_type": "code",
   "execution_count": null,
   "metadata": {},
   "outputs": [
    {
     "name": "stdout",
     "output_type": "stream",
     "text": [
      "Confusion Matrix (Accuracy 0.6057)\n",
      "\n",
      "       Prediction\n",
      "Actual   NO  YES\n",
      "    NO 4508 3097\n",
      "   YES 2901 4704\n"
     ]
    },
    {
     "name": "stdout",
     "output_type": "stream",
     "text": [
      "Executing shutdown due to inactivity...\n",
      "Executing shutdown due to inactivity...\n"
     ]
    },
    {
     "name": "stderr",
     "output_type": "stream",
     "text": [
      "2023-08-09 06:04:29,900 - INFO     - Executing shutdown due to inactivity...\n"
     ]
    },
    {
     "name": "stdout",
     "output_type": "stream",
     "text": [
      "Executing shutdown...\n",
      "Executing shutdown...\n"
     ]
    },
    {
     "name": "stderr",
     "output_type": "stream",
     "text": [
      "2023-08-09 06:04:29,937 - INFO     - Executing shutdown...\n",
      "/Users/rakeenahmed/opt/anaconda3/lib/python3.9/site-packages/dtale/app.py:422: UserWarning:\n",
      "\n",
      "The 'environ['werkzeug.server.shutdown']' function is deprecated and will be removed in Werkzeug 2.1.\n",
      "\n"
     ]
    }
   ],
   "source": [
    "#classificationsummary on undersampled validation data\n",
    "classificationSummary(valid_y_resampled,test_model_2.predict(valid_X_resampled),class_names=['NO','YES'])"
   ]
  },
  {
   "cell_type": "code",
   "execution_count": 318,
   "metadata": {},
   "outputs": [
    {
     "data": {
      "text/html": [
       "<div>\n",
       "<style scoped>\n",
       "    .dataframe tbody tr th:only-of-type {\n",
       "        vertical-align: middle;\n",
       "    }\n",
       "\n",
       "    .dataframe tbody tr th {\n",
       "        vertical-align: top;\n",
       "    }\n",
       "\n",
       "    .dataframe thead th {\n",
       "        text-align: right;\n",
       "    }\n",
       "</style>\n",
       "<table border=\"1\" class=\"dataframe\">\n",
       "  <thead>\n",
       "    <tr style=\"text-align: right;\">\n",
       "      <th></th>\n",
       "      <th>coef</th>\n",
       "      <th>predictors</th>\n",
       "    </tr>\n",
       "  </thead>\n",
       "  <tbody>\n",
       "    <tr>\n",
       "      <th>5</th>\n",
       "      <td>0.051403</td>\n",
       "      <td>pedestrians_count</td>\n",
       "    </tr>\n",
       "    <tr>\n",
       "      <th>7</th>\n",
       "      <td>0.049282</td>\n",
       "      <td>trucks_count</td>\n",
       "    </tr>\n",
       "    <tr>\n",
       "      <th>6</th>\n",
       "      <td>0.048773</td>\n",
       "      <td>total_count</td>\n",
       "    </tr>\n",
       "    <tr>\n",
       "      <th>8</th>\n",
       "      <td>0.048685</td>\n",
       "      <td>vehicle_count</td>\n",
       "    </tr>\n",
       "    <tr>\n",
       "      <th>4</th>\n",
       "      <td>0.046809</td>\n",
       "      <td>cyclists_count</td>\n",
       "    </tr>\n",
       "    <tr>\n",
       "      <th>...</th>\n",
       "      <td>...</td>\n",
       "      <td>...</td>\n",
       "    </tr>\n",
       "    <tr>\n",
       "      <th>188</th>\n",
       "      <td>0.000051</td>\n",
       "      <td>speed_enforcement_present_No</td>\n",
       "    </tr>\n",
       "    <tr>\n",
       "      <th>74</th>\n",
       "      <td>0.000045</td>\n",
       "      <td>collisions_neighbourhood_Glenfield-Jane Height...</td>\n",
       "    </tr>\n",
       "    <tr>\n",
       "      <th>95</th>\n",
       "      <td>0.000043</td>\n",
       "      <td>collisions_neighbourhood_Lambton Baby Point (114)</td>\n",
       "    </tr>\n",
       "    <tr>\n",
       "      <th>104</th>\n",
       "      <td>0.000028</td>\n",
       "      <td>collisions_neighbourhood_Markland Wood (12)</td>\n",
       "    </tr>\n",
       "    <tr>\n",
       "      <th>69</th>\n",
       "      <td>0.000017</td>\n",
       "      <td>collisions_neighbourhood_Eringate-Centennial-W...</td>\n",
       "    </tr>\n",
       "  </tbody>\n",
       "</table>\n",
       "<p>194 rows × 2 columns</p>\n",
       "</div>"
      ],
      "text/plain": [
       "         coef                                         predictors\n",
       "5    0.051403                                  pedestrians_count\n",
       "7    0.049282                                       trucks_count\n",
       "6    0.048773                                        total_count\n",
       "8    0.048685                                      vehicle_count\n",
       "4    0.046809                                     cyclists_count\n",
       "..        ...                                                ...\n",
       "188  0.000051                       speed_enforcement_present_No\n",
       "74   0.000045  collisions_neighbourhood_Glenfield-Jane Height...\n",
       "95   0.000043  collisions_neighbourhood_Lambton Baby Point (114)\n",
       "104  0.000028        collisions_neighbourhood_Markland Wood (12)\n",
       "69   0.000017  collisions_neighbourhood_Eringate-Centennial-W...\n",
       "\n",
       "[194 rows x 2 columns]"
      ]
     },
     "execution_count": 318,
     "metadata": {},
     "output_type": "execute_result"
    }
   ],
   "source": [
    "pd.DataFrame({'coef':test_model_2.feature_importances_,'predictors':train_X.columns}).sort_values(by='coef',ascending=False).sort_values(by='coef',ascending=False)"
   ]
  },
  {
   "cell_type": "markdown",
   "metadata": {},
   "source": [
    "## Test Model 3 - Balanced random Forest without Under Sampling"
   ]
  },
  {
   "cell_type": "code",
   "execution_count": 325,
   "metadata": {},
   "outputs": [
    {
     "name": "stderr",
     "output_type": "stream",
     "text": [
      "/var/folders/sv/rf_t3py91vj8qdm_n4yljrp40000gn/T/ipykernel_96528/3662263663.py:4: DataConversionWarning:\n",
      "\n",
      "A column-vector y was passed when a 1d array was expected. Please change the shape of y to (n_samples,), for example using ravel().\n",
      "\n"
     ]
    },
    {
     "data": {
      "text/plain": [
       "BalancedRandomForestClassifier(random_state=1)"
      ]
     },
     "execution_count": 325,
     "metadata": {},
     "output_type": "execute_result"
    }
   ],
   "source": [
    "#balanced random forest\n",
    "from imblearn.ensemble import BalancedRandomForestClassifier\n",
    "test_model_3 = BalancedRandomForestClassifier(random_state=1)\n",
    "test_model_3.fit(train_X,train_y)"
   ]
  },
  {
   "cell_type": "code",
   "execution_count": 326,
   "metadata": {},
   "outputs": [
    {
     "name": "stdout",
     "output_type": "stream",
     "text": [
      "Confusion Matrix (Accuracy 0.5950)\n",
      "\n",
      "       Prediction\n",
      "Actual    NO   YES\n",
      "    NO 25277 17422\n",
      "   YES  2953  4652\n"
     ]
    }
   ],
   "source": [
    "classificationSummary(valid_y,test_model_3.predict(valid_X),class_names=['NO','YES'])"
   ]
  },
  {
   "cell_type": "code",
   "execution_count": 321,
   "metadata": {},
   "outputs": [
    {
     "data": {
      "text/html": [
       "<div>\n",
       "<style scoped>\n",
       "    .dataframe tbody tr th:only-of-type {\n",
       "        vertical-align: middle;\n",
       "    }\n",
       "\n",
       "    .dataframe tbody tr th {\n",
       "        vertical-align: top;\n",
       "    }\n",
       "\n",
       "    .dataframe thead th {\n",
       "        text-align: right;\n",
       "    }\n",
       "</style>\n",
       "<table border=\"1\" class=\"dataframe\">\n",
       "  <thead>\n",
       "    <tr style=\"text-align: right;\">\n",
       "      <th></th>\n",
       "      <th>coef</th>\n",
       "      <th>predictors</th>\n",
       "    </tr>\n",
       "  </thead>\n",
       "  <tbody>\n",
       "    <tr>\n",
       "      <th>5</th>\n",
       "      <td>0.051868</td>\n",
       "      <td>pedestrians_count</td>\n",
       "    </tr>\n",
       "    <tr>\n",
       "      <th>7</th>\n",
       "      <td>0.050199</td>\n",
       "      <td>trucks_count</td>\n",
       "    </tr>\n",
       "    <tr>\n",
       "      <th>8</th>\n",
       "      <td>0.049492</td>\n",
       "      <td>vehicle_count</td>\n",
       "    </tr>\n",
       "    <tr>\n",
       "      <th>6</th>\n",
       "      <td>0.049284</td>\n",
       "      <td>total_count</td>\n",
       "    </tr>\n",
       "    <tr>\n",
       "      <th>4</th>\n",
       "      <td>0.047251</td>\n",
       "      <td>cyclists_count</td>\n",
       "    </tr>\n",
       "    <tr>\n",
       "      <th>...</th>\n",
       "      <td>...</td>\n",
       "      <td>...</td>\n",
       "    </tr>\n",
       "    <tr>\n",
       "      <th>188</th>\n",
       "      <td>0.000052</td>\n",
       "      <td>speed_enforcement_present_No</td>\n",
       "    </tr>\n",
       "    <tr>\n",
       "      <th>189</th>\n",
       "      <td>0.000051</td>\n",
       "      <td>speed_enforcement_present_Yes</td>\n",
       "    </tr>\n",
       "    <tr>\n",
       "      <th>104</th>\n",
       "      <td>0.000047</td>\n",
       "      <td>collisions_neighbourhood_Markland Wood (12)</td>\n",
       "    </tr>\n",
       "    <tr>\n",
       "      <th>95</th>\n",
       "      <td>0.000038</td>\n",
       "      <td>collisions_neighbourhood_Lambton Baby Point (114)</td>\n",
       "    </tr>\n",
       "    <tr>\n",
       "      <th>69</th>\n",
       "      <td>0.000008</td>\n",
       "      <td>collisions_neighbourhood_Eringate-Centennial-W...</td>\n",
       "    </tr>\n",
       "  </tbody>\n",
       "</table>\n",
       "<p>194 rows × 2 columns</p>\n",
       "</div>"
      ],
      "text/plain": [
       "         coef                                         predictors\n",
       "5    0.051868                                  pedestrians_count\n",
       "7    0.050199                                       trucks_count\n",
       "8    0.049492                                      vehicle_count\n",
       "6    0.049284                                        total_count\n",
       "4    0.047251                                     cyclists_count\n",
       "..        ...                                                ...\n",
       "188  0.000052                       speed_enforcement_present_No\n",
       "189  0.000051                      speed_enforcement_present_Yes\n",
       "104  0.000047        collisions_neighbourhood_Markland Wood (12)\n",
       "95   0.000038  collisions_neighbourhood_Lambton Baby Point (114)\n",
       "69   0.000008  collisions_neighbourhood_Eringate-Centennial-W...\n",
       "\n",
       "[194 rows x 2 columns]"
      ]
     },
     "execution_count": 321,
     "metadata": {},
     "output_type": "execute_result"
    }
   ],
   "source": [
    "pd.DataFrame({'coef':test_model_3.feature_importances_,'predictors':train_X.columns}).sort_values(by='coef',ascending=False).sort_values(by='coef',ascending=False)"
   ]
  },
  {
   "cell_type": "markdown",
   "metadata": {},
   "source": [
    "## Test Model - 4 Random Forest Classifier without UnderSampling"
   ]
  },
  {
   "cell_type": "code",
   "execution_count": 322,
   "metadata": {},
   "outputs": [
    {
     "name": "stderr",
     "output_type": "stream",
     "text": [
      "/var/folders/sv/rf_t3py91vj8qdm_n4yljrp40000gn/T/ipykernel_96528/1335155035.py:3: DataConversionWarning:\n",
      "\n",
      "A column-vector y was passed when a 1d array was expected. Please change the shape of y to (n_samples,), for example using ravel().\n",
      "\n"
     ]
    },
    {
     "data": {
      "text/plain": [
       "RandomForestClassifier(n_estimators=200, random_state=1)"
      ]
     },
     "execution_count": 322,
     "metadata": {},
     "output_type": "execute_result"
    }
   ],
   "source": [
    "#random forest classifier\n",
    "test_model_4 = RandomForestClassifier(n_estimators=200,random_state=1)\n",
    "test_model_4.fit(train_X,train_y)"
   ]
  },
  {
   "cell_type": "code",
   "execution_count": 323,
   "metadata": {},
   "outputs": [
    {
     "name": "stdout",
     "output_type": "stream",
     "text": [
      "Confusion Matrix (Accuracy 0.8400)\n",
      "\n",
      "       Prediction\n",
      "Actual    NO   YES\n",
      "    NO 40938  1761\n",
      "   YES  6288  1317\n"
     ]
    }
   ],
   "source": [
    "classificationSummary(valid_y,test_model_4.predict(valid_X),class_names=['NO','YES'])"
   ]
  },
  {
   "cell_type": "code",
   "execution_count": 324,
   "metadata": {},
   "outputs": [
    {
     "data": {
      "text/html": [
       "<div>\n",
       "<style scoped>\n",
       "    .dataframe tbody tr th:only-of-type {\n",
       "        vertical-align: middle;\n",
       "    }\n",
       "\n",
       "    .dataframe tbody tr th {\n",
       "        vertical-align: top;\n",
       "    }\n",
       "\n",
       "    .dataframe thead th {\n",
       "        text-align: right;\n",
       "    }\n",
       "</style>\n",
       "<table border=\"1\" class=\"dataframe\">\n",
       "  <thead>\n",
       "    <tr style=\"text-align: right;\">\n",
       "      <th></th>\n",
       "      <th>coef</th>\n",
       "      <th>predictors</th>\n",
       "    </tr>\n",
       "  </thead>\n",
       "  <tbody>\n",
       "    <tr>\n",
       "      <th>5</th>\n",
       "      <td>0.040094</td>\n",
       "      <td>pedestrians_count</td>\n",
       "    </tr>\n",
       "    <tr>\n",
       "      <th>7</th>\n",
       "      <td>0.039185</td>\n",
       "      <td>trucks_count</td>\n",
       "    </tr>\n",
       "    <tr>\n",
       "      <th>8</th>\n",
       "      <td>0.039108</td>\n",
       "      <td>vehicle_count</td>\n",
       "    </tr>\n",
       "    <tr>\n",
       "      <th>6</th>\n",
       "      <td>0.039032</td>\n",
       "      <td>total_count</td>\n",
       "    </tr>\n",
       "    <tr>\n",
       "      <th>22</th>\n",
       "      <td>0.037622</td>\n",
       "      <td>collisions_day_of_week_Friday</td>\n",
       "    </tr>\n",
       "    <tr>\n",
       "      <th>...</th>\n",
       "      <td>...</td>\n",
       "      <td>...</td>\n",
       "    </tr>\n",
       "    <tr>\n",
       "      <th>109</th>\n",
       "      <td>0.000073</td>\n",
       "      <td>collisions_neighbourhood_Mount Dennis (115)</td>\n",
       "    </tr>\n",
       "    <tr>\n",
       "      <th>188</th>\n",
       "      <td>0.000060</td>\n",
       "      <td>speed_enforcement_present_No</td>\n",
       "    </tr>\n",
       "    <tr>\n",
       "      <th>189</th>\n",
       "      <td>0.000059</td>\n",
       "      <td>speed_enforcement_present_Yes</td>\n",
       "    </tr>\n",
       "    <tr>\n",
       "      <th>104</th>\n",
       "      <td>0.000023</td>\n",
       "      <td>collisions_neighbourhood_Markland Wood (12)</td>\n",
       "    </tr>\n",
       "    <tr>\n",
       "      <th>69</th>\n",
       "      <td>0.000003</td>\n",
       "      <td>collisions_neighbourhood_Eringate-Centennial-W...</td>\n",
       "    </tr>\n",
       "  </tbody>\n",
       "</table>\n",
       "<p>194 rows × 2 columns</p>\n",
       "</div>"
      ],
      "text/plain": [
       "         coef                                         predictors\n",
       "5    0.040094                                  pedestrians_count\n",
       "7    0.039185                                       trucks_count\n",
       "8    0.039108                                      vehicle_count\n",
       "6    0.039032                                        total_count\n",
       "22   0.037622                      collisions_day_of_week_Friday\n",
       "..        ...                                                ...\n",
       "109  0.000073        collisions_neighbourhood_Mount Dennis (115)\n",
       "188  0.000060                       speed_enforcement_present_No\n",
       "189  0.000059                      speed_enforcement_present_Yes\n",
       "104  0.000023        collisions_neighbourhood_Markland Wood (12)\n",
       "69   0.000003  collisions_neighbourhood_Eringate-Centennial-W...\n",
       "\n",
       "[194 rows x 2 columns]"
      ]
     },
     "execution_count": 324,
     "metadata": {},
     "output_type": "execute_result"
    }
   ],
   "source": [
    "pd.DataFrame({'coef':test_model_4.feature_importances_,'predictors':train_X.columns}).sort_values(by='coef',ascending=False).sort_values(by='coef',ascending=False)"
   ]
  },
  {
   "cell_type": "markdown",
   "metadata": {},
   "source": [
    "<p style='color:red'>Accuracy is better when running models without undersampling. Probably because it is not getting easy wins by classifying as <5 collisions (that is the majority class in the target). Since collisions are NOs, if you blindly assign NO you will get high accuracy.</p> "
   ]
  }
 ],
 "metadata": {
  "kernelspec": {
   "display_name": "base",
   "language": "python",
   "name": "python3"
  },
  "language_info": {
   "codemirror_mode": {
    "name": "ipython",
    "version": 3
   },
   "file_extension": ".py",
   "mimetype": "text/x-python",
   "name": "python",
   "nbconvert_exporter": "python",
   "pygments_lexer": "ipython3",
   "version": "3.9.12"
  },
  "orig_nbformat": 4
 },
 "nbformat": 4,
 "nbformat_minor": 2
}
