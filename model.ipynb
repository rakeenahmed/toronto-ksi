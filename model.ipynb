{
 "cells": [
  {
   "attachments": {},
   "cell_type": "markdown",
   "metadata": {},
   "source": [
    "Notes:\n",
    "\n",
    "There are two training datasets for the models - the original training split, and the oversampled training split. \n",
    "\n",
    "There are also two validation sets - original and oversampled.\n",
    "\n",
    "So far, the random forest model on the oversampled dataset is the best model."
   ]
  },
  {
   "cell_type": "code",
   "execution_count": 1,
   "metadata": {},
   "outputs": [
    {
     "name": "stderr",
     "output_type": "stream",
     "text": [
      "/Users/rakeenahmed/opt/anaconda3/lib/python3.9/site-packages/scipy/__init__.py:146: UserWarning: A NumPy version >=1.16.5 and <1.23.0 is required for this version of SciPy (detected version 1.23.5\n",
      "  warnings.warn(f\"A NumPy version >={np_minversion} and <{np_maxversion}\"\n"
     ]
    },
    {
     "name": "stdout",
     "output_type": "stream",
     "text": [
      "no display found. Using non-interactive Agg backend\n"
     ]
    }
   ],
   "source": [
    "import pandas as pd\n",
    "import plotly.express as px\n",
    "from sklearn.tree import DecisionTreeClassifier\n",
    "from sklearn.ensemble import RandomForestClassifier\n",
    "# !pip install dmba --quiet\n",
    "from dmba import plotDecisionTree, classificationSummary, regressionSummary\n",
    "#!pip install dtale --quiet\n",
    "#!pip install imblearn --quiet\n",
    "import imblearn\n",
    "from imblearn.over_sampling import RandomOverSampler\n",
    "from sklearn import tree\n",
    "from sklearn.tree import plot_tree"
   ]
  },
  {
   "cell_type": "code",
   "execution_count": 30,
   "metadata": {},
   "outputs": [],
   "source": [
    "ksi = pd.read_csv('Datasets/ksi_2021.csv')"
   ]
  },
  {
   "cell_type": "code",
   "execution_count": 31,
   "metadata": {},
   "outputs": [
    {
     "data": {
      "text/html": [
       "<div>\n",
       "<style scoped>\n",
       "    .dataframe tbody tr th:only-of-type {\n",
       "        vertical-align: middle;\n",
       "    }\n",
       "\n",
       "    .dataframe tbody tr th {\n",
       "        vertical-align: top;\n",
       "    }\n",
       "\n",
       "    .dataframe thead th {\n",
       "        text-align: right;\n",
       "    }\n",
       "</style>\n",
       "<table border=\"1\" class=\"dataframe\">\n",
       "  <thead>\n",
       "    <tr style=\"text-align: right;\">\n",
       "      <th></th>\n",
       "      <th>INDEX</th>\n",
       "      <th>ACCNUM</th>\n",
       "      <th>YEAR</th>\n",
       "      <th>DATE</th>\n",
       "      <th>TIME</th>\n",
       "      <th>STREET1</th>\n",
       "      <th>STREET2</th>\n",
       "      <th>OFFSET</th>\n",
       "      <th>ROAD_CLASS</th>\n",
       "      <th>DISTRICT</th>\n",
       "      <th>...</th>\n",
       "      <th>SPEEDING</th>\n",
       "      <th>AG_DRIV</th>\n",
       "      <th>REDLIGHT</th>\n",
       "      <th>ALCOHOL</th>\n",
       "      <th>DISABILITY</th>\n",
       "      <th>HOOD_158</th>\n",
       "      <th>NEIGHBOURHOOD_158</th>\n",
       "      <th>HOOD_140</th>\n",
       "      <th>NEIGHBOURHOOD_140</th>\n",
       "      <th>DIVISION</th>\n",
       "    </tr>\n",
       "  </thead>\n",
       "  <tbody>\n",
       "    <tr>\n",
       "      <th>0</th>\n",
       "      <td>3389067</td>\n",
       "      <td>893184</td>\n",
       "      <td>2006</td>\n",
       "      <td>01/01/2006</td>\n",
       "      <td>236</td>\n",
       "      <td>WOODBINE AVE</td>\n",
       "      <td>O CONNOR DR</td>\n",
       "      <td>NaN</td>\n",
       "      <td>Major Arterial</td>\n",
       "      <td>Toronto and East York</td>\n",
       "      <td>...</td>\n",
       "      <td>Yes</td>\n",
       "      <td>Yes</td>\n",
       "      <td>NaN</td>\n",
       "      <td>Yes</td>\n",
       "      <td>NaN</td>\n",
       "      <td>60</td>\n",
       "      <td>Woodbine-Lumsden</td>\n",
       "      <td>60</td>\n",
       "      <td>Woodbine-Lumsden (60)</td>\n",
       "      <td>D55</td>\n",
       "    </tr>\n",
       "    <tr>\n",
       "      <th>1</th>\n",
       "      <td>3389068</td>\n",
       "      <td>893184</td>\n",
       "      <td>2006</td>\n",
       "      <td>01/01/2006</td>\n",
       "      <td>236</td>\n",
       "      <td>WOODBINE AVE</td>\n",
       "      <td>O CONNOR DR</td>\n",
       "      <td>NaN</td>\n",
       "      <td>Major Arterial</td>\n",
       "      <td>Toronto and East York</td>\n",
       "      <td>...</td>\n",
       "      <td>Yes</td>\n",
       "      <td>Yes</td>\n",
       "      <td>NaN</td>\n",
       "      <td>Yes</td>\n",
       "      <td>NaN</td>\n",
       "      <td>60</td>\n",
       "      <td>Woodbine-Lumsden</td>\n",
       "      <td>60</td>\n",
       "      <td>Woodbine-Lumsden (60)</td>\n",
       "      <td>D55</td>\n",
       "    </tr>\n",
       "    <tr>\n",
       "      <th>2</th>\n",
       "      <td>3389069</td>\n",
       "      <td>893184</td>\n",
       "      <td>2006</td>\n",
       "      <td>01/01/2006</td>\n",
       "      <td>236</td>\n",
       "      <td>WOODBINE AVE</td>\n",
       "      <td>O CONNOR DR</td>\n",
       "      <td>NaN</td>\n",
       "      <td>Major Arterial</td>\n",
       "      <td>Toronto and East York</td>\n",
       "      <td>...</td>\n",
       "      <td>Yes</td>\n",
       "      <td>Yes</td>\n",
       "      <td>NaN</td>\n",
       "      <td>Yes</td>\n",
       "      <td>NaN</td>\n",
       "      <td>60</td>\n",
       "      <td>Woodbine-Lumsden</td>\n",
       "      <td>60</td>\n",
       "      <td>Woodbine-Lumsden (60)</td>\n",
       "      <td>D55</td>\n",
       "    </tr>\n",
       "    <tr>\n",
       "      <th>3</th>\n",
       "      <td>3389070</td>\n",
       "      <td>893184</td>\n",
       "      <td>2006</td>\n",
       "      <td>01/01/2006</td>\n",
       "      <td>236</td>\n",
       "      <td>WOODBINE AVE</td>\n",
       "      <td>O CONNOR DR</td>\n",
       "      <td>NaN</td>\n",
       "      <td>Major Arterial</td>\n",
       "      <td>Toronto and East York</td>\n",
       "      <td>...</td>\n",
       "      <td>Yes</td>\n",
       "      <td>Yes</td>\n",
       "      <td>NaN</td>\n",
       "      <td>Yes</td>\n",
       "      <td>NaN</td>\n",
       "      <td>60</td>\n",
       "      <td>Woodbine-Lumsden</td>\n",
       "      <td>60</td>\n",
       "      <td>Woodbine-Lumsden (60)</td>\n",
       "      <td>D55</td>\n",
       "    </tr>\n",
       "    <tr>\n",
       "      <th>4</th>\n",
       "      <td>3389071</td>\n",
       "      <td>893184</td>\n",
       "      <td>2006</td>\n",
       "      <td>01/01/2006</td>\n",
       "      <td>236</td>\n",
       "      <td>WOODBINE AVE</td>\n",
       "      <td>O CONNOR DR</td>\n",
       "      <td>NaN</td>\n",
       "      <td>Major Arterial</td>\n",
       "      <td>Toronto and East York</td>\n",
       "      <td>...</td>\n",
       "      <td>Yes</td>\n",
       "      <td>Yes</td>\n",
       "      <td>NaN</td>\n",
       "      <td>Yes</td>\n",
       "      <td>NaN</td>\n",
       "      <td>60</td>\n",
       "      <td>Woodbine-Lumsden</td>\n",
       "      <td>60</td>\n",
       "      <td>Woodbine-Lumsden (60)</td>\n",
       "      <td>D55</td>\n",
       "    </tr>\n",
       "  </tbody>\n",
       "</table>\n",
       "<p>5 rows × 54 columns</p>\n",
       "</div>"
      ],
      "text/plain": [
       "     INDEX  ACCNUM  YEAR        DATE  TIME       STREET1      STREET2 OFFSET  \\\n",
       "0  3389067  893184  2006  01/01/2006   236  WOODBINE AVE  O CONNOR DR    NaN   \n",
       "1  3389068  893184  2006  01/01/2006   236  WOODBINE AVE  O CONNOR DR    NaN   \n",
       "2  3389069  893184  2006  01/01/2006   236  WOODBINE AVE  O CONNOR DR    NaN   \n",
       "3  3389070  893184  2006  01/01/2006   236  WOODBINE AVE  O CONNOR DR    NaN   \n",
       "4  3389071  893184  2006  01/01/2006   236  WOODBINE AVE  O CONNOR DR    NaN   \n",
       "\n",
       "       ROAD_CLASS               DISTRICT  ... SPEEDING  AG_DRIV  REDLIGHT  \\\n",
       "0  Major Arterial  Toronto and East York  ...      Yes      Yes       NaN   \n",
       "1  Major Arterial  Toronto and East York  ...      Yes      Yes       NaN   \n",
       "2  Major Arterial  Toronto and East York  ...      Yes      Yes       NaN   \n",
       "3  Major Arterial  Toronto and East York  ...      Yes      Yes       NaN   \n",
       "4  Major Arterial  Toronto and East York  ...      Yes      Yes       NaN   \n",
       "\n",
       "  ALCOHOL DISABILITY HOOD_158 NEIGHBOURHOOD_158 HOOD_140  \\\n",
       "0     Yes        NaN       60  Woodbine-Lumsden       60   \n",
       "1     Yes        NaN       60  Woodbine-Lumsden       60   \n",
       "2     Yes        NaN       60  Woodbine-Lumsden       60   \n",
       "3     Yes        NaN       60  Woodbine-Lumsden       60   \n",
       "4     Yes        NaN       60  Woodbine-Lumsden       60   \n",
       "\n",
       "       NEIGHBOURHOOD_140 DIVISION  \n",
       "0  Woodbine-Lumsden (60)      D55  \n",
       "1  Woodbine-Lumsden (60)      D55  \n",
       "2  Woodbine-Lumsden (60)      D55  \n",
       "3  Woodbine-Lumsden (60)      D55  \n",
       "4  Woodbine-Lumsden (60)      D55  \n",
       "\n",
       "[5 rows x 54 columns]"
      ]
     },
     "execution_count": 31,
     "metadata": {},
     "output_type": "execute_result"
    }
   ],
   "source": [
    "ksi.head()"
   ]
  },
  {
   "cell_type": "code",
   "execution_count": 32,
   "metadata": {},
   "outputs": [
    {
     "data": {
      "text/plain": [
       "(17488, 54)"
      ]
     },
     "execution_count": 32,
     "metadata": {},
     "output_type": "execute_result"
    }
   ],
   "source": [
    "ksi.shape"
   ]
  },
  {
   "cell_type": "code",
   "execution_count": 33,
   "metadata": {},
   "outputs": [
    {
     "name": "stdout",
     "output_type": "stream",
     "text": [
      "<class 'pandas.core.frame.DataFrame'>\n",
      "RangeIndex: 17488 entries, 0 to 17487\n",
      "Data columns (total 54 columns):\n",
      " #   Column             Non-Null Count  Dtype  \n",
      "---  ------             --------------  -----  \n",
      " 0   INDEX              17488 non-null  int64  \n",
      " 1   ACCNUM             17488 non-null  int64  \n",
      " 2   YEAR               17488 non-null  int64  \n",
      " 3   DATE               17488 non-null  object \n",
      " 4   TIME               17488 non-null  int64  \n",
      " 5   STREET1            17488 non-null  object \n",
      " 6   STREET2            15896 non-null  object \n",
      " 7   OFFSET             3028 non-null   object \n",
      " 8   ROAD_CLASS         17112 non-null  object \n",
      " 9   DISTRICT           17453 non-null  object \n",
      " 10  WARDNUM            16963 non-null  object \n",
      " 11  LATITUDE           17488 non-null  float64\n",
      " 12  LONGITUDE          17488 non-null  float64\n",
      " 13  LOCCOORD           17393 non-null  object \n",
      " 14  ACCLOC             12038 non-null  object \n",
      " 15  TRAFFCTL           17454 non-null  object \n",
      " 16  VISIBILITY         17470 non-null  object \n",
      " 17  LIGHT              17488 non-null  object \n",
      " 18  RDSFCOND           17465 non-null  object \n",
      " 19  ACCLASS            17481 non-null  object \n",
      " 20  IMPACTYPE          17484 non-null  object \n",
      " 21  INVTYPE            17474 non-null  object \n",
      " 22  INVAGE             17488 non-null  object \n",
      " 23  INJURY             15877 non-null  object \n",
      " 24  FATAL_NO           773 non-null    float64\n",
      " 25  INITDIR            12551 non-null  object \n",
      " 26  VEHTYPE            14455 non-null  object \n",
      " 27  MANOEUVER          10083 non-null  object \n",
      " 28  DRIVACT            8822 non-null   object \n",
      " 29  DRIVCOND           8819 non-null   object \n",
      " 30  PEDTYPE            2921 non-null   object \n",
      " 31  PEDACT             2957 non-null   object \n",
      " 32  PEDCOND            2958 non-null   object \n",
      " 33  CYCLISTYPE         739 non-null    object \n",
      " 34  CYCACT             730 non-null    object \n",
      " 35  CYCCOND            729 non-null    object \n",
      " 36  PEDESTRIAN         7079 non-null   object \n",
      " 37  CYCLIST            1827 non-null   object \n",
      " 38  AUTOMOBILE         15860 non-null  object \n",
      " 39  MOTORCYCLE         1482 non-null   object \n",
      " 40  TRUCK              1060 non-null   object \n",
      " 41  TRSN_CITY_VEH      1069 non-null   object \n",
      " 42  EMERG_VEH          43 non-null     object \n",
      " 43  PASSENGER          6621 non-null   object \n",
      " 44  SPEEDING           2441 non-null   object \n",
      " 45  AG_DRIV            9039 non-null   object \n",
      " 46  REDLIGHT           1453 non-null   object \n",
      " 47  ALCOHOL            762 non-null    object \n",
      " 48  DISABILITY         475 non-null    object \n",
      " 49  HOOD_158           17488 non-null  object \n",
      " 50  NEIGHBOURHOOD_158  17488 non-null  object \n",
      " 51  HOOD_140           17488 non-null  object \n",
      " 52  NEIGHBOURHOOD_140  17488 non-null  object \n",
      " 53  DIVISION           17488 non-null  object \n",
      "dtypes: float64(3), int64(4), object(47)\n",
      "memory usage: 7.2+ MB\n"
     ]
    }
   ],
   "source": [
    "ksi.info()"
   ]
  },
  {
   "cell_type": "code",
   "execution_count": 34,
   "metadata": {},
   "outputs": [],
   "source": [
    "#changing data types\n"
   ]
  },
  {
   "cell_type": "code",
   "execution_count": 35,
   "metadata": {},
   "outputs": [
    {
     "data": {
      "text/plain": [
       "INDEX                    0\n",
       "ACCNUM                   0\n",
       "YEAR                     0\n",
       "DATE                     0\n",
       "TIME                     0\n",
       "STREET1                  0\n",
       "STREET2               1592\n",
       "OFFSET               14460\n",
       "ROAD_CLASS             376\n",
       "DISTRICT                35\n",
       "WARDNUM                525\n",
       "LATITUDE                 0\n",
       "LONGITUDE                0\n",
       "LOCCOORD                95\n",
       "ACCLOC                5450\n",
       "TRAFFCTL                34\n",
       "VISIBILITY              18\n",
       "LIGHT                    0\n",
       "RDSFCOND                23\n",
       "ACCLASS                  7\n",
       "IMPACTYPE                4\n",
       "INVTYPE                 14\n",
       "INVAGE                   0\n",
       "INJURY                1611\n",
       "FATAL_NO             16715\n",
       "INITDIR               4937\n",
       "VEHTYPE               3033\n",
       "MANOEUVER             7405\n",
       "DRIVACT               8666\n",
       "DRIVCOND              8669\n",
       "PEDTYPE              14567\n",
       "PEDACT               14531\n",
       "PEDCOND              14530\n",
       "CYCLISTYPE           16749\n",
       "CYCACT               16758\n",
       "CYCCOND              16759\n",
       "PEDESTRIAN           10409\n",
       "CYCLIST              15661\n",
       "AUTOMOBILE            1628\n",
       "MOTORCYCLE           16006\n",
       "TRUCK                16428\n",
       "TRSN_CITY_VEH        16419\n",
       "EMERG_VEH            17445\n",
       "PASSENGER            10867\n",
       "SPEEDING             15047\n",
       "AG_DRIV               8449\n",
       "REDLIGHT             16035\n",
       "ALCOHOL              16726\n",
       "DISABILITY           17013\n",
       "HOOD_158                 0\n",
       "NEIGHBOURHOOD_158        0\n",
       "HOOD_140                 0\n",
       "NEIGHBOURHOOD_140        0\n",
       "DIVISION                 0\n",
       "dtype: int64"
      ]
     },
     "execution_count": 35,
     "metadata": {},
     "output_type": "execute_result"
    }
   ],
   "source": [
    "#looking at null values\n",
    "ksi.isnull().sum()"
   ]
  },
  {
   "cell_type": "code",
   "execution_count": 36,
   "metadata": {},
   "outputs": [],
   "source": [
    "#imputing missing values\n",
    "ksi.fillna('N/A',inplace=True)"
   ]
  },
  {
   "cell_type": "code",
   "execution_count": 37,
   "metadata": {},
   "outputs": [],
   "source": [
    "#converting column names to lowercase\n",
    "ksi.columns = [s.strip().lower() for s in ksi.columns]"
   ]
  },
  {
   "cell_type": "code",
   "execution_count": 38,
   "metadata": {},
   "outputs": [
    {
     "data": {
      "text/plain": [
       "Index(['index', 'accnum', 'year', 'date', 'time', 'street1', 'street2',\n",
       "       'offset', 'road_class', 'district', 'wardnum', 'latitude', 'longitude',\n",
       "       'loccoord', 'accloc', 'traffctl', 'visibility', 'light', 'rdsfcond',\n",
       "       'acclass', 'impactype', 'invtype', 'invage', 'injury', 'fatal_no',\n",
       "       'initdir', 'vehtype', 'manoeuver', 'drivact', 'drivcond', 'pedtype',\n",
       "       'pedact', 'pedcond', 'cyclistype', 'cycact', 'cyccond', 'pedestrian',\n",
       "       'cyclist', 'automobile', 'motorcycle', 'truck', 'trsn_city_veh',\n",
       "       'emerg_veh', 'passenger', 'speeding', 'ag_driv', 'redlight', 'alcohol',\n",
       "       'disability', 'hood_158', 'neighbourhood_158', 'hood_140',\n",
       "       'neighbourhood_140', 'division'],\n",
       "      dtype='object')"
      ]
     },
     "execution_count": 38,
     "metadata": {},
     "output_type": "execute_result"
    }
   ],
   "source": [
    "ksi.columns"
   ]
  },
  {
   "cell_type": "code",
   "execution_count": 39,
   "metadata": {},
   "outputs": [],
   "source": [
    "#adding a column called intersections\n",
    "ksi['intersection'] = ksi['street1'].str.cat(ksi['street2'],sep=',')"
   ]
  },
  {
   "cell_type": "code",
   "execution_count": 40,
   "metadata": {},
   "outputs": [],
   "source": [
    "#setting index as the index\n",
    "ksi.set_index(ksi.index,inplace=True)"
   ]
  },
  {
   "cell_type": "code",
   "execution_count": 41,
   "metadata": {},
   "outputs": [],
   "source": [
    "ksi = ksi.drop(columns = ['index','offset','initdir','hood_140','neighbourhood_140','date','fatal_no','accnum','latitude','longitude','year','wardnum','injury'])"
   ]
  },
  {
   "cell_type": "code",
   "execution_count": 42,
   "metadata": {},
   "outputs": [
    {
     "data": {
      "text/plain": [
       "Index(['time', 'street1', 'street2', 'road_class', 'district', 'loccoord',\n",
       "       'accloc', 'traffctl', 'visibility', 'light', 'rdsfcond', 'acclass',\n",
       "       'impactype', 'invtype', 'invage', 'vehtype', 'manoeuver', 'drivact',\n",
       "       'drivcond', 'pedtype', 'pedact', 'pedcond', 'cyclistype', 'cycact',\n",
       "       'cyccond', 'pedestrian', 'cyclist', 'automobile', 'motorcycle', 'truck',\n",
       "       'trsn_city_veh', 'emerg_veh', 'passenger', 'speeding', 'ag_driv',\n",
       "       'redlight', 'alcohol', 'disability', 'hood_158', 'neighbourhood_158',\n",
       "       'division', 'intersection'],\n",
       "      dtype='object')"
      ]
     },
     "execution_count": 42,
     "metadata": {},
     "output_type": "execute_result"
    }
   ],
   "source": [
    "ksi.columns"
   ]
  },
  {
   "cell_type": "code",
   "execution_count": 43,
   "metadata": {},
   "outputs": [],
   "source": [
    "#dropping rows with acclass =  property damage and N/A\n",
    "#only want acclass = fatal or non-fatal\n",
    "ksi.drop(ksi[ksi['acclass'] == 'Property Damage Only'].index, inplace=True)\n",
    "ksi.drop(ksi[ksi['acclass'] == 'N/A'].index, inplace=True)"
   ]
  },
  {
   "cell_type": "code",
   "execution_count": 44,
   "metadata": {},
   "outputs": [],
   "source": [
    "#specifying predictors and outcome list\n",
    "outcome = 'acclass'\n",
    "predictors = [s for s in ksi.columns if s not in outcome]"
   ]
  },
  {
   "cell_type": "code",
   "execution_count": 45,
   "metadata": {},
   "outputs": [],
   "source": [
    "#assigning predictor and outcome columns to X and y\n",
    "X = pd.get_dummies(ksi[predictors],drop_first=True)\n",
    "y = ksi[outcome]"
   ]
  },
  {
   "cell_type": "code",
   "execution_count": 46,
   "metadata": {},
   "outputs": [],
   "source": [
    "#splitting training and testing dataframes from X and y\n",
    "from sklearn.model_selection import train_test_split\n",
    "train_X, valid_X, train_y, valid_y = train_test_split(X,y,test_size=0.3,random_state=1)"
   ]
  },
  {
   "cell_type": "code",
   "execution_count": 47,
   "metadata": {},
   "outputs": [
    {
     "data": {
      "text/plain": [
       "Non-Fatal Injury    15032\n",
       "Fatal                2442\n",
       "Name: acclass, dtype: int64"
      ]
     },
     "execution_count": 47,
     "metadata": {},
     "output_type": "execute_result"
    }
   ],
   "source": [
    "ksi.acclass.value_counts()"
   ]
  },
  {
   "cell_type": "code",
   "execution_count": 48,
   "metadata": {},
   "outputs": [
    {
     "data": {
      "text/plain": [
       "Non-Fatal Injury    10523\n",
       "Fatal                1708\n",
       "Name: acclass, dtype: int64"
      ]
     },
     "execution_count": 48,
     "metadata": {},
     "output_type": "execute_result"
    }
   ],
   "source": [
    "#checking for class imbalance \n",
    "#dataset is extremely imbalanced and will need to be oversampled\n",
    "train_y.value_counts()"
   ]
  },
  {
   "cell_type": "code",
   "execution_count": 49,
   "metadata": {},
   "outputs": [],
   "source": [
    "#oversampling for fatal in training data\n",
    "from imblearn.under_sampling import RandomUnderSampler\n",
    "undersampler = RandomUnderSampler(random_state=1)\n",
    "train_X_os, train_y_os = undersampler.fit_resample(train_X,train_y)"
   ]
  },
  {
   "cell_type": "code",
   "execution_count": 50,
   "metadata": {},
   "outputs": [
    {
     "data": {
      "text/plain": [
       "Fatal               1708\n",
       "Non-Fatal Injury    1708\n",
       "Name: acclass, dtype: int64"
      ]
     },
     "execution_count": 50,
     "metadata": {},
     "output_type": "execute_result"
    }
   ],
   "source": [
    "train_y_os.value_counts()"
   ]
  },
  {
   "cell_type": "code",
   "execution_count": 51,
   "metadata": {},
   "outputs": [],
   "source": [
    "#oversampling for fatal in validation data\n",
    "valid_X_os, valid_y_os = undersampler.fit_resample(valid_X,valid_y)"
   ]
  },
  {
   "cell_type": "code",
   "execution_count": 52,
   "metadata": {},
   "outputs": [
    {
     "data": {
      "text/plain": [
       "Fatal               734\n",
       "Non-Fatal Injury    734\n",
       "Name: acclass, dtype: int64"
      ]
     },
     "execution_count": 52,
     "metadata": {},
     "output_type": "execute_result"
    }
   ],
   "source": [
    "valid_y_os.value_counts()"
   ]
  },
  {
   "attachments": {},
   "cell_type": "markdown",
   "metadata": {},
   "source": [
    "## Decision Tree Classifier"
   ]
  },
  {
   "cell_type": "code",
   "execution_count": 24,
   "metadata": {},
   "outputs": [
    {
     "data": {
      "text/plain": [
       "DecisionTreeClassifier(random_state=1)"
      ]
     },
     "execution_count": 24,
     "metadata": {},
     "output_type": "execute_result"
    }
   ],
   "source": [
    "clf_tree = DecisionTreeClassifier(random_state=1)\n",
    "clf_tree.fit(train_X,train_y)"
   ]
  },
  {
   "cell_type": "code",
   "execution_count": 25,
   "metadata": {},
   "outputs": [
    {
     "name": "stdout",
     "output_type": "stream",
     "text": [
      "Confusion Matrix (Accuracy 0.9208)\n",
      "\n",
      "          Prediction\n",
      "   Actual     Fatal Non Fatal\n",
      "    Fatal       510       224\n",
      "Non Fatal       191      4318\n"
     ]
    }
   ],
   "source": [
    "classificationSummary(valid_y,clf_tree.predict(valid_X),class_names=['Fatal','Non Fatal'])"
   ]
  },
  {
   "cell_type": "code",
   "execution_count": 26,
   "metadata": {},
   "outputs": [
    {
     "data": {
      "text/plain": [
       "DecisionTreeClassifier(max_depth=5, random_state=1)"
      ]
     },
     "execution_count": 26,
     "metadata": {},
     "output_type": "execute_result"
    }
   ],
   "source": [
    "#fitting tree on oversampled dataset\n",
    "clf_tree_2 = DecisionTreeClassifier(random_state=1,max_depth=5)\n",
    "clf_tree_2.fit(train_X_os,train_y_os)"
   ]
  },
  {
   "cell_type": "code",
   "execution_count": 27,
   "metadata": {},
   "outputs": [
    {
     "name": "stdout",
     "output_type": "stream",
     "text": [
      "Confusion Matrix (Accuracy 0.5987)\n",
      "\n",
      "          Prediction\n",
      "   Actual     Fatal Non Fatal\n",
      "    Fatal       627       107\n",
      "Non Fatal      1997      2512\n"
     ]
    }
   ],
   "source": [
    "classificationSummary(valid_y,clf_tree_2.predict(valid_X),class_names=['Fatal','Non Fatal'])"
   ]
  },
  {
   "cell_type": "code",
   "execution_count": 28,
   "metadata": {},
   "outputs": [
    {
     "name": "stdout",
     "output_type": "stream",
     "text": [
      "Confusion Matrix (Accuracy 0.7057)\n",
      "\n",
      "          Prediction\n",
      "   Actual     Fatal Non Fatal\n",
      "    Fatal       627       107\n",
      "Non Fatal       325       409\n"
     ]
    }
   ],
   "source": [
    "#classification summary on oversampled validation split\n",
    "classificationSummary(valid_y_os,clf_tree_2.predict(valid_X_os),class_names=['Fatal','Non Fatal'])"
   ]
  },
  {
   "cell_type": "code",
   "execution_count": 29,
   "metadata": {},
   "outputs": [],
   "source": [
    "#import"
   ]
  },
  {
   "cell_type": "code",
   "execution_count": null,
   "metadata": {},
   "outputs": [],
   "source": [
    "#plotting oversampled validation split decision tree\n",
    "import matplotlib.pyplot as plt\n",
    "fig, ax = plt.subplots(figsize = (30,50))\n",
    "tree.plot_tree(clf_tree_2,fontsize=12,filled=True,feature_names=train_X_os.columns,)\n",
    "plt.show()"
   ]
  },
  {
   "attachments": {},
   "cell_type": "markdown",
   "metadata": {},
   "source": [
    "## Neural Network"
   ]
  },
  {
   "cell_type": "code",
   "execution_count": 30,
   "metadata": {},
   "outputs": [
    {
     "data": {
      "text/plain": [
       "MLPClassifier(random_state=1)"
      ]
     },
     "execution_count": 30,
     "metadata": {},
     "output_type": "execute_result"
    }
   ],
   "source": [
    "#trying a neural network model\n",
    "from sklearn.neural_network import MLPClassifier\n",
    "neural = MLPClassifier(random_state=1)\n",
    "neural.fit(train_X,train_y)"
   ]
  },
  {
   "cell_type": "code",
   "execution_count": 31,
   "metadata": {},
   "outputs": [
    {
     "name": "stdout",
     "output_type": "stream",
     "text": [
      "Confusion Matrix (Accuracy 0.9163)\n",
      "\n",
      "          Prediction\n",
      "   Actual     Fatal Non Fatal\n",
      "    Fatal       478       256\n",
      "Non Fatal       183      4326\n"
     ]
    }
   ],
   "source": [
    "classificationSummary(valid_y,neural.predict(valid_X),class_names=['Fatal','Non Fatal'])"
   ]
  },
  {
   "cell_type": "code",
   "execution_count": 32,
   "metadata": {},
   "outputs": [
    {
     "data": {
      "text/plain": [
       "MLPClassifier(random_state=1)"
      ]
     },
     "execution_count": 32,
     "metadata": {},
     "output_type": "execute_result"
    }
   ],
   "source": [
    "#fitting neural network on undersampled dataset\n",
    "neural_2 = MLPClassifier(random_state=1)\n",
    "neural_2.fit(train_X_os,train_y_os)"
   ]
  },
  {
   "cell_type": "code",
   "execution_count": 33,
   "metadata": {},
   "outputs": [
    {
     "name": "stdout",
     "output_type": "stream",
     "text": [
      "Confusion Matrix (Accuracy 0.8413)\n",
      "\n",
      "          Prediction\n",
      "   Actual     Fatal Non Fatal\n",
      "    Fatal       527       207\n",
      "Non Fatal       625      3884\n"
     ]
    }
   ],
   "source": [
    "classificationSummary(valid_y,neural_2.predict(valid_X),class_names=['Fatal','Non Fatal'])"
   ]
  },
  {
   "cell_type": "code",
   "execution_count": 34,
   "metadata": {},
   "outputs": [
    {
     "name": "stdout",
     "output_type": "stream",
     "text": [
      "Confusion Matrix (Accuracy 0.7888)\n",
      "\n",
      "          Prediction\n",
      "   Actual     Fatal Non Fatal\n",
      "    Fatal       527       207\n",
      "Non Fatal       103       631\n"
     ]
    }
   ],
   "source": [
    "classificationSummary(valid_y_os,neural_2.predict(valid_X_os),class_names=['Fatal','Non Fatal'])"
   ]
  },
  {
   "cell_type": "code",
   "execution_count": 35,
   "metadata": {},
   "outputs": [
    {
     "data": {
      "text/plain": [
       "array(['Fatal', 'Non-Fatal Injury'], dtype=object)"
      ]
     },
     "execution_count": 35,
     "metadata": {},
     "output_type": "execute_result"
    }
   ],
   "source": [
    "valid_y.unique()"
   ]
  },
  {
   "attachments": {},
   "cell_type": "markdown",
   "metadata": {},
   "source": [
    "## Random Forest"
   ]
  },
  {
   "cell_type": "code",
   "execution_count": 25,
   "metadata": {},
   "outputs": [
    {
     "data": {
      "text/plain": [
       "RandomForestClassifier(n_estimators=500, random_state=1)"
      ]
     },
     "execution_count": 25,
     "metadata": {},
     "output_type": "execute_result"
    }
   ],
   "source": [
    "#random forest\n",
    "from sklearn.ensemble import RandomForestClassifier\n",
    "forest = RandomForestClassifier(n_estimators=500,random_state=1)\n",
    "forest.fit(train_X,train_y)"
   ]
  },
  {
   "cell_type": "code",
   "execution_count": 119,
   "metadata": {},
   "outputs": [
    {
     "name": "stdout",
     "output_type": "stream",
     "text": [
      "Confusion Matrix (Accuracy 0.9153)\n",
      "\n",
      "          Prediction\n",
      "   Actual     Fatal Non Fatal\n",
      "    Fatal       294       440\n",
      "Non Fatal         4      4505\n"
     ]
    }
   ],
   "source": [
    "classificationSummary(valid_y,forest.predict(valid_X),class_names=['Fatal','Non Fatal'])"
   ]
  },
  {
   "cell_type": "code",
   "execution_count": 53,
   "metadata": {},
   "outputs": [
    {
     "data": {
      "text/plain": [
       "RandomForestClassifier(n_estimators=500, random_state=1)"
      ]
     },
     "execution_count": 53,
     "metadata": {},
     "output_type": "execute_result"
    }
   ],
   "source": [
    "#random forest on undersampled dataset\n",
    "forest_2 = RandomForestClassifier(n_estimators=500,random_state=1)\n",
    "forest_2.fit(train_X_os,train_y_os)"
   ]
  },
  {
   "cell_type": "code",
   "execution_count": 54,
   "metadata": {},
   "outputs": [
    {
     "name": "stdout",
     "output_type": "stream",
     "text": [
      "Confusion Matrix (Accuracy 0.7976)\n",
      "\n",
      "          Prediction\n",
      "   Actual     Fatal Non Fatal\n",
      "    Fatal       627       107\n",
      "Non Fatal       954      3555\n"
     ]
    }
   ],
   "source": [
    "#classification summary of original validation split\n",
    "classificationSummary(valid_y,forest_2.predict(valid_X),class_names=['Fatal','Non Fatal'])"
   ]
  },
  {
   "cell_type": "code",
   "execution_count": 55,
   "metadata": {},
   "outputs": [
    {
     "name": "stdout",
     "output_type": "stream",
     "text": [
      "Confusion Matrix (Accuracy 0.8263)\n",
      "\n",
      "          Prediction\n",
      "   Actual     Fatal Non Fatal\n",
      "    Fatal       627       107\n",
      "Non Fatal       148       586\n"
     ]
    }
   ],
   "source": [
    "#classification summary of acclass=fatal oversampled split\n",
    "classificationSummary(valid_y_os,forest_2.predict(valid_X_os),class_names=['Fatal','Non Fatal'])"
   ]
  },
  {
   "cell_type": "code",
   "execution_count": 56,
   "metadata": {},
   "outputs": [
    {
     "data": {
      "text/plain": [
       "<bound method BaseEstimator.get_params of RandomForestClassifier(n_estimators=500, random_state=1)>"
      ]
     },
     "execution_count": 56,
     "metadata": {},
     "output_type": "execute_result"
    }
   ],
   "source": [
    "forest_2.get_params"
   ]
  },
  {
   "cell_type": "code",
   "execution_count": 57,
   "metadata": {},
   "outputs": [
    {
     "data": {
      "text/html": [
       "<div>\n",
       "<style scoped>\n",
       "    .dataframe tbody tr th:only-of-type {\n",
       "        vertical-align: middle;\n",
       "    }\n",
       "\n",
       "    .dataframe tbody tr th {\n",
       "        vertical-align: top;\n",
       "    }\n",
       "\n",
       "    .dataframe thead th {\n",
       "        text-align: right;\n",
       "    }\n",
       "</style>\n",
       "<table border=\"1\" class=\"dataframe\">\n",
       "  <thead>\n",
       "    <tr style=\"text-align: right;\">\n",
       "      <th></th>\n",
       "      <th>Features</th>\n",
       "      <th>Importance</th>\n",
       "    </tr>\n",
       "  </thead>\n",
       "  <tbody>\n",
       "    <tr>\n",
       "      <th>0</th>\n",
       "      <td>time</td>\n",
       "      <td>0.030627</td>\n",
       "    </tr>\n",
       "    <tr>\n",
       "      <th>4490</th>\n",
       "      <td>impactype_Pedestrian Collisions</td>\n",
       "      <td>0.009694</td>\n",
       "    </tr>\n",
       "    <tr>\n",
       "      <th>4696</th>\n",
       "      <td>speeding_Yes</td>\n",
       "      <td>0.009508</td>\n",
       "    </tr>\n",
       "    <tr>\n",
       "      <th>4472</th>\n",
       "      <td>light_Daylight</td>\n",
       "      <td>0.008725</td>\n",
       "    </tr>\n",
       "    <tr>\n",
       "      <th>4688</th>\n",
       "      <td>pedestrian_Yes</td>\n",
       "      <td>0.008277</td>\n",
       "    </tr>\n",
       "    <tr>\n",
       "      <th>4697</th>\n",
       "      <td>ag_driv_Yes</td>\n",
       "      <td>0.008242</td>\n",
       "    </tr>\n",
       "    <tr>\n",
       "      <th>4434</th>\n",
       "      <td>district_Toronto and East York</td>\n",
       "      <td>0.007852</td>\n",
       "    </tr>\n",
       "    <tr>\n",
       "      <th>4692</th>\n",
       "      <td>truck_Yes</td>\n",
       "      <td>0.007185</td>\n",
       "    </tr>\n",
       "    <tr>\n",
       "      <th>4445</th>\n",
       "      <td>accloc_N/A</td>\n",
       "      <td>0.006869</td>\n",
       "    </tr>\n",
       "    <tr>\n",
       "      <th>4603</th>\n",
       "      <td>drivcond_Unknown</td>\n",
       "      <td>0.006677</td>\n",
       "    </tr>\n",
       "    <tr>\n",
       "      <th>4695</th>\n",
       "      <td>passenger_Yes</td>\n",
       "      <td>0.006559</td>\n",
       "    </tr>\n",
       "    <tr>\n",
       "      <th>4451</th>\n",
       "      <td>traffctl_No Control</td>\n",
       "      <td>0.006450</td>\n",
       "    </tr>\n",
       "    <tr>\n",
       "      <th>4690</th>\n",
       "      <td>automobile_Yes</td>\n",
       "      <td>0.006316</td>\n",
       "    </tr>\n",
       "    <tr>\n",
       "      <th>4425</th>\n",
       "      <td>road_class_Major Arterial</td>\n",
       "      <td>0.006119</td>\n",
       "    </tr>\n",
       "    <tr>\n",
       "      <th>4459</th>\n",
       "      <td>traffctl_Traffic Signal</td>\n",
       "      <td>0.006095</td>\n",
       "    </tr>\n",
       "  </tbody>\n",
       "</table>\n",
       "</div>"
      ],
      "text/plain": [
       "                             Features  Importance\n",
       "0                                time    0.030627\n",
       "4490  impactype_Pedestrian Collisions    0.009694\n",
       "4696                     speeding_Yes    0.009508\n",
       "4472                   light_Daylight    0.008725\n",
       "4688                   pedestrian_Yes    0.008277\n",
       "4697                      ag_driv_Yes    0.008242\n",
       "4434   district_Toronto and East York    0.007852\n",
       "4692                        truck_Yes    0.007185\n",
       "4445                       accloc_N/A    0.006869\n",
       "4603                 drivcond_Unknown    0.006677\n",
       "4695                    passenger_Yes    0.006559\n",
       "4451              traffctl_No Control    0.006450\n",
       "4690                   automobile_Yes    0.006316\n",
       "4425        road_class_Major Arterial    0.006119\n",
       "4459          traffctl_Traffic Signal    0.006095"
      ]
     },
     "execution_count": 57,
     "metadata": {},
     "output_type": "execute_result"
    }
   ],
   "source": [
    "pd.DataFrame({'Features':forest_2.feature_names_in_,'Importance':forest_2.feature_importances_}).sort_values('Importance',ascending=False).head(15)"
   ]
  },
  {
   "cell_type": "code",
   "execution_count": 125,
   "metadata": {},
   "outputs": [],
   "source": [
    "#plotting random forest tree\n",
    "#fig, ax = plt.subplots(figsize = (200,200),nrows=1,ncols=1)\n",
    "#tree.plot_tree(forest_2.estimators_[0],fontsize=12,filled=True,feature_names=train_X_os.columns)\n",
    "#plt.show()"
   ]
  },
  {
   "attachments": {},
   "cell_type": "markdown",
   "metadata": {},
   "source": [
    "Random Forest Gridsearch"
   ]
  },
  {
   "cell_type": "code",
   "execution_count": 31,
   "metadata": {},
   "outputs": [],
   "source": [
    "param_grid = {'n_estimators':[200,300,500,800,1000],\n",
    "              'criterion':['gini','entropy'],\n",
    "              'max_depth':[10,25,50,75,100],\n",
    "              'min_samples_split':[1,2,3,4,5,6]}"
   ]
  },
  {
   "cell_type": "code",
   "execution_count": null,
   "metadata": {},
   "outputs": [],
   "source": [
    "#from sklearn.model_selection import GridSearchCV\n",
    "#gridsearch  = GridSearchCV(RandomForestClassifier(random_state=1),param_grid=param_grid,cv=5,n_jobs=-1)\n",
    "#gridsearch.fit(train_X_os,train_y_os)"
   ]
  },
  {
   "cell_type": "code",
   "execution_count": 35,
   "metadata": {},
   "outputs": [
    {
     "data": {
      "text/plain": [
       "RandomForestClassifier(criterion='entropy', max_depth=50, n_estimators=500,\n",
       "                       random_state=1)"
      ]
     },
     "execution_count": 35,
     "metadata": {},
     "output_type": "execute_result"
    }
   ],
   "source": [
    "gridsearch.best_estimator_"
   ]
  },
  {
   "cell_type": "code",
   "execution_count": 37,
   "metadata": {},
   "outputs": [
    {
     "name": "stdout",
     "output_type": "stream",
     "text": [
      "Confusion Matrix (Accuracy 0.8583)\n",
      "\n",
      "          Prediction\n",
      "   Actual     Fatal Non Fatal\n",
      "    Fatal       650        84\n",
      "Non Fatal       124       610\n"
     ]
    }
   ],
   "source": [
    "classificationSummary(valid_y_os,gridsearch.best_estimator_.predict(valid_X_os),class_names=['Fatal','Non Fatal'])"
   ]
  },
  {
   "cell_type": "code",
   "execution_count": 36,
   "metadata": {},
   "outputs": [
    {
     "name": "stdout",
     "output_type": "stream",
     "text": [
      "Confusion Matrix (Accuracy 0.8583)\n",
      "\n",
      "          Prediction\n",
      "   Actual     Fatal Non Fatal\n",
      "    Fatal       650        84\n",
      "Non Fatal       124       610\n"
     ]
    }
   ],
   "source": [
    "classificationSummary(valid_y_os,gridsearch.predict(valid_X_os),class_names=['Fatal','Non Fatal'])"
   ]
  },
  {
   "attachments": {},
   "cell_type": "markdown",
   "metadata": {},
   "source": [
    "## Boosted Tree"
   ]
  },
  {
   "cell_type": "code",
   "execution_count": 43,
   "metadata": {},
   "outputs": [
    {
     "data": {
      "text/plain": [
       "AdaBoostClassifier(n_estimators=500, random_state=1)"
      ]
     },
     "execution_count": 43,
     "metadata": {},
     "output_type": "execute_result"
    }
   ],
   "source": [
    "from sklearn.ensemble import AdaBoostClassifier\n",
    "boost = AdaBoostClassifier(n_estimators=500,random_state=1)\n",
    "boost.fit(train_X,train_y)"
   ]
  },
  {
   "cell_type": "code",
   "execution_count": 44,
   "metadata": {},
   "outputs": [
    {
     "name": "stdout",
     "output_type": "stream",
     "text": [
      "Confusion Matrix (Accuracy 0.9174)\n",
      "\n",
      "          Prediction\n",
      "   Actual     Fatal Non Fatal\n",
      "    Fatal       380       354\n",
      "Non Fatal        79      4430\n"
     ]
    }
   ],
   "source": [
    "classificationSummary(valid_y,boost.predict(valid_X),class_names=['Fatal','Non Fatal'])"
   ]
  },
  {
   "cell_type": "code",
   "execution_count": 45,
   "metadata": {},
   "outputs": [
    {
     "data": {
      "text/plain": [
       "AdaBoostClassifier(n_estimators=500, random_state=1)"
      ]
     },
     "execution_count": 45,
     "metadata": {},
     "output_type": "execute_result"
    }
   ],
   "source": [
    "#boosting on oversampled dataset\n",
    "boost_2 = AdaBoostClassifier(n_estimators=500,random_state=1)\n",
    "boost_2.fit(train_X_os,train_y_os)"
   ]
  },
  {
   "cell_type": "code",
   "execution_count": 46,
   "metadata": {},
   "outputs": [
    {
     "name": "stdout",
     "output_type": "stream",
     "text": [
      "Confusion Matrix (Accuracy 0.8009)\n",
      "\n",
      "          Prediction\n",
      "   Actual     Fatal Non Fatal\n",
      "    Fatal       577       157\n",
      "Non Fatal       887      3622\n"
     ]
    }
   ],
   "source": [
    "classificationSummary(valid_y,boost_2.predict(valid_X),class_names=['Fatal','Non Fatal'])"
   ]
  },
  {
   "cell_type": "code",
   "execution_count": 47,
   "metadata": {},
   "outputs": [
    {
     "name": "stdout",
     "output_type": "stream",
     "text": [
      "Confusion Matrix (Accuracy 0.7888)\n",
      "\n",
      "          Prediction\n",
      "   Actual     Fatal Non Fatal\n",
      "    Fatal       577       157\n",
      "Non Fatal       153       581\n"
     ]
    }
   ],
   "source": [
    "classificationSummary(valid_y_os,boost_2.predict(valid_X_os),class_names=['Fatal','Non Fatal'])"
   ]
  },
  {
   "attachments": {},
   "cell_type": "markdown",
   "metadata": {},
   "source": [
    "## Logistic Regression"
   ]
  },
  {
   "cell_type": "code",
   "execution_count": 163,
   "metadata": {},
   "outputs": [
    {
     "data": {
      "text/plain": [
       "LogisticRegression(C=10, max_iter=10000, random_state=1)"
      ]
     },
     "execution_count": 163,
     "metadata": {},
     "output_type": "execute_result"
    }
   ],
   "source": [
    "from sklearn.linear_model import LogisticRegression\n",
    "logit = LogisticRegression(random_state=1,C=10,max_iter=10000)\n",
    "logit.fit(train_X_os,train_y_os)"
   ]
  },
  {
   "cell_type": "code",
   "execution_count": 164,
   "metadata": {},
   "outputs": [
    {
     "name": "stdout",
     "output_type": "stream",
     "text": [
      "Confusion Matrix (Accuracy 0.8556)\n",
      "\n",
      "          Prediction\n",
      "   Actual     Fatal Non Fatal\n",
      "    Fatal       642        92\n",
      "Non Fatal       120       614\n"
     ]
    }
   ],
   "source": [
    "classificationSummary(valid_y_os,logit.predict(valid_X_os),class_names=['Fatal','Non Fatal'])"
   ]
  },
  {
   "cell_type": "code",
   "execution_count": 165,
   "metadata": {},
   "outputs": [
    {
     "data": {
      "text/html": [
       "<div>\n",
       "<style scoped>\n",
       "    .dataframe tbody tr th:only-of-type {\n",
       "        vertical-align: middle;\n",
       "    }\n",
       "\n",
       "    .dataframe tbody tr th {\n",
       "        vertical-align: top;\n",
       "    }\n",
       "\n",
       "    .dataframe thead th {\n",
       "        text-align: right;\n",
       "    }\n",
       "</style>\n",
       "<table border=\"1\" class=\"dataframe\">\n",
       "  <thead>\n",
       "    <tr style=\"text-align: right;\">\n",
       "      <th></th>\n",
       "      <th>Importance</th>\n",
       "    </tr>\n",
       "  </thead>\n",
       "  <tbody>\n",
       "    <tr>\n",
       "      <th>injury_Major</th>\n",
       "      <td>9.161137</td>\n",
       "    </tr>\n",
       "    <tr>\n",
       "      <th>injury_None</th>\n",
       "      <td>6.861853</td>\n",
       "    </tr>\n",
       "    <tr>\n",
       "      <th>injury_Minimal</th>\n",
       "      <td>6.832581</td>\n",
       "    </tr>\n",
       "    <tr>\n",
       "      <th>injury_Minor</th>\n",
       "      <td>6.667196</td>\n",
       "    </tr>\n",
       "    <tr>\n",
       "      <th>intersection_DUNDAS ST W,BLOOR ST W</th>\n",
       "      <td>3.636261</td>\n",
       "    </tr>\n",
       "    <tr>\n",
       "      <th>injury_N/A</th>\n",
       "      <td>3.547932</td>\n",
       "    </tr>\n",
       "    <tr>\n",
       "      <th>intersection_LAWRENCE AVE E,MARKHAM RD</th>\n",
       "      <td>2.938656</td>\n",
       "    </tr>\n",
       "    <tr>\n",
       "      <th>impactype_Other</th>\n",
       "      <td>2.832323</td>\n",
       "    </tr>\n",
       "    <tr>\n",
       "      <th>intersection_CARLTON ST,PARLIAMENT ST</th>\n",
       "      <td>2.814368</td>\n",
       "    </tr>\n",
       "    <tr>\n",
       "      <th>intersection_EGLINTON AVE E,PHARMACY AVE</th>\n",
       "      <td>2.732858</td>\n",
       "    </tr>\n",
       "    <tr>\n",
       "      <th>intersection_KINGSTON RD,MIDLAND AVE</th>\n",
       "      <td>2.494019</td>\n",
       "    </tr>\n",
       "    <tr>\n",
       "      <th>intersection_JANE ST,YORKWOODS GT</th>\n",
       "      <td>2.430398</td>\n",
       "    </tr>\n",
       "    <tr>\n",
       "      <th>street2_YORKWOODS GT</th>\n",
       "      <td>2.430398</td>\n",
       "    </tr>\n",
       "    <tr>\n",
       "      <th>street2_MASSIE ST</th>\n",
       "      <td>2.410324</td>\n",
       "    </tr>\n",
       "    <tr>\n",
       "      <th>intersection_SHEPPARD AVE E,MASSIE ST</th>\n",
       "      <td>2.410324</td>\n",
       "    </tr>\n",
       "  </tbody>\n",
       "</table>\n",
       "</div>"
      ],
      "text/plain": [
       "                                          Importance\n",
       "injury_Major                                9.161137\n",
       "injury_None                                 6.861853\n",
       "injury_Minimal                              6.832581\n",
       "injury_Minor                                6.667196\n",
       "intersection_DUNDAS ST W,BLOOR ST W         3.636261\n",
       "injury_N/A                                  3.547932\n",
       "intersection_LAWRENCE AVE E,MARKHAM RD      2.938656\n",
       "impactype_Other                             2.832323\n",
       "intersection_CARLTON ST,PARLIAMENT ST       2.814368\n",
       "intersection_EGLINTON AVE E,PHARMACY AVE    2.732858\n",
       "intersection_KINGSTON RD,MIDLAND AVE        2.494019\n",
       "intersection_JANE ST,YORKWOODS GT           2.430398\n",
       "street2_YORKWOODS GT                        2.430398\n",
       "street2_MASSIE ST                           2.410324\n",
       "intersection_SHEPPARD AVE E,MASSIE ST       2.410324"
      ]
     },
     "execution_count": 165,
     "metadata": {},
     "output_type": "execute_result"
    }
   ],
   "source": [
    "#logistic regression feature importance\n",
    "pd.DataFrame({'Importance':logit.coef_[0]}).set_index(logit.feature_names_in_).sort_values('Importance',ascending=False).head(15)"
   ]
  },
  {
   "cell_type": "markdown",
   "metadata": {},
   "source": [
    "## Balanced Random Forest"
   ]
  },
  {
   "cell_type": "code",
   "execution_count": 2,
   "metadata": {},
   "outputs": [],
   "source": [
    "from imblearn.ensemble import BalancedRandomForestClassifier"
   ]
  },
  {
   "cell_type": "code",
   "execution_count": 33,
   "metadata": {},
   "outputs": [
    {
     "data": {
      "text/plain": [
       "BalancedRandomForestClassifier(random_state=1)"
      ]
     },
     "execution_count": 33,
     "metadata": {},
     "output_type": "execute_result"
    }
   ],
   "source": [
    "balancedforest = BalancedRandomForestClassifier(random_state=1)\n",
    "balancedforest.fit(train_X_os,train_y_os)"
   ]
  },
  {
   "cell_type": "code",
   "execution_count": 34,
   "metadata": {},
   "outputs": [
    {
     "name": "stdout",
     "output_type": "stream",
     "text": [
      "Confusion Matrix (Accuracy 0.8617)\n",
      "\n",
      "          Prediction\n",
      "   Actual     Fatal Non Fatal\n",
      "    Fatal       646        88\n",
      "Non Fatal       115       619\n"
     ]
    }
   ],
   "source": [
    "classificationSummary(valid_y_os,balancedforest.predict(valid_X_os),class_names=['Fatal','Non Fatal'])"
   ]
  },
  {
   "cell_type": "code",
   "execution_count": null,
   "metadata": {},
   "outputs": [],
   "source": []
  }
 ],
 "metadata": {
  "kernelspec": {
   "display_name": "base",
   "language": "python",
   "name": "python3"
  },
  "language_info": {
   "codemirror_mode": {
    "name": "ipython",
    "version": 3
   },
   "file_extension": ".py",
   "mimetype": "text/x-python",
   "name": "python",
   "nbconvert_exporter": "python",
   "pygments_lexer": "ipython3",
   "version": "3.9.12"
  },
  "orig_nbformat": 4
 },
 "nbformat": 4,
 "nbformat_minor": 2
}
