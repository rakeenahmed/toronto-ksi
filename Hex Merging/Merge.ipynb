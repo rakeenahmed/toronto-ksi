{
 "cells": [
  {
   "cell_type": "code",
   "execution_count": 1,
   "metadata": {},
   "outputs": [],
   "source": [
    "!pip install keplergl --quiet\n",
    "import numpy as np\n",
    "import pandas as pd\n",
    "import geopandas as gpd\n",
    "import keplergl\n",
    "#from keplergl import KeplerGL\n",
    "import matplotlib as plt\n",
    "import plotly.express as px\n",
    "#import h3\n",
    "import shapely\n",
    "from geopandas import GeoDataFrame,GeoSeries\n",
    "import folium\n",
    "import matplotlib\n",
    "%matplotlib inline"
   ]
  },
  {
   "cell_type": "code",
   "execution_count": 3,
   "metadata": {},
   "outputs": [],
   "source": [
    "bikelanes = pd.read_csv('bikelanes_processed.csv')\n",
    "road_network = pd.read_csv('road_network_processed.csv')\n",
    "traffic_volumes = pd.read_csv('traffic_volumes_h3.csv')"
   ]
  },
  {
   "cell_type": "code",
   "execution_count": 26,
   "metadata": {},
   "outputs": [],
   "source": [
    "#merging the two dataframes on the hex_cell column\n",
    "merge = road_network.merge(bikelanes, on='hex_cell', how='inner')"
   ]
  },
  {
   "cell_type": "code",
   "execution_count": 27,
   "metadata": {},
   "outputs": [
    {
     "data": {
      "text/html": [
       "<div>\n",
       "<style scoped>\n",
       "    .dataframe tbody tr th:only-of-type {\n",
       "        vertical-align: middle;\n",
       "    }\n",
       "\n",
       "    .dataframe tbody tr th {\n",
       "        vertical-align: top;\n",
       "    }\n",
       "\n",
       "    .dataframe thead th {\n",
       "        text-align: right;\n",
       "    }\n",
       "</style>\n",
       "<table border=\"1\" class=\"dataframe\">\n",
       "  <thead>\n",
       "    <tr style=\"text-align: right;\">\n",
       "      <th></th>\n",
       "      <th>Unnamed: 0_x</th>\n",
       "      <th>official_street_name</th>\n",
       "      <th>road_class</th>\n",
       "      <th>geometry</th>\n",
       "      <th>latitude</th>\n",
       "      <th>longitude</th>\n",
       "      <th>coordinates_x</th>\n",
       "      <th>hex_cell</th>\n",
       "      <th>Unnamed: 0_y</th>\n",
       "      <th>installed</th>\n",
       "      <th>street_name</th>\n",
       "      <th>from_street</th>\n",
       "      <th>to_street</th>\n",
       "      <th>infra_loworder</th>\n",
       "      <th>infra_highorder</th>\n",
       "      <th>coordinates_y</th>\n",
       "    </tr>\n",
       "  </thead>\n",
       "  <tbody>\n",
       "    <tr>\n",
       "      <th>0</th>\n",
       "      <td>223</td>\n",
       "      <td>WELLESLEY COTTAGES</td>\n",
       "      <td>Local / Strata</td>\n",
       "      <td>LINESTRING (-79.36711648017713 43.668687188536...</td>\n",
       "      <td>43.668863</td>\n",
       "      <td>-79.367188</td>\n",
       "      <td>(43.66886268856369, -79.36718833021547)</td>\n",
       "      <td>8a2b9bc718dffff</td>\n",
       "      <td>2278</td>\n",
       "      <td>2005</td>\n",
       "      <td>Wellesley St E</td>\n",
       "      <td>Parliament St</td>\n",
       "      <td>Sumach St</td>\n",
       "      <td>Signed Route (No Pavement Markings)</td>\n",
       "      <td>Signed Route (No Pavement Markings)</td>\n",
       "      <td>(43.66876274034707, -79.36679358103952)</td>\n",
       "    </tr>\n",
       "    <tr>\n",
       "      <th>1</th>\n",
       "      <td>56413</td>\n",
       "      <td>WELLESLEY STREET EAST</td>\n",
       "      <td>Local / Street</td>\n",
       "      <td>LINESTRING (-79.36652357999942 43.668817788586...</td>\n",
       "      <td>43.669003</td>\n",
       "      <td>-79.365687</td>\n",
       "      <td>(43.66900293865787, -79.36568742974895)</td>\n",
       "      <td>8a2b9bc718dffff</td>\n",
       "      <td>2278</td>\n",
       "      <td>2005</td>\n",
       "      <td>Wellesley St E</td>\n",
       "      <td>Parliament St</td>\n",
       "      <td>Sumach St</td>\n",
       "      <td>Signed Route (No Pavement Markings)</td>\n",
       "      <td>Signed Route (No Pavement Markings)</td>\n",
       "      <td>(43.66876274034707, -79.36679358103952)</td>\n",
       "    </tr>\n",
       "    <tr>\n",
       "      <th>2</th>\n",
       "      <td>56418</td>\n",
       "      <td>WELLESLEY STREET EAST</td>\n",
       "      <td>Local / Street</td>\n",
       "      <td>LINESTRING (-79.36711648017713 43.668687188536...</td>\n",
       "      <td>43.668752</td>\n",
       "      <td>-79.366820</td>\n",
       "      <td>(43.668752488561395, -79.36682003008828)</td>\n",
       "      <td>8a2b9bc718dffff</td>\n",
       "      <td>2278</td>\n",
       "      <td>2005</td>\n",
       "      <td>Wellesley St E</td>\n",
       "      <td>Parliament St</td>\n",
       "      <td>Sumach St</td>\n",
       "      <td>Signed Route (No Pavement Markings)</td>\n",
       "      <td>Signed Route (No Pavement Markings)</td>\n",
       "      <td>(43.66876274034707, -79.36679358103952)</td>\n",
       "    </tr>\n",
       "    <tr>\n",
       "      <th>3</th>\n",
       "      <td>225082</td>\n",
       "      <td>LANE SOUTH WELLESLEY EAST SACKVILLE STREET</td>\n",
       "      <td>Alleyway / Laneway</td>\n",
       "      <td>LINESTRING (-79.36595597979547 43.668558088567...</td>\n",
       "      <td>43.668604</td>\n",
       "      <td>-79.365733</td>\n",
       "      <td>(43.66860392343607, -79.36573268672439)</td>\n",
       "      <td>8a2b9bc718dffff</td>\n",
       "      <td>2278</td>\n",
       "      <td>2005</td>\n",
       "      <td>Wellesley St E</td>\n",
       "      <td>Parliament St</td>\n",
       "      <td>Sumach St</td>\n",
       "      <td>Signed Route (No Pavement Markings)</td>\n",
       "      <td>Signed Route (No Pavement Markings)</td>\n",
       "      <td>(43.66876274034707, -79.36679358103952)</td>\n",
       "    </tr>\n",
       "    <tr>\n",
       "      <th>4</th>\n",
       "      <td>228927</td>\n",
       "      <td>COLTSFOOT LANE</td>\n",
       "      <td>Alleyway / Laneway</td>\n",
       "      <td>LINESTRING (-79.36640367993246 43.668491588534...</td>\n",
       "      <td>43.668543</td>\n",
       "      <td>-79.366176</td>\n",
       "      <td>(43.66854287137301, -79.36617636427408)</td>\n",
       "      <td>8a2b9bc718dffff</td>\n",
       "      <td>2278</td>\n",
       "      <td>2005</td>\n",
       "      <td>Wellesley St E</td>\n",
       "      <td>Parliament St</td>\n",
       "      <td>Sumach St</td>\n",
       "      <td>Signed Route (No Pavement Markings)</td>\n",
       "      <td>Signed Route (No Pavement Markings)</td>\n",
       "      <td>(43.66876274034707, -79.36679358103952)</td>\n",
       "    </tr>\n",
       "  </tbody>\n",
       "</table>\n",
       "</div>"
      ],
      "text/plain": [
       "   Unnamed: 0_x                        official_street_name  \\\n",
       "0           223                          WELLESLEY COTTAGES   \n",
       "1         56413                       WELLESLEY STREET EAST   \n",
       "2         56418                       WELLESLEY STREET EAST   \n",
       "3        225082  LANE SOUTH WELLESLEY EAST SACKVILLE STREET   \n",
       "4        228927                              COLTSFOOT LANE   \n",
       "\n",
       "           road_class                                           geometry  \\\n",
       "0      Local / Strata  LINESTRING (-79.36711648017713 43.668687188536...   \n",
       "1      Local / Street  LINESTRING (-79.36652357999942 43.668817788586...   \n",
       "2      Local / Street  LINESTRING (-79.36711648017713 43.668687188536...   \n",
       "3  Alleyway / Laneway  LINESTRING (-79.36595597979547 43.668558088567...   \n",
       "4  Alleyway / Laneway  LINESTRING (-79.36640367993246 43.668491588534...   \n",
       "\n",
       "    latitude  longitude                             coordinates_x  \\\n",
       "0  43.668863 -79.367188   (43.66886268856369, -79.36718833021547)   \n",
       "1  43.669003 -79.365687   (43.66900293865787, -79.36568742974895)   \n",
       "2  43.668752 -79.366820  (43.668752488561395, -79.36682003008828)   \n",
       "3  43.668604 -79.365733   (43.66860392343607, -79.36573268672439)   \n",
       "4  43.668543 -79.366176   (43.66854287137301, -79.36617636427408)   \n",
       "\n",
       "          hex_cell  Unnamed: 0_y  installed     street_name    from_street  \\\n",
       "0  8a2b9bc718dffff          2278       2005  Wellesley St E  Parliament St   \n",
       "1  8a2b9bc718dffff          2278       2005  Wellesley St E  Parliament St   \n",
       "2  8a2b9bc718dffff          2278       2005  Wellesley St E  Parliament St   \n",
       "3  8a2b9bc718dffff          2278       2005  Wellesley St E  Parliament St   \n",
       "4  8a2b9bc718dffff          2278       2005  Wellesley St E  Parliament St   \n",
       "\n",
       "   to_street                       infra_loworder  \\\n",
       "0  Sumach St  Signed Route (No Pavement Markings)   \n",
       "1  Sumach St  Signed Route (No Pavement Markings)   \n",
       "2  Sumach St  Signed Route (No Pavement Markings)   \n",
       "3  Sumach St  Signed Route (No Pavement Markings)   \n",
       "4  Sumach St  Signed Route (No Pavement Markings)   \n",
       "\n",
       "                       infra_highorder  \\\n",
       "0  Signed Route (No Pavement Markings)   \n",
       "1  Signed Route (No Pavement Markings)   \n",
       "2  Signed Route (No Pavement Markings)   \n",
       "3  Signed Route (No Pavement Markings)   \n",
       "4  Signed Route (No Pavement Markings)   \n",
       "\n",
       "                             coordinates_y  \n",
       "0  (43.66876274034707, -79.36679358103952)  \n",
       "1  (43.66876274034707, -79.36679358103952)  \n",
       "2  (43.66876274034707, -79.36679358103952)  \n",
       "3  (43.66876274034707, -79.36679358103952)  \n",
       "4  (43.66876274034707, -79.36679358103952)  "
      ]
     },
     "execution_count": 27,
     "metadata": {},
     "output_type": "execute_result"
    }
   ],
   "source": [
    "merge.head()"
   ]
  },
  {
   "cell_type": "code",
   "execution_count": 28,
   "metadata": {},
   "outputs": [
    {
     "data": {
      "text/plain": [
       "(5836, 16)"
      ]
     },
     "execution_count": 28,
     "metadata": {},
     "output_type": "execute_result"
    }
   ],
   "source": [
    "merge.shape"
   ]
  },
  {
   "cell_type": "code",
   "execution_count": 29,
   "metadata": {},
   "outputs": [
    {
     "data": {
      "text/plain": [
       "(2209, 6)"
      ]
     },
     "execution_count": 29,
     "metadata": {},
     "output_type": "execute_result"
    }
   ],
   "source": [
    "traffic_volumes.shape"
   ]
  },
  {
   "cell_type": "code",
   "execution_count": 30,
   "metadata": {},
   "outputs": [
    {
     "data": {
      "text/plain": [
       "(50066, 8)"
      ]
     },
     "execution_count": 30,
     "metadata": {},
     "output_type": "execute_result"
    }
   ],
   "source": [
    "road_network.shape"
   ]
  },
  {
   "cell_type": "code",
   "execution_count": null,
   "metadata": {},
   "outputs": [
    {
     "name": "stdout",
     "output_type": "stream",
     "text": [
      "Executing shutdown due to inactivity...\n"
     ]
    },
    {
     "name": "stderr",
     "output_type": "stream",
     "text": [
      "2023-08-01 20:27:01,014 - INFO     - Executing shutdown due to inactivity...\n"
     ]
    },
    {
     "name": "stdout",
     "output_type": "stream",
     "text": [
      "Executing shutdown...\n"
     ]
    },
    {
     "name": "stderr",
     "output_type": "stream",
     "text": [
      "2023-08-01 20:27:01,089 - INFO     - Executing shutdown...\n",
      "/Users/rakeenahmed/opt/anaconda3/lib/python3.9/site-packages/dtale/app.py:422: UserWarning:\n",
      "\n",
      "The 'environ['werkzeug.server.shutdown']' function is deprecated and will be removed in Werkzeug 2.1.\n",
      "\n"
     ]
    }
   ],
   "source": [
    "merge.to_csv('merge.csv', index=False)"
   ]
  },
  {
   "cell_type": "markdown",
   "metadata": {},
   "source": [
    "_________________________________"
   ]
  },
  {
   "cell_type": "code",
   "execution_count": 2,
   "metadata": {},
   "outputs": [],
   "source": [
    "traffic_volumes = gpd.read_file('traffic_volumes_h3.csv')"
   ]
  },
  {
   "cell_type": "code",
   "execution_count": 3,
   "metadata": {},
   "outputs": [
    {
     "data": {
      "text/html": [
       "<div>\n",
       "<style scoped>\n",
       "    .dataframe tbody tr th:only-of-type {\n",
       "        vertical-align: middle;\n",
       "    }\n",
       "\n",
       "    .dataframe tbody tr th {\n",
       "        vertical-align: top;\n",
       "    }\n",
       "\n",
       "    .dataframe thead th {\n",
       "        text-align: right;\n",
       "    }\n",
       "</style>\n",
       "<table border=\"1\" class=\"dataframe\">\n",
       "  <thead>\n",
       "    <tr style=\"text-align: right;\">\n",
       "      <th></th>\n",
       "      <th>hex_cell</th>\n",
       "      <th>cyclists_count</th>\n",
       "      <th>pedestrians_count</th>\n",
       "      <th>total_count</th>\n",
       "      <th>trucks_count</th>\n",
       "      <th>vehicle_count</th>\n",
       "      <th>geometry</th>\n",
       "    </tr>\n",
       "  </thead>\n",
       "  <tbody>\n",
       "    <tr>\n",
       "      <th>0</th>\n",
       "      <td>8a2b986c8477fff</td>\n",
       "      <td>7</td>\n",
       "      <td>2</td>\n",
       "      <td>21055</td>\n",
       "      <td>246</td>\n",
       "      <td>21046</td>\n",
       "      <td>None</td>\n",
       "    </tr>\n",
       "    <tr>\n",
       "      <th>1</th>\n",
       "      <td>8a2b986ca71ffff</td>\n",
       "      <td>0</td>\n",
       "      <td>0</td>\n",
       "      <td>8783</td>\n",
       "      <td>149</td>\n",
       "      <td>8783</td>\n",
       "      <td>None</td>\n",
       "    </tr>\n",
       "    <tr>\n",
       "      <th>2</th>\n",
       "      <td>8a2b986d9297fff</td>\n",
       "      <td>7</td>\n",
       "      <td>3</td>\n",
       "      <td>24301</td>\n",
       "      <td>655</td>\n",
       "      <td>24291</td>\n",
       "      <td>None</td>\n",
       "    </tr>\n",
       "    <tr>\n",
       "      <th>3</th>\n",
       "      <td>8a2b986d96effff</td>\n",
       "      <td>5</td>\n",
       "      <td>1</td>\n",
       "      <td>25822</td>\n",
       "      <td>648</td>\n",
       "      <td>25816</td>\n",
       "      <td>None</td>\n",
       "    </tr>\n",
       "    <tr>\n",
       "      <th>4</th>\n",
       "      <td>8a2b986db25ffff</td>\n",
       "      <td>26</td>\n",
       "      <td>2021</td>\n",
       "      <td>61237</td>\n",
       "      <td>1412</td>\n",
       "      <td>59190</td>\n",
       "      <td>None</td>\n",
       "    </tr>\n",
       "  </tbody>\n",
       "</table>\n",
       "</div>"
      ],
      "text/plain": [
       "          hex_cell cyclists_count pedestrians_count total_count trucks_count  \\\n",
       "0  8a2b986c8477fff              7                 2       21055          246   \n",
       "1  8a2b986ca71ffff              0                 0        8783          149   \n",
       "2  8a2b986d9297fff              7                 3       24301          655   \n",
       "3  8a2b986d96effff              5                 1       25822          648   \n",
       "4  8a2b986db25ffff             26              2021       61237         1412   \n",
       "\n",
       "  vehicle_count geometry  \n",
       "0         21046     None  \n",
       "1          8783     None  \n",
       "2         24291     None  \n",
       "3         25816     None  \n",
       "4         59190     None  "
      ]
     },
     "execution_count": 3,
     "metadata": {},
     "output_type": "execute_result"
    }
   ],
   "source": [
    "traffic_volumes.head()"
   ]
  },
  {
   "cell_type": "code",
   "execution_count": 5,
   "metadata": {},
   "outputs": [],
   "source": [
    "import h3"
   ]
  },
  {
   "cell_type": "code",
   "execution_count": 8,
   "metadata": {},
   "outputs": [
    {
     "data": {
      "text/plain": [
       "(43.85560695874397, -79.16970050609908)"
      ]
     },
     "execution_count": 8,
     "metadata": {},
     "output_type": "execute_result"
    }
   ],
   "source": [
    "h3.cell_to_latlng('8a2b986c8477fff')"
   ]
  },
  {
   "cell_type": "code",
   "execution_count": 9,
   "metadata": {},
   "outputs": [
    {
     "name": "stdout",
     "output_type": "stream",
     "text": [
      "Help on method cell_to_latlng in module h3.api._api_template:\n",
      "\n",
      "cell_to_latlng(h) method of h3.api._api_template._API_FUNCTIONS instance\n",
      "    Return the center point of an H3 cell as a lat/lng pair.\n",
      "    \n",
      "    Parameters\n",
      "    ----------\n",
      "    h : H3Cell\n",
      "    \n",
      "    Returns\n",
      "    -------\n",
      "    lat : float\n",
      "        Latitude\n",
      "    lng : float\n",
      "        Longitude\n",
      "\n"
     ]
    }
   ],
   "source": [
    "help(h3.cell_to_latlng)"
   ]
  },
  {
   "cell_type": "code",
   "execution_count": 12,
   "metadata": {},
   "outputs": [],
   "source": [
    "traffic_volumes['coordinates'] = traffic_volumes.apply(lambda x: h3.cell_to_latlng(x['hex_cell']), axis=1)"
   ]
  },
  {
   "cell_type": "code",
   "execution_count": 14,
   "metadata": {},
   "outputs": [
    {
     "data": {
      "text/html": [
       "<div>\n",
       "<style scoped>\n",
       "    .dataframe tbody tr th:only-of-type {\n",
       "        vertical-align: middle;\n",
       "    }\n",
       "\n",
       "    .dataframe tbody tr th {\n",
       "        vertical-align: top;\n",
       "    }\n",
       "\n",
       "    .dataframe thead th {\n",
       "        text-align: right;\n",
       "    }\n",
       "</style>\n",
       "<table border=\"1\" class=\"dataframe\">\n",
       "  <thead>\n",
       "    <tr style=\"text-align: right;\">\n",
       "      <th></th>\n",
       "      <th>hex_cell</th>\n",
       "      <th>cyclists_count</th>\n",
       "      <th>pedestrians_count</th>\n",
       "      <th>total_count</th>\n",
       "      <th>trucks_count</th>\n",
       "      <th>vehicle_count</th>\n",
       "      <th>geometry</th>\n",
       "      <th>coordinates</th>\n",
       "    </tr>\n",
       "  </thead>\n",
       "  <tbody>\n",
       "    <tr>\n",
       "      <th>0</th>\n",
       "      <td>8a2b986c8477fff</td>\n",
       "      <td>7</td>\n",
       "      <td>2</td>\n",
       "      <td>21055</td>\n",
       "      <td>246</td>\n",
       "      <td>21046</td>\n",
       "      <td>None</td>\n",
       "      <td>(43.85560695874397, -79.16970050609908)</td>\n",
       "    </tr>\n",
       "    <tr>\n",
       "      <th>1</th>\n",
       "      <td>8a2b986ca71ffff</td>\n",
       "      <td>0</td>\n",
       "      <td>0</td>\n",
       "      <td>8783</td>\n",
       "      <td>149</td>\n",
       "      <td>8783</td>\n",
       "      <td>None</td>\n",
       "      <td>(43.84877558112413, -79.19953212660344)</td>\n",
       "    </tr>\n",
       "    <tr>\n",
       "      <th>2</th>\n",
       "      <td>8a2b986d9297fff</td>\n",
       "      <td>7</td>\n",
       "      <td>3</td>\n",
       "      <td>24301</td>\n",
       "      <td>655</td>\n",
       "      <td>24291</td>\n",
       "      <td>None</td>\n",
       "      <td>(43.842534107292124, -79.22649042309308)</td>\n",
       "    </tr>\n",
       "    <tr>\n",
       "      <th>3</th>\n",
       "      <td>8a2b986d96effff</td>\n",
       "      <td>5</td>\n",
       "      <td>1</td>\n",
       "      <td>25822</td>\n",
       "      <td>648</td>\n",
       "      <td>25816</td>\n",
       "      <td>None</td>\n",
       "      <td>(43.841339873955704, -79.23221827585886)</td>\n",
       "    </tr>\n",
       "    <tr>\n",
       "      <th>4</th>\n",
       "      <td>8a2b986db25ffff</td>\n",
       "      <td>26</td>\n",
       "      <td>2021</td>\n",
       "      <td>61237</td>\n",
       "      <td>1412</td>\n",
       "      <td>59190</td>\n",
       "      <td>None</td>\n",
       "      <td>(43.83688442358659, -79.25057773031612)</td>\n",
       "    </tr>\n",
       "  </tbody>\n",
       "</table>\n",
       "</div>"
      ],
      "text/plain": [
       "          hex_cell cyclists_count pedestrians_count total_count trucks_count  \\\n",
       "0  8a2b986c8477fff              7                 2       21055          246   \n",
       "1  8a2b986ca71ffff              0                 0        8783          149   \n",
       "2  8a2b986d9297fff              7                 3       24301          655   \n",
       "3  8a2b986d96effff              5                 1       25822          648   \n",
       "4  8a2b986db25ffff             26              2021       61237         1412   \n",
       "\n",
       "  vehicle_count geometry                               coordinates  \n",
       "0         21046     None   (43.85560695874397, -79.16970050609908)  \n",
       "1          8783     None   (43.84877558112413, -79.19953212660344)  \n",
       "2         24291     None  (43.842534107292124, -79.22649042309308)  \n",
       "3         25816     None  (43.841339873955704, -79.23221827585886)  \n",
       "4         59190     None   (43.83688442358659, -79.25057773031612)  "
      ]
     },
     "execution_count": 14,
     "metadata": {},
     "output_type": "execute_result"
    }
   ],
   "source": [
    "traffic_volumes.head()"
   ]
  },
  {
   "cell_type": "code",
   "execution_count": 18,
   "metadata": {},
   "outputs": [
    {
     "data": {
      "text/plain": [
       "-79.16970050609908"
      ]
     },
     "execution_count": 18,
     "metadata": {},
     "output_type": "execute_result"
    }
   ],
   "source": [
    "traffic_volumes.coordinates[0][1]"
   ]
  },
  {
   "cell_type": "code",
   "execution_count": 20,
   "metadata": {},
   "outputs": [],
   "source": [
    "traffic_volumes['geometry'] = traffic_volumes['coordinates'].apply(lambda x: shapely.geometry.Point(x))"
   ]
  },
  {
   "cell_type": "code",
   "execution_count": 22,
   "metadata": {},
   "outputs": [
    {
     "data": {
      "text/html": [
       "<div>\n",
       "<style scoped>\n",
       "    .dataframe tbody tr th:only-of-type {\n",
       "        vertical-align: middle;\n",
       "    }\n",
       "\n",
       "    .dataframe tbody tr th {\n",
       "        vertical-align: top;\n",
       "    }\n",
       "\n",
       "    .dataframe thead th {\n",
       "        text-align: right;\n",
       "    }\n",
       "</style>\n",
       "<table border=\"1\" class=\"dataframe\">\n",
       "  <thead>\n",
       "    <tr style=\"text-align: right;\">\n",
       "      <th></th>\n",
       "      <th>hex_cell</th>\n",
       "      <th>cyclists_count</th>\n",
       "      <th>pedestrians_count</th>\n",
       "      <th>total_count</th>\n",
       "      <th>trucks_count</th>\n",
       "      <th>vehicle_count</th>\n",
       "      <th>geometry</th>\n",
       "      <th>coordinates</th>\n",
       "    </tr>\n",
       "  </thead>\n",
       "  <tbody>\n",
       "    <tr>\n",
       "      <th>0</th>\n",
       "      <td>8a2b986c8477fff</td>\n",
       "      <td>7</td>\n",
       "      <td>2</td>\n",
       "      <td>21055</td>\n",
       "      <td>246</td>\n",
       "      <td>21046</td>\n",
       "      <td>POINT (43.85561 -79.16970)</td>\n",
       "      <td>(43.85560695874397, -79.16970050609908)</td>\n",
       "    </tr>\n",
       "    <tr>\n",
       "      <th>1</th>\n",
       "      <td>8a2b986ca71ffff</td>\n",
       "      <td>0</td>\n",
       "      <td>0</td>\n",
       "      <td>8783</td>\n",
       "      <td>149</td>\n",
       "      <td>8783</td>\n",
       "      <td>POINT (43.84878 -79.19953)</td>\n",
       "      <td>(43.84877558112413, -79.19953212660344)</td>\n",
       "    </tr>\n",
       "    <tr>\n",
       "      <th>2</th>\n",
       "      <td>8a2b986d9297fff</td>\n",
       "      <td>7</td>\n",
       "      <td>3</td>\n",
       "      <td>24301</td>\n",
       "      <td>655</td>\n",
       "      <td>24291</td>\n",
       "      <td>POINT (43.84253 -79.22649)</td>\n",
       "      <td>(43.842534107292124, -79.22649042309308)</td>\n",
       "    </tr>\n",
       "    <tr>\n",
       "      <th>3</th>\n",
       "      <td>8a2b986d96effff</td>\n",
       "      <td>5</td>\n",
       "      <td>1</td>\n",
       "      <td>25822</td>\n",
       "      <td>648</td>\n",
       "      <td>25816</td>\n",
       "      <td>POINT (43.84134 -79.23222)</td>\n",
       "      <td>(43.841339873955704, -79.23221827585886)</td>\n",
       "    </tr>\n",
       "    <tr>\n",
       "      <th>4</th>\n",
       "      <td>8a2b986db25ffff</td>\n",
       "      <td>26</td>\n",
       "      <td>2021</td>\n",
       "      <td>61237</td>\n",
       "      <td>1412</td>\n",
       "      <td>59190</td>\n",
       "      <td>POINT (43.83688 -79.25058)</td>\n",
       "      <td>(43.83688442358659, -79.25057773031612)</td>\n",
       "    </tr>\n",
       "  </tbody>\n",
       "</table>\n",
       "</div>"
      ],
      "text/plain": [
       "          hex_cell cyclists_count pedestrians_count total_count trucks_count  \\\n",
       "0  8a2b986c8477fff              7                 2       21055          246   \n",
       "1  8a2b986ca71ffff              0                 0        8783          149   \n",
       "2  8a2b986d9297fff              7                 3       24301          655   \n",
       "3  8a2b986d96effff              5                 1       25822          648   \n",
       "4  8a2b986db25ffff             26              2021       61237         1412   \n",
       "\n",
       "  vehicle_count                    geometry  \\\n",
       "0         21046  POINT (43.85561 -79.16970)   \n",
       "1          8783  POINT (43.84878 -79.19953)   \n",
       "2         24291  POINT (43.84253 -79.22649)   \n",
       "3         25816  POINT (43.84134 -79.23222)   \n",
       "4         59190  POINT (43.83688 -79.25058)   \n",
       "\n",
       "                                coordinates  \n",
       "0   (43.85560695874397, -79.16970050609908)  \n",
       "1   (43.84877558112413, -79.19953212660344)  \n",
       "2  (43.842534107292124, -79.22649042309308)  \n",
       "3  (43.841339873955704, -79.23221827585886)  \n",
       "4   (43.83688442358659, -79.25057773031612)  "
      ]
     },
     "execution_count": 22,
     "metadata": {},
     "output_type": "execute_result"
    }
   ],
   "source": [
    "traffic_volumes.head()"
   ]
  },
  {
   "cell_type": "code",
   "execution_count": 28,
   "metadata": {},
   "outputs": [],
   "source": [
    "traffic_volumes.to_csv('traffic_volume_processed.csv', index=False)"
   ]
  }
 ],
 "metadata": {
  "kernelspec": {
   "display_name": "base",
   "language": "python",
   "name": "python3"
  },
  "language_info": {
   "codemirror_mode": {
    "name": "ipython",
    "version": 3
   },
   "file_extension": ".py",
   "mimetype": "text/x-python",
   "name": "python",
   "nbconvert_exporter": "python",
   "pygments_lexer": "ipython3",
   "version": "3.9.12"
  },
  "orig_nbformat": 4
 },
 "nbformat": 4,
 "nbformat_minor": 2
}
